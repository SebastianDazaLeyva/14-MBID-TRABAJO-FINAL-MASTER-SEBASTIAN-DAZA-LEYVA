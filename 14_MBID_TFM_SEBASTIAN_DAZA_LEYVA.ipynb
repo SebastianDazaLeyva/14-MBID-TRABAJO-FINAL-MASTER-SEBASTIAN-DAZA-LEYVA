{
  "nbformat": 4,
  "nbformat_minor": 0,
  "metadata": {
    "colab": {
      "name": "14 MBID - TFM SEBASTIAN DAZA LEYVA.ipynb",
      "provenance": [],
      "collapsed_sections": [
        "S38FTIisM_n5",
        "D_3s8puINHrp",
        "2-3PyFa-XqfT",
        "eFYbQCj2gvRa",
        "kPpTf-zTkylI",
        "_FBqqzA0oXsv",
        "cDGSGXClvGPL",
        "MPVp2rhhvQfq",
        "yVIhXXHkvYj9",
        "srh6Z1QcbfS2",
        "FIGAA3JrlzY5",
        "WR0_7mNfsCp0",
        "0ZIeDjMxHck1",
        "ryjc2mXAODj2",
        "HFd8AabL3Ll8",
        "MSgWM0uD3R-7",
        "tqu7Oe8L3Wsu",
        "UR3-FwzJ5cKo",
        "L22yDhlP9h3g",
        "XsefUNJYCqFK",
        "bDy-UOp_GgOF",
        "Fc5rgmR5IeyO",
        "sjvuWq8OvWim",
        "x6ocVJ5yqpgS",
        "vNyB7q2TvEEU",
        "Qd0Qjsp4vkYQ",
        "HeMGMR4dwgn3",
        "xNKhHJguxW1T",
        "XwAlnkOq0Vhp"
      ],
      "authorship_tag": "ABX9TyPa4Rj88Mq07FKpjRuuIIEG",
      "include_colab_link": true
    },
    "kernelspec": {
      "name": "python3",
      "display_name": "Python 3"
    },
    "language_info": {
      "name": "python"
    }
  },
  "cells": [
    {
      "cell_type": "markdown",
      "metadata": {
        "id": "view-in-github",
        "colab_type": "text"
      },
      "source": [
        "<a href=\"https://colab.research.google.com/github/SebastianDazaLeyva/14-MBID-TRABAJO-FINAL-MASTER-SEBASTIAN-DAZA-LEYVA/blob/main/14_MBID_TFM_SEBASTIAN_DAZA_LEYVA.ipynb\" target=\"_parent\"><img src=\"https://colab.research.google.com/assets/colab-badge.svg\" alt=\"Open In Colab\"/></a>"
      ]
    },
    {
      "cell_type": "markdown",
      "source": [
        "Este código se desarrollo en gran medida a partir de la gran explicación desarrollada por Rounak Banik en su libro Hands-On Recommendation Systems with Python : Start Building Powerful and Personalized, Recommendation Engines with Python"
      ],
      "metadata": {
        "id": "lHZcS_po_b1M"
      }
    },
    {
      "cell_type": "markdown",
      "source": [
        "#**Carga de librerias**"
      ],
      "metadata": {
        "id": "S38FTIisM_n5"
      }
    },
    {
      "cell_type": "markdown",
      "source": [
        "Cargamos las librerias que vamos a usar a lo largo del proyecto"
      ],
      "metadata": {
        "id": "UNLaQEtnZ_pi"
      }
    },
    {
      "cell_type": "code",
      "execution_count": null,
      "metadata": {
        "id": "dd0fsuRLZzjB"
      },
      "outputs": [],
      "source": [
        "#Carga conjunto de datos\n",
        "import io\n",
        "from google.colab import files\n",
        "\n",
        "#Administración DataFrames\n",
        "import pandas as pd\n",
        "import numpy as np\n",
        "import matplotlib.pyplot as plt\n",
        "\n",
        "#Implementación y evaluación Recommendation Systems\n",
        "from sklearn.model_selection import train_test_split\n",
        "from sklearn.metrics import mean_squared_error\n",
        "from sklearn.metrics.pairwise import cosine_similarity\n",
        "from sklearn.cluster import KMeans"
      ]
    },
    {
      "cell_type": "markdown",
      "source": [
        "#**Carga conjunto de datos**"
      ],
      "metadata": {
        "id": "D_3s8puINHrp"
      }
    },
    {
      "cell_type": "markdown",
      "source": [
        "**Cargamos los ficheros:**\n",
        "\n",
        "1. Entrega: Fichero con la información correspondiente a las entregas recibidas por cada cliente por cada categoría \n",
        "2. Apertura: Fichero con la infromación correspondiente a las aperturas realizadas por cada cliente por cada categoría\n",
        "\n"
      ],
      "metadata": {
        "id": "Zrlx23oEaFzh"
      }
    },
    {
      "cell_type": "markdown",
      "source": [
        "##**Carga, limpieza y consolidación fichero entrega**"
      ],
      "metadata": {
        "id": "2-3PyFa-XqfT"
      }
    },
    {
      "cell_type": "code",
      "source": [
        "uploaded = files.upload()"
      ],
      "metadata": {
        "id": "wlhcVNI0bTck",
        "colab": {
          "resources": {
            "http://localhost:8080/nbextensions/google.colab/files.js": {
              "data": "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",
              "ok": true,
              "headers": [
                [
                  "content-type",
                  "application/javascript"
                ]
              ],
              "status": 200,
              "status_text": ""
            }
          },
          "base_uri": "https://localhost:8080/",
          "height": 72
        },
        "outputId": "66449129-7057-481f-d3d7-0921ef049290"
      },
      "execution_count": null,
      "outputs": [
        {
          "output_type": "display_data",
          "data": {
            "text/html": [
              "\n",
              "     <input type=\"file\" id=\"files-dc644146-fe6e-47f8-804b-8ece2d176260\" name=\"files[]\" multiple disabled\n",
              "        style=\"border:none\" />\n",
              "     <output id=\"result-dc644146-fe6e-47f8-804b-8ece2d176260\">\n",
              "      Upload widget is only available when the cell has been executed in the\n",
              "      current browser session. Please rerun this cell to enable.\n",
              "      </output>\n",
              "      <script src=\"/nbextensions/google.colab/files.js\"></script> "
            ],
            "text/plain": [
              "<IPython.core.display.HTML object>"
            ]
          },
          "metadata": {}
        },
        {
          "output_type": "stream",
          "name": "stdout",
          "text": [
            "Saving ENTREGA 30-11-2021 (Cargue 22-12-2021).csv to ENTREGA 30-11-2021 (Cargue 22-12-2021).csv\n"
          ]
        }
      ]
    },
    {
      "cell_type": "code",
      "source": [
        "entrega_mayo = pd.read_csv(io.BytesIO(uploaded['ENTREGA 31-05-2021 (Cargue 28-09-2021).csv']), sep = ';', encoding = 'latin-1')"
      ],
      "metadata": {
        "id": "TJFnRl-XbhWD"
      },
      "execution_count": null,
      "outputs": []
    },
    {
      "cell_type": "code",
      "source": [
        "entrega_junio = pd.read_csv(io.BytesIO(uploaded['ENTREGA 30-06-2021 (Cargue 28-09-2021).csv']), sep = ';', encoding = 'latin-1')"
      ],
      "metadata": {
        "id": "E6IpkXHrPZKO"
      },
      "execution_count": null,
      "outputs": []
    },
    {
      "cell_type": "code",
      "source": [
        "entrega_julio = pd.read_csv(io.BytesIO(uploaded['ENTREGA 31-07-2021 (Cargue 31-08-2021).csv']), sep = ';', encoding = 'latin-1')"
      ],
      "metadata": {
        "id": "0gDi3-s5PmGk"
      },
      "execution_count": null,
      "outputs": []
    },
    {
      "cell_type": "code",
      "source": [
        "entrega_agosto = pd.read_csv(io.BytesIO(uploaded['ENTREGA 31-08-2021 (Cargue 22-09-2021).csv']), sep = ';', encoding = 'latin-1')"
      ],
      "metadata": {
        "id": "9V9h-kzDPl9F"
      },
      "execution_count": null,
      "outputs": []
    },
    {
      "cell_type": "code",
      "source": [
        "entrega_septiembre = pd.read_csv(io.BytesIO(uploaded['ENTREGA 30-09-2021 (Cargue 22-10-2021).csv']), sep = ';', encoding = 'latin-1')"
      ],
      "metadata": {
        "id": "RDerqa8lRhYC"
      },
      "execution_count": null,
      "outputs": []
    },
    {
      "cell_type": "code",
      "source": [
        "entrega_octubre = pd.read_csv(io.BytesIO(uploaded['ENTREGA 31-10-2021 (Cargue 29-11-2021).csv']), sep = ';', encoding = 'latin-1')"
      ],
      "metadata": {
        "id": "JDVKBd2sRhJ8"
      },
      "execution_count": null,
      "outputs": []
    },
    {
      "cell_type": "code",
      "source": [
        "entrega_noviembre = pd.read_csv(io.BytesIO(uploaded['ENTREGA 30-11-2021 (Cargue 22-12-2021).csv']), sep = ';', encoding = 'latin-1')"
      ],
      "metadata": {
        "id": "M4LvN4yCRhBS"
      },
      "execution_count": null,
      "outputs": []
    },
    {
      "cell_type": "markdown",
      "source": [
        "Consolidamos los diferentes archivos de entrega en un solo dataframe para su futura manipulación"
      ],
      "metadata": {
        "id": "8il5Y5M5WE29"
      }
    },
    {
      "cell_type": "code",
      "source": [
        "ficheros_entrega = [entrega_mayo, entrega_junio, entrega_julio, entrega_agosto,\n",
        "            entrega_septiembre, entrega_octubre, entrega_noviembre]"
      ],
      "metadata": {
        "id": "jk4F-M6VRg46"
      },
      "execution_count": null,
      "outputs": []
    },
    {
      "cell_type": "code",
      "source": [
        "entrega_global = pd.concat(ficheros_entrega)"
      ],
      "metadata": {
        "id": "RJ0cMyO-WNSJ"
      },
      "execution_count": null,
      "outputs": []
    },
    {
      "cell_type": "code",
      "source": [
        "entrega_global.head(5)"
      ],
      "metadata": {
        "id": "m4rk6Be9WNPf"
      },
      "execution_count": null,
      "outputs": []
    },
    {
      "cell_type": "code",
      "source": [
        "entrega_global.shape"
      ],
      "metadata": {
        "colab": {
          "base_uri": "https://localhost:8080/"
        },
        "id": "Q2DnumphXfOD",
        "outputId": "5dd32b93-ce07-48c6-9cd6-ddc03c9b48a2"
      },
      "execution_count": null,
      "outputs": [
        {
          "output_type": "execute_result",
          "data": {
            "text/plain": [
              "(4428103, 28)"
            ]
          },
          "metadata": {},
          "execution_count": 20
        }
      ]
    },
    {
      "cell_type": "code",
      "source": [
        "entrega_global.to_csv('ENTREGA_CONSOLIDADO.csv')"
      ],
      "metadata": {
        "id": "8zm9hlOvY4l8"
      },
      "execution_count": null,
      "outputs": []
    },
    {
      "cell_type": "code",
      "source": [
        "files.download('ENTREGA_CONSOLIDADO.csv')"
      ],
      "metadata": {
        "id": "LYc5zifBZumF"
      },
      "execution_count": null,
      "outputs": []
    },
    {
      "cell_type": "markdown",
      "source": [
        "Seleccionamos las variables de interés para el proyecto"
      ],
      "metadata": {
        "id": "wd7E7hfMXHpE"
      }
    },
    {
      "cell_type": "code",
      "source": [
        "entrega = entrega_global[['LLAVE', 'EVENTO', 'CALENDARIO', 'PRODUCTO', 'CANALES', 'INFORMATIVA','COMERCIAL_POLIZA', 'COMERCIAL_SERVICIOS']]"
      ],
      "metadata": {
        "id": "atOamnwliI3S"
      },
      "execution_count": null,
      "outputs": []
    },
    {
      "cell_type": "code",
      "source": [
        "entrega.head(5)"
      ],
      "metadata": {
        "colab": {
          "base_uri": "https://localhost:8080/",
          "height": 206
        },
        "id": "p4rgm296avlz",
        "outputId": "4822f248-7519-454d-e355-4688a359a391"
      },
      "execution_count": null,
      "outputs": [
        {
          "output_type": "execute_result",
          "data": {
            "text/html": [
              "\n",
              "  <div id=\"df-a13a7c41-0afb-4980-804b-33b19e540887\">\n",
              "    <div class=\"colab-df-container\">\n",
              "      <div>\n",
              "<style scoped>\n",
              "    .dataframe tbody tr th:only-of-type {\n",
              "        vertical-align: middle;\n",
              "    }\n",
              "\n",
              "    .dataframe tbody tr th {\n",
              "        vertical-align: top;\n",
              "    }\n",
              "\n",
              "    .dataframe thead th {\n",
              "        text-align: right;\n",
              "    }\n",
              "</style>\n",
              "<table border=\"1\" class=\"dataframe\">\n",
              "  <thead>\n",
              "    <tr style=\"text-align: right;\">\n",
              "      <th></th>\n",
              "      <th>LLAVE</th>\n",
              "      <th>EVENTO</th>\n",
              "      <th>CALENDARIO</th>\n",
              "      <th>PRODUCTO</th>\n",
              "      <th>CANALES</th>\n",
              "      <th>INFORMATIVA</th>\n",
              "      <th>COMERCIAL_POLIZA</th>\n",
              "      <th>COMERCIAL_SERVICIOS</th>\n",
              "    </tr>\n",
              "  </thead>\n",
              "  <tbody>\n",
              "    <tr>\n",
              "      <th>0</th>\n",
              "      <td>CC1</td>\n",
              "      <td>4</td>\n",
              "      <td>4</td>\n",
              "      <td>0</td>\n",
              "      <td>1</td>\n",
              "      <td>2</td>\n",
              "      <td>0</td>\n",
              "      <td>1</td>\n",
              "    </tr>\n",
              "    <tr>\n",
              "      <th>1</th>\n",
              "      <td>CC1000000700</td>\n",
              "      <td>0</td>\n",
              "      <td>1</td>\n",
              "      <td>0</td>\n",
              "      <td>0</td>\n",
              "      <td>0</td>\n",
              "      <td>0</td>\n",
              "      <td>0</td>\n",
              "    </tr>\n",
              "    <tr>\n",
              "      <th>2</th>\n",
              "      <td>CC1000000927</td>\n",
              "      <td>0</td>\n",
              "      <td>2</td>\n",
              "      <td>0</td>\n",
              "      <td>0</td>\n",
              "      <td>0</td>\n",
              "      <td>0</td>\n",
              "      <td>0</td>\n",
              "    </tr>\n",
              "    <tr>\n",
              "      <th>3</th>\n",
              "      <td>CC1000002044</td>\n",
              "      <td>0</td>\n",
              "      <td>1</td>\n",
              "      <td>0</td>\n",
              "      <td>0</td>\n",
              "      <td>0</td>\n",
              "      <td>0</td>\n",
              "      <td>0</td>\n",
              "    </tr>\n",
              "    <tr>\n",
              "      <th>4</th>\n",
              "      <td>CC10000043</td>\n",
              "      <td>0</td>\n",
              "      <td>1</td>\n",
              "      <td>0</td>\n",
              "      <td>0</td>\n",
              "      <td>0</td>\n",
              "      <td>0</td>\n",
              "      <td>0</td>\n",
              "    </tr>\n",
              "  </tbody>\n",
              "</table>\n",
              "</div>\n",
              "      <button class=\"colab-df-convert\" onclick=\"convertToInteractive('df-a13a7c41-0afb-4980-804b-33b19e540887')\"\n",
              "              title=\"Convert this dataframe to an interactive table.\"\n",
              "              style=\"display:none;\">\n",
              "        \n",
              "  <svg xmlns=\"http://www.w3.org/2000/svg\" height=\"24px\"viewBox=\"0 0 24 24\"\n",
              "       width=\"24px\">\n",
              "    <path d=\"M0 0h24v24H0V0z\" fill=\"none\"/>\n",
              "    <path d=\"M18.56 5.44l.94 2.06.94-2.06 2.06-.94-2.06-.94-.94-2.06-.94 2.06-2.06.94zm-11 1L8.5 8.5l.94-2.06 2.06-.94-2.06-.94L8.5 2.5l-.94 2.06-2.06.94zm10 10l.94 2.06.94-2.06 2.06-.94-2.06-.94-.94-2.06-.94 2.06-2.06.94z\"/><path d=\"M17.41 7.96l-1.37-1.37c-.4-.4-.92-.59-1.43-.59-.52 0-1.04.2-1.43.59L10.3 9.45l-7.72 7.72c-.78.78-.78 2.05 0 2.83L4 21.41c.39.39.9.59 1.41.59.51 0 1.02-.2 1.41-.59l7.78-7.78 2.81-2.81c.8-.78.8-2.07 0-2.86zM5.41 20L4 18.59l7.72-7.72 1.47 1.35L5.41 20z\"/>\n",
              "  </svg>\n",
              "      </button>\n",
              "      \n",
              "  <style>\n",
              "    .colab-df-container {\n",
              "      display:flex;\n",
              "      flex-wrap:wrap;\n",
              "      gap: 12px;\n",
              "    }\n",
              "\n",
              "    .colab-df-convert {\n",
              "      background-color: #E8F0FE;\n",
              "      border: none;\n",
              "      border-radius: 50%;\n",
              "      cursor: pointer;\n",
              "      display: none;\n",
              "      fill: #1967D2;\n",
              "      height: 32px;\n",
              "      padding: 0 0 0 0;\n",
              "      width: 32px;\n",
              "    }\n",
              "\n",
              "    .colab-df-convert:hover {\n",
              "      background-color: #E2EBFA;\n",
              "      box-shadow: 0px 1px 2px rgba(60, 64, 67, 0.3), 0px 1px 3px 1px rgba(60, 64, 67, 0.15);\n",
              "      fill: #174EA6;\n",
              "    }\n",
              "\n",
              "    [theme=dark] .colab-df-convert {\n",
              "      background-color: #3B4455;\n",
              "      fill: #D2E3FC;\n",
              "    }\n",
              "\n",
              "    [theme=dark] .colab-df-convert:hover {\n",
              "      background-color: #434B5C;\n",
              "      box-shadow: 0px 1px 3px 1px rgba(0, 0, 0, 0.15);\n",
              "      filter: drop-shadow(0px 1px 2px rgba(0, 0, 0, 0.3));\n",
              "      fill: #FFFFFF;\n",
              "    }\n",
              "  </style>\n",
              "\n",
              "      <script>\n",
              "        const buttonEl =\n",
              "          document.querySelector('#df-a13a7c41-0afb-4980-804b-33b19e540887 button.colab-df-convert');\n",
              "        buttonEl.style.display =\n",
              "          google.colab.kernel.accessAllowed ? 'block' : 'none';\n",
              "\n",
              "        async function convertToInteractive(key) {\n",
              "          const element = document.querySelector('#df-a13a7c41-0afb-4980-804b-33b19e540887');\n",
              "          const dataTable =\n",
              "            await google.colab.kernel.invokeFunction('convertToInteractive',\n",
              "                                                     [key], {});\n",
              "          if (!dataTable) return;\n",
              "\n",
              "          const docLinkHtml = 'Like what you see? Visit the ' +\n",
              "            '<a target=\"_blank\" href=https://colab.research.google.com/notebooks/data_table.ipynb>data table notebook</a>'\n",
              "            + ' to learn more about interactive tables.';\n",
              "          element.innerHTML = '';\n",
              "          dataTable['output_type'] = 'display_data';\n",
              "          await google.colab.output.renderOutput(dataTable, element);\n",
              "          const docLink = document.createElement('div');\n",
              "          docLink.innerHTML = docLinkHtml;\n",
              "          element.appendChild(docLink);\n",
              "        }\n",
              "      </script>\n",
              "    </div>\n",
              "  </div>\n",
              "  "
            ],
            "text/plain": [
              "          LLAVE  EVENTO  ...  COMERCIAL_POLIZA  COMERCIAL_SERVICIOS\n",
              "0           CC1       4  ...                 0                    1\n",
              "1  CC1000000700       0  ...                 0                    0\n",
              "2  CC1000000927       0  ...                 0                    0\n",
              "3  CC1000002044       0  ...                 0                    0\n",
              "4    CC10000043       0  ...                 0                    0\n",
              "\n",
              "[5 rows x 8 columns]"
            ]
          },
          "metadata": {},
          "execution_count": 28
        }
      ]
    },
    {
      "cell_type": "code",
      "source": [
        "entrega.shape"
      ],
      "metadata": {
        "id": "CIlPj62GkkpP",
        "colab": {
          "base_uri": "https://localhost:8080/"
        },
        "outputId": "08320020-47a7-48e5-867a-4cc3fdf2c4cd"
      },
      "execution_count": null,
      "outputs": [
        {
          "output_type": "execute_result",
          "data": {
            "text/plain": [
              "(4428103, 8)"
            ]
          },
          "metadata": {},
          "execution_count": 25
        }
      ]
    },
    {
      "cell_type": "markdown",
      "source": [
        "Agrupamos por cliente y sumamos el número de comunicaciones que ha recibido por cada actegoría"
      ],
      "metadata": {
        "id": "vYSZ6izaa7eX"
      }
    },
    {
      "cell_type": "code",
      "source": [
        "entrega_final = entrega.groupby(['LLAVE']).sum()"
      ],
      "metadata": {
        "id": "wiA_EwX6bGIC"
      },
      "execution_count": null,
      "outputs": []
    },
    {
      "cell_type": "code",
      "source": [
        "entrega_final.shape"
      ],
      "metadata": {
        "colab": {
          "base_uri": "https://localhost:8080/"
        },
        "id": "RyXIJSH3bQdr",
        "outputId": "0dc95c2d-3452-4a15-90f4-199da063e397"
      },
      "execution_count": null,
      "outputs": [
        {
          "output_type": "execute_result",
          "data": {
            "text/plain": [
              "(1120924, 7)"
            ]
          },
          "metadata": {},
          "execution_count": 30
        }
      ]
    },
    {
      "cell_type": "code",
      "source": [
        "entrega_final.head(5)"
      ],
      "metadata": {
        "colab": {
          "base_uri": "https://localhost:8080/",
          "height": 237
        },
        "id": "p0pMvybkbQSb",
        "outputId": "4a681132-9678-4ea3-d0b9-b187772285ee"
      },
      "execution_count": null,
      "outputs": [
        {
          "output_type": "execute_result",
          "data": {
            "text/html": [
              "\n",
              "  <div id=\"df-b33fd378-d79a-4b8e-99c1-2a8560be544e\">\n",
              "    <div class=\"colab-df-container\">\n",
              "      <div>\n",
              "<style scoped>\n",
              "    .dataframe tbody tr th:only-of-type {\n",
              "        vertical-align: middle;\n",
              "    }\n",
              "\n",
              "    .dataframe tbody tr th {\n",
              "        vertical-align: top;\n",
              "    }\n",
              "\n",
              "    .dataframe thead th {\n",
              "        text-align: right;\n",
              "    }\n",
              "</style>\n",
              "<table border=\"1\" class=\"dataframe\">\n",
              "  <thead>\n",
              "    <tr style=\"text-align: right;\">\n",
              "      <th></th>\n",
              "      <th>EVENTO</th>\n",
              "      <th>CALENDARIO</th>\n",
              "      <th>PRODUCTO</th>\n",
              "      <th>CANALES</th>\n",
              "      <th>INFORMATIVA</th>\n",
              "      <th>COMERCIAL_POLIZA</th>\n",
              "      <th>COMERCIAL_SERVICIOS</th>\n",
              "    </tr>\n",
              "    <tr>\n",
              "      <th>LLAVE</th>\n",
              "      <th></th>\n",
              "      <th></th>\n",
              "      <th></th>\n",
              "      <th></th>\n",
              "      <th></th>\n",
              "      <th></th>\n",
              "      <th></th>\n",
              "    </tr>\n",
              "  </thead>\n",
              "  <tbody>\n",
              "    <tr>\n",
              "      <th>12345678</th>\n",
              "      <td>1</td>\n",
              "      <td>1</td>\n",
              "      <td>3</td>\n",
              "      <td>0</td>\n",
              "      <td>2</td>\n",
              "      <td>1</td>\n",
              "      <td>1</td>\n",
              "    </tr>\n",
              "    <tr>\n",
              "      <th>29881455</th>\n",
              "      <td>0</td>\n",
              "      <td>1</td>\n",
              "      <td>0</td>\n",
              "      <td>0</td>\n",
              "      <td>0</td>\n",
              "      <td>0</td>\n",
              "      <td>0</td>\n",
              "    </tr>\n",
              "    <tr>\n",
              "      <th>830130968</th>\n",
              "      <td>0</td>\n",
              "      <td>1</td>\n",
              "      <td>0</td>\n",
              "      <td>0</td>\n",
              "      <td>0</td>\n",
              "      <td>0</td>\n",
              "      <td>0</td>\n",
              "    </tr>\n",
              "    <tr>\n",
              "      <th>900385650-9</th>\n",
              "      <td>0</td>\n",
              "      <td>0</td>\n",
              "      <td>0</td>\n",
              "      <td>0</td>\n",
              "      <td>0</td>\n",
              "      <td>1</td>\n",
              "      <td>0</td>\n",
              "    </tr>\n",
              "    <tr>\n",
              "      <th>900742714</th>\n",
              "      <td>0</td>\n",
              "      <td>1</td>\n",
              "      <td>1</td>\n",
              "      <td>0</td>\n",
              "      <td>0</td>\n",
              "      <td>0</td>\n",
              "      <td>0</td>\n",
              "    </tr>\n",
              "  </tbody>\n",
              "</table>\n",
              "</div>\n",
              "      <button class=\"colab-df-convert\" onclick=\"convertToInteractive('df-b33fd378-d79a-4b8e-99c1-2a8560be544e')\"\n",
              "              title=\"Convert this dataframe to an interactive table.\"\n",
              "              style=\"display:none;\">\n",
              "        \n",
              "  <svg xmlns=\"http://www.w3.org/2000/svg\" height=\"24px\"viewBox=\"0 0 24 24\"\n",
              "       width=\"24px\">\n",
              "    <path d=\"M0 0h24v24H0V0z\" fill=\"none\"/>\n",
              "    <path d=\"M18.56 5.44l.94 2.06.94-2.06 2.06-.94-2.06-.94-.94-2.06-.94 2.06-2.06.94zm-11 1L8.5 8.5l.94-2.06 2.06-.94-2.06-.94L8.5 2.5l-.94 2.06-2.06.94zm10 10l.94 2.06.94-2.06 2.06-.94-2.06-.94-.94-2.06-.94 2.06-2.06.94z\"/><path d=\"M17.41 7.96l-1.37-1.37c-.4-.4-.92-.59-1.43-.59-.52 0-1.04.2-1.43.59L10.3 9.45l-7.72 7.72c-.78.78-.78 2.05 0 2.83L4 21.41c.39.39.9.59 1.41.59.51 0 1.02-.2 1.41-.59l7.78-7.78 2.81-2.81c.8-.78.8-2.07 0-2.86zM5.41 20L4 18.59l7.72-7.72 1.47 1.35L5.41 20z\"/>\n",
              "  </svg>\n",
              "      </button>\n",
              "      \n",
              "  <style>\n",
              "    .colab-df-container {\n",
              "      display:flex;\n",
              "      flex-wrap:wrap;\n",
              "      gap: 12px;\n",
              "    }\n",
              "\n",
              "    .colab-df-convert {\n",
              "      background-color: #E8F0FE;\n",
              "      border: none;\n",
              "      border-radius: 50%;\n",
              "      cursor: pointer;\n",
              "      display: none;\n",
              "      fill: #1967D2;\n",
              "      height: 32px;\n",
              "      padding: 0 0 0 0;\n",
              "      width: 32px;\n",
              "    }\n",
              "\n",
              "    .colab-df-convert:hover {\n",
              "      background-color: #E2EBFA;\n",
              "      box-shadow: 0px 1px 2px rgba(60, 64, 67, 0.3), 0px 1px 3px 1px rgba(60, 64, 67, 0.15);\n",
              "      fill: #174EA6;\n",
              "    }\n",
              "\n",
              "    [theme=dark] .colab-df-convert {\n",
              "      background-color: #3B4455;\n",
              "      fill: #D2E3FC;\n",
              "    }\n",
              "\n",
              "    [theme=dark] .colab-df-convert:hover {\n",
              "      background-color: #434B5C;\n",
              "      box-shadow: 0px 1px 3px 1px rgba(0, 0, 0, 0.15);\n",
              "      filter: drop-shadow(0px 1px 2px rgba(0, 0, 0, 0.3));\n",
              "      fill: #FFFFFF;\n",
              "    }\n",
              "  </style>\n",
              "\n",
              "      <script>\n",
              "        const buttonEl =\n",
              "          document.querySelector('#df-b33fd378-d79a-4b8e-99c1-2a8560be544e button.colab-df-convert');\n",
              "        buttonEl.style.display =\n",
              "          google.colab.kernel.accessAllowed ? 'block' : 'none';\n",
              "\n",
              "        async function convertToInteractive(key) {\n",
              "          const element = document.querySelector('#df-b33fd378-d79a-4b8e-99c1-2a8560be544e');\n",
              "          const dataTable =\n",
              "            await google.colab.kernel.invokeFunction('convertToInteractive',\n",
              "                                                     [key], {});\n",
              "          if (!dataTable) return;\n",
              "\n",
              "          const docLinkHtml = 'Like what you see? Visit the ' +\n",
              "            '<a target=\"_blank\" href=https://colab.research.google.com/notebooks/data_table.ipynb>data table notebook</a>'\n",
              "            + ' to learn more about interactive tables.';\n",
              "          element.innerHTML = '';\n",
              "          dataTable['output_type'] = 'display_data';\n",
              "          await google.colab.output.renderOutput(dataTable, element);\n",
              "          const docLink = document.createElement('div');\n",
              "          docLink.innerHTML = docLinkHtml;\n",
              "          element.appendChild(docLink);\n",
              "        }\n",
              "      </script>\n",
              "    </div>\n",
              "  </div>\n",
              "  "
            ],
            "text/plain": [
              "             EVENTO  CALENDARIO  ...  COMERCIAL_POLIZA  COMERCIAL_SERVICIOS\n",
              "LLAVE                            ...                                       \n",
              "12345678          1           1  ...                 1                    1\n",
              "29881455          0           1  ...                 0                    0\n",
              "830130968         0           1  ...                 0                    0\n",
              "900385650-9       0           0  ...                 1                    0\n",
              "900742714         0           1  ...                 0                    0\n",
              "\n",
              "[5 rows x 7 columns]"
            ]
          },
          "metadata": {},
          "execution_count": 31
        }
      ]
    },
    {
      "cell_type": "code",
      "source": [
        "entrega_final.to_csv('ENTREGA_AGRUPADO.csv')"
      ],
      "metadata": {
        "id": "wSLZhnbdgEqj"
      },
      "execution_count": null,
      "outputs": []
    },
    {
      "cell_type": "code",
      "source": [
        "files.download('ENTREGA_AGRUPADO.csv')"
      ],
      "metadata": {
        "id": "wBOJd_jfgNep"
      },
      "execution_count": null,
      "outputs": []
    },
    {
      "cell_type": "markdown",
      "source": [
        "##**Carga, limpieza y consolidación fichero apertura**"
      ],
      "metadata": {
        "id": "eFYbQCj2gvRa"
      }
    },
    {
      "cell_type": "code",
      "source": [
        "uploaded = files.upload()"
      ],
      "metadata": {
        "id": "cUT4I678g2t-",
        "colab": {
          "resources": {
            "http://localhost:8080/nbextensions/google.colab/files.js": {
              "data": "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",
              "ok": true,
              "headers": [
                [
                  "content-type",
                  "application/javascript"
                ]
              ],
              "status": 200,
              "status_text": ""
            }
          },
          "base_uri": "https://localhost:8080/",
          "height": 72
        },
        "outputId": "3024c333-7981-40a1-8ead-ef860354ba8e"
      },
      "execution_count": null,
      "outputs": [
        {
          "output_type": "display_data",
          "data": {
            "text/html": [
              "\n",
              "     <input type=\"file\" id=\"files-f93cfdd4-c5a7-43c8-ba39-58812708bacb\" name=\"files[]\" multiple disabled\n",
              "        style=\"border:none\" />\n",
              "     <output id=\"result-f93cfdd4-c5a7-43c8-ba39-58812708bacb\">\n",
              "      Upload widget is only available when the cell has been executed in the\n",
              "      current browser session. Please rerun this cell to enable.\n",
              "      </output>\n",
              "      <script src=\"/nbextensions/google.colab/files.js\"></script> "
            ],
            "text/plain": [
              "<IPython.core.display.HTML object>"
            ]
          },
          "metadata": {}
        },
        {
          "output_type": "stream",
          "name": "stdout",
          "text": [
            "Saving APERTURA 30-11-2021 (Cargue 22-12-2021).csv to APERTURA 30-11-2021 (Cargue 22-12-2021).csv\n"
          ]
        }
      ]
    },
    {
      "cell_type": "code",
      "source": [
        "apertura_mayo = pd.read_csv(io.BytesIO(uploaded['APERTURA 31-05-2021 (Cargue 28-09-2021).csv']), sep = ';', encoding = 'latin-1')"
      ],
      "metadata": {
        "id": "NndPINkhZeX-"
      },
      "execution_count": null,
      "outputs": []
    },
    {
      "cell_type": "code",
      "source": [
        "apertura_junio = pd.read_csv(io.BytesIO(uploaded['APERTURA 30-06-2021 (Cargue 28-09-2021).csv']), sep = ';', encoding = 'latin-1')"
      ],
      "metadata": {
        "id": "EqNLbblrZ1zG"
      },
      "execution_count": null,
      "outputs": []
    },
    {
      "cell_type": "code",
      "source": [
        "apertura_julio = pd.read_csv(io.BytesIO(uploaded['APERTURA 31-07-2021 (Cargue 31-08-2021).csv']), sep = ';', encoding = 'latin-1')"
      ],
      "metadata": {
        "id": "Q4-1eUVWZ1om"
      },
      "execution_count": null,
      "outputs": []
    },
    {
      "cell_type": "code",
      "source": [
        "apertura_agosto = pd.read_csv(io.BytesIO(uploaded['APERTURA 31-08-2021 (Cargue 22-09-2021).csv']), sep = ';', encoding = 'latin-1')"
      ],
      "metadata": {
        "id": "BX6qPB9NZ1dv"
      },
      "execution_count": null,
      "outputs": []
    },
    {
      "cell_type": "code",
      "source": [
        "apertura_septiembre = pd.read_csv(io.BytesIO(uploaded['APERTURA 30-09-2021 (Cargue 22-10-2021).csv']), sep = ';', encoding = 'latin-1')"
      ],
      "metadata": {
        "id": "17K87CYKZ1Ue"
      },
      "execution_count": null,
      "outputs": []
    },
    {
      "cell_type": "code",
      "source": [
        "apertura_octubre = pd.read_csv(io.BytesIO(uploaded['APERTURA 31-10-2021 (Cargue 29-11-2021).csv']), sep = ';', encoding = 'latin-1')"
      ],
      "metadata": {
        "id": "rPSXsrLXZ0aO"
      },
      "execution_count": null,
      "outputs": []
    },
    {
      "cell_type": "code",
      "source": [
        "apertura_noviembre = pd.read_csv(io.BytesIO(uploaded['APERTURA 30-11-2021 (Cargue 22-12-2021).csv']), sep = ';', encoding = 'latin-1')"
      ],
      "metadata": {
        "id": "v2CrYwdGZ0L2"
      },
      "execution_count": null,
      "outputs": []
    },
    {
      "cell_type": "markdown",
      "source": [
        "Al igual que con los ficheros de entregas, vamos a consolidar y agrupar la información correspondiente a las aperturas de las comunicaciones recibidas por cada cliente "
      ],
      "metadata": {
        "id": "gjPW1BPdekIu"
      }
    },
    {
      "cell_type": "code",
      "source": [
        "ficheros_apertura = [apertura_mayo, apertura_junio, apertura_julio, apertura_agosto,\n",
        "                     apertura_septiembre, apertura_octubre, apertura_noviembre]"
      ],
      "metadata": {
        "id": "FSUeGLqkexak"
      },
      "execution_count": null,
      "outputs": []
    },
    {
      "cell_type": "code",
      "source": [
        "apertura_global = pd.concat(ficheros_apertura)"
      ],
      "metadata": {
        "id": "IkbJbSHBfG-H"
      },
      "execution_count": null,
      "outputs": []
    },
    {
      "cell_type": "code",
      "source": [
        "apertura_global.head(5)"
      ],
      "metadata": {
        "id": "2IcxjnLdfPg-"
      },
      "execution_count": null,
      "outputs": []
    },
    {
      "cell_type": "code",
      "source": [
        "apertura_global.shape"
      ],
      "metadata": {
        "colab": {
          "base_uri": "https://localhost:8080/"
        },
        "id": "g-2ZPmG5fVOV",
        "outputId": "658b2d23-6153-4525-931a-e07fae03bd5e"
      },
      "execution_count": null,
      "outputs": [
        {
          "output_type": "execute_result",
          "data": {
            "text/plain": [
              "(1409233, 27)"
            ]
          },
          "metadata": {},
          "execution_count": 20
        }
      ]
    },
    {
      "cell_type": "code",
      "source": [
        "apertura_global.to_csv('APERTURA_CONSOLIDADO.csv')"
      ],
      "metadata": {
        "id": "F0JRSgKnfeiT"
      },
      "execution_count": null,
      "outputs": []
    },
    {
      "cell_type": "code",
      "source": [
        "files.download('APERTURA_CONSOLIDADO.csv')"
      ],
      "metadata": {
        "id": "9Cj-mqidfeiT"
      },
      "execution_count": null,
      "outputs": []
    },
    {
      "cell_type": "code",
      "source": [
        "apertura = apertura_global[['LLAVE', 'EVENTO', 'CALENDARIO', 'PRODUCTO', 'CANALES', 'INFORMATIVA','COMERCIAL_POLIZA', 'COMERCIAL_SERVICIOS']]"
      ],
      "metadata": {
        "id": "jv0EKUEfgb7W"
      },
      "execution_count": null,
      "outputs": []
    },
    {
      "cell_type": "code",
      "source": [
        "apertura.head(5)"
      ],
      "metadata": {
        "colab": {
          "base_uri": "https://localhost:8080/",
          "height": 206
        },
        "id": "pRK-Bs4hgk80",
        "outputId": "43d1593d-5854-4a8c-bb1a-9a5720f3b30b"
      },
      "execution_count": null,
      "outputs": [
        {
          "output_type": "execute_result",
          "data": {
            "text/html": [
              "\n",
              "  <div id=\"df-9e52a091-5912-446a-9108-249ec7e3181b\">\n",
              "    <div class=\"colab-df-container\">\n",
              "      <div>\n",
              "<style scoped>\n",
              "    .dataframe tbody tr th:only-of-type {\n",
              "        vertical-align: middle;\n",
              "    }\n",
              "\n",
              "    .dataframe tbody tr th {\n",
              "        vertical-align: top;\n",
              "    }\n",
              "\n",
              "    .dataframe thead th {\n",
              "        text-align: right;\n",
              "    }\n",
              "</style>\n",
              "<table border=\"1\" class=\"dataframe\">\n",
              "  <thead>\n",
              "    <tr style=\"text-align: right;\">\n",
              "      <th></th>\n",
              "      <th>LLAVE</th>\n",
              "      <th>EVENTO</th>\n",
              "      <th>CALENDARIO</th>\n",
              "      <th>PRODUCTO</th>\n",
              "      <th>CANALES</th>\n",
              "      <th>INFORMATIVA</th>\n",
              "      <th>COMERCIAL_POLIZA</th>\n",
              "      <th>COMERCIAL_SERVICIOS</th>\n",
              "    </tr>\n",
              "  </thead>\n",
              "  <tbody>\n",
              "    <tr>\n",
              "      <th>0</th>\n",
              "      <td>CC1</td>\n",
              "      <td>4</td>\n",
              "      <td>4</td>\n",
              "      <td>0</td>\n",
              "      <td>1</td>\n",
              "      <td>2</td>\n",
              "      <td>0</td>\n",
              "      <td>1</td>\n",
              "    </tr>\n",
              "    <tr>\n",
              "      <th>1</th>\n",
              "      <td>CC1000000927</td>\n",
              "      <td>0</td>\n",
              "      <td>1</td>\n",
              "      <td>0</td>\n",
              "      <td>0</td>\n",
              "      <td>0</td>\n",
              "      <td>0</td>\n",
              "      <td>0</td>\n",
              "    </tr>\n",
              "    <tr>\n",
              "      <th>2</th>\n",
              "      <td>CC1000002044</td>\n",
              "      <td>0</td>\n",
              "      <td>1</td>\n",
              "      <td>0</td>\n",
              "      <td>0</td>\n",
              "      <td>0</td>\n",
              "      <td>0</td>\n",
              "      <td>0</td>\n",
              "    </tr>\n",
              "    <tr>\n",
              "      <th>3</th>\n",
              "      <td>CC10000044</td>\n",
              "      <td>0</td>\n",
              "      <td>3</td>\n",
              "      <td>0</td>\n",
              "      <td>0</td>\n",
              "      <td>0</td>\n",
              "      <td>0</td>\n",
              "      <td>0</td>\n",
              "    </tr>\n",
              "    <tr>\n",
              "      <th>4</th>\n",
              "      <td>CC1000005616</td>\n",
              "      <td>0</td>\n",
              "      <td>1</td>\n",
              "      <td>0</td>\n",
              "      <td>0</td>\n",
              "      <td>0</td>\n",
              "      <td>0</td>\n",
              "      <td>0</td>\n",
              "    </tr>\n",
              "  </tbody>\n",
              "</table>\n",
              "</div>\n",
              "      <button class=\"colab-df-convert\" onclick=\"convertToInteractive('df-9e52a091-5912-446a-9108-249ec7e3181b')\"\n",
              "              title=\"Convert this dataframe to an interactive table.\"\n",
              "              style=\"display:none;\">\n",
              "        \n",
              "  <svg xmlns=\"http://www.w3.org/2000/svg\" height=\"24px\"viewBox=\"0 0 24 24\"\n",
              "       width=\"24px\">\n",
              "    <path d=\"M0 0h24v24H0V0z\" fill=\"none\"/>\n",
              "    <path d=\"M18.56 5.44l.94 2.06.94-2.06 2.06-.94-2.06-.94-.94-2.06-.94 2.06-2.06.94zm-11 1L8.5 8.5l.94-2.06 2.06-.94-2.06-.94L8.5 2.5l-.94 2.06-2.06.94zm10 10l.94 2.06.94-2.06 2.06-.94-2.06-.94-.94-2.06-.94 2.06-2.06.94z\"/><path d=\"M17.41 7.96l-1.37-1.37c-.4-.4-.92-.59-1.43-.59-.52 0-1.04.2-1.43.59L10.3 9.45l-7.72 7.72c-.78.78-.78 2.05 0 2.83L4 21.41c.39.39.9.59 1.41.59.51 0 1.02-.2 1.41-.59l7.78-7.78 2.81-2.81c.8-.78.8-2.07 0-2.86zM5.41 20L4 18.59l7.72-7.72 1.47 1.35L5.41 20z\"/>\n",
              "  </svg>\n",
              "      </button>\n",
              "      \n",
              "  <style>\n",
              "    .colab-df-container {\n",
              "      display:flex;\n",
              "      flex-wrap:wrap;\n",
              "      gap: 12px;\n",
              "    }\n",
              "\n",
              "    .colab-df-convert {\n",
              "      background-color: #E8F0FE;\n",
              "      border: none;\n",
              "      border-radius: 50%;\n",
              "      cursor: pointer;\n",
              "      display: none;\n",
              "      fill: #1967D2;\n",
              "      height: 32px;\n",
              "      padding: 0 0 0 0;\n",
              "      width: 32px;\n",
              "    }\n",
              "\n",
              "    .colab-df-convert:hover {\n",
              "      background-color: #E2EBFA;\n",
              "      box-shadow: 0px 1px 2px rgba(60, 64, 67, 0.3), 0px 1px 3px 1px rgba(60, 64, 67, 0.15);\n",
              "      fill: #174EA6;\n",
              "    }\n",
              "\n",
              "    [theme=dark] .colab-df-convert {\n",
              "      background-color: #3B4455;\n",
              "      fill: #D2E3FC;\n",
              "    }\n",
              "\n",
              "    [theme=dark] .colab-df-convert:hover {\n",
              "      background-color: #434B5C;\n",
              "      box-shadow: 0px 1px 3px 1px rgba(0, 0, 0, 0.15);\n",
              "      filter: drop-shadow(0px 1px 2px rgba(0, 0, 0, 0.3));\n",
              "      fill: #FFFFFF;\n",
              "    }\n",
              "  </style>\n",
              "\n",
              "      <script>\n",
              "        const buttonEl =\n",
              "          document.querySelector('#df-9e52a091-5912-446a-9108-249ec7e3181b button.colab-df-convert');\n",
              "        buttonEl.style.display =\n",
              "          google.colab.kernel.accessAllowed ? 'block' : 'none';\n",
              "\n",
              "        async function convertToInteractive(key) {\n",
              "          const element = document.querySelector('#df-9e52a091-5912-446a-9108-249ec7e3181b');\n",
              "          const dataTable =\n",
              "            await google.colab.kernel.invokeFunction('convertToInteractive',\n",
              "                                                     [key], {});\n",
              "          if (!dataTable) return;\n",
              "\n",
              "          const docLinkHtml = 'Like what you see? Visit the ' +\n",
              "            '<a target=\"_blank\" href=https://colab.research.google.com/notebooks/data_table.ipynb>data table notebook</a>'\n",
              "            + ' to learn more about interactive tables.';\n",
              "          element.innerHTML = '';\n",
              "          dataTable['output_type'] = 'display_data';\n",
              "          await google.colab.output.renderOutput(dataTable, element);\n",
              "          const docLink = document.createElement('div');\n",
              "          docLink.innerHTML = docLinkHtml;\n",
              "          element.appendChild(docLink);\n",
              "        }\n",
              "      </script>\n",
              "    </div>\n",
              "  </div>\n",
              "  "
            ],
            "text/plain": [
              "          LLAVE  EVENTO  ...  COMERCIAL_POLIZA  COMERCIAL_SERVICIOS\n",
              "0           CC1       4  ...                 0                    1\n",
              "1  CC1000000927       0  ...                 0                    0\n",
              "2  CC1000002044       0  ...                 0                    0\n",
              "3    CC10000044       0  ...                 0                    0\n",
              "4  CC1000005616       0  ...                 0                    0\n",
              "\n",
              "[5 rows x 8 columns]"
            ]
          },
          "metadata": {},
          "execution_count": 24
        }
      ]
    },
    {
      "cell_type": "code",
      "source": [
        "apertura.shape"
      ],
      "metadata": {
        "colab": {
          "base_uri": "https://localhost:8080/"
        },
        "id": "gt-ccBfJgm-F",
        "outputId": "ae810f7f-a94b-48d5-b990-ab648050cb9f"
      },
      "execution_count": null,
      "outputs": [
        {
          "output_type": "execute_result",
          "data": {
            "text/plain": [
              "(1409233, 8)"
            ]
          },
          "metadata": {},
          "execution_count": 25
        }
      ]
    },
    {
      "cell_type": "code",
      "source": [
        "apertura_final = apertura.groupby(['LLAVE']).sum()"
      ],
      "metadata": {
        "id": "xreuvbBeg0CX"
      },
      "execution_count": null,
      "outputs": []
    },
    {
      "cell_type": "code",
      "source": [
        "apertura_final.shape"
      ],
      "metadata": {
        "colab": {
          "base_uri": "https://localhost:8080/"
        },
        "outputId": "2f1d5ee7-2628-4a2d-a26a-84428b1a8eb7",
        "id": "bbTP9ctXg0CX"
      },
      "execution_count": null,
      "outputs": [
        {
          "output_type": "execute_result",
          "data": {
            "text/plain": [
              "(547298, 7)"
            ]
          },
          "metadata": {},
          "execution_count": 27
        }
      ]
    },
    {
      "cell_type": "code",
      "source": [
        "apertura_final.head(5)"
      ],
      "metadata": {
        "colab": {
          "base_uri": "https://localhost:8080/",
          "height": 237
        },
        "outputId": "5c6f8043-d46e-4b16-eca5-f8ababadeac4",
        "id": "JUMp1sY8g0CX"
      },
      "execution_count": null,
      "outputs": [
        {
          "output_type": "execute_result",
          "data": {
            "text/html": [
              "\n",
              "  <div id=\"df-f714b7b9-1ab0-42ec-a716-6ccc33c1c29c\">\n",
              "    <div class=\"colab-df-container\">\n",
              "      <div>\n",
              "<style scoped>\n",
              "    .dataframe tbody tr th:only-of-type {\n",
              "        vertical-align: middle;\n",
              "    }\n",
              "\n",
              "    .dataframe tbody tr th {\n",
              "        vertical-align: top;\n",
              "    }\n",
              "\n",
              "    .dataframe thead th {\n",
              "        text-align: right;\n",
              "    }\n",
              "</style>\n",
              "<table border=\"1\" class=\"dataframe\">\n",
              "  <thead>\n",
              "    <tr style=\"text-align: right;\">\n",
              "      <th></th>\n",
              "      <th>EVENTO</th>\n",
              "      <th>CALENDARIO</th>\n",
              "      <th>PRODUCTO</th>\n",
              "      <th>CANALES</th>\n",
              "      <th>INFORMATIVA</th>\n",
              "      <th>COMERCIAL_POLIZA</th>\n",
              "      <th>COMERCIAL_SERVICIOS</th>\n",
              "    </tr>\n",
              "    <tr>\n",
              "      <th>LLAVE</th>\n",
              "      <th></th>\n",
              "      <th></th>\n",
              "      <th></th>\n",
              "      <th></th>\n",
              "      <th></th>\n",
              "      <th></th>\n",
              "      <th></th>\n",
              "    </tr>\n",
              "  </thead>\n",
              "  <tbody>\n",
              "    <tr>\n",
              "      <th>12345678</th>\n",
              "      <td>0</td>\n",
              "      <td>1</td>\n",
              "      <td>3</td>\n",
              "      <td>0</td>\n",
              "      <td>2</td>\n",
              "      <td>1</td>\n",
              "      <td>0</td>\n",
              "    </tr>\n",
              "    <tr>\n",
              "      <th>830130968</th>\n",
              "      <td>0</td>\n",
              "      <td>1</td>\n",
              "      <td>0</td>\n",
              "      <td>0</td>\n",
              "      <td>0</td>\n",
              "      <td>0</td>\n",
              "      <td>0</td>\n",
              "    </tr>\n",
              "    <tr>\n",
              "      <th>900385650-9</th>\n",
              "      <td>0</td>\n",
              "      <td>0</td>\n",
              "      <td>0</td>\n",
              "      <td>0</td>\n",
              "      <td>0</td>\n",
              "      <td>1</td>\n",
              "      <td>0</td>\n",
              "    </tr>\n",
              "    <tr>\n",
              "      <th>900742714</th>\n",
              "      <td>0</td>\n",
              "      <td>0</td>\n",
              "      <td>1</td>\n",
              "      <td>0</td>\n",
              "      <td>0</td>\n",
              "      <td>0</td>\n",
              "      <td>0</td>\n",
              "    </tr>\n",
              "    <tr>\n",
              "      <th>9011430177</th>\n",
              "      <td>0</td>\n",
              "      <td>1</td>\n",
              "      <td>0</td>\n",
              "      <td>0</td>\n",
              "      <td>0</td>\n",
              "      <td>0</td>\n",
              "      <td>0</td>\n",
              "    </tr>\n",
              "  </tbody>\n",
              "</table>\n",
              "</div>\n",
              "      <button class=\"colab-df-convert\" onclick=\"convertToInteractive('df-f714b7b9-1ab0-42ec-a716-6ccc33c1c29c')\"\n",
              "              title=\"Convert this dataframe to an interactive table.\"\n",
              "              style=\"display:none;\">\n",
              "        \n",
              "  <svg xmlns=\"http://www.w3.org/2000/svg\" height=\"24px\"viewBox=\"0 0 24 24\"\n",
              "       width=\"24px\">\n",
              "    <path d=\"M0 0h24v24H0V0z\" fill=\"none\"/>\n",
              "    <path d=\"M18.56 5.44l.94 2.06.94-2.06 2.06-.94-2.06-.94-.94-2.06-.94 2.06-2.06.94zm-11 1L8.5 8.5l.94-2.06 2.06-.94-2.06-.94L8.5 2.5l-.94 2.06-2.06.94zm10 10l.94 2.06.94-2.06 2.06-.94-2.06-.94-.94-2.06-.94 2.06-2.06.94z\"/><path d=\"M17.41 7.96l-1.37-1.37c-.4-.4-.92-.59-1.43-.59-.52 0-1.04.2-1.43.59L10.3 9.45l-7.72 7.72c-.78.78-.78 2.05 0 2.83L4 21.41c.39.39.9.59 1.41.59.51 0 1.02-.2 1.41-.59l7.78-7.78 2.81-2.81c.8-.78.8-2.07 0-2.86zM5.41 20L4 18.59l7.72-7.72 1.47 1.35L5.41 20z\"/>\n",
              "  </svg>\n",
              "      </button>\n",
              "      \n",
              "  <style>\n",
              "    .colab-df-container {\n",
              "      display:flex;\n",
              "      flex-wrap:wrap;\n",
              "      gap: 12px;\n",
              "    }\n",
              "\n",
              "    .colab-df-convert {\n",
              "      background-color: #E8F0FE;\n",
              "      border: none;\n",
              "      border-radius: 50%;\n",
              "      cursor: pointer;\n",
              "      display: none;\n",
              "      fill: #1967D2;\n",
              "      height: 32px;\n",
              "      padding: 0 0 0 0;\n",
              "      width: 32px;\n",
              "    }\n",
              "\n",
              "    .colab-df-convert:hover {\n",
              "      background-color: #E2EBFA;\n",
              "      box-shadow: 0px 1px 2px rgba(60, 64, 67, 0.3), 0px 1px 3px 1px rgba(60, 64, 67, 0.15);\n",
              "      fill: #174EA6;\n",
              "    }\n",
              "\n",
              "    [theme=dark] .colab-df-convert {\n",
              "      background-color: #3B4455;\n",
              "      fill: #D2E3FC;\n",
              "    }\n",
              "\n",
              "    [theme=dark] .colab-df-convert:hover {\n",
              "      background-color: #434B5C;\n",
              "      box-shadow: 0px 1px 3px 1px rgba(0, 0, 0, 0.15);\n",
              "      filter: drop-shadow(0px 1px 2px rgba(0, 0, 0, 0.3));\n",
              "      fill: #FFFFFF;\n",
              "    }\n",
              "  </style>\n",
              "\n",
              "      <script>\n",
              "        const buttonEl =\n",
              "          document.querySelector('#df-f714b7b9-1ab0-42ec-a716-6ccc33c1c29c button.colab-df-convert');\n",
              "        buttonEl.style.display =\n",
              "          google.colab.kernel.accessAllowed ? 'block' : 'none';\n",
              "\n",
              "        async function convertToInteractive(key) {\n",
              "          const element = document.querySelector('#df-f714b7b9-1ab0-42ec-a716-6ccc33c1c29c');\n",
              "          const dataTable =\n",
              "            await google.colab.kernel.invokeFunction('convertToInteractive',\n",
              "                                                     [key], {});\n",
              "          if (!dataTable) return;\n",
              "\n",
              "          const docLinkHtml = 'Like what you see? Visit the ' +\n",
              "            '<a target=\"_blank\" href=https://colab.research.google.com/notebooks/data_table.ipynb>data table notebook</a>'\n",
              "            + ' to learn more about interactive tables.';\n",
              "          element.innerHTML = '';\n",
              "          dataTable['output_type'] = 'display_data';\n",
              "          await google.colab.output.renderOutput(dataTable, element);\n",
              "          const docLink = document.createElement('div');\n",
              "          docLink.innerHTML = docLinkHtml;\n",
              "          element.appendChild(docLink);\n",
              "        }\n",
              "      </script>\n",
              "    </div>\n",
              "  </div>\n",
              "  "
            ],
            "text/plain": [
              "             EVENTO  CALENDARIO  ...  COMERCIAL_POLIZA  COMERCIAL_SERVICIOS\n",
              "LLAVE                            ...                                       \n",
              "12345678          0           1  ...                 1                    0\n",
              "830130968         0           1  ...                 0                    0\n",
              "900385650-9       0           0  ...                 1                    0\n",
              "900742714         0           0  ...                 0                    0\n",
              "9011430177        0           1  ...                 0                    0\n",
              "\n",
              "[5 rows x 7 columns]"
            ]
          },
          "metadata": {},
          "execution_count": 28
        }
      ]
    },
    {
      "cell_type": "code",
      "source": [
        "apertura_final.to_csv('APERTURA_AGRUPADO.csv')"
      ],
      "metadata": {
        "id": "Q-elcobjiAs5"
      },
      "execution_count": null,
      "outputs": []
    },
    {
      "cell_type": "code",
      "source": [
        "files.download('APERTURA_AGRUPADO.csv')"
      ],
      "metadata": {
        "id": "_lsXHntSiAs5"
      },
      "execution_count": null,
      "outputs": []
    },
    {
      "cell_type": "markdown",
      "source": [
        "#**Creación de la matriz de calificaciones**"
      ],
      "metadata": {
        "id": "kPpTf-zTkylI"
      }
    },
    {
      "cell_type": "markdown",
      "source": [
        "En este caso particular tomaremos el \"rating\" que cada cliente otorga a cada categoría, como la tasa de apertura que dicho cliente ha presentado ante ésta. En otras palabras, cuantas comunicaciones ha abierto, de las que ha recibido"
      ],
      "metadata": {
        "id": "5YKe-zRClKyn"
      }
    },
    {
      "cell_type": "code",
      "source": [
        "uploaded = files.upload()"
      ],
      "metadata": {
        "id": "m4v--qegld4m"
      },
      "execution_count": null,
      "outputs": []
    },
    {
      "cell_type": "code",
      "source": [
        "matriz_entrega = pd.read_csv(io.BytesIO(uploaded['ENTREGA_AGRUPADO.csv']), sep = ',', encoding = 'latin-1')"
      ],
      "metadata": {
        "id": "92IJduGql72X"
      },
      "execution_count": null,
      "outputs": []
    },
    {
      "cell_type": "code",
      "source": [
        "matriz_entrega.head(5)"
      ],
      "metadata": {
        "id": "PLbpdYzemsBA"
      },
      "execution_count": null,
      "outputs": []
    },
    {
      "cell_type": "code",
      "source": [
        "matriz_apertura = pd.read_csv(io.BytesIO(uploaded['APERTURA_AGRUPADO.csv']), sep = ',', encoding = 'latin-1')"
      ],
      "metadata": {
        "id": "D_xstb9dm4-f"
      },
      "execution_count": null,
      "outputs": []
    },
    {
      "cell_type": "code",
      "source": [
        "matriz_apertura.head(5)"
      ],
      "metadata": {
        "id": "za_Y4OsFnAQg"
      },
      "execution_count": null,
      "outputs": []
    },
    {
      "cell_type": "markdown",
      "source": [
        "Ahora vamos a realizar un merge entre la matriz_entrega y la matriz_apertura, para posteriormente calcular la respectiva tasa de apertura de cada cliente frente a cada categoría"
      ],
      "metadata": {
        "id": "5-WZ_Dg6oCJ-"
      }
    },
    {
      "cell_type": "code",
      "source": [
        "matriz = pd.merge(matriz_entrega, matriz_apertura, on = 'LLAVE', how = 'left')"
      ],
      "metadata": {
        "id": "3XCE8ibMoTac"
      },
      "execution_count": null,
      "outputs": []
    },
    {
      "cell_type": "code",
      "source": [
        "matriz.head(5)"
      ],
      "metadata": {
        "colab": {
          "base_uri": "https://localhost:8080/",
          "height": 287
        },
        "id": "NOLPKh1noiRF",
        "outputId": "2d489efa-61bd-4cac-f3c8-d1faf34a35ba"
      },
      "execution_count": null,
      "outputs": [
        {
          "output_type": "execute_result",
          "data": {
            "text/html": [
              "\n",
              "  <div id=\"df-054c524b-0607-42d8-810c-53ff94ecd54d\">\n",
              "    <div class=\"colab-df-container\">\n",
              "      <div>\n",
              "<style scoped>\n",
              "    .dataframe tbody tr th:only-of-type {\n",
              "        vertical-align: middle;\n",
              "    }\n",
              "\n",
              "    .dataframe tbody tr th {\n",
              "        vertical-align: top;\n",
              "    }\n",
              "\n",
              "    .dataframe thead th {\n",
              "        text-align: right;\n",
              "    }\n",
              "</style>\n",
              "<table border=\"1\" class=\"dataframe\">\n",
              "  <thead>\n",
              "    <tr style=\"text-align: right;\">\n",
              "      <th></th>\n",
              "      <th>LLAVE</th>\n",
              "      <th>EVENTO_x</th>\n",
              "      <th>CALENDARIO_x</th>\n",
              "      <th>PRODUCTO_x</th>\n",
              "      <th>CANALES_x</th>\n",
              "      <th>INFORMATIVA_x</th>\n",
              "      <th>COMERCIAL_POLIZA_x</th>\n",
              "      <th>COMERCIAL_SERVICIOS_x</th>\n",
              "      <th>EVENTO_y</th>\n",
              "      <th>CALENDARIO_y</th>\n",
              "      <th>PRODUCTO_y</th>\n",
              "      <th>CANALES_y</th>\n",
              "      <th>INFORMATIVA_y</th>\n",
              "      <th>COMERCIAL_POLIZA_y</th>\n",
              "      <th>COMERCIAL_SERVICIOS_y</th>\n",
              "    </tr>\n",
              "  </thead>\n",
              "  <tbody>\n",
              "    <tr>\n",
              "      <th>0</th>\n",
              "      <td>12345678</td>\n",
              "      <td>1</td>\n",
              "      <td>1</td>\n",
              "      <td>3</td>\n",
              "      <td>0</td>\n",
              "      <td>2</td>\n",
              "      <td>1</td>\n",
              "      <td>1</td>\n",
              "      <td>0.0</td>\n",
              "      <td>1.0</td>\n",
              "      <td>3.0</td>\n",
              "      <td>0.0</td>\n",
              "      <td>2.0</td>\n",
              "      <td>1.0</td>\n",
              "      <td>0.0</td>\n",
              "    </tr>\n",
              "    <tr>\n",
              "      <th>1</th>\n",
              "      <td>29881455</td>\n",
              "      <td>0</td>\n",
              "      <td>1</td>\n",
              "      <td>0</td>\n",
              "      <td>0</td>\n",
              "      <td>0</td>\n",
              "      <td>0</td>\n",
              "      <td>0</td>\n",
              "      <td>NaN</td>\n",
              "      <td>NaN</td>\n",
              "      <td>NaN</td>\n",
              "      <td>NaN</td>\n",
              "      <td>NaN</td>\n",
              "      <td>NaN</td>\n",
              "      <td>NaN</td>\n",
              "    </tr>\n",
              "    <tr>\n",
              "      <th>2</th>\n",
              "      <td>830130968</td>\n",
              "      <td>0</td>\n",
              "      <td>1</td>\n",
              "      <td>0</td>\n",
              "      <td>0</td>\n",
              "      <td>0</td>\n",
              "      <td>0</td>\n",
              "      <td>0</td>\n",
              "      <td>0.0</td>\n",
              "      <td>1.0</td>\n",
              "      <td>0.0</td>\n",
              "      <td>0.0</td>\n",
              "      <td>0.0</td>\n",
              "      <td>0.0</td>\n",
              "      <td>0.0</td>\n",
              "    </tr>\n",
              "    <tr>\n",
              "      <th>3</th>\n",
              "      <td>900385650-9</td>\n",
              "      <td>0</td>\n",
              "      <td>0</td>\n",
              "      <td>0</td>\n",
              "      <td>0</td>\n",
              "      <td>0</td>\n",
              "      <td>1</td>\n",
              "      <td>0</td>\n",
              "      <td>0.0</td>\n",
              "      <td>0.0</td>\n",
              "      <td>0.0</td>\n",
              "      <td>0.0</td>\n",
              "      <td>0.0</td>\n",
              "      <td>1.0</td>\n",
              "      <td>0.0</td>\n",
              "    </tr>\n",
              "    <tr>\n",
              "      <th>4</th>\n",
              "      <td>900742714</td>\n",
              "      <td>0</td>\n",
              "      <td>1</td>\n",
              "      <td>1</td>\n",
              "      <td>0</td>\n",
              "      <td>0</td>\n",
              "      <td>0</td>\n",
              "      <td>0</td>\n",
              "      <td>0.0</td>\n",
              "      <td>0.0</td>\n",
              "      <td>1.0</td>\n",
              "      <td>0.0</td>\n",
              "      <td>0.0</td>\n",
              "      <td>0.0</td>\n",
              "      <td>0.0</td>\n",
              "    </tr>\n",
              "  </tbody>\n",
              "</table>\n",
              "</div>\n",
              "      <button class=\"colab-df-convert\" onclick=\"convertToInteractive('df-054c524b-0607-42d8-810c-53ff94ecd54d')\"\n",
              "              title=\"Convert this dataframe to an interactive table.\"\n",
              "              style=\"display:none;\">\n",
              "        \n",
              "  <svg xmlns=\"http://www.w3.org/2000/svg\" height=\"24px\"viewBox=\"0 0 24 24\"\n",
              "       width=\"24px\">\n",
              "    <path d=\"M0 0h24v24H0V0z\" fill=\"none\"/>\n",
              "    <path d=\"M18.56 5.44l.94 2.06.94-2.06 2.06-.94-2.06-.94-.94-2.06-.94 2.06-2.06.94zm-11 1L8.5 8.5l.94-2.06 2.06-.94-2.06-.94L8.5 2.5l-.94 2.06-2.06.94zm10 10l.94 2.06.94-2.06 2.06-.94-2.06-.94-.94-2.06-.94 2.06-2.06.94z\"/><path d=\"M17.41 7.96l-1.37-1.37c-.4-.4-.92-.59-1.43-.59-.52 0-1.04.2-1.43.59L10.3 9.45l-7.72 7.72c-.78.78-.78 2.05 0 2.83L4 21.41c.39.39.9.59 1.41.59.51 0 1.02-.2 1.41-.59l7.78-7.78 2.81-2.81c.8-.78.8-2.07 0-2.86zM5.41 20L4 18.59l7.72-7.72 1.47 1.35L5.41 20z\"/>\n",
              "  </svg>\n",
              "      </button>\n",
              "      \n",
              "  <style>\n",
              "    .colab-df-container {\n",
              "      display:flex;\n",
              "      flex-wrap:wrap;\n",
              "      gap: 12px;\n",
              "    }\n",
              "\n",
              "    .colab-df-convert {\n",
              "      background-color: #E8F0FE;\n",
              "      border: none;\n",
              "      border-radius: 50%;\n",
              "      cursor: pointer;\n",
              "      display: none;\n",
              "      fill: #1967D2;\n",
              "      height: 32px;\n",
              "      padding: 0 0 0 0;\n",
              "      width: 32px;\n",
              "    }\n",
              "\n",
              "    .colab-df-convert:hover {\n",
              "      background-color: #E2EBFA;\n",
              "      box-shadow: 0px 1px 2px rgba(60, 64, 67, 0.3), 0px 1px 3px 1px rgba(60, 64, 67, 0.15);\n",
              "      fill: #174EA6;\n",
              "    }\n",
              "\n",
              "    [theme=dark] .colab-df-convert {\n",
              "      background-color: #3B4455;\n",
              "      fill: #D2E3FC;\n",
              "    }\n",
              "\n",
              "    [theme=dark] .colab-df-convert:hover {\n",
              "      background-color: #434B5C;\n",
              "      box-shadow: 0px 1px 3px 1px rgba(0, 0, 0, 0.15);\n",
              "      filter: drop-shadow(0px 1px 2px rgba(0, 0, 0, 0.3));\n",
              "      fill: #FFFFFF;\n",
              "    }\n",
              "  </style>\n",
              "\n",
              "      <script>\n",
              "        const buttonEl =\n",
              "          document.querySelector('#df-054c524b-0607-42d8-810c-53ff94ecd54d button.colab-df-convert');\n",
              "        buttonEl.style.display =\n",
              "          google.colab.kernel.accessAllowed ? 'block' : 'none';\n",
              "\n",
              "        async function convertToInteractive(key) {\n",
              "          const element = document.querySelector('#df-054c524b-0607-42d8-810c-53ff94ecd54d');\n",
              "          const dataTable =\n",
              "            await google.colab.kernel.invokeFunction('convertToInteractive',\n",
              "                                                     [key], {});\n",
              "          if (!dataTable) return;\n",
              "\n",
              "          const docLinkHtml = 'Like what you see? Visit the ' +\n",
              "            '<a target=\"_blank\" href=https://colab.research.google.com/notebooks/data_table.ipynb>data table notebook</a>'\n",
              "            + ' to learn more about interactive tables.';\n",
              "          element.innerHTML = '';\n",
              "          dataTable['output_type'] = 'display_data';\n",
              "          await google.colab.output.renderOutput(dataTable, element);\n",
              "          const docLink = document.createElement('div');\n",
              "          docLink.innerHTML = docLinkHtml;\n",
              "          element.appendChild(docLink);\n",
              "        }\n",
              "      </script>\n",
              "    </div>\n",
              "  </div>\n",
              "  "
            ],
            "text/plain": [
              "         LLAVE  EVENTO_x  ...  COMERCIAL_POLIZA_y  COMERCIAL_SERVICIOS_y\n",
              "0     12345678         1  ...                 1.0                    0.0\n",
              "1     29881455         0  ...                 NaN                    NaN\n",
              "2    830130968         0  ...                 0.0                    0.0\n",
              "3  900385650-9         0  ...                 1.0                    0.0\n",
              "4    900742714         0  ...                 0.0                    0.0\n",
              "\n",
              "[5 rows x 15 columns]"
            ]
          },
          "metadata": {},
          "execution_count": 12
        }
      ]
    },
    {
      "cell_type": "code",
      "source": [
        "matriz.fillna(0)"
      ],
      "metadata": {
        "id": "eaVAW-LfowXP"
      },
      "execution_count": null,
      "outputs": []
    },
    {
      "cell_type": "markdown",
      "source": [
        "Definimos una función sencilla para calcular la tasa de apertura, incluyendo una excepción en caso de tener que dividir por cero, en el cual devolvemos un cero"
      ],
      "metadata": {
        "id": "TR41N5sVpySD"
      }
    },
    {
      "cell_type": "code",
      "source": [
        "def tasa_apertura(x,y):\n",
        "  try:\n",
        "    return y/x\n",
        "  except ZeroDivisionError:\n",
        "    return 0"
      ],
      "metadata": {
        "id": "iiacPkf4o1iv"
      },
      "execution_count": null,
      "outputs": []
    },
    {
      "cell_type": "markdown",
      "source": [
        "Aplicamos la función a cada categoría y agregamos la nueva serie a la matriz original"
      ],
      "metadata": {
        "id": "hYYRrUvTqPcB"
      }
    },
    {
      "cell_type": "code",
      "source": [
        "#Categoria 'EVENTO'\n",
        "x = matriz['EVENTO_x']\n",
        "y = matriz['EVENTO_y']\n",
        "matriz['EVENTO'] = tasa_apertura(x,y)"
      ],
      "metadata": {
        "id": "tUpNOnuGqO0j"
      },
      "execution_count": null,
      "outputs": []
    },
    {
      "cell_type": "code",
      "source": [
        "#Categoria 'CALENDARIO'\n",
        "x = matriz['CALENDARIO_x']\n",
        "y = matriz['CALENDARIO_y']\n",
        "matriz['CALENDARIO'] = tasa_apertura(x,y)"
      ],
      "metadata": {
        "id": "QDDU0N4Pqo89"
      },
      "execution_count": null,
      "outputs": []
    },
    {
      "cell_type": "code",
      "source": [
        "#Categoria 'PRODUCTO'\n",
        "x = matriz['PRODUCTO_x']\n",
        "y = matriz['PRODUCTO_y']\n",
        "matriz['PRODUCTO'] = tasa_apertura(x,y)"
      ],
      "metadata": {
        "id": "3bx5WqYrq9bV"
      },
      "execution_count": null,
      "outputs": []
    },
    {
      "cell_type": "code",
      "source": [
        "#Categoria 'CANALES'\n",
        "x = matriz['CANALES_x']\n",
        "y = matriz['CANALES_y']\n",
        "matriz['CANALES'] = tasa_apertura(x,y)"
      ],
      "metadata": {
        "id": "7iQ4A9QzrNG-"
      },
      "execution_count": null,
      "outputs": []
    },
    {
      "cell_type": "code",
      "source": [
        "#Categoria 'INFORMATIVA'\n",
        "x = matriz['INFORMATIVA_x']\n",
        "y = matriz['INFORMATIVA_y']\n",
        "matriz['INFORMATIVA'] = tasa_apertura(x,y)"
      ],
      "metadata": {
        "id": "_9AhhKQErgaw"
      },
      "execution_count": null,
      "outputs": []
    },
    {
      "cell_type": "code",
      "source": [
        "#Categoria 'COMERCIAL_POLIZA'\n",
        "x = matriz['COMERCIAL_POLIZA_x']\n",
        "y = matriz['COMERCIAL_POLIZA_y']\n",
        "matriz['COMERCIAL_POLIZA'] = tasa_apertura(x,y)"
      ],
      "metadata": {
        "id": "cez1ooGKrzXH"
      },
      "execution_count": null,
      "outputs": []
    },
    {
      "cell_type": "code",
      "source": [
        "#Categoria 'COMERCIAL_SERVICIOS'\n",
        "x = matriz['COMERCIAL_SERVICIOS_x']\n",
        "y = matriz['COMERCIAL_SERVICIOS_y']\n",
        "matriz['COMERCIAL_SERVICIOS'] = tasa_apertura(x,y)"
      ],
      "metadata": {
        "id": "MeNDWG6Yr939"
      },
      "execution_count": null,
      "outputs": []
    },
    {
      "cell_type": "code",
      "source": [
        "matriz.tail(5)"
      ],
      "metadata": {
        "id": "q1t_JA9bqigd"
      },
      "execution_count": null,
      "outputs": []
    },
    {
      "cell_type": "code",
      "source": [
        "matriz.to_csv('MATRIZ_CONSOLIDADA.csv')"
      ],
      "metadata": {
        "id": "ou1dT9Gls6vu"
      },
      "execution_count": null,
      "outputs": []
    },
    {
      "cell_type": "code",
      "source": [
        "files.download('MATRIZ_CONSOLIDADA.csv')"
      ],
      "metadata": {
        "id": "PfeMID5ss6vu"
      },
      "execution_count": null,
      "outputs": []
    },
    {
      "cell_type": "markdown",
      "source": [
        "Finalmente nos quedamos con los campos calculados y eliminamos los demás"
      ],
      "metadata": {
        "id": "PVTSPV0WuJhd"
      }
    },
    {
      "cell_type": "code",
      "source": [
        "matriz_inicial = matriz[['LLAVE', 'EVENTO', 'CALENDARIO', 'PRODUCTO', 'CANALES', 'INFORMATIVA', 'COMERCIAL_POLIZA', 'COMERCIAL_SERVICIOS']]"
      ],
      "metadata": {
        "id": "8N5e4U-auPyu"
      },
      "execution_count": null,
      "outputs": []
    },
    {
      "cell_type": "code",
      "source": [
        "matriz_inicial.head(5)"
      ],
      "metadata": {
        "colab": {
          "base_uri": "https://localhost:8080/",
          "height": 206
        },
        "id": "DeNar9llunE8",
        "outputId": "d896f29c-c02e-44e0-e6fa-f94de5497772"
      },
      "execution_count": null,
      "outputs": [
        {
          "output_type": "execute_result",
          "data": {
            "text/html": [
              "\n",
              "  <div id=\"df-5f0df138-1797-4b98-86f4-79b15295ca76\">\n",
              "    <div class=\"colab-df-container\">\n",
              "      <div>\n",
              "<style scoped>\n",
              "    .dataframe tbody tr th:only-of-type {\n",
              "        vertical-align: middle;\n",
              "    }\n",
              "\n",
              "    .dataframe tbody tr th {\n",
              "        vertical-align: top;\n",
              "    }\n",
              "\n",
              "    .dataframe thead th {\n",
              "        text-align: right;\n",
              "    }\n",
              "</style>\n",
              "<table border=\"1\" class=\"dataframe\">\n",
              "  <thead>\n",
              "    <tr style=\"text-align: right;\">\n",
              "      <th></th>\n",
              "      <th>LLAVE</th>\n",
              "      <th>EVENTO</th>\n",
              "      <th>CALENDARIO</th>\n",
              "      <th>PRODUCTO</th>\n",
              "      <th>CANALES</th>\n",
              "      <th>INFORMATIVA</th>\n",
              "      <th>COMERCIAL_POLIZA</th>\n",
              "      <th>COMERCIAL_SERVICIOS</th>\n",
              "    </tr>\n",
              "  </thead>\n",
              "  <tbody>\n",
              "    <tr>\n",
              "      <th>0</th>\n",
              "      <td>12345678</td>\n",
              "      <td>0.0</td>\n",
              "      <td>1.0</td>\n",
              "      <td>1.0</td>\n",
              "      <td>NaN</td>\n",
              "      <td>1.0</td>\n",
              "      <td>1.0</td>\n",
              "      <td>0.0</td>\n",
              "    </tr>\n",
              "    <tr>\n",
              "      <th>1</th>\n",
              "      <td>29881455</td>\n",
              "      <td>NaN</td>\n",
              "      <td>NaN</td>\n",
              "      <td>NaN</td>\n",
              "      <td>NaN</td>\n",
              "      <td>NaN</td>\n",
              "      <td>NaN</td>\n",
              "      <td>NaN</td>\n",
              "    </tr>\n",
              "    <tr>\n",
              "      <th>2</th>\n",
              "      <td>830130968</td>\n",
              "      <td>NaN</td>\n",
              "      <td>1.0</td>\n",
              "      <td>NaN</td>\n",
              "      <td>NaN</td>\n",
              "      <td>NaN</td>\n",
              "      <td>NaN</td>\n",
              "      <td>NaN</td>\n",
              "    </tr>\n",
              "    <tr>\n",
              "      <th>3</th>\n",
              "      <td>900385650-9</td>\n",
              "      <td>NaN</td>\n",
              "      <td>NaN</td>\n",
              "      <td>NaN</td>\n",
              "      <td>NaN</td>\n",
              "      <td>NaN</td>\n",
              "      <td>1.0</td>\n",
              "      <td>NaN</td>\n",
              "    </tr>\n",
              "    <tr>\n",
              "      <th>4</th>\n",
              "      <td>900742714</td>\n",
              "      <td>NaN</td>\n",
              "      <td>0.0</td>\n",
              "      <td>1.0</td>\n",
              "      <td>NaN</td>\n",
              "      <td>NaN</td>\n",
              "      <td>NaN</td>\n",
              "      <td>NaN</td>\n",
              "    </tr>\n",
              "  </tbody>\n",
              "</table>\n",
              "</div>\n",
              "      <button class=\"colab-df-convert\" onclick=\"convertToInteractive('df-5f0df138-1797-4b98-86f4-79b15295ca76')\"\n",
              "              title=\"Convert this dataframe to an interactive table.\"\n",
              "              style=\"display:none;\">\n",
              "        \n",
              "  <svg xmlns=\"http://www.w3.org/2000/svg\" height=\"24px\"viewBox=\"0 0 24 24\"\n",
              "       width=\"24px\">\n",
              "    <path d=\"M0 0h24v24H0V0z\" fill=\"none\"/>\n",
              "    <path d=\"M18.56 5.44l.94 2.06.94-2.06 2.06-.94-2.06-.94-.94-2.06-.94 2.06-2.06.94zm-11 1L8.5 8.5l.94-2.06 2.06-.94-2.06-.94L8.5 2.5l-.94 2.06-2.06.94zm10 10l.94 2.06.94-2.06 2.06-.94-2.06-.94-.94-2.06-.94 2.06-2.06.94z\"/><path d=\"M17.41 7.96l-1.37-1.37c-.4-.4-.92-.59-1.43-.59-.52 0-1.04.2-1.43.59L10.3 9.45l-7.72 7.72c-.78.78-.78 2.05 0 2.83L4 21.41c.39.39.9.59 1.41.59.51 0 1.02-.2 1.41-.59l7.78-7.78 2.81-2.81c.8-.78.8-2.07 0-2.86zM5.41 20L4 18.59l7.72-7.72 1.47 1.35L5.41 20z\"/>\n",
              "  </svg>\n",
              "      </button>\n",
              "      \n",
              "  <style>\n",
              "    .colab-df-container {\n",
              "      display:flex;\n",
              "      flex-wrap:wrap;\n",
              "      gap: 12px;\n",
              "    }\n",
              "\n",
              "    .colab-df-convert {\n",
              "      background-color: #E8F0FE;\n",
              "      border: none;\n",
              "      border-radius: 50%;\n",
              "      cursor: pointer;\n",
              "      display: none;\n",
              "      fill: #1967D2;\n",
              "      height: 32px;\n",
              "      padding: 0 0 0 0;\n",
              "      width: 32px;\n",
              "    }\n",
              "\n",
              "    .colab-df-convert:hover {\n",
              "      background-color: #E2EBFA;\n",
              "      box-shadow: 0px 1px 2px rgba(60, 64, 67, 0.3), 0px 1px 3px 1px rgba(60, 64, 67, 0.15);\n",
              "      fill: #174EA6;\n",
              "    }\n",
              "\n",
              "    [theme=dark] .colab-df-convert {\n",
              "      background-color: #3B4455;\n",
              "      fill: #D2E3FC;\n",
              "    }\n",
              "\n",
              "    [theme=dark] .colab-df-convert:hover {\n",
              "      background-color: #434B5C;\n",
              "      box-shadow: 0px 1px 3px 1px rgba(0, 0, 0, 0.15);\n",
              "      filter: drop-shadow(0px 1px 2px rgba(0, 0, 0, 0.3));\n",
              "      fill: #FFFFFF;\n",
              "    }\n",
              "  </style>\n",
              "\n",
              "      <script>\n",
              "        const buttonEl =\n",
              "          document.querySelector('#df-5f0df138-1797-4b98-86f4-79b15295ca76 button.colab-df-convert');\n",
              "        buttonEl.style.display =\n",
              "          google.colab.kernel.accessAllowed ? 'block' : 'none';\n",
              "\n",
              "        async function convertToInteractive(key) {\n",
              "          const element = document.querySelector('#df-5f0df138-1797-4b98-86f4-79b15295ca76');\n",
              "          const dataTable =\n",
              "            await google.colab.kernel.invokeFunction('convertToInteractive',\n",
              "                                                     [key], {});\n",
              "          if (!dataTable) return;\n",
              "\n",
              "          const docLinkHtml = 'Like what you see? Visit the ' +\n",
              "            '<a target=\"_blank\" href=https://colab.research.google.com/notebooks/data_table.ipynb>data table notebook</a>'\n",
              "            + ' to learn more about interactive tables.';\n",
              "          element.innerHTML = '';\n",
              "          dataTable['output_type'] = 'display_data';\n",
              "          await google.colab.output.renderOutput(dataTable, element);\n",
              "          const docLink = document.createElement('div');\n",
              "          docLink.innerHTML = docLinkHtml;\n",
              "          element.appendChild(docLink);\n",
              "        }\n",
              "      </script>\n",
              "    </div>\n",
              "  </div>\n",
              "  "
            ],
            "text/plain": [
              "         LLAVE  EVENTO  ...  COMERCIAL_POLIZA  COMERCIAL_SERVICIOS\n",
              "0     12345678     0.0  ...               1.0                  0.0\n",
              "1     29881455     NaN  ...               NaN                  NaN\n",
              "2    830130968     NaN  ...               NaN                  NaN\n",
              "3  900385650-9     NaN  ...               1.0                  NaN\n",
              "4    900742714     NaN  ...               NaN                  NaN\n",
              "\n",
              "[5 rows x 8 columns]"
            ]
          },
          "metadata": {},
          "execution_count": 5
        }
      ]
    },
    {
      "cell_type": "markdown",
      "source": [
        "Validamos que los vaolres mínimos y máximos calculados esten entre el rango 0-1"
      ],
      "metadata": {
        "id": "I6VAZVQUvn2F"
      }
    },
    {
      "cell_type": "code",
      "source": [
        "matriz_inicial.max()"
      ],
      "metadata": {
        "colab": {
          "base_uri": "https://localhost:8080/"
        },
        "id": "aV7aFlB4u0rl",
        "outputId": "62371a67-7aad-41c4-cff1-658392e81a53"
      },
      "execution_count": null,
      "outputs": [
        {
          "output_type": "execute_result",
          "data": {
            "text/plain": [
              "LLAVE                  TI99090915475\n",
              "EVENTO                             1\n",
              "CALENDARIO                         1\n",
              "PRODUCTO                           1\n",
              "CANALES                            1\n",
              "INFORMATIVA                        1\n",
              "COMERCIAL_POLIZA                   1\n",
              "COMERCIAL_SERVICIOS                1\n",
              "dtype: object"
            ]
          },
          "metadata": {},
          "execution_count": 6
        }
      ]
    },
    {
      "cell_type": "code",
      "source": [
        "matriz_inicial.min()"
      ],
      "metadata": {
        "colab": {
          "base_uri": "https://localhost:8080/"
        },
        "id": "VMWIu6qVvJQw",
        "outputId": "4e009f66-a20a-41c4-aa91-8dd4a386d606"
      },
      "execution_count": null,
      "outputs": [
        {
          "output_type": "execute_result",
          "data": {
            "text/plain": [
              "LLAVE                  12345678\n",
              "EVENTO                        0\n",
              "CALENDARIO                    0\n",
              "PRODUCTO                      0\n",
              "CANALES                       0\n",
              "INFORMATIVA                   0\n",
              "COMERCIAL_POLIZA              0\n",
              "COMERCIAL_SERVICIOS           0\n",
              "dtype: object"
            ]
          },
          "metadata": {},
          "execution_count": 7
        }
      ]
    },
    {
      "cell_type": "code",
      "source": [
        "matriz_inicial.to_csv('MATRIZ_INICIAL.csv')"
      ],
      "metadata": {
        "id": "01EMXKj4oGmw"
      },
      "execution_count": null,
      "outputs": []
    },
    {
      "cell_type": "code",
      "source": [
        "files.download('MATRIZ_INICIAL.csv')"
      ],
      "metadata": {
        "colab": {
          "base_uri": "https://localhost:8080/",
          "height": 17
        },
        "id": "Sah8nVhgoMxm",
        "outputId": "49649025-81fe-41f5-cffc-fd1d7aaed3bf"
      },
      "execution_count": null,
      "outputs": [
        {
          "output_type": "display_data",
          "data": {
            "application/javascript": [
              "\n",
              "    async function download(id, filename, size) {\n",
              "      if (!google.colab.kernel.accessAllowed) {\n",
              "        return;\n",
              "      }\n",
              "      const div = document.createElement('div');\n",
              "      const label = document.createElement('label');\n",
              "      label.textContent = `Downloading \"${filename}\": `;\n",
              "      div.appendChild(label);\n",
              "      const progress = document.createElement('progress');\n",
              "      progress.max = size;\n",
              "      div.appendChild(progress);\n",
              "      document.body.appendChild(div);\n",
              "\n",
              "      const buffers = [];\n",
              "      let downloaded = 0;\n",
              "\n",
              "      const channel = await google.colab.kernel.comms.open(id);\n",
              "      // Send a message to notify the kernel that we're ready.\n",
              "      channel.send({})\n",
              "\n",
              "      for await (const message of channel.messages) {\n",
              "        // Send a message to notify the kernel that we're ready.\n",
              "        channel.send({})\n",
              "        if (message.buffers) {\n",
              "          for (const buffer of message.buffers) {\n",
              "            buffers.push(buffer);\n",
              "            downloaded += buffer.byteLength;\n",
              "            progress.value = downloaded;\n",
              "          }\n",
              "        }\n",
              "      }\n",
              "      const blob = new Blob(buffers, {type: 'application/binary'});\n",
              "      const a = document.createElement('a');\n",
              "      a.href = window.URL.createObjectURL(blob);\n",
              "      a.download = filename;\n",
              "      div.appendChild(a);\n",
              "      a.click();\n",
              "      div.remove();\n",
              "    }\n",
              "  "
            ],
            "text/plain": [
              "<IPython.core.display.Javascript object>"
            ]
          },
          "metadata": {}
        },
        {
          "output_type": "display_data",
          "data": {
            "application/javascript": [
              "download(\"download_8b115717-3eb5-4e1c-90a3-751fb198e99e\", \"MATRIZ_INICIAL.csv\", 39052678)"
            ],
            "text/plain": [
              "<IPython.core.display.Javascript object>"
            ]
          },
          "metadata": {}
        }
      ]
    },
    {
      "cell_type": "markdown",
      "source": [
        "#**Definición conjuntos Train y Test**"
      ],
      "metadata": {
        "id": "_FBqqzA0oXsv"
      }
    },
    {
      "cell_type": "markdown",
      "source": [
        "##**Estructuración matriz ratings**"
      ],
      "metadata": {
        "id": "cDGSGXClvGPL"
      }
    },
    {
      "cell_type": "markdown",
      "source": [
        "Primeros creamos un nuevo DataFrame que nos permita dividir el total de \"calificaciones\" dadas, excluyendo los missing values, en los conjunto de train y test"
      ],
      "metadata": {
        "id": "nKxPoQsPsHyJ"
      }
    },
    {
      "cell_type": "code",
      "source": [
        "sub_matriz_evento = matriz_inicial[['LLAVE', 'EVENTO']]\n",
        "sub_matriz_evento = sub_matriz_evento.assign(CATEGORIA_ID = 1)\n",
        "sub_matriz_evento.columns = ['LLAVE', 'RATING', 'CATEGORIA_ID']\n",
        "sub_matriz_evento.head(5)"
      ],
      "metadata": {
        "id": "kyAAXjmzocdY"
      },
      "execution_count": null,
      "outputs": []
    },
    {
      "cell_type": "code",
      "source": [
        "sub_matriz_calendario = matriz_inicial[['LLAVE', 'CALENDARIO']]\n",
        "sub_matriz_calendario = sub_matriz_calendario.assign(CATEGORIA_ID = 2)\n",
        "sub_matriz_calendario.columns = ['LLAVE', 'RATING', 'CATEGORIA_ID']\n",
        "sub_matriz_calendario.head(5)"
      ],
      "metadata": {
        "id": "2DqeupOmqlOF"
      },
      "execution_count": null,
      "outputs": []
    },
    {
      "cell_type": "code",
      "source": [
        "sub_matriz_producto = matriz_inicial[['LLAVE', 'PRODUCTO']]\n",
        "sub_matriz_producto = sub_matriz_producto.assign(CATEGORIA_ID = 3)\n",
        "sub_matriz_producto.columns = ['LLAVE', 'RATING', 'CATEGORIA_ID']\n",
        "sub_matriz_producto.head(5)"
      ],
      "metadata": {
        "id": "_VGDI27arJlj"
      },
      "execution_count": null,
      "outputs": []
    },
    {
      "cell_type": "code",
      "source": [
        "sub_matriz_canales = matriz_inicial[['LLAVE', 'CANALES']]\n",
        "sub_matriz_canales = sub_matriz_canales.assign(CATEGORIA_ID = 4)\n",
        "sub_matriz_canales.columns = ['LLAVE', 'RATING', 'CATEGORIA_ID']\n",
        "sub_matriz_canales.head(5)"
      ],
      "metadata": {
        "id": "WlAyShGTrW49"
      },
      "execution_count": null,
      "outputs": []
    },
    {
      "cell_type": "code",
      "source": [
        "sub_matriz_informativa = matriz_inicial[['LLAVE', 'INFORMATIVA']]\n",
        "sub_matriz_informativa = sub_matriz_informativa.assign(CATEGORIA_ID = 5)\n",
        "sub_matriz_informativa.columns = ['LLAVE', 'RATING', 'CATEGORIA_ID']\n",
        "sub_matriz_informativa.head(5)"
      ],
      "metadata": {
        "id": "Etcqlqyprl1r"
      },
      "execution_count": null,
      "outputs": []
    },
    {
      "cell_type": "code",
      "source": [
        "sub_matriz_poliza = matriz_inicial[['LLAVE', 'COMERCIAL_POLIZA']]\n",
        "sub_matriz_poliza = sub_matriz_poliza.assign(CATEGORIA_ID = 6)\n",
        "sub_matriz_poliza.columns = ['LLAVE', 'RATING', 'CATEGORIA_ID']\n",
        "sub_matriz_poliza.head(5)"
      ],
      "metadata": {
        "id": "TF__ZGPJrw5A"
      },
      "execution_count": null,
      "outputs": []
    },
    {
      "cell_type": "code",
      "source": [
        "sub_matriz_servicios = matriz_inicial[['LLAVE', 'COMERCIAL_SERVICIOS']]\n",
        "sub_matriz_servicios = sub_matriz_servicios.assign(CATEGORIA_ID = 7)\n",
        "sub_matriz_servicios.columns = ['LLAVE', 'RATING', 'CATEGORIA_ID']\n",
        "sub_matriz_servicios.head(5)"
      ],
      "metadata": {
        "id": "bIqqkGKwr-be"
      },
      "execution_count": null,
      "outputs": []
    },
    {
      "cell_type": "code",
      "source": [
        "sub_ficheros = [sub_matriz_evento, sub_matriz_calendario, sub_matriz_producto, sub_matriz_canales,\n",
        "                sub_matriz_informativa, sub_matriz_poliza, sub_matriz_servicios]"
      ],
      "metadata": {
        "id": "WL4CoBpusd3D"
      },
      "execution_count": null,
      "outputs": []
    },
    {
      "cell_type": "code",
      "source": [
        "matriz_ratings = pd.concat(sub_ficheros)"
      ],
      "metadata": {
        "id": "Dl_uLa0zs8Pk"
      },
      "execution_count": null,
      "outputs": []
    },
    {
      "cell_type": "code",
      "source": [
        "matriz_ratings = matriz_ratings.dropna(subset = ['RATING'])"
      ],
      "metadata": {
        "id": "zyXGPkfwtIOZ"
      },
      "execution_count": null,
      "outputs": []
    },
    {
      "cell_type": "code",
      "source": [
        "matriz_ratings.head(5)"
      ],
      "metadata": {
        "colab": {
          "base_uri": "https://localhost:8080/",
          "height": 206
        },
        "id": "IKGv1ms-tEJI",
        "outputId": "4cebcb37-a262-4d18-c7fd-72761bebcd3c"
      },
      "execution_count": null,
      "outputs": [
        {
          "output_type": "execute_result",
          "data": {
            "text/html": [
              "\n",
              "  <div id=\"df-6039e5e3-c646-40cf-9bee-84cd838f03fa\">\n",
              "    <div class=\"colab-df-container\">\n",
              "      <div>\n",
              "<style scoped>\n",
              "    .dataframe tbody tr th:only-of-type {\n",
              "        vertical-align: middle;\n",
              "    }\n",
              "\n",
              "    .dataframe tbody tr th {\n",
              "        vertical-align: top;\n",
              "    }\n",
              "\n",
              "    .dataframe thead th {\n",
              "        text-align: right;\n",
              "    }\n",
              "</style>\n",
              "<table border=\"1\" class=\"dataframe\">\n",
              "  <thead>\n",
              "    <tr style=\"text-align: right;\">\n",
              "      <th></th>\n",
              "      <th>LLAVE</th>\n",
              "      <th>RATING</th>\n",
              "      <th>CATEGORIA_ID</th>\n",
              "    </tr>\n",
              "  </thead>\n",
              "  <tbody>\n",
              "    <tr>\n",
              "      <th>0</th>\n",
              "      <td>12345678</td>\n",
              "      <td>0.000000</td>\n",
              "      <td>1</td>\n",
              "    </tr>\n",
              "    <tr>\n",
              "      <th>7</th>\n",
              "      <td>CC1</td>\n",
              "      <td>1.000000</td>\n",
              "      <td>1</td>\n",
              "    </tr>\n",
              "    <tr>\n",
              "      <th>49</th>\n",
              "      <td>CC10000124</td>\n",
              "      <td>0.666667</td>\n",
              "      <td>1</td>\n",
              "    </tr>\n",
              "    <tr>\n",
              "      <th>116</th>\n",
              "      <td>CC10000437</td>\n",
              "      <td>0.666667</td>\n",
              "      <td>1</td>\n",
              "    </tr>\n",
              "    <tr>\n",
              "      <th>117</th>\n",
              "      <td>CC10000440</td>\n",
              "      <td>0.000000</td>\n",
              "      <td>1</td>\n",
              "    </tr>\n",
              "  </tbody>\n",
              "</table>\n",
              "</div>\n",
              "      <button class=\"colab-df-convert\" onclick=\"convertToInteractive('df-6039e5e3-c646-40cf-9bee-84cd838f03fa')\"\n",
              "              title=\"Convert this dataframe to an interactive table.\"\n",
              "              style=\"display:none;\">\n",
              "        \n",
              "  <svg xmlns=\"http://www.w3.org/2000/svg\" height=\"24px\"viewBox=\"0 0 24 24\"\n",
              "       width=\"24px\">\n",
              "    <path d=\"M0 0h24v24H0V0z\" fill=\"none\"/>\n",
              "    <path d=\"M18.56 5.44l.94 2.06.94-2.06 2.06-.94-2.06-.94-.94-2.06-.94 2.06-2.06.94zm-11 1L8.5 8.5l.94-2.06 2.06-.94-2.06-.94L8.5 2.5l-.94 2.06-2.06.94zm10 10l.94 2.06.94-2.06 2.06-.94-2.06-.94-.94-2.06-.94 2.06-2.06.94z\"/><path d=\"M17.41 7.96l-1.37-1.37c-.4-.4-.92-.59-1.43-.59-.52 0-1.04.2-1.43.59L10.3 9.45l-7.72 7.72c-.78.78-.78 2.05 0 2.83L4 21.41c.39.39.9.59 1.41.59.51 0 1.02-.2 1.41-.59l7.78-7.78 2.81-2.81c.8-.78.8-2.07 0-2.86zM5.41 20L4 18.59l7.72-7.72 1.47 1.35L5.41 20z\"/>\n",
              "  </svg>\n",
              "      </button>\n",
              "      \n",
              "  <style>\n",
              "    .colab-df-container {\n",
              "      display:flex;\n",
              "      flex-wrap:wrap;\n",
              "      gap: 12px;\n",
              "    }\n",
              "\n",
              "    .colab-df-convert {\n",
              "      background-color: #E8F0FE;\n",
              "      border: none;\n",
              "      border-radius: 50%;\n",
              "      cursor: pointer;\n",
              "      display: none;\n",
              "      fill: #1967D2;\n",
              "      height: 32px;\n",
              "      padding: 0 0 0 0;\n",
              "      width: 32px;\n",
              "    }\n",
              "\n",
              "    .colab-df-convert:hover {\n",
              "      background-color: #E2EBFA;\n",
              "      box-shadow: 0px 1px 2px rgba(60, 64, 67, 0.3), 0px 1px 3px 1px rgba(60, 64, 67, 0.15);\n",
              "      fill: #174EA6;\n",
              "    }\n",
              "\n",
              "    [theme=dark] .colab-df-convert {\n",
              "      background-color: #3B4455;\n",
              "      fill: #D2E3FC;\n",
              "    }\n",
              "\n",
              "    [theme=dark] .colab-df-convert:hover {\n",
              "      background-color: #434B5C;\n",
              "      box-shadow: 0px 1px 3px 1px rgba(0, 0, 0, 0.15);\n",
              "      filter: drop-shadow(0px 1px 2px rgba(0, 0, 0, 0.3));\n",
              "      fill: #FFFFFF;\n",
              "    }\n",
              "  </style>\n",
              "\n",
              "      <script>\n",
              "        const buttonEl =\n",
              "          document.querySelector('#df-6039e5e3-c646-40cf-9bee-84cd838f03fa button.colab-df-convert');\n",
              "        buttonEl.style.display =\n",
              "          google.colab.kernel.accessAllowed ? 'block' : 'none';\n",
              "\n",
              "        async function convertToInteractive(key) {\n",
              "          const element = document.querySelector('#df-6039e5e3-c646-40cf-9bee-84cd838f03fa');\n",
              "          const dataTable =\n",
              "            await google.colab.kernel.invokeFunction('convertToInteractive',\n",
              "                                                     [key], {});\n",
              "          if (!dataTable) return;\n",
              "\n",
              "          const docLinkHtml = 'Like what you see? Visit the ' +\n",
              "            '<a target=\"_blank\" href=https://colab.research.google.com/notebooks/data_table.ipynb>data table notebook</a>'\n",
              "            + ' to learn more about interactive tables.';\n",
              "          element.innerHTML = '';\n",
              "          dataTable['output_type'] = 'display_data';\n",
              "          await google.colab.output.renderOutput(dataTable, element);\n",
              "          const docLink = document.createElement('div');\n",
              "          docLink.innerHTML = docLinkHtml;\n",
              "          element.appendChild(docLink);\n",
              "        }\n",
              "      </script>\n",
              "    </div>\n",
              "  </div>\n",
              "  "
            ],
            "text/plain": [
              "          LLAVE    RATING  CATEGORIA_ID\n",
              "0      12345678  0.000000             1\n",
              "7           CC1  1.000000             1\n",
              "49   CC10000124  0.666667             1\n",
              "116  CC10000437  0.666667             1\n",
              "117  CC10000440  0.000000             1"
            ]
          },
          "metadata": {},
          "execution_count": 36
        }
      ]
    },
    {
      "cell_type": "code",
      "source": [
        "matriz_ratings.shape"
      ],
      "metadata": {
        "colab": {
          "base_uri": "https://localhost:8080/"
        },
        "id": "QCYh68kRuwT7",
        "outputId": "2f7366b8-2dc2-4b33-e97f-2c506aa530cd"
      },
      "execution_count": null,
      "outputs": [
        {
          "output_type": "execute_result",
          "data": {
            "text/plain": [
              "(1799263, 4)"
            ]
          },
          "metadata": {},
          "execution_count": 34
        }
      ]
    },
    {
      "cell_type": "code",
      "source": [
        "matriz_ratings.to_csv('MATRIZ_RATINGS.csv')"
      ],
      "metadata": {
        "id": "Jq48voBguDHb"
      },
      "execution_count": null,
      "outputs": []
    },
    {
      "cell_type": "code",
      "source": [
        "files.download('MATRIZ_RATINGS.csv')"
      ],
      "metadata": {
        "id": "qOT8jxRDuDHc"
      },
      "execution_count": null,
      "outputs": []
    },
    {
      "cell_type": "code",
      "source": [
        "matriz_ratings.isnull().values.any()"
      ],
      "metadata": {
        "colab": {
          "base_uri": "https://localhost:8080/"
        },
        "id": "tGYLQ8HJrCSw",
        "outputId": "d43ac32b-ce29-4f80-9beb-a8bc153f2efe"
      },
      "execution_count": null,
      "outputs": [
        {
          "output_type": "execute_result",
          "data": {
            "text/plain": [
              "False"
            ]
          },
          "metadata": {},
          "execution_count": 40
        }
      ]
    },
    {
      "cell_type": "markdown",
      "source": [
        "##**Estructuración matriz calificaciones**"
      ],
      "metadata": {
        "id": "MPVp2rhhvQfq"
      }
    },
    {
      "cell_type": "markdown",
      "source": [
        "Finalmente vamos a asignar una calificación a la tasa de apertura de cada categoría, ésto con el objetivo de facilitar los cálculos que se deben hacer en los modelos"
      ],
      "metadata": {
        "id": "AXbsaGdAmmNf"
      }
    },
    {
      "cell_type": "code",
      "source": [
        "def calificacion(x):\n",
        "  y= 10\n",
        "  if x >= 0 and x <= 0.1:\n",
        "    y = 1\n",
        "  elif x > 0.1 and x <= 0.2:\n",
        "    y = 2\n",
        "  elif x > 0.2 and x <= 0.3:\n",
        "    y = 3\n",
        "  elif x > 0.3 and x <= 0.4:\n",
        "    y = 4\n",
        "  elif x > 0.4 and x <= 1:\n",
        "    y = 5\n",
        "  return y"
      ],
      "metadata": {
        "id": "h_MDXwl0nAuB"
      },
      "execution_count": null,
      "outputs": []
    },
    {
      "cell_type": "code",
      "source": [
        "matriz_cal = matriz_ratings.copy()\n",
        "matriz_cal = matriz_cal[['LLAVE', 'RATING', 'CATEGORIA_ID']]"
      ],
      "metadata": {
        "id": "dX27g8zlqGV-"
      },
      "execution_count": null,
      "outputs": []
    },
    {
      "cell_type": "code",
      "source": [
        "matriz_cal.head(5)"
      ],
      "metadata": {
        "colab": {
          "base_uri": "https://localhost:8080/",
          "height": 206
        },
        "id": "MryqEh0tqgJg",
        "outputId": "ff0a20ef-95ac-44ae-8b8e-a2865cc418b2"
      },
      "execution_count": null,
      "outputs": [
        {
          "output_type": "execute_result",
          "data": {
            "text/html": [
              "\n",
              "  <div id=\"df-437eb727-57e1-42b0-a78b-6fb014f956b5\">\n",
              "    <div class=\"colab-df-container\">\n",
              "      <div>\n",
              "<style scoped>\n",
              "    .dataframe tbody tr th:only-of-type {\n",
              "        vertical-align: middle;\n",
              "    }\n",
              "\n",
              "    .dataframe tbody tr th {\n",
              "        vertical-align: top;\n",
              "    }\n",
              "\n",
              "    .dataframe thead th {\n",
              "        text-align: right;\n",
              "    }\n",
              "</style>\n",
              "<table border=\"1\" class=\"dataframe\">\n",
              "  <thead>\n",
              "    <tr style=\"text-align: right;\">\n",
              "      <th></th>\n",
              "      <th>LLAVE</th>\n",
              "      <th>RATING</th>\n",
              "      <th>CATEGORIA_ID</th>\n",
              "    </tr>\n",
              "  </thead>\n",
              "  <tbody>\n",
              "    <tr>\n",
              "      <th>0</th>\n",
              "      <td>12345678</td>\n",
              "      <td>0.000000</td>\n",
              "      <td>1</td>\n",
              "    </tr>\n",
              "    <tr>\n",
              "      <th>1</th>\n",
              "      <td>CC1</td>\n",
              "      <td>1.000000</td>\n",
              "      <td>1</td>\n",
              "    </tr>\n",
              "    <tr>\n",
              "      <th>2</th>\n",
              "      <td>CC10000124</td>\n",
              "      <td>0.666667</td>\n",
              "      <td>1</td>\n",
              "    </tr>\n",
              "    <tr>\n",
              "      <th>3</th>\n",
              "      <td>CC10000437</td>\n",
              "      <td>0.666667</td>\n",
              "      <td>1</td>\n",
              "    </tr>\n",
              "    <tr>\n",
              "      <th>4</th>\n",
              "      <td>CC10000440</td>\n",
              "      <td>0.000000</td>\n",
              "      <td>1</td>\n",
              "    </tr>\n",
              "  </tbody>\n",
              "</table>\n",
              "</div>\n",
              "      <button class=\"colab-df-convert\" onclick=\"convertToInteractive('df-437eb727-57e1-42b0-a78b-6fb014f956b5')\"\n",
              "              title=\"Convert this dataframe to an interactive table.\"\n",
              "              style=\"display:none;\">\n",
              "        \n",
              "  <svg xmlns=\"http://www.w3.org/2000/svg\" height=\"24px\"viewBox=\"0 0 24 24\"\n",
              "       width=\"24px\">\n",
              "    <path d=\"M0 0h24v24H0V0z\" fill=\"none\"/>\n",
              "    <path d=\"M18.56 5.44l.94 2.06.94-2.06 2.06-.94-2.06-.94-.94-2.06-.94 2.06-2.06.94zm-11 1L8.5 8.5l.94-2.06 2.06-.94-2.06-.94L8.5 2.5l-.94 2.06-2.06.94zm10 10l.94 2.06.94-2.06 2.06-.94-2.06-.94-.94-2.06-.94 2.06-2.06.94z\"/><path d=\"M17.41 7.96l-1.37-1.37c-.4-.4-.92-.59-1.43-.59-.52 0-1.04.2-1.43.59L10.3 9.45l-7.72 7.72c-.78.78-.78 2.05 0 2.83L4 21.41c.39.39.9.59 1.41.59.51 0 1.02-.2 1.41-.59l7.78-7.78 2.81-2.81c.8-.78.8-2.07 0-2.86zM5.41 20L4 18.59l7.72-7.72 1.47 1.35L5.41 20z\"/>\n",
              "  </svg>\n",
              "      </button>\n",
              "      \n",
              "  <style>\n",
              "    .colab-df-container {\n",
              "      display:flex;\n",
              "      flex-wrap:wrap;\n",
              "      gap: 12px;\n",
              "    }\n",
              "\n",
              "    .colab-df-convert {\n",
              "      background-color: #E8F0FE;\n",
              "      border: none;\n",
              "      border-radius: 50%;\n",
              "      cursor: pointer;\n",
              "      display: none;\n",
              "      fill: #1967D2;\n",
              "      height: 32px;\n",
              "      padding: 0 0 0 0;\n",
              "      width: 32px;\n",
              "    }\n",
              "\n",
              "    .colab-df-convert:hover {\n",
              "      background-color: #E2EBFA;\n",
              "      box-shadow: 0px 1px 2px rgba(60, 64, 67, 0.3), 0px 1px 3px 1px rgba(60, 64, 67, 0.15);\n",
              "      fill: #174EA6;\n",
              "    }\n",
              "\n",
              "    [theme=dark] .colab-df-convert {\n",
              "      background-color: #3B4455;\n",
              "      fill: #D2E3FC;\n",
              "    }\n",
              "\n",
              "    [theme=dark] .colab-df-convert:hover {\n",
              "      background-color: #434B5C;\n",
              "      box-shadow: 0px 1px 3px 1px rgba(0, 0, 0, 0.15);\n",
              "      filter: drop-shadow(0px 1px 2px rgba(0, 0, 0, 0.3));\n",
              "      fill: #FFFFFF;\n",
              "    }\n",
              "  </style>\n",
              "\n",
              "      <script>\n",
              "        const buttonEl =\n",
              "          document.querySelector('#df-437eb727-57e1-42b0-a78b-6fb014f956b5 button.colab-df-convert');\n",
              "        buttonEl.style.display =\n",
              "          google.colab.kernel.accessAllowed ? 'block' : 'none';\n",
              "\n",
              "        async function convertToInteractive(key) {\n",
              "          const element = document.querySelector('#df-437eb727-57e1-42b0-a78b-6fb014f956b5');\n",
              "          const dataTable =\n",
              "            await google.colab.kernel.invokeFunction('convertToInteractive',\n",
              "                                                     [key], {});\n",
              "          if (!dataTable) return;\n",
              "\n",
              "          const docLinkHtml = 'Like what you see? Visit the ' +\n",
              "            '<a target=\"_blank\" href=https://colab.research.google.com/notebooks/data_table.ipynb>data table notebook</a>'\n",
              "            + ' to learn more about interactive tables.';\n",
              "          element.innerHTML = '';\n",
              "          dataTable['output_type'] = 'display_data';\n",
              "          await google.colab.output.renderOutput(dataTable, element);\n",
              "          const docLink = document.createElement('div');\n",
              "          docLink.innerHTML = docLinkHtml;\n",
              "          element.appendChild(docLink);\n",
              "        }\n",
              "      </script>\n",
              "    </div>\n",
              "  </div>\n",
              "  "
            ],
            "text/plain": [
              "        LLAVE    RATING  CATEGORIA_ID\n",
              "0    12345678  0.000000             1\n",
              "1         CC1  1.000000             1\n",
              "2  CC10000124  0.666667             1\n",
              "3  CC10000437  0.666667             1\n",
              "4  CC10000440  0.000000             1"
            ]
          },
          "metadata": {},
          "execution_count": 22
        }
      ]
    },
    {
      "cell_type": "code",
      "source": [
        "matriz_cal['CALIFICACION'] = matriz_cal['RATING'].apply(calificacion)"
      ],
      "metadata": {
        "id": "TQX6FPl2r7Sx"
      },
      "execution_count": null,
      "outputs": []
    },
    {
      "cell_type": "code",
      "source": [
        "matriz_cal.head(5)"
      ],
      "metadata": {
        "colab": {
          "base_uri": "https://localhost:8080/",
          "height": 206
        },
        "id": "8IEaDGN5sxA2",
        "outputId": "0877d5a0-ab03-4e68-ff49-19b6b6e3f755"
      },
      "execution_count": null,
      "outputs": [
        {
          "output_type": "execute_result",
          "data": {
            "text/html": [
              "\n",
              "  <div id=\"df-ef4b7eb0-1373-4135-a331-1f980084eb25\">\n",
              "    <div class=\"colab-df-container\">\n",
              "      <div>\n",
              "<style scoped>\n",
              "    .dataframe tbody tr th:only-of-type {\n",
              "        vertical-align: middle;\n",
              "    }\n",
              "\n",
              "    .dataframe tbody tr th {\n",
              "        vertical-align: top;\n",
              "    }\n",
              "\n",
              "    .dataframe thead th {\n",
              "        text-align: right;\n",
              "    }\n",
              "</style>\n",
              "<table border=\"1\" class=\"dataframe\">\n",
              "  <thead>\n",
              "    <tr style=\"text-align: right;\">\n",
              "      <th></th>\n",
              "      <th>LLAVE</th>\n",
              "      <th>RATING</th>\n",
              "      <th>CATEGORIA_ID</th>\n",
              "      <th>CALIFICACION</th>\n",
              "    </tr>\n",
              "  </thead>\n",
              "  <tbody>\n",
              "    <tr>\n",
              "      <th>0</th>\n",
              "      <td>12345678</td>\n",
              "      <td>0.000000</td>\n",
              "      <td>1</td>\n",
              "      <td>1</td>\n",
              "    </tr>\n",
              "    <tr>\n",
              "      <th>1</th>\n",
              "      <td>CC1</td>\n",
              "      <td>1.000000</td>\n",
              "      <td>1</td>\n",
              "      <td>5</td>\n",
              "    </tr>\n",
              "    <tr>\n",
              "      <th>2</th>\n",
              "      <td>CC10000124</td>\n",
              "      <td>0.666667</td>\n",
              "      <td>1</td>\n",
              "      <td>5</td>\n",
              "    </tr>\n",
              "    <tr>\n",
              "      <th>3</th>\n",
              "      <td>CC10000437</td>\n",
              "      <td>0.666667</td>\n",
              "      <td>1</td>\n",
              "      <td>5</td>\n",
              "    </tr>\n",
              "    <tr>\n",
              "      <th>4</th>\n",
              "      <td>CC10000440</td>\n",
              "      <td>0.000000</td>\n",
              "      <td>1</td>\n",
              "      <td>1</td>\n",
              "    </tr>\n",
              "  </tbody>\n",
              "</table>\n",
              "</div>\n",
              "      <button class=\"colab-df-convert\" onclick=\"convertToInteractive('df-ef4b7eb0-1373-4135-a331-1f980084eb25')\"\n",
              "              title=\"Convert this dataframe to an interactive table.\"\n",
              "              style=\"display:none;\">\n",
              "        \n",
              "  <svg xmlns=\"http://www.w3.org/2000/svg\" height=\"24px\"viewBox=\"0 0 24 24\"\n",
              "       width=\"24px\">\n",
              "    <path d=\"M0 0h24v24H0V0z\" fill=\"none\"/>\n",
              "    <path d=\"M18.56 5.44l.94 2.06.94-2.06 2.06-.94-2.06-.94-.94-2.06-.94 2.06-2.06.94zm-11 1L8.5 8.5l.94-2.06 2.06-.94-2.06-.94L8.5 2.5l-.94 2.06-2.06.94zm10 10l.94 2.06.94-2.06 2.06-.94-2.06-.94-.94-2.06-.94 2.06-2.06.94z\"/><path d=\"M17.41 7.96l-1.37-1.37c-.4-.4-.92-.59-1.43-.59-.52 0-1.04.2-1.43.59L10.3 9.45l-7.72 7.72c-.78.78-.78 2.05 0 2.83L4 21.41c.39.39.9.59 1.41.59.51 0 1.02-.2 1.41-.59l7.78-7.78 2.81-2.81c.8-.78.8-2.07 0-2.86zM5.41 20L4 18.59l7.72-7.72 1.47 1.35L5.41 20z\"/>\n",
              "  </svg>\n",
              "      </button>\n",
              "      \n",
              "  <style>\n",
              "    .colab-df-container {\n",
              "      display:flex;\n",
              "      flex-wrap:wrap;\n",
              "      gap: 12px;\n",
              "    }\n",
              "\n",
              "    .colab-df-convert {\n",
              "      background-color: #E8F0FE;\n",
              "      border: none;\n",
              "      border-radius: 50%;\n",
              "      cursor: pointer;\n",
              "      display: none;\n",
              "      fill: #1967D2;\n",
              "      height: 32px;\n",
              "      padding: 0 0 0 0;\n",
              "      width: 32px;\n",
              "    }\n",
              "\n",
              "    .colab-df-convert:hover {\n",
              "      background-color: #E2EBFA;\n",
              "      box-shadow: 0px 1px 2px rgba(60, 64, 67, 0.3), 0px 1px 3px 1px rgba(60, 64, 67, 0.15);\n",
              "      fill: #174EA6;\n",
              "    }\n",
              "\n",
              "    [theme=dark] .colab-df-convert {\n",
              "      background-color: #3B4455;\n",
              "      fill: #D2E3FC;\n",
              "    }\n",
              "\n",
              "    [theme=dark] .colab-df-convert:hover {\n",
              "      background-color: #434B5C;\n",
              "      box-shadow: 0px 1px 3px 1px rgba(0, 0, 0, 0.15);\n",
              "      filter: drop-shadow(0px 1px 2px rgba(0, 0, 0, 0.3));\n",
              "      fill: #FFFFFF;\n",
              "    }\n",
              "  </style>\n",
              "\n",
              "      <script>\n",
              "        const buttonEl =\n",
              "          document.querySelector('#df-ef4b7eb0-1373-4135-a331-1f980084eb25 button.colab-df-convert');\n",
              "        buttonEl.style.display =\n",
              "          google.colab.kernel.accessAllowed ? 'block' : 'none';\n",
              "\n",
              "        async function convertToInteractive(key) {\n",
              "          const element = document.querySelector('#df-ef4b7eb0-1373-4135-a331-1f980084eb25');\n",
              "          const dataTable =\n",
              "            await google.colab.kernel.invokeFunction('convertToInteractive',\n",
              "                                                     [key], {});\n",
              "          if (!dataTable) return;\n",
              "\n",
              "          const docLinkHtml = 'Like what you see? Visit the ' +\n",
              "            '<a target=\"_blank\" href=https://colab.research.google.com/notebooks/data_table.ipynb>data table notebook</a>'\n",
              "            + ' to learn more about interactive tables.';\n",
              "          element.innerHTML = '';\n",
              "          dataTable['output_type'] = 'display_data';\n",
              "          await google.colab.output.renderOutput(dataTable, element);\n",
              "          const docLink = document.createElement('div');\n",
              "          docLink.innerHTML = docLinkHtml;\n",
              "          element.appendChild(docLink);\n",
              "        }\n",
              "      </script>\n",
              "    </div>\n",
              "  </div>\n",
              "  "
            ],
            "text/plain": [
              "        LLAVE    RATING  CATEGORIA_ID  CALIFICACION\n",
              "0    12345678  0.000000             1             1\n",
              "1         CC1  1.000000             1             5\n",
              "2  CC10000124  0.666667             1             5\n",
              "3  CC10000437  0.666667             1             5\n",
              "4  CC10000440  0.000000             1             1"
            ]
          },
          "metadata": {},
          "execution_count": 24
        }
      ]
    },
    {
      "cell_type": "code",
      "source": [
        "matriz_cal = matriz_cal.drop('RATING', axis = 1)"
      ],
      "metadata": {
        "id": "h53OH3BIatL-"
      },
      "execution_count": null,
      "outputs": []
    },
    {
      "cell_type": "code",
      "source": [
        "conteo_calificaciones = matriz_cal.groupby(['CALIFICACION']).count()\n",
        "conteo_calificaciones"
      ],
      "metadata": {
        "colab": {
          "base_uri": "https://localhost:8080/",
          "height": 237
        },
        "id": "r0GbSEvrtH7t",
        "outputId": "b42a430b-3ebb-4303-b7c3-e7bdfa7886a5"
      },
      "execution_count": null,
      "outputs": [
        {
          "output_type": "execute_result",
          "data": {
            "text/html": [
              "\n",
              "  <div id=\"df-f07e60be-92c9-4373-8ec7-31be60837b4c\">\n",
              "    <div class=\"colab-df-container\">\n",
              "      <div>\n",
              "<style scoped>\n",
              "    .dataframe tbody tr th:only-of-type {\n",
              "        vertical-align: middle;\n",
              "    }\n",
              "\n",
              "    .dataframe tbody tr th {\n",
              "        vertical-align: top;\n",
              "    }\n",
              "\n",
              "    .dataframe thead th {\n",
              "        text-align: right;\n",
              "    }\n",
              "</style>\n",
              "<table border=\"1\" class=\"dataframe\">\n",
              "  <thead>\n",
              "    <tr style=\"text-align: right;\">\n",
              "      <th></th>\n",
              "      <th>LLAVE</th>\n",
              "      <th>CATEGORIA_ID</th>\n",
              "    </tr>\n",
              "    <tr>\n",
              "      <th>CALIFICACION</th>\n",
              "      <th></th>\n",
              "      <th></th>\n",
              "    </tr>\n",
              "  </thead>\n",
              "  <tbody>\n",
              "    <tr>\n",
              "      <th>1</th>\n",
              "      <td>688375</td>\n",
              "      <td>688375</td>\n",
              "    </tr>\n",
              "    <tr>\n",
              "      <th>2</th>\n",
              "      <td>124850</td>\n",
              "      <td>124850</td>\n",
              "    </tr>\n",
              "    <tr>\n",
              "      <th>3</th>\n",
              "      <td>91915</td>\n",
              "      <td>91915</td>\n",
              "    </tr>\n",
              "    <tr>\n",
              "      <th>4</th>\n",
              "      <td>129623</td>\n",
              "      <td>129623</td>\n",
              "    </tr>\n",
              "    <tr>\n",
              "      <th>5</th>\n",
              "      <td>764500</td>\n",
              "      <td>764500</td>\n",
              "    </tr>\n",
              "  </tbody>\n",
              "</table>\n",
              "</div>\n",
              "      <button class=\"colab-df-convert\" onclick=\"convertToInteractive('df-f07e60be-92c9-4373-8ec7-31be60837b4c')\"\n",
              "              title=\"Convert this dataframe to an interactive table.\"\n",
              "              style=\"display:none;\">\n",
              "        \n",
              "  <svg xmlns=\"http://www.w3.org/2000/svg\" height=\"24px\"viewBox=\"0 0 24 24\"\n",
              "       width=\"24px\">\n",
              "    <path d=\"M0 0h24v24H0V0z\" fill=\"none\"/>\n",
              "    <path d=\"M18.56 5.44l.94 2.06.94-2.06 2.06-.94-2.06-.94-.94-2.06-.94 2.06-2.06.94zm-11 1L8.5 8.5l.94-2.06 2.06-.94-2.06-.94L8.5 2.5l-.94 2.06-2.06.94zm10 10l.94 2.06.94-2.06 2.06-.94-2.06-.94-.94-2.06-.94 2.06-2.06.94z\"/><path d=\"M17.41 7.96l-1.37-1.37c-.4-.4-.92-.59-1.43-.59-.52 0-1.04.2-1.43.59L10.3 9.45l-7.72 7.72c-.78.78-.78 2.05 0 2.83L4 21.41c.39.39.9.59 1.41.59.51 0 1.02-.2 1.41-.59l7.78-7.78 2.81-2.81c.8-.78.8-2.07 0-2.86zM5.41 20L4 18.59l7.72-7.72 1.47 1.35L5.41 20z\"/>\n",
              "  </svg>\n",
              "      </button>\n",
              "      \n",
              "  <style>\n",
              "    .colab-df-container {\n",
              "      display:flex;\n",
              "      flex-wrap:wrap;\n",
              "      gap: 12px;\n",
              "    }\n",
              "\n",
              "    .colab-df-convert {\n",
              "      background-color: #E8F0FE;\n",
              "      border: none;\n",
              "      border-radius: 50%;\n",
              "      cursor: pointer;\n",
              "      display: none;\n",
              "      fill: #1967D2;\n",
              "      height: 32px;\n",
              "      padding: 0 0 0 0;\n",
              "      width: 32px;\n",
              "    }\n",
              "\n",
              "    .colab-df-convert:hover {\n",
              "      background-color: #E2EBFA;\n",
              "      box-shadow: 0px 1px 2px rgba(60, 64, 67, 0.3), 0px 1px 3px 1px rgba(60, 64, 67, 0.15);\n",
              "      fill: #174EA6;\n",
              "    }\n",
              "\n",
              "    [theme=dark] .colab-df-convert {\n",
              "      background-color: #3B4455;\n",
              "      fill: #D2E3FC;\n",
              "    }\n",
              "\n",
              "    [theme=dark] .colab-df-convert:hover {\n",
              "      background-color: #434B5C;\n",
              "      box-shadow: 0px 1px 3px 1px rgba(0, 0, 0, 0.15);\n",
              "      filter: drop-shadow(0px 1px 2px rgba(0, 0, 0, 0.3));\n",
              "      fill: #FFFFFF;\n",
              "    }\n",
              "  </style>\n",
              "\n",
              "      <script>\n",
              "        const buttonEl =\n",
              "          document.querySelector('#df-f07e60be-92c9-4373-8ec7-31be60837b4c button.colab-df-convert');\n",
              "        buttonEl.style.display =\n",
              "          google.colab.kernel.accessAllowed ? 'block' : 'none';\n",
              "\n",
              "        async function convertToInteractive(key) {\n",
              "          const element = document.querySelector('#df-f07e60be-92c9-4373-8ec7-31be60837b4c');\n",
              "          const dataTable =\n",
              "            await google.colab.kernel.invokeFunction('convertToInteractive',\n",
              "                                                     [key], {});\n",
              "          if (!dataTable) return;\n",
              "\n",
              "          const docLinkHtml = 'Like what you see? Visit the ' +\n",
              "            '<a target=\"_blank\" href=https://colab.research.google.com/notebooks/data_table.ipynb>data table notebook</a>'\n",
              "            + ' to learn more about interactive tables.';\n",
              "          element.innerHTML = '';\n",
              "          dataTable['output_type'] = 'display_data';\n",
              "          await google.colab.output.renderOutput(dataTable, element);\n",
              "          const docLink = document.createElement('div');\n",
              "          docLink.innerHTML = docLinkHtml;\n",
              "          element.appendChild(docLink);\n",
              "        }\n",
              "      </script>\n",
              "    </div>\n",
              "  </div>\n",
              "  "
            ],
            "text/plain": [
              "               LLAVE  CATEGORIA_ID\n",
              "CALIFICACION                      \n",
              "1             688375        688375\n",
              "2             124850        124850\n",
              "3              91915         91915\n",
              "4             129623        129623\n",
              "5             764500        764500"
            ]
          },
          "metadata": {},
          "execution_count": 29
        }
      ]
    },
    {
      "cell_type": "code",
      "source": [
        "matriz_cal.isnull().values.any()"
      ],
      "metadata": {
        "colab": {
          "base_uri": "https://localhost:8080/"
        },
        "id": "Nxzk3FReteAa",
        "outputId": "14b97e0a-25a7-4f44-a00d-7daf44b21779"
      },
      "execution_count": null,
      "outputs": [
        {
          "output_type": "execute_result",
          "data": {
            "text/plain": [
              "False"
            ]
          },
          "metadata": {},
          "execution_count": 30
        }
      ]
    },
    {
      "cell_type": "code",
      "source": [
        "matriz_cal.head(5)"
      ],
      "metadata": {
        "colab": {
          "base_uri": "https://localhost:8080/",
          "height": 206
        },
        "id": "DKnE0UWPugIo",
        "outputId": "e939e2ba-eb9c-40a7-ada2-fe467f884551"
      },
      "execution_count": null,
      "outputs": [
        {
          "output_type": "execute_result",
          "data": {
            "text/html": [
              "\n",
              "  <div id=\"df-b025b689-515d-466b-924a-2dea08b3964e\">\n",
              "    <div class=\"colab-df-container\">\n",
              "      <div>\n",
              "<style scoped>\n",
              "    .dataframe tbody tr th:only-of-type {\n",
              "        vertical-align: middle;\n",
              "    }\n",
              "\n",
              "    .dataframe tbody tr th {\n",
              "        vertical-align: top;\n",
              "    }\n",
              "\n",
              "    .dataframe thead th {\n",
              "        text-align: right;\n",
              "    }\n",
              "</style>\n",
              "<table border=\"1\" class=\"dataframe\">\n",
              "  <thead>\n",
              "    <tr style=\"text-align: right;\">\n",
              "      <th></th>\n",
              "      <th>LLAVE</th>\n",
              "      <th>CATEGORIA_ID</th>\n",
              "      <th>CALIFICACION</th>\n",
              "    </tr>\n",
              "  </thead>\n",
              "  <tbody>\n",
              "    <tr>\n",
              "      <th>0</th>\n",
              "      <td>12345678</td>\n",
              "      <td>1</td>\n",
              "      <td>1</td>\n",
              "    </tr>\n",
              "    <tr>\n",
              "      <th>1</th>\n",
              "      <td>CC1</td>\n",
              "      <td>1</td>\n",
              "      <td>5</td>\n",
              "    </tr>\n",
              "    <tr>\n",
              "      <th>2</th>\n",
              "      <td>CC10000124</td>\n",
              "      <td>1</td>\n",
              "      <td>5</td>\n",
              "    </tr>\n",
              "    <tr>\n",
              "      <th>3</th>\n",
              "      <td>CC10000437</td>\n",
              "      <td>1</td>\n",
              "      <td>5</td>\n",
              "    </tr>\n",
              "    <tr>\n",
              "      <th>4</th>\n",
              "      <td>CC10000440</td>\n",
              "      <td>1</td>\n",
              "      <td>1</td>\n",
              "    </tr>\n",
              "  </tbody>\n",
              "</table>\n",
              "</div>\n",
              "      <button class=\"colab-df-convert\" onclick=\"convertToInteractive('df-b025b689-515d-466b-924a-2dea08b3964e')\"\n",
              "              title=\"Convert this dataframe to an interactive table.\"\n",
              "              style=\"display:none;\">\n",
              "        \n",
              "  <svg xmlns=\"http://www.w3.org/2000/svg\" height=\"24px\"viewBox=\"0 0 24 24\"\n",
              "       width=\"24px\">\n",
              "    <path d=\"M0 0h24v24H0V0z\" fill=\"none\"/>\n",
              "    <path d=\"M18.56 5.44l.94 2.06.94-2.06 2.06-.94-2.06-.94-.94-2.06-.94 2.06-2.06.94zm-11 1L8.5 8.5l.94-2.06 2.06-.94-2.06-.94L8.5 2.5l-.94 2.06-2.06.94zm10 10l.94 2.06.94-2.06 2.06-.94-2.06-.94-.94-2.06-.94 2.06-2.06.94z\"/><path d=\"M17.41 7.96l-1.37-1.37c-.4-.4-.92-.59-1.43-.59-.52 0-1.04.2-1.43.59L10.3 9.45l-7.72 7.72c-.78.78-.78 2.05 0 2.83L4 21.41c.39.39.9.59 1.41.59.51 0 1.02-.2 1.41-.59l7.78-7.78 2.81-2.81c.8-.78.8-2.07 0-2.86zM5.41 20L4 18.59l7.72-7.72 1.47 1.35L5.41 20z\"/>\n",
              "  </svg>\n",
              "      </button>\n",
              "      \n",
              "  <style>\n",
              "    .colab-df-container {\n",
              "      display:flex;\n",
              "      flex-wrap:wrap;\n",
              "      gap: 12px;\n",
              "    }\n",
              "\n",
              "    .colab-df-convert {\n",
              "      background-color: #E8F0FE;\n",
              "      border: none;\n",
              "      border-radius: 50%;\n",
              "      cursor: pointer;\n",
              "      display: none;\n",
              "      fill: #1967D2;\n",
              "      height: 32px;\n",
              "      padding: 0 0 0 0;\n",
              "      width: 32px;\n",
              "    }\n",
              "\n",
              "    .colab-df-convert:hover {\n",
              "      background-color: #E2EBFA;\n",
              "      box-shadow: 0px 1px 2px rgba(60, 64, 67, 0.3), 0px 1px 3px 1px rgba(60, 64, 67, 0.15);\n",
              "      fill: #174EA6;\n",
              "    }\n",
              "\n",
              "    [theme=dark] .colab-df-convert {\n",
              "      background-color: #3B4455;\n",
              "      fill: #D2E3FC;\n",
              "    }\n",
              "\n",
              "    [theme=dark] .colab-df-convert:hover {\n",
              "      background-color: #434B5C;\n",
              "      box-shadow: 0px 1px 3px 1px rgba(0, 0, 0, 0.15);\n",
              "      filter: drop-shadow(0px 1px 2px rgba(0, 0, 0, 0.3));\n",
              "      fill: #FFFFFF;\n",
              "    }\n",
              "  </style>\n",
              "\n",
              "      <script>\n",
              "        const buttonEl =\n",
              "          document.querySelector('#df-b025b689-515d-466b-924a-2dea08b3964e button.colab-df-convert');\n",
              "        buttonEl.style.display =\n",
              "          google.colab.kernel.accessAllowed ? 'block' : 'none';\n",
              "\n",
              "        async function convertToInteractive(key) {\n",
              "          const element = document.querySelector('#df-b025b689-515d-466b-924a-2dea08b3964e');\n",
              "          const dataTable =\n",
              "            await google.colab.kernel.invokeFunction('convertToInteractive',\n",
              "                                                     [key], {});\n",
              "          if (!dataTable) return;\n",
              "\n",
              "          const docLinkHtml = 'Like what you see? Visit the ' +\n",
              "            '<a target=\"_blank\" href=https://colab.research.google.com/notebooks/data_table.ipynb>data table notebook</a>'\n",
              "            + ' to learn more about interactive tables.';\n",
              "          element.innerHTML = '';\n",
              "          dataTable['output_type'] = 'display_data';\n",
              "          await google.colab.output.renderOutput(dataTable, element);\n",
              "          const docLink = document.createElement('div');\n",
              "          docLink.innerHTML = docLinkHtml;\n",
              "          element.appendChild(docLink);\n",
              "        }\n",
              "      </script>\n",
              "    </div>\n",
              "  </div>\n",
              "  "
            ],
            "text/plain": [
              "        LLAVE  CATEGORIA_ID  CALIFICACION\n",
              "0    12345678             1             1\n",
              "1         CC1             1             5\n",
              "2  CC10000124             1             5\n",
              "3  CC10000437             1             5\n",
              "4  CC10000440             1             1"
            ]
          },
          "metadata": {},
          "execution_count": 31
        }
      ]
    },
    {
      "cell_type": "code",
      "source": [
        "matriz_cal.shape"
      ],
      "metadata": {
        "colab": {
          "base_uri": "https://localhost:8080/"
        },
        "id": "DVaPVY-jum-D",
        "outputId": "1a8de219-d72d-449b-a605-13f9f06ccfa1"
      },
      "execution_count": null,
      "outputs": [
        {
          "output_type": "execute_result",
          "data": {
            "text/plain": [
              "(1799263, 3)"
            ]
          },
          "metadata": {},
          "execution_count": 33
        }
      ]
    },
    {
      "cell_type": "code",
      "source": [
        "matriz_cal.to_csv('MATRIZ_CAL.csv')"
      ],
      "metadata": {
        "id": "s7FJzELwv6pp"
      },
      "execution_count": null,
      "outputs": []
    },
    {
      "cell_type": "code",
      "source": [
        "files.download('MATRIZ_CAL.csv')"
      ],
      "metadata": {
        "id": "ApBIVAmAwFC_"
      },
      "execution_count": null,
      "outputs": []
    },
    {
      "cell_type": "markdown",
      "source": [
        "##**Definición matriz modelo y conjuntos train y test**"
      ],
      "metadata": {
        "id": "yVIhXXHkvYj9"
      }
    },
    {
      "cell_type": "markdown",
      "source": [
        "Dado que tenemos más de 1.7 millones de registros y cerca de 550 mil clientes, es necesario reducir la base de tal manera que 12 GB de RAM puedan procesar los ficheros que trabajaremos de ahora en adelante"
      ],
      "metadata": {
        "id": "JhwwL5WQxCks"
      }
    },
    {
      "cell_type": "code",
      "source": [
        "conteo_clientes = matriz_cal.groupby('LLAVE').count()\n",
        "conteo_clientes = conteo_clientes.sort_values(by = 'CATEGORIA_ID', axis = 0, ascending = False)\n",
        "conteo_clientes\n"
      ],
      "metadata": {
        "id": "Tm6AuYojG8Mz",
        "colab": {
          "base_uri": "https://localhost:8080/",
          "height": 455
        },
        "outputId": "3f00d9b3-b9bf-45df-efd4-44fd4ffd47e4"
      },
      "execution_count": null,
      "outputs": [
        {
          "output_type": "execute_result",
          "data": {
            "text/html": [
              "\n",
              "  <div id=\"df-9f5a05fe-2bb1-4fe1-8469-78d3d4e39bed\">\n",
              "    <div class=\"colab-df-container\">\n",
              "      <div>\n",
              "<style scoped>\n",
              "    .dataframe tbody tr th:only-of-type {\n",
              "        vertical-align: middle;\n",
              "    }\n",
              "\n",
              "    .dataframe tbody tr th {\n",
              "        vertical-align: top;\n",
              "    }\n",
              "\n",
              "    .dataframe thead th {\n",
              "        text-align: right;\n",
              "    }\n",
              "</style>\n",
              "<table border=\"1\" class=\"dataframe\">\n",
              "  <thead>\n",
              "    <tr style=\"text-align: right;\">\n",
              "      <th></th>\n",
              "      <th>CATEGORIA_ID</th>\n",
              "      <th>CALIFICACION</th>\n",
              "    </tr>\n",
              "    <tr>\n",
              "      <th>LLAVE</th>\n",
              "      <th></th>\n",
              "      <th></th>\n",
              "    </tr>\n",
              "  </thead>\n",
              "  <tbody>\n",
              "    <tr>\n",
              "      <th>CC24332174</th>\n",
              "      <td>7</td>\n",
              "      <td>7</td>\n",
              "    </tr>\n",
              "    <tr>\n",
              "      <th>CC16932907</th>\n",
              "      <td>7</td>\n",
              "      <td>7</td>\n",
              "    </tr>\n",
              "    <tr>\n",
              "      <th>CC76309807</th>\n",
              "      <td>7</td>\n",
              "      <td>7</td>\n",
              "    </tr>\n",
              "    <tr>\n",
              "      <th>CC35467916</th>\n",
              "      <td>7</td>\n",
              "      <td>7</td>\n",
              "    </tr>\n",
              "    <tr>\n",
              "      <th>CC16932947</th>\n",
              "      <td>7</td>\n",
              "      <td>7</td>\n",
              "    </tr>\n",
              "    <tr>\n",
              "      <th>...</th>\n",
              "      <td>...</td>\n",
              "      <td>...</td>\n",
              "    </tr>\n",
              "    <tr>\n",
              "      <th>CC17418687</th>\n",
              "      <td>1</td>\n",
              "      <td>1</td>\n",
              "    </tr>\n",
              "    <tr>\n",
              "      <th>CC17418978</th>\n",
              "      <td>1</td>\n",
              "      <td>1</td>\n",
              "    </tr>\n",
              "    <tr>\n",
              "      <th>CC17419109</th>\n",
              "      <td>1</td>\n",
              "      <td>1</td>\n",
              "    </tr>\n",
              "    <tr>\n",
              "      <th>CC17419703</th>\n",
              "      <td>1</td>\n",
              "      <td>1</td>\n",
              "    </tr>\n",
              "    <tr>\n",
              "      <th>CC16609497</th>\n",
              "      <td>1</td>\n",
              "      <td>1</td>\n",
              "    </tr>\n",
              "  </tbody>\n",
              "</table>\n",
              "<p>547298 rows × 2 columns</p>\n",
              "</div>\n",
              "      <button class=\"colab-df-convert\" onclick=\"convertToInteractive('df-9f5a05fe-2bb1-4fe1-8469-78d3d4e39bed')\"\n",
              "              title=\"Convert this dataframe to an interactive table.\"\n",
              "              style=\"display:none;\">\n",
              "        \n",
              "  <svg xmlns=\"http://www.w3.org/2000/svg\" height=\"24px\"viewBox=\"0 0 24 24\"\n",
              "       width=\"24px\">\n",
              "    <path d=\"M0 0h24v24H0V0z\" fill=\"none\"/>\n",
              "    <path d=\"M18.56 5.44l.94 2.06.94-2.06 2.06-.94-2.06-.94-.94-2.06-.94 2.06-2.06.94zm-11 1L8.5 8.5l.94-2.06 2.06-.94-2.06-.94L8.5 2.5l-.94 2.06-2.06.94zm10 10l.94 2.06.94-2.06 2.06-.94-2.06-.94-.94-2.06-.94 2.06-2.06.94z\"/><path d=\"M17.41 7.96l-1.37-1.37c-.4-.4-.92-.59-1.43-.59-.52 0-1.04.2-1.43.59L10.3 9.45l-7.72 7.72c-.78.78-.78 2.05 0 2.83L4 21.41c.39.39.9.59 1.41.59.51 0 1.02-.2 1.41-.59l7.78-7.78 2.81-2.81c.8-.78.8-2.07 0-2.86zM5.41 20L4 18.59l7.72-7.72 1.47 1.35L5.41 20z\"/>\n",
              "  </svg>\n",
              "      </button>\n",
              "      \n",
              "  <style>\n",
              "    .colab-df-container {\n",
              "      display:flex;\n",
              "      flex-wrap:wrap;\n",
              "      gap: 12px;\n",
              "    }\n",
              "\n",
              "    .colab-df-convert {\n",
              "      background-color: #E8F0FE;\n",
              "      border: none;\n",
              "      border-radius: 50%;\n",
              "      cursor: pointer;\n",
              "      display: none;\n",
              "      fill: #1967D2;\n",
              "      height: 32px;\n",
              "      padding: 0 0 0 0;\n",
              "      width: 32px;\n",
              "    }\n",
              "\n",
              "    .colab-df-convert:hover {\n",
              "      background-color: #E2EBFA;\n",
              "      box-shadow: 0px 1px 2px rgba(60, 64, 67, 0.3), 0px 1px 3px 1px rgba(60, 64, 67, 0.15);\n",
              "      fill: #174EA6;\n",
              "    }\n",
              "\n",
              "    [theme=dark] .colab-df-convert {\n",
              "      background-color: #3B4455;\n",
              "      fill: #D2E3FC;\n",
              "    }\n",
              "\n",
              "    [theme=dark] .colab-df-convert:hover {\n",
              "      background-color: #434B5C;\n",
              "      box-shadow: 0px 1px 3px 1px rgba(0, 0, 0, 0.15);\n",
              "      filter: drop-shadow(0px 1px 2px rgba(0, 0, 0, 0.3));\n",
              "      fill: #FFFFFF;\n",
              "    }\n",
              "  </style>\n",
              "\n",
              "      <script>\n",
              "        const buttonEl =\n",
              "          document.querySelector('#df-9f5a05fe-2bb1-4fe1-8469-78d3d4e39bed button.colab-df-convert');\n",
              "        buttonEl.style.display =\n",
              "          google.colab.kernel.accessAllowed ? 'block' : 'none';\n",
              "\n",
              "        async function convertToInteractive(key) {\n",
              "          const element = document.querySelector('#df-9f5a05fe-2bb1-4fe1-8469-78d3d4e39bed');\n",
              "          const dataTable =\n",
              "            await google.colab.kernel.invokeFunction('convertToInteractive',\n",
              "                                                     [key], {});\n",
              "          if (!dataTable) return;\n",
              "\n",
              "          const docLinkHtml = 'Like what you see? Visit the ' +\n",
              "            '<a target=\"_blank\" href=https://colab.research.google.com/notebooks/data_table.ipynb>data table notebook</a>'\n",
              "            + ' to learn more about interactive tables.';\n",
              "          element.innerHTML = '';\n",
              "          dataTable['output_type'] = 'display_data';\n",
              "          await google.colab.output.renderOutput(dataTable, element);\n",
              "          const docLink = document.createElement('div');\n",
              "          docLink.innerHTML = docLinkHtml;\n",
              "          element.appendChild(docLink);\n",
              "        }\n",
              "      </script>\n",
              "    </div>\n",
              "  </div>\n",
              "  "
            ],
            "text/plain": [
              "            CATEGORIA_ID  CALIFICACION\n",
              "LLAVE                                 \n",
              "CC24332174             7             7\n",
              "CC16932907             7             7\n",
              "CC76309807             7             7\n",
              "CC35467916             7             7\n",
              "CC16932947             7             7\n",
              "...                  ...           ...\n",
              "CC17418687             1             1\n",
              "CC17418978             1             1\n",
              "CC17419109             1             1\n",
              "CC17419703             1             1\n",
              "CC16609497             1             1\n",
              "\n",
              "[547298 rows x 2 columns]"
            ]
          },
          "metadata": {},
          "execution_count": 41
        }
      ]
    },
    {
      "cell_type": "code",
      "source": [
        "lista_top = conteo_clientes[0:27000]\n",
        "lista_top"
      ],
      "metadata": {
        "id": "F9Lm-pojIPEC",
        "colab": {
          "base_uri": "https://localhost:8080/",
          "height": 455
        },
        "outputId": "7ffc84a0-74f6-4204-ae8a-69e950d93b2d"
      },
      "execution_count": null,
      "outputs": [
        {
          "output_type": "execute_result",
          "data": {
            "text/html": [
              "\n",
              "  <div id=\"df-155f8c7a-9014-4a1c-b5f9-fd514f2ac661\">\n",
              "    <div class=\"colab-df-container\">\n",
              "      <div>\n",
              "<style scoped>\n",
              "    .dataframe tbody tr th:only-of-type {\n",
              "        vertical-align: middle;\n",
              "    }\n",
              "\n",
              "    .dataframe tbody tr th {\n",
              "        vertical-align: top;\n",
              "    }\n",
              "\n",
              "    .dataframe thead th {\n",
              "        text-align: right;\n",
              "    }\n",
              "</style>\n",
              "<table border=\"1\" class=\"dataframe\">\n",
              "  <thead>\n",
              "    <tr style=\"text-align: right;\">\n",
              "      <th></th>\n",
              "      <th>CATEGORIA_ID</th>\n",
              "      <th>CALIFICACION</th>\n",
              "    </tr>\n",
              "    <tr>\n",
              "      <th>LLAVE</th>\n",
              "      <th></th>\n",
              "      <th></th>\n",
              "    </tr>\n",
              "  </thead>\n",
              "  <tbody>\n",
              "    <tr>\n",
              "      <th>CC24332174</th>\n",
              "      <td>7</td>\n",
              "      <td>7</td>\n",
              "    </tr>\n",
              "    <tr>\n",
              "      <th>CC16932907</th>\n",
              "      <td>7</td>\n",
              "      <td>7</td>\n",
              "    </tr>\n",
              "    <tr>\n",
              "      <th>CC76309807</th>\n",
              "      <td>7</td>\n",
              "      <td>7</td>\n",
              "    </tr>\n",
              "    <tr>\n",
              "      <th>CC35467916</th>\n",
              "      <td>7</td>\n",
              "      <td>7</td>\n",
              "    </tr>\n",
              "    <tr>\n",
              "      <th>CC16932947</th>\n",
              "      <td>7</td>\n",
              "      <td>7</td>\n",
              "    </tr>\n",
              "    <tr>\n",
              "      <th>...</th>\n",
              "      <td>...</td>\n",
              "      <td>...</td>\n",
              "    </tr>\n",
              "    <tr>\n",
              "      <th>CC70103436</th>\n",
              "      <td>6</td>\n",
              "      <td>6</td>\n",
              "    </tr>\n",
              "    <tr>\n",
              "      <th>CC71750460</th>\n",
              "      <td>6</td>\n",
              "      <td>6</td>\n",
              "    </tr>\n",
              "    <tr>\n",
              "      <th>CC70103943</th>\n",
              "      <td>6</td>\n",
              "      <td>6</td>\n",
              "    </tr>\n",
              "    <tr>\n",
              "      <th>CC71750290</th>\n",
              "      <td>6</td>\n",
              "      <td>6</td>\n",
              "    </tr>\n",
              "    <tr>\n",
              "      <th>CC71750088</th>\n",
              "      <td>6</td>\n",
              "      <td>6</td>\n",
              "    </tr>\n",
              "  </tbody>\n",
              "</table>\n",
              "<p>27000 rows × 2 columns</p>\n",
              "</div>\n",
              "      <button class=\"colab-df-convert\" onclick=\"convertToInteractive('df-155f8c7a-9014-4a1c-b5f9-fd514f2ac661')\"\n",
              "              title=\"Convert this dataframe to an interactive table.\"\n",
              "              style=\"display:none;\">\n",
              "        \n",
              "  <svg xmlns=\"http://www.w3.org/2000/svg\" height=\"24px\"viewBox=\"0 0 24 24\"\n",
              "       width=\"24px\">\n",
              "    <path d=\"M0 0h24v24H0V0z\" fill=\"none\"/>\n",
              "    <path d=\"M18.56 5.44l.94 2.06.94-2.06 2.06-.94-2.06-.94-.94-2.06-.94 2.06-2.06.94zm-11 1L8.5 8.5l.94-2.06 2.06-.94-2.06-.94L8.5 2.5l-.94 2.06-2.06.94zm10 10l.94 2.06.94-2.06 2.06-.94-2.06-.94-.94-2.06-.94 2.06-2.06.94z\"/><path d=\"M17.41 7.96l-1.37-1.37c-.4-.4-.92-.59-1.43-.59-.52 0-1.04.2-1.43.59L10.3 9.45l-7.72 7.72c-.78.78-.78 2.05 0 2.83L4 21.41c.39.39.9.59 1.41.59.51 0 1.02-.2 1.41-.59l7.78-7.78 2.81-2.81c.8-.78.8-2.07 0-2.86zM5.41 20L4 18.59l7.72-7.72 1.47 1.35L5.41 20z\"/>\n",
              "  </svg>\n",
              "      </button>\n",
              "      \n",
              "  <style>\n",
              "    .colab-df-container {\n",
              "      display:flex;\n",
              "      flex-wrap:wrap;\n",
              "      gap: 12px;\n",
              "    }\n",
              "\n",
              "    .colab-df-convert {\n",
              "      background-color: #E8F0FE;\n",
              "      border: none;\n",
              "      border-radius: 50%;\n",
              "      cursor: pointer;\n",
              "      display: none;\n",
              "      fill: #1967D2;\n",
              "      height: 32px;\n",
              "      padding: 0 0 0 0;\n",
              "      width: 32px;\n",
              "    }\n",
              "\n",
              "    .colab-df-convert:hover {\n",
              "      background-color: #E2EBFA;\n",
              "      box-shadow: 0px 1px 2px rgba(60, 64, 67, 0.3), 0px 1px 3px 1px rgba(60, 64, 67, 0.15);\n",
              "      fill: #174EA6;\n",
              "    }\n",
              "\n",
              "    [theme=dark] .colab-df-convert {\n",
              "      background-color: #3B4455;\n",
              "      fill: #D2E3FC;\n",
              "    }\n",
              "\n",
              "    [theme=dark] .colab-df-convert:hover {\n",
              "      background-color: #434B5C;\n",
              "      box-shadow: 0px 1px 3px 1px rgba(0, 0, 0, 0.15);\n",
              "      filter: drop-shadow(0px 1px 2px rgba(0, 0, 0, 0.3));\n",
              "      fill: #FFFFFF;\n",
              "    }\n",
              "  </style>\n",
              "\n",
              "      <script>\n",
              "        const buttonEl =\n",
              "          document.querySelector('#df-155f8c7a-9014-4a1c-b5f9-fd514f2ac661 button.colab-df-convert');\n",
              "        buttonEl.style.display =\n",
              "          google.colab.kernel.accessAllowed ? 'block' : 'none';\n",
              "\n",
              "        async function convertToInteractive(key) {\n",
              "          const element = document.querySelector('#df-155f8c7a-9014-4a1c-b5f9-fd514f2ac661');\n",
              "          const dataTable =\n",
              "            await google.colab.kernel.invokeFunction('convertToInteractive',\n",
              "                                                     [key], {});\n",
              "          if (!dataTable) return;\n",
              "\n",
              "          const docLinkHtml = 'Like what you see? Visit the ' +\n",
              "            '<a target=\"_blank\" href=https://colab.research.google.com/notebooks/data_table.ipynb>data table notebook</a>'\n",
              "            + ' to learn more about interactive tables.';\n",
              "          element.innerHTML = '';\n",
              "          dataTable['output_type'] = 'display_data';\n",
              "          await google.colab.output.renderOutput(dataTable, element);\n",
              "          const docLink = document.createElement('div');\n",
              "          docLink.innerHTML = docLinkHtml;\n",
              "          element.appendChild(docLink);\n",
              "        }\n",
              "      </script>\n",
              "    </div>\n",
              "  </div>\n",
              "  "
            ],
            "text/plain": [
              "            CATEGORIA_ID  CALIFICACION\n",
              "LLAVE                                 \n",
              "CC24332174             7             7\n",
              "CC16932907             7             7\n",
              "CC76309807             7             7\n",
              "CC35467916             7             7\n",
              "CC16932947             7             7\n",
              "...                  ...           ...\n",
              "CC70103436             6             6\n",
              "CC71750460             6             6\n",
              "CC70103943             6             6\n",
              "CC71750290             6             6\n",
              "CC71750088             6             6\n",
              "\n",
              "[27000 rows x 2 columns]"
            ]
          },
          "metadata": {},
          "execution_count": 46
        }
      ]
    },
    {
      "cell_type": "code",
      "source": [
        "lista_top = lista_top.reset_index()\n",
        "lista_top = lista_top[['LLAVE']]\n",
        "lista_top\n",
        "len(lista_top)"
      ],
      "metadata": {
        "id": "_qDSzeRSK5Jb",
        "colab": {
          "base_uri": "https://localhost:8080/"
        },
        "outputId": "53a09880-9a97-4884-ba19-f64633650a7a"
      },
      "execution_count": null,
      "outputs": [
        {
          "output_type": "execute_result",
          "data": {
            "text/plain": [
              "27000"
            ]
          },
          "metadata": {},
          "execution_count": 47
        }
      ]
    },
    {
      "cell_type": "code",
      "source": [
        "#Para esta evaluación tomaremos como referencia a los 27 mil clientes con mayor \n",
        "#número de interacciones\n",
        "matriz_reducida = pd.merge(matriz_cal, lista_top, on = 'LLAVE', how = 'inner')"
      ],
      "metadata": {
        "id": "yazNCAaGPScg"
      },
      "execution_count": null,
      "outputs": []
    },
    {
      "cell_type": "code",
      "source": [
        "conteo_unicos = matriz_reducida['LLAVE'].value_counts()\n",
        "conteo_unicos"
      ],
      "metadata": {
        "id": "szvjzkyfVMOQ"
      },
      "execution_count": null,
      "outputs": []
    },
    {
      "cell_type": "code",
      "source": [
        "matriz_reducida = matriz_reducida[['LLAVE', 'CATEGORIA_ID', 'CALIFICACION']]\n",
        "matriz_reducida.head(10)"
      ],
      "metadata": {
        "id": "wiX6odbAQADo",
        "colab": {
          "base_uri": "https://localhost:8080/",
          "height": 362
        },
        "outputId": "62669e35-a5c1-4538-de15-5c6e7e15df70"
      },
      "execution_count": null,
      "outputs": [
        {
          "output_type": "execute_result",
          "data": {
            "text/html": [
              "\n",
              "  <div id=\"df-6fd66d94-9d98-42df-9c81-2e86334ed6a0\">\n",
              "    <div class=\"colab-df-container\">\n",
              "      <div>\n",
              "<style scoped>\n",
              "    .dataframe tbody tr th:only-of-type {\n",
              "        vertical-align: middle;\n",
              "    }\n",
              "\n",
              "    .dataframe tbody tr th {\n",
              "        vertical-align: top;\n",
              "    }\n",
              "\n",
              "    .dataframe thead th {\n",
              "        text-align: right;\n",
              "    }\n",
              "</style>\n",
              "<table border=\"1\" class=\"dataframe\">\n",
              "  <thead>\n",
              "    <tr style=\"text-align: right;\">\n",
              "      <th></th>\n",
              "      <th>LLAVE</th>\n",
              "      <th>CATEGORIA_ID</th>\n",
              "      <th>CALIFICACION</th>\n",
              "    </tr>\n",
              "  </thead>\n",
              "  <tbody>\n",
              "    <tr>\n",
              "      <th>0</th>\n",
              "      <td>12345678</td>\n",
              "      <td>1</td>\n",
              "      <td>1</td>\n",
              "    </tr>\n",
              "    <tr>\n",
              "      <th>1</th>\n",
              "      <td>12345678</td>\n",
              "      <td>2</td>\n",
              "      <td>5</td>\n",
              "    </tr>\n",
              "    <tr>\n",
              "      <th>2</th>\n",
              "      <td>12345678</td>\n",
              "      <td>3</td>\n",
              "      <td>5</td>\n",
              "    </tr>\n",
              "    <tr>\n",
              "      <th>3</th>\n",
              "      <td>12345678</td>\n",
              "      <td>5</td>\n",
              "      <td>5</td>\n",
              "    </tr>\n",
              "    <tr>\n",
              "      <th>4</th>\n",
              "      <td>12345678</td>\n",
              "      <td>6</td>\n",
              "      <td>5</td>\n",
              "    </tr>\n",
              "    <tr>\n",
              "      <th>5</th>\n",
              "      <td>12345678</td>\n",
              "      <td>7</td>\n",
              "      <td>1</td>\n",
              "    </tr>\n",
              "    <tr>\n",
              "      <th>6</th>\n",
              "      <td>CC10000437</td>\n",
              "      <td>1</td>\n",
              "      <td>5</td>\n",
              "    </tr>\n",
              "    <tr>\n",
              "      <th>7</th>\n",
              "      <td>CC10000437</td>\n",
              "      <td>2</td>\n",
              "      <td>1</td>\n",
              "    </tr>\n",
              "    <tr>\n",
              "      <th>8</th>\n",
              "      <td>CC10000437</td>\n",
              "      <td>3</td>\n",
              "      <td>2</td>\n",
              "    </tr>\n",
              "    <tr>\n",
              "      <th>9</th>\n",
              "      <td>CC10000437</td>\n",
              "      <td>4</td>\n",
              "      <td>5</td>\n",
              "    </tr>\n",
              "  </tbody>\n",
              "</table>\n",
              "</div>\n",
              "      <button class=\"colab-df-convert\" onclick=\"convertToInteractive('df-6fd66d94-9d98-42df-9c81-2e86334ed6a0')\"\n",
              "              title=\"Convert this dataframe to an interactive table.\"\n",
              "              style=\"display:none;\">\n",
              "        \n",
              "  <svg xmlns=\"http://www.w3.org/2000/svg\" height=\"24px\"viewBox=\"0 0 24 24\"\n",
              "       width=\"24px\">\n",
              "    <path d=\"M0 0h24v24H0V0z\" fill=\"none\"/>\n",
              "    <path d=\"M18.56 5.44l.94 2.06.94-2.06 2.06-.94-2.06-.94-.94-2.06-.94 2.06-2.06.94zm-11 1L8.5 8.5l.94-2.06 2.06-.94-2.06-.94L8.5 2.5l-.94 2.06-2.06.94zm10 10l.94 2.06.94-2.06 2.06-.94-2.06-.94-.94-2.06-.94 2.06-2.06.94z\"/><path d=\"M17.41 7.96l-1.37-1.37c-.4-.4-.92-.59-1.43-.59-.52 0-1.04.2-1.43.59L10.3 9.45l-7.72 7.72c-.78.78-.78 2.05 0 2.83L4 21.41c.39.39.9.59 1.41.59.51 0 1.02-.2 1.41-.59l7.78-7.78 2.81-2.81c.8-.78.8-2.07 0-2.86zM5.41 20L4 18.59l7.72-7.72 1.47 1.35L5.41 20z\"/>\n",
              "  </svg>\n",
              "      </button>\n",
              "      \n",
              "  <style>\n",
              "    .colab-df-container {\n",
              "      display:flex;\n",
              "      flex-wrap:wrap;\n",
              "      gap: 12px;\n",
              "    }\n",
              "\n",
              "    .colab-df-convert {\n",
              "      background-color: #E8F0FE;\n",
              "      border: none;\n",
              "      border-radius: 50%;\n",
              "      cursor: pointer;\n",
              "      display: none;\n",
              "      fill: #1967D2;\n",
              "      height: 32px;\n",
              "      padding: 0 0 0 0;\n",
              "      width: 32px;\n",
              "    }\n",
              "\n",
              "    .colab-df-convert:hover {\n",
              "      background-color: #E2EBFA;\n",
              "      box-shadow: 0px 1px 2px rgba(60, 64, 67, 0.3), 0px 1px 3px 1px rgba(60, 64, 67, 0.15);\n",
              "      fill: #174EA6;\n",
              "    }\n",
              "\n",
              "    [theme=dark] .colab-df-convert {\n",
              "      background-color: #3B4455;\n",
              "      fill: #D2E3FC;\n",
              "    }\n",
              "\n",
              "    [theme=dark] .colab-df-convert:hover {\n",
              "      background-color: #434B5C;\n",
              "      box-shadow: 0px 1px 3px 1px rgba(0, 0, 0, 0.15);\n",
              "      filter: drop-shadow(0px 1px 2px rgba(0, 0, 0, 0.3));\n",
              "      fill: #FFFFFF;\n",
              "    }\n",
              "  </style>\n",
              "\n",
              "      <script>\n",
              "        const buttonEl =\n",
              "          document.querySelector('#df-6fd66d94-9d98-42df-9c81-2e86334ed6a0 button.colab-df-convert');\n",
              "        buttonEl.style.display =\n",
              "          google.colab.kernel.accessAllowed ? 'block' : 'none';\n",
              "\n",
              "        async function convertToInteractive(key) {\n",
              "          const element = document.querySelector('#df-6fd66d94-9d98-42df-9c81-2e86334ed6a0');\n",
              "          const dataTable =\n",
              "            await google.colab.kernel.invokeFunction('convertToInteractive',\n",
              "                                                     [key], {});\n",
              "          if (!dataTable) return;\n",
              "\n",
              "          const docLinkHtml = 'Like what you see? Visit the ' +\n",
              "            '<a target=\"_blank\" href=https://colab.research.google.com/notebooks/data_table.ipynb>data table notebook</a>'\n",
              "            + ' to learn more about interactive tables.';\n",
              "          element.innerHTML = '';\n",
              "          dataTable['output_type'] = 'display_data';\n",
              "          await google.colab.output.renderOutput(dataTable, element);\n",
              "          const docLink = document.createElement('div');\n",
              "          docLink.innerHTML = docLinkHtml;\n",
              "          element.appendChild(docLink);\n",
              "        }\n",
              "      </script>\n",
              "    </div>\n",
              "  </div>\n",
              "  "
            ],
            "text/plain": [
              "        LLAVE  CATEGORIA_ID  CALIFICACION\n",
              "0    12345678             1             1\n",
              "1    12345678             2             5\n",
              "2    12345678             3             5\n",
              "3    12345678             5             5\n",
              "4    12345678             6             5\n",
              "5    12345678             7             1\n",
              "6  CC10000437             1             5\n",
              "7  CC10000437             2             1\n",
              "8  CC10000437             3             2\n",
              "9  CC10000437             4             5"
            ]
          },
          "metadata": {},
          "execution_count": 50
        }
      ]
    },
    {
      "cell_type": "code",
      "source": [
        "matriz_reducida.shape"
      ],
      "metadata": {
        "colab": {
          "base_uri": "https://localhost:8080/"
        },
        "id": "2gbPF8jASBiF",
        "outputId": "c206f2fa-54b2-4cb4-c87e-9ef9c1b31dad"
      },
      "execution_count": null,
      "outputs": [
        {
          "output_type": "execute_result",
          "data": {
            "text/plain": [
              "(169821, 3)"
            ]
          },
          "metadata": {},
          "execution_count": 9
        }
      ]
    },
    {
      "cell_type": "code",
      "source": [
        "matriz_reducida.to_csv('MATRIZ_REDUCIDA.csv')"
      ],
      "metadata": {
        "id": "PuNwXopA0B1r"
      },
      "execution_count": null,
      "outputs": []
    },
    {
      "cell_type": "code",
      "source": [
        "files.download('MATRIZ_REDUCIDA.csv')"
      ],
      "metadata": {
        "id": "o-WQb8FY0L8i"
      },
      "execution_count": null,
      "outputs": []
    },
    {
      "cell_type": "markdown",
      "source": [
        "Divimos la matriz_reducida en los respectivos conjuntos, asegurando una proporción del 20% para el conjunto de test"
      ],
      "metadata": {
        "id": "EoAA4TBVZbWp"
      }
    },
    {
      "cell_type": "code",
      "source": [
        "X = matriz_reducida.copy()\n",
        "y = matriz_reducida['LLAVE']"
      ],
      "metadata": {
        "id": "MdCvIgvYZovc"
      },
      "execution_count": null,
      "outputs": []
    },
    {
      "cell_type": "code",
      "source": [
        "X_train, X_test, y_train, y_test = train_test_split(X, y, stratify = y, test_size = 0.2, random_state = 0)"
      ],
      "metadata": {
        "id": "pUmcYGN6ZxOA"
      },
      "execution_count": null,
      "outputs": []
    },
    {
      "cell_type": "markdown",
      "source": [
        "#**Construcción y evaluación Modelo Base**"
      ],
      "metadata": {
        "id": "srh6Z1QcbfS2"
      }
    },
    {
      "cell_type": "markdown",
      "source": [
        "Para evaluar nuestros modelos, y teniendo en cuenta que la calificación es un valor que puede estar entre 1 y 5, se tomará como medida de error el \"Root Mean Squared Error\" ya que el problema que vamos a abordar es un regresión"
      ],
      "metadata": {
        "id": "5yEcoIfrbnku"
      }
    },
    {
      "cell_type": "code",
      "source": [
        "def rmse(y_true, y_pred):\n",
        "  return np.sqrt(mean_squared_error(y_true, y_pred))"
      ],
      "metadata": {
        "id": "Mwa81qpCbmE5"
      },
      "execution_count": null,
      "outputs": []
    },
    {
      "cell_type": "markdown",
      "source": [
        "A nivel general, lo que vamos a buscar es que dado un cliente y una categoría, el modelo nos arroje una posible \"calificación\". Por lo tanto, partiendo del conocimiento experto y los datos recopilados durante cerca de 3 años de gestión, vamos a definir nuestra tasa base como 0.25, tasa de apertura promedio de la compañía, siendo la calificación por defecto 3"
      ],
      "metadata": {
        "id": "FxNlobqUdAjP"
      }
    },
    {
      "cell_type": "code",
      "source": [
        "def modelo_base(llave, categoria_id):\n",
        "  return 3"
      ],
      "metadata": {
        "id": "ZmteRHMZc20H"
      },
      "execution_count": null,
      "outputs": []
    },
    {
      "cell_type": "markdown",
      "source": [
        "Definimos la función para calcular el rmse del conjunto de test de un modelo"
      ],
      "metadata": {
        "id": "f5C0vtwNfV4E"
      }
    },
    {
      "cell_type": "code",
      "source": [
        "def score(modelo_cf):\n",
        "\n",
        "  #Construimos una lista de tuplas del conjunto de test\n",
        "  parejas = zip(X_test['LLAVE'], X_test['CATEGORIA_ID'])\n",
        "\n",
        "  #Por cada pareja de la lista contruida anteriormente predecimos la tasa por cada pareja \n",
        "  y_pred = np.array([modelo_cf(llave, categoria_id) for (llave, categoria_id) in parejas])\n",
        "\n",
        "  #Extraemos las tasas verdaderas del conjunto de test\n",
        "  y_true = np.array(X_test['CALIFICACION'])\n",
        "\n",
        "  #Calculamos el error\n",
        "  return rmse(y_true, y_pred)\n",
        "  #return y_true, y_pred"
      ],
      "metadata": {
        "id": "gbXo-b9YfIbK"
      },
      "execution_count": null,
      "outputs": []
    },
    {
      "cell_type": "code",
      "source": [
        "score(modelo_base)"
      ],
      "metadata": {
        "colab": {
          "base_uri": "https://localhost:8080/"
        },
        "id": "sXaHl8LYgnN6",
        "outputId": "46255666-5c5f-4be6-baa2-1e34fe7c9d6d"
      },
      "execution_count": null,
      "outputs": [
        {
          "output_type": "execute_result",
          "data": {
            "text/plain": [
              "1.818934710222716"
            ]
          },
          "metadata": {},
          "execution_count": 13
        }
      ]
    },
    {
      "cell_type": "markdown",
      "source": [
        "#**Construcción y evaluación Modelos Collaborative Filter - User Based**"
      ],
      "metadata": {
        "id": "FIGAA3JrlzY5"
      }
    },
    {
      "cell_type": "markdown",
      "source": [
        "Construimos la matriz de calificaciones por cliente y categoría"
      ],
      "metadata": {
        "id": "MipiBCfemOB0"
      }
    },
    {
      "cell_type": "code",
      "source": [
        "nueva_matriz_cal = X_train.pivot_table(values = 'CALIFICACION', index = 'LLAVE', columns = 'CATEGORIA_ID')"
      ],
      "metadata": {
        "id": "53SYc4lomBsj"
      },
      "execution_count": null,
      "outputs": []
    },
    {
      "cell_type": "code",
      "source": [
        "nueva_matriz_cal.head(5)"
      ],
      "metadata": {
        "colab": {
          "base_uri": "https://localhost:8080/",
          "height": 237
        },
        "id": "BmOX9dRCm7-e",
        "outputId": "7df22a77-70f1-4eab-f298-48e30d71a28a"
      },
      "execution_count": null,
      "outputs": [
        {
          "output_type": "execute_result",
          "data": {
            "text/html": [
              "\n",
              "  <div id=\"df-54898bc2-f93b-4e6c-8cc5-ab89ade95323\">\n",
              "    <div class=\"colab-df-container\">\n",
              "      <div>\n",
              "<style scoped>\n",
              "    .dataframe tbody tr th:only-of-type {\n",
              "        vertical-align: middle;\n",
              "    }\n",
              "\n",
              "    .dataframe tbody tr th {\n",
              "        vertical-align: top;\n",
              "    }\n",
              "\n",
              "    .dataframe thead th {\n",
              "        text-align: right;\n",
              "    }\n",
              "</style>\n",
              "<table border=\"1\" class=\"dataframe\">\n",
              "  <thead>\n",
              "    <tr style=\"text-align: right;\">\n",
              "      <th>CATEGORIA_ID</th>\n",
              "      <th>1</th>\n",
              "      <th>2</th>\n",
              "      <th>3</th>\n",
              "      <th>4</th>\n",
              "      <th>5</th>\n",
              "      <th>6</th>\n",
              "      <th>7</th>\n",
              "    </tr>\n",
              "    <tr>\n",
              "      <th>LLAVE</th>\n",
              "      <th></th>\n",
              "      <th></th>\n",
              "      <th></th>\n",
              "      <th></th>\n",
              "      <th></th>\n",
              "      <th></th>\n",
              "      <th></th>\n",
              "    </tr>\n",
              "  </thead>\n",
              "  <tbody>\n",
              "    <tr>\n",
              "      <th>12345678</th>\n",
              "      <td>1.0</td>\n",
              "      <td>5.0</td>\n",
              "      <td>5.0</td>\n",
              "      <td>NaN</td>\n",
              "      <td>NaN</td>\n",
              "      <td>5.0</td>\n",
              "      <td>1.0</td>\n",
              "    </tr>\n",
              "    <tr>\n",
              "      <th>CC10000437</th>\n",
              "      <td>NaN</td>\n",
              "      <td>1.0</td>\n",
              "      <td>2.0</td>\n",
              "      <td>5.0</td>\n",
              "      <td>1.0</td>\n",
              "      <td>5.0</td>\n",
              "      <td>NaN</td>\n",
              "    </tr>\n",
              "    <tr>\n",
              "      <th>CC1000047909</th>\n",
              "      <td>1.0</td>\n",
              "      <td>4.0</td>\n",
              "      <td>NaN</td>\n",
              "      <td>5.0</td>\n",
              "      <td>NaN</td>\n",
              "      <td>4.0</td>\n",
              "      <td>5.0</td>\n",
              "    </tr>\n",
              "    <tr>\n",
              "      <th>CC10000952</th>\n",
              "      <td>NaN</td>\n",
              "      <td>5.0</td>\n",
              "      <td>5.0</td>\n",
              "      <td>4.0</td>\n",
              "      <td>4.0</td>\n",
              "      <td>4.0</td>\n",
              "      <td>NaN</td>\n",
              "    </tr>\n",
              "    <tr>\n",
              "      <th>CC10002143</th>\n",
              "      <td>NaN</td>\n",
              "      <td>1.0</td>\n",
              "      <td>NaN</td>\n",
              "      <td>1.0</td>\n",
              "      <td>1.0</td>\n",
              "      <td>1.0</td>\n",
              "      <td>1.0</td>\n",
              "    </tr>\n",
              "  </tbody>\n",
              "</table>\n",
              "</div>\n",
              "      <button class=\"colab-df-convert\" onclick=\"convertToInteractive('df-54898bc2-f93b-4e6c-8cc5-ab89ade95323')\"\n",
              "              title=\"Convert this dataframe to an interactive table.\"\n",
              "              style=\"display:none;\">\n",
              "        \n",
              "  <svg xmlns=\"http://www.w3.org/2000/svg\" height=\"24px\"viewBox=\"0 0 24 24\"\n",
              "       width=\"24px\">\n",
              "    <path d=\"M0 0h24v24H0V0z\" fill=\"none\"/>\n",
              "    <path d=\"M18.56 5.44l.94 2.06.94-2.06 2.06-.94-2.06-.94-.94-2.06-.94 2.06-2.06.94zm-11 1L8.5 8.5l.94-2.06 2.06-.94-2.06-.94L8.5 2.5l-.94 2.06-2.06.94zm10 10l.94 2.06.94-2.06 2.06-.94-2.06-.94-.94-2.06-.94 2.06-2.06.94z\"/><path d=\"M17.41 7.96l-1.37-1.37c-.4-.4-.92-.59-1.43-.59-.52 0-1.04.2-1.43.59L10.3 9.45l-7.72 7.72c-.78.78-.78 2.05 0 2.83L4 21.41c.39.39.9.59 1.41.59.51 0 1.02-.2 1.41-.59l7.78-7.78 2.81-2.81c.8-.78.8-2.07 0-2.86zM5.41 20L4 18.59l7.72-7.72 1.47 1.35L5.41 20z\"/>\n",
              "  </svg>\n",
              "      </button>\n",
              "      \n",
              "  <style>\n",
              "    .colab-df-container {\n",
              "      display:flex;\n",
              "      flex-wrap:wrap;\n",
              "      gap: 12px;\n",
              "    }\n",
              "\n",
              "    .colab-df-convert {\n",
              "      background-color: #E8F0FE;\n",
              "      border: none;\n",
              "      border-radius: 50%;\n",
              "      cursor: pointer;\n",
              "      display: none;\n",
              "      fill: #1967D2;\n",
              "      height: 32px;\n",
              "      padding: 0 0 0 0;\n",
              "      width: 32px;\n",
              "    }\n",
              "\n",
              "    .colab-df-convert:hover {\n",
              "      background-color: #E2EBFA;\n",
              "      box-shadow: 0px 1px 2px rgba(60, 64, 67, 0.3), 0px 1px 3px 1px rgba(60, 64, 67, 0.15);\n",
              "      fill: #174EA6;\n",
              "    }\n",
              "\n",
              "    [theme=dark] .colab-df-convert {\n",
              "      background-color: #3B4455;\n",
              "      fill: #D2E3FC;\n",
              "    }\n",
              "\n",
              "    [theme=dark] .colab-df-convert:hover {\n",
              "      background-color: #434B5C;\n",
              "      box-shadow: 0px 1px 3px 1px rgba(0, 0, 0, 0.15);\n",
              "      filter: drop-shadow(0px 1px 2px rgba(0, 0, 0, 0.3));\n",
              "      fill: #FFFFFF;\n",
              "    }\n",
              "  </style>\n",
              "\n",
              "      <script>\n",
              "        const buttonEl =\n",
              "          document.querySelector('#df-54898bc2-f93b-4e6c-8cc5-ab89ade95323 button.colab-df-convert');\n",
              "        buttonEl.style.display =\n",
              "          google.colab.kernel.accessAllowed ? 'block' : 'none';\n",
              "\n",
              "        async function convertToInteractive(key) {\n",
              "          const element = document.querySelector('#df-54898bc2-f93b-4e6c-8cc5-ab89ade95323');\n",
              "          const dataTable =\n",
              "            await google.colab.kernel.invokeFunction('convertToInteractive',\n",
              "                                                     [key], {});\n",
              "          if (!dataTable) return;\n",
              "\n",
              "          const docLinkHtml = 'Like what you see? Visit the ' +\n",
              "            '<a target=\"_blank\" href=https://colab.research.google.com/notebooks/data_table.ipynb>data table notebook</a>'\n",
              "            + ' to learn more about interactive tables.';\n",
              "          element.innerHTML = '';\n",
              "          dataTable['output_type'] = 'display_data';\n",
              "          await google.colab.output.renderOutput(dataTable, element);\n",
              "          const docLink = document.createElement('div');\n",
              "          docLink.innerHTML = docLinkHtml;\n",
              "          element.appendChild(docLink);\n",
              "        }\n",
              "      </script>\n",
              "    </div>\n",
              "  </div>\n",
              "  "
            ],
            "text/plain": [
              "CATEGORIA_ID    1    2    3    4    5    6    7\n",
              "LLAVE                                          \n",
              "12345678      1.0  5.0  5.0  NaN  NaN  5.0  1.0\n",
              "CC10000437    NaN  1.0  2.0  5.0  1.0  5.0  NaN\n",
              "CC1000047909  1.0  4.0  NaN  5.0  NaN  4.0  5.0\n",
              "CC10000952    NaN  5.0  5.0  4.0  4.0  4.0  NaN\n",
              "CC10002143    NaN  1.0  NaN  1.0  1.0  1.0  1.0"
            ]
          },
          "metadata": {},
          "execution_count": 15
        }
      ]
    },
    {
      "cell_type": "markdown",
      "source": [
        "##**1° Filtro: Promedio Simple**"
      ],
      "metadata": {
        "id": "WR0_7mNfsCp0"
      }
    },
    {
      "cell_type": "markdown",
      "source": [
        "A partir de un cliente y una categoría, retornamos la tasa promedio de todos aquellos que ya hayan interactuado con dicha categoría"
      ],
      "metadata": {
        "id": "4gwxhNAAsRv9"
      }
    },
    {
      "cell_type": "code",
      "source": [
        "def modelo_media_simple(llave, categoria_id):\n",
        "\n",
        "  #Validamos si la categoría existe en la matriz\n",
        "  if categoria_id in nueva_matriz_cal:\n",
        "\n",
        "    #Calculamos la tasa de apertura promedio de la misma\n",
        "    tasa_promedio = nueva_matriz_cal[categoria_id].mean()\n",
        "\n",
        "  else:\n",
        "\n",
        "    #Devolvemos la calificación del modelo base\n",
        "    tasa_promedio = 3\n",
        "\n",
        "  return tasa_promedio\n"
      ],
      "metadata": {
        "id": "kKkcK_fRsISb"
      },
      "execution_count": null,
      "outputs": []
    },
    {
      "cell_type": "code",
      "source": [
        "score(modelo_media_simple)"
      ],
      "metadata": {
        "colab": {
          "base_uri": "https://localhost:8080/"
        },
        "id": "0ecVnymmt_n9",
        "outputId": "5006a071-1bb3-4aa8-d4a4-147df3d93c75"
      },
      "execution_count": null,
      "outputs": [
        {
          "output_type": "execute_result",
          "data": {
            "text/plain": [
              "1.7859410634541322"
            ]
          },
          "metadata": {},
          "execution_count": 17
        }
      ]
    },
    {
      "cell_type": "markdown",
      "source": [
        "##**2° Filtro: Promedio Ponderado**"
      ],
      "metadata": {
        "id": "0ZIeDjMxHck1"
      }
    },
    {
      "cell_type": "markdown",
      "source": [
        "En esta caso vamos a ponderar la tasa promedio de salida, a partir de las calificaciones de los clientes que tengan un comportamiento similar al del cliente evaluado"
      ],
      "metadata": {
        "id": "PO3pyIfbH5Ns"
      }
    },
    {
      "cell_type": "code",
      "source": [
        "#Creamos una copia de la nueva_matriz_cal ya que la medida de similaridad que \n",
        "#vamos a utilizar es el cosine score y este no opera con missing values\n",
        "nueva_matriz_cal_copia = nueva_matriz_cal.copy().fillna(0)"
      ],
      "metadata": {
        "id": "EnytF8nUI99u"
      },
      "execution_count": null,
      "outputs": []
    },
    {
      "cell_type": "code",
      "source": [
        "nueva_matriz_cal_copia.head(5)"
      ],
      "metadata": {
        "colab": {
          "base_uri": "https://localhost:8080/",
          "height": 237
        },
        "id": "p9zbnIhMr4-z",
        "outputId": "0a491552-bc7e-41ef-9338-778dc00447c5"
      },
      "execution_count": null,
      "outputs": [
        {
          "output_type": "execute_result",
          "data": {
            "text/html": [
              "\n",
              "  <div id=\"df-22a020e0-cd36-4b42-8c4c-9dd7c89178eb\">\n",
              "    <div class=\"colab-df-container\">\n",
              "      <div>\n",
              "<style scoped>\n",
              "    .dataframe tbody tr th:only-of-type {\n",
              "        vertical-align: middle;\n",
              "    }\n",
              "\n",
              "    .dataframe tbody tr th {\n",
              "        vertical-align: top;\n",
              "    }\n",
              "\n",
              "    .dataframe thead th {\n",
              "        text-align: right;\n",
              "    }\n",
              "</style>\n",
              "<table border=\"1\" class=\"dataframe\">\n",
              "  <thead>\n",
              "    <tr style=\"text-align: right;\">\n",
              "      <th>CATEGORIA_ID</th>\n",
              "      <th>1</th>\n",
              "      <th>2</th>\n",
              "      <th>3</th>\n",
              "      <th>4</th>\n",
              "      <th>5</th>\n",
              "      <th>6</th>\n",
              "      <th>7</th>\n",
              "    </tr>\n",
              "    <tr>\n",
              "      <th>LLAVE</th>\n",
              "      <th></th>\n",
              "      <th></th>\n",
              "      <th></th>\n",
              "      <th></th>\n",
              "      <th></th>\n",
              "      <th></th>\n",
              "      <th></th>\n",
              "    </tr>\n",
              "  </thead>\n",
              "  <tbody>\n",
              "    <tr>\n",
              "      <th>12345678</th>\n",
              "      <td>1.0</td>\n",
              "      <td>5.0</td>\n",
              "      <td>5.0</td>\n",
              "      <td>0.0</td>\n",
              "      <td>0.0</td>\n",
              "      <td>5.0</td>\n",
              "      <td>1.0</td>\n",
              "    </tr>\n",
              "    <tr>\n",
              "      <th>CC10000437</th>\n",
              "      <td>0.0</td>\n",
              "      <td>1.0</td>\n",
              "      <td>2.0</td>\n",
              "      <td>5.0</td>\n",
              "      <td>1.0</td>\n",
              "      <td>5.0</td>\n",
              "      <td>0.0</td>\n",
              "    </tr>\n",
              "    <tr>\n",
              "      <th>CC1000047909</th>\n",
              "      <td>1.0</td>\n",
              "      <td>4.0</td>\n",
              "      <td>0.0</td>\n",
              "      <td>5.0</td>\n",
              "      <td>0.0</td>\n",
              "      <td>4.0</td>\n",
              "      <td>5.0</td>\n",
              "    </tr>\n",
              "    <tr>\n",
              "      <th>CC10000952</th>\n",
              "      <td>0.0</td>\n",
              "      <td>5.0</td>\n",
              "      <td>5.0</td>\n",
              "      <td>4.0</td>\n",
              "      <td>4.0</td>\n",
              "      <td>4.0</td>\n",
              "      <td>0.0</td>\n",
              "    </tr>\n",
              "    <tr>\n",
              "      <th>CC10002143</th>\n",
              "      <td>0.0</td>\n",
              "      <td>1.0</td>\n",
              "      <td>0.0</td>\n",
              "      <td>1.0</td>\n",
              "      <td>1.0</td>\n",
              "      <td>1.0</td>\n",
              "      <td>1.0</td>\n",
              "    </tr>\n",
              "  </tbody>\n",
              "</table>\n",
              "</div>\n",
              "      <button class=\"colab-df-convert\" onclick=\"convertToInteractive('df-22a020e0-cd36-4b42-8c4c-9dd7c89178eb')\"\n",
              "              title=\"Convert this dataframe to an interactive table.\"\n",
              "              style=\"display:none;\">\n",
              "        \n",
              "  <svg xmlns=\"http://www.w3.org/2000/svg\" height=\"24px\"viewBox=\"0 0 24 24\"\n",
              "       width=\"24px\">\n",
              "    <path d=\"M0 0h24v24H0V0z\" fill=\"none\"/>\n",
              "    <path d=\"M18.56 5.44l.94 2.06.94-2.06 2.06-.94-2.06-.94-.94-2.06-.94 2.06-2.06.94zm-11 1L8.5 8.5l.94-2.06 2.06-.94-2.06-.94L8.5 2.5l-.94 2.06-2.06.94zm10 10l.94 2.06.94-2.06 2.06-.94-2.06-.94-.94-2.06-.94 2.06-2.06.94z\"/><path d=\"M17.41 7.96l-1.37-1.37c-.4-.4-.92-.59-1.43-.59-.52 0-1.04.2-1.43.59L10.3 9.45l-7.72 7.72c-.78.78-.78 2.05 0 2.83L4 21.41c.39.39.9.59 1.41.59.51 0 1.02-.2 1.41-.59l7.78-7.78 2.81-2.81c.8-.78.8-2.07 0-2.86zM5.41 20L4 18.59l7.72-7.72 1.47 1.35L5.41 20z\"/>\n",
              "  </svg>\n",
              "      </button>\n",
              "      \n",
              "  <style>\n",
              "    .colab-df-container {\n",
              "      display:flex;\n",
              "      flex-wrap:wrap;\n",
              "      gap: 12px;\n",
              "    }\n",
              "\n",
              "    .colab-df-convert {\n",
              "      background-color: #E8F0FE;\n",
              "      border: none;\n",
              "      border-radius: 50%;\n",
              "      cursor: pointer;\n",
              "      display: none;\n",
              "      fill: #1967D2;\n",
              "      height: 32px;\n",
              "      padding: 0 0 0 0;\n",
              "      width: 32px;\n",
              "    }\n",
              "\n",
              "    .colab-df-convert:hover {\n",
              "      background-color: #E2EBFA;\n",
              "      box-shadow: 0px 1px 2px rgba(60, 64, 67, 0.3), 0px 1px 3px 1px rgba(60, 64, 67, 0.15);\n",
              "      fill: #174EA6;\n",
              "    }\n",
              "\n",
              "    [theme=dark] .colab-df-convert {\n",
              "      background-color: #3B4455;\n",
              "      fill: #D2E3FC;\n",
              "    }\n",
              "\n",
              "    [theme=dark] .colab-df-convert:hover {\n",
              "      background-color: #434B5C;\n",
              "      box-shadow: 0px 1px 3px 1px rgba(0, 0, 0, 0.15);\n",
              "      filter: drop-shadow(0px 1px 2px rgba(0, 0, 0, 0.3));\n",
              "      fill: #FFFFFF;\n",
              "    }\n",
              "  </style>\n",
              "\n",
              "      <script>\n",
              "        const buttonEl =\n",
              "          document.querySelector('#df-22a020e0-cd36-4b42-8c4c-9dd7c89178eb button.colab-df-convert');\n",
              "        buttonEl.style.display =\n",
              "          google.colab.kernel.accessAllowed ? 'block' : 'none';\n",
              "\n",
              "        async function convertToInteractive(key) {\n",
              "          const element = document.querySelector('#df-22a020e0-cd36-4b42-8c4c-9dd7c89178eb');\n",
              "          const dataTable =\n",
              "            await google.colab.kernel.invokeFunction('convertToInteractive',\n",
              "                                                     [key], {});\n",
              "          if (!dataTable) return;\n",
              "\n",
              "          const docLinkHtml = 'Like what you see? Visit the ' +\n",
              "            '<a target=\"_blank\" href=https://colab.research.google.com/notebooks/data_table.ipynb>data table notebook</a>'\n",
              "            + ' to learn more about interactive tables.';\n",
              "          element.innerHTML = '';\n",
              "          dataTable['output_type'] = 'display_data';\n",
              "          await google.colab.output.renderOutput(dataTable, element);\n",
              "          const docLink = document.createElement('div');\n",
              "          docLink.innerHTML = docLinkHtml;\n",
              "          element.appendChild(docLink);\n",
              "        }\n",
              "      </script>\n",
              "    </div>\n",
              "  </div>\n",
              "  "
            ],
            "text/plain": [
              "CATEGORIA_ID    1    2    3    4    5    6    7\n",
              "LLAVE                                          \n",
              "12345678      1.0  5.0  5.0  0.0  0.0  5.0  1.0\n",
              "CC10000437    0.0  1.0  2.0  5.0  1.0  5.0  0.0\n",
              "CC1000047909  1.0  4.0  0.0  5.0  0.0  4.0  5.0\n",
              "CC10000952    0.0  5.0  5.0  4.0  4.0  4.0  0.0\n",
              "CC10002143    0.0  1.0  0.0  1.0  1.0  1.0  1.0"
            ]
          },
          "metadata": {},
          "execution_count": 68
        }
      ]
    },
    {
      "cell_type": "code",
      "source": [
        "similarity = cosine_similarity(nueva_matriz_cal_copia, nueva_matriz_cal_copia)"
      ],
      "metadata": {
        "id": "nyQjEaGEJPi0"
      },
      "execution_count": null,
      "outputs": []
    },
    {
      "cell_type": "code",
      "source": [
        "similarity = pd.DataFrame(similarity, index = nueva_matriz_cal.index, columns = nueva_matriz_cal.index)"
      ],
      "metadata": {
        "id": "n_N_0CO7UJkq"
      },
      "execution_count": null,
      "outputs": []
    },
    {
      "cell_type": "code",
      "source": [
        "similarity.head(5)"
      ],
      "metadata": {
        "colab": {
          "base_uri": "https://localhost:8080/",
          "height": 331
        },
        "id": "6_l3BwJ7VCf4",
        "outputId": "71f53ea3-acc3-4341-9d7e-546388d8b5fa"
      },
      "execution_count": null,
      "outputs": [
        {
          "output_type": "execute_result",
          "data": {
            "text/html": [
              "\n",
              "  <div id=\"df-3dec1b50-f843-48f6-bad7-ad3d9bf506e6\">\n",
              "    <div class=\"colab-df-container\">\n",
              "      <div>\n",
              "<style scoped>\n",
              "    .dataframe tbody tr th:only-of-type {\n",
              "        vertical-align: middle;\n",
              "    }\n",
              "\n",
              "    .dataframe tbody tr th {\n",
              "        vertical-align: top;\n",
              "    }\n",
              "\n",
              "    .dataframe thead th {\n",
              "        text-align: right;\n",
              "    }\n",
              "</style>\n",
              "<table border=\"1\" class=\"dataframe\">\n",
              "  <thead>\n",
              "    <tr style=\"text-align: right;\">\n",
              "      <th>LLAVE</th>\n",
              "      <th>12345678</th>\n",
              "      <th>CC10000437</th>\n",
              "      <th>CC1000047909</th>\n",
              "      <th>CC10000952</th>\n",
              "      <th>CC10002143</th>\n",
              "      <th>CC10003232</th>\n",
              "      <th>CC10004409</th>\n",
              "      <th>CC10004786</th>\n",
              "      <th>CC10005087</th>\n",
              "      <th>CC1000602756</th>\n",
              "      <th>CC10006861</th>\n",
              "      <th>CC10006988</th>\n",
              "      <th>CC10008962</th>\n",
              "      <th>CC10009215</th>\n",
              "      <th>CC10010230</th>\n",
              "      <th>CC10010535</th>\n",
              "      <th>CC1001143622</th>\n",
              "      <th>CC10013290</th>\n",
              "      <th>CC10014786</th>\n",
              "      <th>CC10017970</th>\n",
              "      <th>CC10018018</th>\n",
              "      <th>CC1001803532</th>\n",
              "      <th>CC1001940754</th>\n",
              "      <th>CC10019430</th>\n",
              "      <th>CC10023879</th>\n",
              "      <th>CC10024021</th>\n",
              "      <th>CC10024336</th>\n",
              "      <th>CC1002536222</th>\n",
              "      <th>CC10025931</th>\n",
              "      <th>CC10026784</th>\n",
              "      <th>CC10027309</th>\n",
              "      <th>CC10028363</th>\n",
              "      <th>CC10028653</th>\n",
              "      <th>CC10028887</th>\n",
              "      <th>CC10029279</th>\n",
              "      <th>CC10029338</th>\n",
              "      <th>CC10031262</th>\n",
              "      <th>CC10031503</th>\n",
              "      <th>CC10034993</th>\n",
              "      <th>CC1003510091</th>\n",
              "      <th>...</th>\n",
              "      <th>NT900858147</th>\n",
              "      <th>NT900888799</th>\n",
              "      <th>NT900900176</th>\n",
              "      <th>NT900901073</th>\n",
              "      <th>NT900923245</th>\n",
              "      <th>NT900934409</th>\n",
              "      <th>NT900935998</th>\n",
              "      <th>NT900944848</th>\n",
              "      <th>NT900974255</th>\n",
              "      <th>NT900975329</th>\n",
              "      <th>NT900983260</th>\n",
              "      <th>NT901007271</th>\n",
              "      <th>NT901016339</th>\n",
              "      <th>NT901029752</th>\n",
              "      <th>NT901036176</th>\n",
              "      <th>NT901047978</th>\n",
              "      <th>NT901050168</th>\n",
              "      <th>NT901053840</th>\n",
              "      <th>NT901098041</th>\n",
              "      <th>NT901110760</th>\n",
              "      <th>NT901116901</th>\n",
              "      <th>NT901117885</th>\n",
              "      <th>NT901123605</th>\n",
              "      <th>NT901129021</th>\n",
              "      <th>NT901146746</th>\n",
              "      <th>NT901155548</th>\n",
              "      <th>NT901162272</th>\n",
              "      <th>NT901170396</th>\n",
              "      <th>NT901223587</th>\n",
              "      <th>NT901264865</th>\n",
              "      <th>NT901265048</th>\n",
              "      <th>NT901288109</th>\n",
              "      <th>NT901295215</th>\n",
              "      <th>NT901302058</th>\n",
              "      <th>NT901303967</th>\n",
              "      <th>NT901325125</th>\n",
              "      <th>NT901327828</th>\n",
              "      <th>NT901420924</th>\n",
              "      <th>PP145422851</th>\n",
              "      <th>TI1006207592</th>\n",
              "    </tr>\n",
              "    <tr>\n",
              "      <th>LLAVE</th>\n",
              "      <th></th>\n",
              "      <th></th>\n",
              "      <th></th>\n",
              "      <th></th>\n",
              "      <th></th>\n",
              "      <th></th>\n",
              "      <th></th>\n",
              "      <th></th>\n",
              "      <th></th>\n",
              "      <th></th>\n",
              "      <th></th>\n",
              "      <th></th>\n",
              "      <th></th>\n",
              "      <th></th>\n",
              "      <th></th>\n",
              "      <th></th>\n",
              "      <th></th>\n",
              "      <th></th>\n",
              "      <th></th>\n",
              "      <th></th>\n",
              "      <th></th>\n",
              "      <th></th>\n",
              "      <th></th>\n",
              "      <th></th>\n",
              "      <th></th>\n",
              "      <th></th>\n",
              "      <th></th>\n",
              "      <th></th>\n",
              "      <th></th>\n",
              "      <th></th>\n",
              "      <th></th>\n",
              "      <th></th>\n",
              "      <th></th>\n",
              "      <th></th>\n",
              "      <th></th>\n",
              "      <th></th>\n",
              "      <th></th>\n",
              "      <th></th>\n",
              "      <th></th>\n",
              "      <th></th>\n",
              "      <th></th>\n",
              "      <th></th>\n",
              "      <th></th>\n",
              "      <th></th>\n",
              "      <th></th>\n",
              "      <th></th>\n",
              "      <th></th>\n",
              "      <th></th>\n",
              "      <th></th>\n",
              "      <th></th>\n",
              "      <th></th>\n",
              "      <th></th>\n",
              "      <th></th>\n",
              "      <th></th>\n",
              "      <th></th>\n",
              "      <th></th>\n",
              "      <th></th>\n",
              "      <th></th>\n",
              "      <th></th>\n",
              "      <th></th>\n",
              "      <th></th>\n",
              "      <th></th>\n",
              "      <th></th>\n",
              "      <th></th>\n",
              "      <th></th>\n",
              "      <th></th>\n",
              "      <th></th>\n",
              "      <th></th>\n",
              "      <th></th>\n",
              "      <th></th>\n",
              "      <th></th>\n",
              "      <th></th>\n",
              "      <th></th>\n",
              "      <th></th>\n",
              "      <th></th>\n",
              "      <th></th>\n",
              "      <th></th>\n",
              "      <th></th>\n",
              "      <th></th>\n",
              "      <th></th>\n",
              "      <th></th>\n",
              "    </tr>\n",
              "  </thead>\n",
              "  <tbody>\n",
              "    <tr>\n",
              "      <th>12345678</th>\n",
              "      <td>1.000000</td>\n",
              "      <td>0.609145</td>\n",
              "      <td>0.575405</td>\n",
              "      <td>0.805823</td>\n",
              "      <td>0.560612</td>\n",
              "      <td>0.916330</td>\n",
              "      <td>0.433949</td>\n",
              "      <td>0.337246</td>\n",
              "      <td>0.702357</td>\n",
              "      <td>0.453580</td>\n",
              "      <td>0.712726</td>\n",
              "      <td>0.257703</td>\n",
              "      <td>0.532586</td>\n",
              "      <td>0.581954</td>\n",
              "      <td>0.645777</td>\n",
              "      <td>0.560612</td>\n",
              "      <td>0.677182</td>\n",
              "      <td>0.560612</td>\n",
              "      <td>0.918500</td>\n",
              "      <td>0.611577</td>\n",
              "      <td>0.815436</td>\n",
              "      <td>0.305788</td>\n",
              "      <td>0.598237</td>\n",
              "      <td>0.835897</td>\n",
              "      <td>0.492659</td>\n",
              "      <td>0.563533</td>\n",
              "      <td>0.560612</td>\n",
              "      <td>0.507887</td>\n",
              "      <td>0.680231</td>\n",
              "      <td>0.653467</td>\n",
              "      <td>0.341882</td>\n",
              "      <td>0.765299</td>\n",
              "      <td>0.581954</td>\n",
              "      <td>0.600349</td>\n",
              "      <td>0.379093</td>\n",
              "      <td>0.636812</td>\n",
              "      <td>0.470792</td>\n",
              "      <td>0.859010</td>\n",
              "      <td>0.342475</td>\n",
              "      <td>0.308911</td>\n",
              "      <td>...</td>\n",
              "      <td>0.611577</td>\n",
              "      <td>0.867640</td>\n",
              "      <td>0.611577</td>\n",
              "      <td>0.282038</td>\n",
              "      <td>0.558291</td>\n",
              "      <td>0.569803</td>\n",
              "      <td>0.712726</td>\n",
              "      <td>0.432788</td>\n",
              "      <td>0.374577</td>\n",
              "      <td>0.755929</td>\n",
              "      <td>0.560612</td>\n",
              "      <td>0.621695</td>\n",
              "      <td>0.744387</td>\n",
              "      <td>0.505845</td>\n",
              "      <td>0.531931</td>\n",
              "      <td>0.873235</td>\n",
              "      <td>0.560612</td>\n",
              "      <td>0.209359</td>\n",
              "      <td>0.770514</td>\n",
              "      <td>0.389966</td>\n",
              "      <td>0.598423</td>\n",
              "      <td>0.403961</td>\n",
              "      <td>0.317429</td>\n",
              "      <td>0.560612</td>\n",
              "      <td>0.483494</td>\n",
              "      <td>0.558291</td>\n",
              "      <td>0.523785</td>\n",
              "      <td>0.594917</td>\n",
              "      <td>0.684950</td>\n",
              "      <td>0.356753</td>\n",
              "      <td>0.605934</td>\n",
              "      <td>0.817110</td>\n",
              "      <td>0.601307</td>\n",
              "      <td>0.618487</td>\n",
              "      <td>0.846114</td>\n",
              "      <td>0.611577</td>\n",
              "      <td>0.560612</td>\n",
              "      <td>0.338591</td>\n",
              "      <td>0.560612</td>\n",
              "      <td>0.846114</td>\n",
              "    </tr>\n",
              "    <tr>\n",
              "      <th>CC10000437</th>\n",
              "      <td>0.609145</td>\n",
              "      <td>1.000000</td>\n",
              "      <td>0.718725</td>\n",
              "      <td>0.796425</td>\n",
              "      <td>0.717137</td>\n",
              "      <td>0.524142</td>\n",
              "      <td>0.614130</td>\n",
              "      <td>0.767649</td>\n",
              "      <td>0.494152</td>\n",
              "      <td>0.531870</td>\n",
              "      <td>0.655043</td>\n",
              "      <td>0.161165</td>\n",
              "      <td>0.523785</td>\n",
              "      <td>0.471477</td>\n",
              "      <td>0.489979</td>\n",
              "      <td>0.717137</td>\n",
              "      <td>0.297775</td>\n",
              "      <td>0.776899</td>\n",
              "      <td>0.531870</td>\n",
              "      <td>0.478091</td>\n",
              "      <td>0.776899</td>\n",
              "      <td>0.328688</td>\n",
              "      <td>0.650167</td>\n",
              "      <td>0.558328</td>\n",
              "      <td>0.358569</td>\n",
              "      <td>0.385467</td>\n",
              "      <td>0.776899</td>\n",
              "      <td>0.471477</td>\n",
              "      <td>0.492162</td>\n",
              "      <td>0.599074</td>\n",
              "      <td>0.334077</td>\n",
              "      <td>0.772175</td>\n",
              "      <td>0.669994</td>\n",
              "      <td>0.639975</td>\n",
              "      <td>0.199270</td>\n",
              "      <td>0.577018</td>\n",
              "      <td>0.569304</td>\n",
              "      <td>0.684950</td>\n",
              "      <td>0.685061</td>\n",
              "      <td>0.473686</td>\n",
              "      <td>...</td>\n",
              "      <td>0.478091</td>\n",
              "      <td>0.694808</td>\n",
              "      <td>0.657376</td>\n",
              "      <td>0.425210</td>\n",
              "      <td>0.654654</td>\n",
              "      <td>0.283965</td>\n",
              "      <td>0.655043</td>\n",
              "      <td>0.729516</td>\n",
              "      <td>0.697602</td>\n",
              "      <td>0.443203</td>\n",
              "      <td>0.537853</td>\n",
              "      <td>0.374352</td>\n",
              "      <td>0.763763</td>\n",
              "      <td>0.724968</td>\n",
              "      <td>0.214412</td>\n",
              "      <td>0.703972</td>\n",
              "      <td>0.717137</td>\n",
              "      <td>0.600099</td>\n",
              "      <td>0.542105</td>\n",
              "      <td>0.457276</td>\n",
              "      <td>0.740697</td>\n",
              "      <td>0.710530</td>\n",
              "      <td>0.421848</td>\n",
              "      <td>0.717137</td>\n",
              "      <td>0.425210</td>\n",
              "      <td>0.709208</td>\n",
              "      <td>0.377964</td>\n",
              "      <td>0.749276</td>\n",
              "      <td>0.661438</td>\n",
              "      <td>0.657376</td>\n",
              "      <td>0.439231</td>\n",
              "      <td>0.750355</td>\n",
              "      <td>0.302184</td>\n",
              "      <td>0.483494</td>\n",
              "      <td>0.661438</td>\n",
              "      <td>0.478091</td>\n",
              "      <td>0.537853</td>\n",
              "      <td>0.272960</td>\n",
              "      <td>0.717137</td>\n",
              "      <td>0.661438</td>\n",
              "    </tr>\n",
              "    <tr>\n",
              "      <th>CC1000047909</th>\n",
              "      <td>0.575405</td>\n",
              "      <td>0.718725</td>\n",
              "      <td>1.000000</td>\n",
              "      <td>0.620920</td>\n",
              "      <td>0.883585</td>\n",
              "      <td>0.591980</td>\n",
              "      <td>0.533272</td>\n",
              "      <td>0.821623</td>\n",
              "      <td>0.560524</td>\n",
              "      <td>0.644395</td>\n",
              "      <td>0.630821</td>\n",
              "      <td>0.413690</td>\n",
              "      <td>0.843927</td>\n",
              "      <td>0.764352</td>\n",
              "      <td>0.548821</td>\n",
              "      <td>0.883585</td>\n",
              "      <td>0.631864</td>\n",
              "      <td>0.687233</td>\n",
              "      <td>0.720849</td>\n",
              "      <td>0.490881</td>\n",
              "      <td>0.883585</td>\n",
              "      <td>0.245440</td>\n",
              "      <td>0.590263</td>\n",
              "      <td>0.448420</td>\n",
              "      <td>0.212715</td>\n",
              "      <td>0.196005</td>\n",
              "      <td>0.490881</td>\n",
              "      <td>0.835691</td>\n",
              "      <td>0.892165</td>\n",
              "      <td>0.846835</td>\n",
              "      <td>0.521380</td>\n",
              "      <td>0.548554</td>\n",
              "      <td>0.927413</td>\n",
              "      <td>0.630811</td>\n",
              "      <td>0.516224</td>\n",
              "      <td>0.669124</td>\n",
              "      <td>0.623502</td>\n",
              "      <td>0.562618</td>\n",
              "      <td>0.756747</td>\n",
              "      <td>0.766729</td>\n",
              "      <td>...</td>\n",
              "      <td>0.736321</td>\n",
              "      <td>0.591099</td>\n",
              "      <td>0.932673</td>\n",
              "      <td>0.426883</td>\n",
              "      <td>0.851410</td>\n",
              "      <td>0.686027</td>\n",
              "      <td>0.630821</td>\n",
              "      <td>0.872784</td>\n",
              "      <td>0.785237</td>\n",
              "      <td>0.628808</td>\n",
              "      <td>0.687233</td>\n",
              "      <td>0.372229</td>\n",
              "      <td>0.627355</td>\n",
              "      <td>0.559399</td>\n",
              "      <td>0.768517</td>\n",
              "      <td>0.841081</td>\n",
              "      <td>0.883585</td>\n",
              "      <td>0.784194</td>\n",
              "      <td>0.315410</td>\n",
              "      <td>0.830888</td>\n",
              "      <td>0.480323</td>\n",
              "      <td>0.846835</td>\n",
              "      <td>0.723586</td>\n",
              "      <td>0.687233</td>\n",
              "      <td>0.426883</td>\n",
              "      <td>0.672166</td>\n",
              "      <td>0.426883</td>\n",
              "      <td>0.785237</td>\n",
              "      <td>0.582113</td>\n",
              "      <td>0.736321</td>\n",
              "      <td>0.700347</td>\n",
              "      <td>0.805986</td>\n",
              "      <td>0.215119</td>\n",
              "      <td>0.794284</td>\n",
              "      <td>0.853766</td>\n",
              "      <td>0.736321</td>\n",
              "      <td>0.687233</td>\n",
              "      <td>0.794926</td>\n",
              "      <td>0.687233</td>\n",
              "      <td>0.698535</td>\n",
              "    </tr>\n",
              "    <tr>\n",
              "      <th>CC10000952</th>\n",
              "      <td>0.805823</td>\n",
              "      <td>0.796425</td>\n",
              "      <td>0.620920</td>\n",
              "      <td>1.000000</td>\n",
              "      <td>0.767982</td>\n",
              "      <td>0.693375</td>\n",
              "      <td>0.702989</td>\n",
              "      <td>0.668211</td>\n",
              "      <td>0.667042</td>\n",
              "      <td>0.492518</td>\n",
              "      <td>0.648838</td>\n",
              "      <td>0.456859</td>\n",
              "      <td>0.380716</td>\n",
              "      <td>0.609637</td>\n",
              "      <td>0.774450</td>\n",
              "      <td>0.767982</td>\n",
              "      <td>0.637774</td>\n",
              "      <td>0.767982</td>\n",
              "      <td>0.703598</td>\n",
              "      <td>0.587280</td>\n",
              "      <td>0.813157</td>\n",
              "      <td>0.564692</td>\n",
              "      <td>0.763087</td>\n",
              "      <td>0.844113</td>\n",
              "      <td>0.617397</td>\n",
              "      <td>0.749278</td>\n",
              "      <td>0.767982</td>\n",
              "      <td>0.562742</td>\n",
              "      <td>0.513158</td>\n",
              "      <td>0.726678</td>\n",
              "      <td>0.656599</td>\n",
              "      <td>0.678365</td>\n",
              "      <td>0.562742</td>\n",
              "      <td>0.745014</td>\n",
              "      <td>0.451903</td>\n",
              "      <td>0.705592</td>\n",
              "      <td>0.469476</td>\n",
              "      <td>0.974632</td>\n",
              "      <td>0.625000</td>\n",
              "      <td>0.631894</td>\n",
              "      <td>...</td>\n",
              "      <td>0.632456</td>\n",
              "      <td>0.825355</td>\n",
              "      <td>0.587280</td>\n",
              "      <td>0.607143</td>\n",
              "      <td>0.701068</td>\n",
              "      <td>0.643972</td>\n",
              "      <td>0.648838</td>\n",
              "      <td>0.479532</td>\n",
              "      <td>0.546869</td>\n",
              "      <td>0.730974</td>\n",
              "      <td>0.813157</td>\n",
              "      <td>0.819164</td>\n",
              "      <td>0.907265</td>\n",
              "      <td>0.597845</td>\n",
              "      <td>0.427303</td>\n",
              "      <td>0.793392</td>\n",
              "      <td>0.767982</td>\n",
              "      <td>0.494872</td>\n",
              "      <td>0.870809</td>\n",
              "      <td>0.597063</td>\n",
              "      <td>0.736729</td>\n",
              "      <td>0.463389</td>\n",
              "      <td>0.562742</td>\n",
              "      <td>0.767982</td>\n",
              "      <td>0.642857</td>\n",
              "      <td>0.701068</td>\n",
              "      <td>0.464286</td>\n",
              "      <td>0.585931</td>\n",
              "      <td>0.642857</td>\n",
              "      <td>0.542105</td>\n",
              "      <td>0.595696</td>\n",
              "      <td>0.785375</td>\n",
              "      <td>0.502545</td>\n",
              "      <td>0.548230</td>\n",
              "      <td>0.821429</td>\n",
              "      <td>0.632456</td>\n",
              "      <td>0.813157</td>\n",
              "      <td>0.243855</td>\n",
              "      <td>0.767982</td>\n",
              "      <td>0.821429</td>\n",
              "    </tr>\n",
              "    <tr>\n",
              "      <th>CC10002143</th>\n",
              "      <td>0.560612</td>\n",
              "      <td>0.717137</td>\n",
              "      <td>0.883585</td>\n",
              "      <td>0.767982</td>\n",
              "      <td>1.000000</td>\n",
              "      <td>0.526235</td>\n",
              "      <td>0.528498</td>\n",
              "      <td>0.778499</td>\n",
              "      <td>0.669374</td>\n",
              "      <td>0.489494</td>\n",
              "      <td>0.755929</td>\n",
              "      <td>0.674200</td>\n",
              "      <td>0.741620</td>\n",
              "      <td>0.622841</td>\n",
              "      <td>0.596285</td>\n",
              "      <td>1.000000</td>\n",
              "      <td>0.581318</td>\n",
              "      <td>0.800000</td>\n",
              "      <td>0.667491</td>\n",
              "      <td>0.600000</td>\n",
              "      <td>0.800000</td>\n",
              "      <td>0.600000</td>\n",
              "      <td>0.858898</td>\n",
              "      <td>0.622841</td>\n",
              "      <td>0.333333</td>\n",
              "      <td>0.491436</td>\n",
              "      <td>0.600000</td>\n",
              "      <td>0.913500</td>\n",
              "      <td>0.795147</td>\n",
              "      <td>0.746004</td>\n",
              "      <td>0.782624</td>\n",
              "      <td>0.558744</td>\n",
              "      <td>0.788932</td>\n",
              "      <td>0.771035</td>\n",
              "      <td>0.666886</td>\n",
              "      <td>0.567962</td>\n",
              "      <td>0.692820</td>\n",
              "      <td>0.674200</td>\n",
              "      <td>0.632456</td>\n",
              "      <td>0.885880</td>\n",
              "      <td>...</td>\n",
              "      <td>0.600000</td>\n",
              "      <td>0.747409</td>\n",
              "      <td>0.800000</td>\n",
              "      <td>0.632456</td>\n",
              "      <td>0.912871</td>\n",
              "      <td>0.782624</td>\n",
              "      <td>0.755929</td>\n",
              "      <td>0.796117</td>\n",
              "      <td>0.821442</td>\n",
              "      <td>0.539360</td>\n",
              "      <td>0.800000</td>\n",
              "      <td>0.593442</td>\n",
              "      <td>0.730297</td>\n",
              "      <td>0.735215</td>\n",
              "      <td>0.652328</td>\n",
              "      <td>0.771035</td>\n",
              "      <td>1.000000</td>\n",
              "      <td>0.821584</td>\n",
              "      <td>0.453557</td>\n",
              "      <td>0.834730</td>\n",
              "      <td>0.717561</td>\n",
              "      <td>0.746004</td>\n",
              "      <td>0.788932</td>\n",
              "      <td>0.800000</td>\n",
              "      <td>0.474342</td>\n",
              "      <td>0.730297</td>\n",
              "      <td>0.474342</td>\n",
              "      <td>0.648507</td>\n",
              "      <td>0.474342</td>\n",
              "      <td>0.800000</td>\n",
              "      <td>0.562039</td>\n",
              "      <td>0.695401</td>\n",
              "      <td>0.202260</td>\n",
              "      <td>0.674200</td>\n",
              "      <td>0.790569</td>\n",
              "      <td>0.600000</td>\n",
              "      <td>0.800000</td>\n",
              "      <td>0.664364</td>\n",
              "      <td>0.800000</td>\n",
              "      <td>0.632456</td>\n",
              "    </tr>\n",
              "  </tbody>\n",
              "</table>\n",
              "<p>5 rows × 27000 columns</p>\n",
              "</div>\n",
              "      <button class=\"colab-df-convert\" onclick=\"convertToInteractive('df-3dec1b50-f843-48f6-bad7-ad3d9bf506e6')\"\n",
              "              title=\"Convert this dataframe to an interactive table.\"\n",
              "              style=\"display:none;\">\n",
              "        \n",
              "  <svg xmlns=\"http://www.w3.org/2000/svg\" height=\"24px\"viewBox=\"0 0 24 24\"\n",
              "       width=\"24px\">\n",
              "    <path d=\"M0 0h24v24H0V0z\" fill=\"none\"/>\n",
              "    <path d=\"M18.56 5.44l.94 2.06.94-2.06 2.06-.94-2.06-.94-.94-2.06-.94 2.06-2.06.94zm-11 1L8.5 8.5l.94-2.06 2.06-.94-2.06-.94L8.5 2.5l-.94 2.06-2.06.94zm10 10l.94 2.06.94-2.06 2.06-.94-2.06-.94-.94-2.06-.94 2.06-2.06.94z\"/><path d=\"M17.41 7.96l-1.37-1.37c-.4-.4-.92-.59-1.43-.59-.52 0-1.04.2-1.43.59L10.3 9.45l-7.72 7.72c-.78.78-.78 2.05 0 2.83L4 21.41c.39.39.9.59 1.41.59.51 0 1.02-.2 1.41-.59l7.78-7.78 2.81-2.81c.8-.78.8-2.07 0-2.86zM5.41 20L4 18.59l7.72-7.72 1.47 1.35L5.41 20z\"/>\n",
              "  </svg>\n",
              "      </button>\n",
              "      \n",
              "  <style>\n",
              "    .colab-df-container {\n",
              "      display:flex;\n",
              "      flex-wrap:wrap;\n",
              "      gap: 12px;\n",
              "    }\n",
              "\n",
              "    .colab-df-convert {\n",
              "      background-color: #E8F0FE;\n",
              "      border: none;\n",
              "      border-radius: 50%;\n",
              "      cursor: pointer;\n",
              "      display: none;\n",
              "      fill: #1967D2;\n",
              "      height: 32px;\n",
              "      padding: 0 0 0 0;\n",
              "      width: 32px;\n",
              "    }\n",
              "\n",
              "    .colab-df-convert:hover {\n",
              "      background-color: #E2EBFA;\n",
              "      box-shadow: 0px 1px 2px rgba(60, 64, 67, 0.3), 0px 1px 3px 1px rgba(60, 64, 67, 0.15);\n",
              "      fill: #174EA6;\n",
              "    }\n",
              "\n",
              "    [theme=dark] .colab-df-convert {\n",
              "      background-color: #3B4455;\n",
              "      fill: #D2E3FC;\n",
              "    }\n",
              "\n",
              "    [theme=dark] .colab-df-convert:hover {\n",
              "      background-color: #434B5C;\n",
              "      box-shadow: 0px 1px 3px 1px rgba(0, 0, 0, 0.15);\n",
              "      filter: drop-shadow(0px 1px 2px rgba(0, 0, 0, 0.3));\n",
              "      fill: #FFFFFF;\n",
              "    }\n",
              "  </style>\n",
              "\n",
              "      <script>\n",
              "        const buttonEl =\n",
              "          document.querySelector('#df-3dec1b50-f843-48f6-bad7-ad3d9bf506e6 button.colab-df-convert');\n",
              "        buttonEl.style.display =\n",
              "          google.colab.kernel.accessAllowed ? 'block' : 'none';\n",
              "\n",
              "        async function convertToInteractive(key) {\n",
              "          const element = document.querySelector('#df-3dec1b50-f843-48f6-bad7-ad3d9bf506e6');\n",
              "          const dataTable =\n",
              "            await google.colab.kernel.invokeFunction('convertToInteractive',\n",
              "                                                     [key], {});\n",
              "          if (!dataTable) return;\n",
              "\n",
              "          const docLinkHtml = 'Like what you see? Visit the ' +\n",
              "            '<a target=\"_blank\" href=https://colab.research.google.com/notebooks/data_table.ipynb>data table notebook</a>'\n",
              "            + ' to learn more about interactive tables.';\n",
              "          element.innerHTML = '';\n",
              "          dataTable['output_type'] = 'display_data';\n",
              "          await google.colab.output.renderOutput(dataTable, element);\n",
              "          const docLink = document.createElement('div');\n",
              "          docLink.innerHTML = docLinkHtml;\n",
              "          element.appendChild(docLink);\n",
              "        }\n",
              "      </script>\n",
              "    </div>\n",
              "  </div>\n",
              "  "
            ],
            "text/plain": [
              "LLAVE         12345678  CC10000437  ...  PP145422851  TI1006207592\n",
              "LLAVE                               ...                           \n",
              "12345678      1.000000    0.609145  ...     0.560612      0.846114\n",
              "CC10000437    0.609145    1.000000  ...     0.717137      0.661438\n",
              "CC1000047909  0.575405    0.718725  ...     0.687233      0.698535\n",
              "CC10000952    0.805823    0.796425  ...     0.767982      0.821429\n",
              "CC10002143    0.560612    0.717137  ...     0.800000      0.632456\n",
              "\n",
              "[5 rows x 27000 columns]"
            ]
          },
          "metadata": {},
          "execution_count": 71
        }
      ]
    },
    {
      "cell_type": "code",
      "source": [
        "def modelo_media_ponderada(llave, categoria_id):\n",
        "\n",
        "  #Validamos si la categoría existe en la matriz\n",
        "  if categoria_id in nueva_matriz_cal:\n",
        "\n",
        "    #Obtenemos los scores de similitud del cliente analizado y todos los demás\n",
        "    scores = similarity[llave]\n",
        "\n",
        "    #Obtenemos las tasas de los clientes de la categoría buscada\n",
        "    ratings = nueva_matriz_cal[categoria_id]\n",
        "\n",
        "    #Identificamos todos los missing values de la serie ratings\n",
        "    indices = ratings[ratings.isnull()].index\n",
        "\n",
        "    #Eliminamos todos los missing values de la serie ratings\n",
        "    ratings = ratings.dropna()\n",
        "\n",
        "    #Eliminamos los scores de similitud correspondientes a los clientes con missing values\n",
        "    scores = scores.drop(indices)\n",
        "\n",
        "    #Calculamos la media ponderada\n",
        "    tasa_promedio_ponderada = np.dot(scores, ratings) / scores.sum() \n",
        "\n",
        "  else:\n",
        "    tasa_promedio_ponderada = 3\n",
        "\n",
        "  return tasa_promedio_ponderada"
      ],
      "metadata": {
        "id": "hM579XefVaPh"
      },
      "execution_count": null,
      "outputs": []
    },
    {
      "cell_type": "code",
      "source": [
        "score(modelo_media_ponderada)"
      ],
      "metadata": {
        "colab": {
          "base_uri": "https://localhost:8080/"
        },
        "id": "WoLb5SkhYad9",
        "outputId": "57f84c8f-aa4a-48cb-ef8a-a7de6745039a"
      },
      "execution_count": null,
      "outputs": [
        {
          "output_type": "execute_result",
          "data": {
            "text/plain": [
              "1.7844072061298066"
            ]
          },
          "metadata": {},
          "execution_count": 73
        }
      ]
    },
    {
      "cell_type": "markdown",
      "source": [
        "##**3° Filtro: Segmentación Demográfica - Portafolio:**"
      ],
      "metadata": {
        "id": "ryjc2mXAODj2"
      }
    },
    {
      "cell_type": "markdown",
      "source": [
        "Lo que normalmente haríamos en este caso sería encontrar el promedio de las calificaciones a partir de las variables demográficas y de portafolio que consideremos relevantes. Sin embargo, en esta ocasión vamos a intentar crear una segmentación a partir de un algoritmo no supervisados de clustering y a partir de su resultado ejecutaremos el modelo"
      ],
      "metadata": {
        "id": "fJZeasPbOVeI"
      }
    },
    {
      "cell_type": "code",
      "source": [
        "info_cliente = pd.read_csv('/content/REPOSITORIO.dsv', sep = '|', encoding = 'latin-1', decimal = ',')"
      ],
      "metadata": {
        "id": "I_TYkk1IYCoa"
      },
      "execution_count": null,
      "outputs": []
    },
    {
      "cell_type": "code",
      "source": [
        "info_cliente.head(5)"
      ],
      "metadata": {
        "colab": {
          "base_uri": "https://localhost:8080/",
          "height": 270
        },
        "id": "kAZ_9gNGODS9",
        "outputId": "188e9754-1974-41bb-d894-a016dd4f7d91"
      },
      "execution_count": null,
      "outputs": [
        {
          "output_type": "execute_result",
          "data": {
            "text/html": [
              "\n",
              "  <div id=\"df-f0177de2-5dae-48fa-8049-904765ee8867\">\n",
              "    <div class=\"colab-df-container\">\n",
              "      <div>\n",
              "<style scoped>\n",
              "    .dataframe tbody tr th:only-of-type {\n",
              "        vertical-align: middle;\n",
              "    }\n",
              "\n",
              "    .dataframe tbody tr th {\n",
              "        vertical-align: top;\n",
              "    }\n",
              "\n",
              "    .dataframe thead th {\n",
              "        text-align: right;\n",
              "    }\n",
              "</style>\n",
              "<table border=\"1\" class=\"dataframe\">\n",
              "  <thead>\n",
              "    <tr style=\"text-align: right;\">\n",
              "      <th></th>\n",
              "      <th>FECHA_CORTE</th>\n",
              "      <th>TIPO_DOCUMENTO</th>\n",
              "      <th>NUMERO_DOCUMENTO</th>\n",
              "      <th>TIPO_CLIENTE</th>\n",
              "      <th>SEXO</th>\n",
              "      <th>EDAD</th>\n",
              "      <th>CIUDAD_RESIDENCIA</th>\n",
              "      <th>DEPARTAMENTO_RESIDENCIA</th>\n",
              "      <th>AÑOS_ANTIGUEDAD</th>\n",
              "      <th>ESTADO_CIVIL</th>\n",
              "      <th>NUMERO_HIJOS</th>\n",
              "      <th>ESTRATO</th>\n",
              "      <th>INGRESOS_M</th>\n",
              "      <th>ROL</th>\n",
              "      <th>CORREO</th>\n",
              "      <th>CELULAR</th>\n",
              "      <th>HABEAS_DATA_RECIBIR</th>\n",
              "      <th>HABEAS_DATA_COMPARTIR</th>\n",
              "      <th>CARGADO_MARKETO</th>\n",
              "      <th>CLIENTE_AUTOS</th>\n",
              "      <th>CLIENTE_C_DEBIL</th>\n",
              "      <th>CLIENTE_CUMPLIMIENTO</th>\n",
              "      <th>CLIENTE_INCENDIO</th>\n",
              "      <th>CLIENTE_MANEJO</th>\n",
              "      <th>CLIENTE_R_M</th>\n",
              "      <th>CLIENTE_NAVEGACION</th>\n",
              "      <th>CLIENTE_R_C</th>\n",
              "      <th>CLIENTE_SUSTRACCION</th>\n",
              "      <th>CLIENTE_TODO_RIESGO</th>\n",
              "      <th>CLIENTE_TRANSPORTES</th>\n",
              "      <th>CLIENTE_R_V</th>\n",
              "      <th>CLIENTE_GRUPO</th>\n",
              "      <th>CLIENTE_GRUPO_PLAN_C</th>\n",
              "      <th>CLIENTE_DEUDORES</th>\n",
              "      <th>CLIENTE_HOGAR</th>\n",
              "      <th>CLIENTE_GRUPO_E</th>\n",
              "      <th>CLIENTE_U_GASTOS</th>\n",
              "      <th>CLIENTE_A_E</th>\n",
              "      <th>CLIENTE_GRUPO_PLAN_NIVELADO</th>\n",
              "      <th>CLIENTE_A_P</th>\n",
              "      <th>CLIENTE_IAPA</th>\n",
              "      <th>CLIENTE_GRUPO_T</th>\n",
              "      <th>CLIENTE_DESEMPLEO</th>\n",
              "      <th>CLIENTE_SALUD</th>\n",
              "      <th>CLIENTE_MISCELANEOS</th>\n",
              "      <th>CLIENTE_ARRENDAMIENTO</th>\n",
              "      <th>CLIENTE_GRUPO_VIP</th>\n",
              "      <th>CLIENTE_VIDA_I_BS</th>\n",
              "      <th>CLIENTE_VIDA_I</th>\n",
              "      <th>CLIENTE_VIDA_C</th>\n",
              "      <th>CLIENTE_HOTELERO</th>\n",
              "      <th>CLIENTE_M_I</th>\n",
              "      <th>CLIENTE_RAMOS_P</th>\n",
              "      <th>CLIENTE_P_LEY_100</th>\n",
              "      <th>CLIENTE_ARL</th>\n",
              "      <th>CLIENTE_PLAN_TUTOR</th>\n",
              "      <th>CLIENTE_S_V_A</th>\n",
              "      <th>CLIENTE_SOAT</th>\n",
              "      <th>CLIENTE_AUTOS_O</th>\n",
              "      <th>CLIENTE_TITULOS</th>\n",
              "      <th>SEGMENTO_VINCULACION_CLV</th>\n",
              "      <th>SEGMENTO_PERFIL_CLV</th>\n",
              "      <th>FECHA_CORTE_SEGM</th>\n",
              "      <th>NUMERO_PRODUCTOS</th>\n",
              "      <th>RANGO_EDAD</th>\n",
              "      <th>RANGO_ANTIGUEDAD</th>\n",
              "      <th>RANGO_INGRESOS</th>\n",
              "    </tr>\n",
              "  </thead>\n",
              "  <tbody>\n",
              "    <tr>\n",
              "      <th>0</th>\n",
              "      <td>01/11/21</td>\n",
              "      <td>CC</td>\n",
              "      <td>18879388</td>\n",
              "      <td>N</td>\n",
              "      <td>F</td>\n",
              "      <td>48.1</td>\n",
              "      <td>OVEJAS</td>\n",
              "      <td>SUCRE</td>\n",
              "      <td>5.5</td>\n",
              "      <td>CASADO</td>\n",
              "      <td>1.0</td>\n",
              "      <td>NaN</td>\n",
              "      <td>6.6</td>\n",
              "      <td>TOMADOR+ASEGURADO+</td>\n",
              "      <td>S</td>\n",
              "      <td>S</td>\n",
              "      <td>S</td>\n",
              "      <td>S</td>\n",
              "      <td>S</td>\n",
              "      <td>0</td>\n",
              "      <td>0</td>\n",
              "      <td>0</td>\n",
              "      <td>0</td>\n",
              "      <td>0</td>\n",
              "      <td>0</td>\n",
              "      <td>0</td>\n",
              "      <td>0</td>\n",
              "      <td>0</td>\n",
              "      <td>0</td>\n",
              "      <td>0</td>\n",
              "      <td>0</td>\n",
              "      <td>0</td>\n",
              "      <td>0</td>\n",
              "      <td>0</td>\n",
              "      <td>1</td>\n",
              "      <td>0</td>\n",
              "      <td>0</td>\n",
              "      <td>0</td>\n",
              "      <td>0</td>\n",
              "      <td>0</td>\n",
              "      <td>0</td>\n",
              "      <td>0</td>\n",
              "      <td>0</td>\n",
              "      <td>0</td>\n",
              "      <td>0</td>\n",
              "      <td>0</td>\n",
              "      <td>0</td>\n",
              "      <td>1</td>\n",
              "      <td>0</td>\n",
              "      <td>0</td>\n",
              "      <td>0</td>\n",
              "      <td>0</td>\n",
              "      <td>0</td>\n",
              "      <td>0</td>\n",
              "      <td>0</td>\n",
              "      <td>0</td>\n",
              "      <td>0</td>\n",
              "      <td>0</td>\n",
              "      <td>0</td>\n",
              "      <td>0</td>\n",
              "      <td>GRUPO_BOLIVAR</td>\n",
              "      <td>NEUTRAL</td>\n",
              "      <td>01/02/21</td>\n",
              "      <td>MultiProducto</td>\n",
              "      <td>45-55</td>\n",
              "      <td>Entre 5 y 10 años</td>\n",
              "      <td>Entre 5 y 10 MM</td>\n",
              "    </tr>\n",
              "    <tr>\n",
              "      <th>1</th>\n",
              "      <td>01/11/21</td>\n",
              "      <td>CC</td>\n",
              "      <td>1010209255</td>\n",
              "      <td>N</td>\n",
              "      <td>M</td>\n",
              "      <td>28.4</td>\n",
              "      <td>BOGOTA</td>\n",
              "      <td>CUNDINAMARCA</td>\n",
              "      <td>4.1</td>\n",
              "      <td>SOLTERO</td>\n",
              "      <td>NaN</td>\n",
              "      <td>NaN</td>\n",
              "      <td>0.9</td>\n",
              "      <td>ASEGURADO+</td>\n",
              "      <td>S</td>\n",
              "      <td>S</td>\n",
              "      <td>S</td>\n",
              "      <td>S</td>\n",
              "      <td>N</td>\n",
              "      <td>0</td>\n",
              "      <td>0</td>\n",
              "      <td>0</td>\n",
              "      <td>0</td>\n",
              "      <td>0</td>\n",
              "      <td>0</td>\n",
              "      <td>0</td>\n",
              "      <td>0</td>\n",
              "      <td>0</td>\n",
              "      <td>0</td>\n",
              "      <td>0</td>\n",
              "      <td>0</td>\n",
              "      <td>0</td>\n",
              "      <td>0</td>\n",
              "      <td>1</td>\n",
              "      <td>0</td>\n",
              "      <td>0</td>\n",
              "      <td>0</td>\n",
              "      <td>0</td>\n",
              "      <td>0</td>\n",
              "      <td>0</td>\n",
              "      <td>0</td>\n",
              "      <td>0</td>\n",
              "      <td>0</td>\n",
              "      <td>0</td>\n",
              "      <td>0</td>\n",
              "      <td>0</td>\n",
              "      <td>0</td>\n",
              "      <td>0</td>\n",
              "      <td>0</td>\n",
              "      <td>0</td>\n",
              "      <td>0</td>\n",
              "      <td>0</td>\n",
              "      <td>0</td>\n",
              "      <td>0</td>\n",
              "      <td>1</td>\n",
              "      <td>0</td>\n",
              "      <td>0</td>\n",
              "      <td>0</td>\n",
              "      <td>0</td>\n",
              "      <td>0</td>\n",
              "      <td>GRUPO_BOLIVAR</td>\n",
              "      <td>NEUTRAL</td>\n",
              "      <td>01/02/21</td>\n",
              "      <td>MultiProducto</td>\n",
              "      <td>25-35</td>\n",
              "      <td>Entre 3 y 5 años</td>\n",
              "      <td>Menos de 1 MM</td>\n",
              "    </tr>\n",
              "    <tr>\n",
              "      <th>2</th>\n",
              "      <td>01/11/21</td>\n",
              "      <td>CC</td>\n",
              "      <td>1050919339</td>\n",
              "      <td>N</td>\n",
              "      <td>M</td>\n",
              "      <td>36.1</td>\n",
              "      <td>BUCARAMANGA</td>\n",
              "      <td>SANTANDER</td>\n",
              "      <td>2.1</td>\n",
              "      <td>UNION LIBRE</td>\n",
              "      <td>NaN</td>\n",
              "      <td>NaN</td>\n",
              "      <td>1.8</td>\n",
              "      <td>ASEGURADO+</td>\n",
              "      <td>S</td>\n",
              "      <td>S</td>\n",
              "      <td>S</td>\n",
              "      <td>S</td>\n",
              "      <td>N</td>\n",
              "      <td>0</td>\n",
              "      <td>0</td>\n",
              "      <td>0</td>\n",
              "      <td>0</td>\n",
              "      <td>0</td>\n",
              "      <td>0</td>\n",
              "      <td>0</td>\n",
              "      <td>0</td>\n",
              "      <td>0</td>\n",
              "      <td>0</td>\n",
              "      <td>0</td>\n",
              "      <td>0</td>\n",
              "      <td>1</td>\n",
              "      <td>0</td>\n",
              "      <td>0</td>\n",
              "      <td>0</td>\n",
              "      <td>0</td>\n",
              "      <td>0</td>\n",
              "      <td>0</td>\n",
              "      <td>0</td>\n",
              "      <td>0</td>\n",
              "      <td>0</td>\n",
              "      <td>0</td>\n",
              "      <td>0</td>\n",
              "      <td>0</td>\n",
              "      <td>0</td>\n",
              "      <td>0</td>\n",
              "      <td>0</td>\n",
              "      <td>0</td>\n",
              "      <td>0</td>\n",
              "      <td>0</td>\n",
              "      <td>0</td>\n",
              "      <td>0</td>\n",
              "      <td>0</td>\n",
              "      <td>0</td>\n",
              "      <td>0</td>\n",
              "      <td>0</td>\n",
              "      <td>0</td>\n",
              "      <td>0</td>\n",
              "      <td>0</td>\n",
              "      <td>0</td>\n",
              "      <td>GRUPO_BOLIVAR</td>\n",
              "      <td>ACTIVO</td>\n",
              "      <td>01/02/21</td>\n",
              "      <td>MonoProducto</td>\n",
              "      <td>35-45</td>\n",
              "      <td>Entre 1 y 3 años</td>\n",
              "      <td>Entre 1 y 3 MM</td>\n",
              "    </tr>\n",
              "    <tr>\n",
              "      <th>3</th>\n",
              "      <td>01/11/21</td>\n",
              "      <td>CC</td>\n",
              "      <td>75040881</td>\n",
              "      <td>N</td>\n",
              "      <td>M</td>\n",
              "      <td>46.7</td>\n",
              "      <td>ANSERMA</td>\n",
              "      <td>CALDAS</td>\n",
              "      <td>10.9</td>\n",
              "      <td>VIUDO</td>\n",
              "      <td>NaN</td>\n",
              "      <td>NaN</td>\n",
              "      <td>1.8</td>\n",
              "      <td>ASEGURADO+</td>\n",
              "      <td>S</td>\n",
              "      <td>S</td>\n",
              "      <td>S</td>\n",
              "      <td>S</td>\n",
              "      <td>N</td>\n",
              "      <td>0</td>\n",
              "      <td>0</td>\n",
              "      <td>0</td>\n",
              "      <td>0</td>\n",
              "      <td>0</td>\n",
              "      <td>0</td>\n",
              "      <td>0</td>\n",
              "      <td>0</td>\n",
              "      <td>0</td>\n",
              "      <td>0</td>\n",
              "      <td>0</td>\n",
              "      <td>0</td>\n",
              "      <td>1</td>\n",
              "      <td>0</td>\n",
              "      <td>0</td>\n",
              "      <td>0</td>\n",
              "      <td>0</td>\n",
              "      <td>0</td>\n",
              "      <td>0</td>\n",
              "      <td>0</td>\n",
              "      <td>0</td>\n",
              "      <td>0</td>\n",
              "      <td>0</td>\n",
              "      <td>0</td>\n",
              "      <td>0</td>\n",
              "      <td>0</td>\n",
              "      <td>0</td>\n",
              "      <td>0</td>\n",
              "      <td>0</td>\n",
              "      <td>0</td>\n",
              "      <td>0</td>\n",
              "      <td>0</td>\n",
              "      <td>0</td>\n",
              "      <td>0</td>\n",
              "      <td>0</td>\n",
              "      <td>0</td>\n",
              "      <td>0</td>\n",
              "      <td>0</td>\n",
              "      <td>0</td>\n",
              "      <td>0</td>\n",
              "      <td>0</td>\n",
              "      <td>GRUPO_BOLIVAR</td>\n",
              "      <td>ACTIVO</td>\n",
              "      <td>01/02/21</td>\n",
              "      <td>MonoProducto</td>\n",
              "      <td>45-55</td>\n",
              "      <td>Entre 10 y 20 años</td>\n",
              "      <td>Entre 1 y 3 MM</td>\n",
              "    </tr>\n",
              "    <tr>\n",
              "      <th>4</th>\n",
              "      <td>01/11/21</td>\n",
              "      <td>CC</td>\n",
              "      <td>1048290780</td>\n",
              "      <td>N</td>\n",
              "      <td>M</td>\n",
              "      <td>28.5</td>\n",
              "      <td>GALAPA</td>\n",
              "      <td>ATLANTICO</td>\n",
              "      <td>7.2</td>\n",
              "      <td>SOLTERO</td>\n",
              "      <td>NaN</td>\n",
              "      <td>NaN</td>\n",
              "      <td>1.1</td>\n",
              "      <td>ASEGURADO+</td>\n",
              "      <td>S</td>\n",
              "      <td>S</td>\n",
              "      <td>S</td>\n",
              "      <td>S</td>\n",
              "      <td>N</td>\n",
              "      <td>0</td>\n",
              "      <td>0</td>\n",
              "      <td>0</td>\n",
              "      <td>0</td>\n",
              "      <td>0</td>\n",
              "      <td>0</td>\n",
              "      <td>0</td>\n",
              "      <td>1</td>\n",
              "      <td>0</td>\n",
              "      <td>0</td>\n",
              "      <td>0</td>\n",
              "      <td>0</td>\n",
              "      <td>0</td>\n",
              "      <td>0</td>\n",
              "      <td>1</td>\n",
              "      <td>0</td>\n",
              "      <td>0</td>\n",
              "      <td>0</td>\n",
              "      <td>0</td>\n",
              "      <td>0</td>\n",
              "      <td>0</td>\n",
              "      <td>0</td>\n",
              "      <td>0</td>\n",
              "      <td>0</td>\n",
              "      <td>0</td>\n",
              "      <td>0</td>\n",
              "      <td>0</td>\n",
              "      <td>0</td>\n",
              "      <td>0</td>\n",
              "      <td>0</td>\n",
              "      <td>0</td>\n",
              "      <td>0</td>\n",
              "      <td>0</td>\n",
              "      <td>0</td>\n",
              "      <td>0</td>\n",
              "      <td>0</td>\n",
              "      <td>0</td>\n",
              "      <td>0</td>\n",
              "      <td>0</td>\n",
              "      <td>0</td>\n",
              "      <td>0</td>\n",
              "      <td>GRUPO_BOLIVAR</td>\n",
              "      <td>ACTIVO</td>\n",
              "      <td>01/02/21</td>\n",
              "      <td>MultiProducto</td>\n",
              "      <td>25-35</td>\n",
              "      <td>Entre 5 y 10 años</td>\n",
              "      <td>Entre 1 y 3 MM</td>\n",
              "    </tr>\n",
              "  </tbody>\n",
              "</table>\n",
              "</div>\n",
              "      <button class=\"colab-df-convert\" onclick=\"convertToInteractive('df-f0177de2-5dae-48fa-8049-904765ee8867')\"\n",
              "              title=\"Convert this dataframe to an interactive table.\"\n",
              "              style=\"display:none;\">\n",
              "        \n",
              "  <svg xmlns=\"http://www.w3.org/2000/svg\" height=\"24px\"viewBox=\"0 0 24 24\"\n",
              "       width=\"24px\">\n",
              "    <path d=\"M0 0h24v24H0V0z\" fill=\"none\"/>\n",
              "    <path d=\"M18.56 5.44l.94 2.06.94-2.06 2.06-.94-2.06-.94-.94-2.06-.94 2.06-2.06.94zm-11 1L8.5 8.5l.94-2.06 2.06-.94-2.06-.94L8.5 2.5l-.94 2.06-2.06.94zm10 10l.94 2.06.94-2.06 2.06-.94-2.06-.94-.94-2.06-.94 2.06-2.06.94z\"/><path d=\"M17.41 7.96l-1.37-1.37c-.4-.4-.92-.59-1.43-.59-.52 0-1.04.2-1.43.59L10.3 9.45l-7.72 7.72c-.78.78-.78 2.05 0 2.83L4 21.41c.39.39.9.59 1.41.59.51 0 1.02-.2 1.41-.59l7.78-7.78 2.81-2.81c.8-.78.8-2.07 0-2.86zM5.41 20L4 18.59l7.72-7.72 1.47 1.35L5.41 20z\"/>\n",
              "  </svg>\n",
              "      </button>\n",
              "      \n",
              "  <style>\n",
              "    .colab-df-container {\n",
              "      display:flex;\n",
              "      flex-wrap:wrap;\n",
              "      gap: 12px;\n",
              "    }\n",
              "\n",
              "    .colab-df-convert {\n",
              "      background-color: #E8F0FE;\n",
              "      border: none;\n",
              "      border-radius: 50%;\n",
              "      cursor: pointer;\n",
              "      display: none;\n",
              "      fill: #1967D2;\n",
              "      height: 32px;\n",
              "      padding: 0 0 0 0;\n",
              "      width: 32px;\n",
              "    }\n",
              "\n",
              "    .colab-df-convert:hover {\n",
              "      background-color: #E2EBFA;\n",
              "      box-shadow: 0px 1px 2px rgba(60, 64, 67, 0.3), 0px 1px 3px 1px rgba(60, 64, 67, 0.15);\n",
              "      fill: #174EA6;\n",
              "    }\n",
              "\n",
              "    [theme=dark] .colab-df-convert {\n",
              "      background-color: #3B4455;\n",
              "      fill: #D2E3FC;\n",
              "    }\n",
              "\n",
              "    [theme=dark] .colab-df-convert:hover {\n",
              "      background-color: #434B5C;\n",
              "      box-shadow: 0px 1px 3px 1px rgba(0, 0, 0, 0.15);\n",
              "      filter: drop-shadow(0px 1px 2px rgba(0, 0, 0, 0.3));\n",
              "      fill: #FFFFFF;\n",
              "    }\n",
              "  </style>\n",
              "\n",
              "      <script>\n",
              "        const buttonEl =\n",
              "          document.querySelector('#df-f0177de2-5dae-48fa-8049-904765ee8867 button.colab-df-convert');\n",
              "        buttonEl.style.display =\n",
              "          google.colab.kernel.accessAllowed ? 'block' : 'none';\n",
              "\n",
              "        async function convertToInteractive(key) {\n",
              "          const element = document.querySelector('#df-f0177de2-5dae-48fa-8049-904765ee8867');\n",
              "          const dataTable =\n",
              "            await google.colab.kernel.invokeFunction('convertToInteractive',\n",
              "                                                     [key], {});\n",
              "          if (!dataTable) return;\n",
              "\n",
              "          const docLinkHtml = 'Like what you see? Visit the ' +\n",
              "            '<a target=\"_blank\" href=https://colab.research.google.com/notebooks/data_table.ipynb>data table notebook</a>'\n",
              "            + ' to learn more about interactive tables.';\n",
              "          element.innerHTML = '';\n",
              "          dataTable['output_type'] = 'display_data';\n",
              "          await google.colab.output.renderOutput(dataTable, element);\n",
              "          const docLink = document.createElement('div');\n",
              "          docLink.innerHTML = docLinkHtml;\n",
              "          element.appendChild(docLink);\n",
              "        }\n",
              "      </script>\n",
              "    </div>\n",
              "  </div>\n",
              "  "
            ],
            "text/plain": [
              "  FECHA_CORTE TIPO_DOCUMENTO  ...    RANGO_ANTIGUEDAD   RANGO_INGRESOS\n",
              "0    01/11/21             CC  ...   Entre 5 y 10 años  Entre 5 y 10 MM\n",
              "1    01/11/21             CC  ...    Entre 3 y 5 años    Menos de 1 MM\n",
              "2    01/11/21             CC  ...    Entre 1 y 3 años   Entre 1 y 3 MM\n",
              "3    01/11/21             CC  ...  Entre 10 y 20 años   Entre 1 y 3 MM\n",
              "4    01/11/21             CC  ...   Entre 5 y 10 años   Entre 1 y 3 MM\n",
              "\n",
              "[5 rows x 67 columns]"
            ]
          },
          "metadata": {},
          "execution_count": 57
        }
      ]
    },
    {
      "cell_type": "code",
      "source": [
        "info_cliente.shape"
      ],
      "metadata": {
        "colab": {
          "base_uri": "https://localhost:8080/"
        },
        "id": "wJ8Ii13wn24k",
        "outputId": "550645ca-ef97-4a65-dfe3-347b9a863429"
      },
      "execution_count": null,
      "outputs": [
        {
          "output_type": "execute_result",
          "data": {
            "text/plain": [
              "(3046082, 67)"
            ]
          },
          "metadata": {},
          "execution_count": 58
        }
      ]
    },
    {
      "cell_type": "code",
      "source": [
        "info_cliente = info_cliente[['TIPO_DOCUMENTO', 'NUMERO_DOCUMENTO', 'SEXO', 'EDAD', 'CIUDAD_RESIDENCIA', 'AÑOS_ANTIGUEDAD', 'ESTADO_CIVIL', \n",
        "                            'ROL', 'SEGMENTO_PERFIL_CLV', 'NUMERO_PRODUCTOS']]"
      ],
      "metadata": {
        "id": "ZUcXf9GFpiND"
      },
      "execution_count": null,
      "outputs": []
    },
    {
      "cell_type": "code",
      "source": [
        "info_cliente.head(5)"
      ],
      "metadata": {
        "colab": {
          "base_uri": "https://localhost:8080/",
          "height": 206
        },
        "id": "Gz9KQQ0j157Q",
        "outputId": "e1375b7a-f7e8-489c-c5a1-ba5bc1c94669"
      },
      "execution_count": null,
      "outputs": [
        {
          "output_type": "execute_result",
          "data": {
            "text/html": [
              "\n",
              "  <div id=\"df-e2d14a15-d595-4cde-9718-f6d61bb10130\">\n",
              "    <div class=\"colab-df-container\">\n",
              "      <div>\n",
              "<style scoped>\n",
              "    .dataframe tbody tr th:only-of-type {\n",
              "        vertical-align: middle;\n",
              "    }\n",
              "\n",
              "    .dataframe tbody tr th {\n",
              "        vertical-align: top;\n",
              "    }\n",
              "\n",
              "    .dataframe thead th {\n",
              "        text-align: right;\n",
              "    }\n",
              "</style>\n",
              "<table border=\"1\" class=\"dataframe\">\n",
              "  <thead>\n",
              "    <tr style=\"text-align: right;\">\n",
              "      <th></th>\n",
              "      <th>TIPO_DOCUMENTO</th>\n",
              "      <th>NUMERO_DOCUMENTO</th>\n",
              "      <th>SEXO</th>\n",
              "      <th>EDAD</th>\n",
              "      <th>CIUDAD_RESIDENCIA</th>\n",
              "      <th>AÑOS_ANTIGUEDAD</th>\n",
              "      <th>ESTADO_CIVIL</th>\n",
              "      <th>ROL</th>\n",
              "      <th>SEGMENTO_PERFIL_CLV</th>\n",
              "      <th>NUMERO_PRODUCTOS</th>\n",
              "    </tr>\n",
              "  </thead>\n",
              "  <tbody>\n",
              "    <tr>\n",
              "      <th>0</th>\n",
              "      <td>CC</td>\n",
              "      <td>18879388</td>\n",
              "      <td>F</td>\n",
              "      <td>48.1</td>\n",
              "      <td>OVEJAS</td>\n",
              "      <td>5.5</td>\n",
              "      <td>CASADO</td>\n",
              "      <td>TOMADOR+ASEGURADO+</td>\n",
              "      <td>NEUTRAL</td>\n",
              "      <td>MultiProducto</td>\n",
              "    </tr>\n",
              "    <tr>\n",
              "      <th>1</th>\n",
              "      <td>CC</td>\n",
              "      <td>1010209255</td>\n",
              "      <td>M</td>\n",
              "      <td>28.4</td>\n",
              "      <td>BOGOTA</td>\n",
              "      <td>4.1</td>\n",
              "      <td>SOLTERO</td>\n",
              "      <td>ASEGURADO+</td>\n",
              "      <td>NEUTRAL</td>\n",
              "      <td>MultiProducto</td>\n",
              "    </tr>\n",
              "    <tr>\n",
              "      <th>2</th>\n",
              "      <td>CC</td>\n",
              "      <td>1050919339</td>\n",
              "      <td>M</td>\n",
              "      <td>36.1</td>\n",
              "      <td>BUCARAMANGA</td>\n",
              "      <td>2.1</td>\n",
              "      <td>UNION LIBRE</td>\n",
              "      <td>ASEGURADO+</td>\n",
              "      <td>ACTIVO</td>\n",
              "      <td>MonoProducto</td>\n",
              "    </tr>\n",
              "    <tr>\n",
              "      <th>3</th>\n",
              "      <td>CC</td>\n",
              "      <td>75040881</td>\n",
              "      <td>M</td>\n",
              "      <td>46.7</td>\n",
              "      <td>ANSERMA</td>\n",
              "      <td>10.9</td>\n",
              "      <td>VIUDO</td>\n",
              "      <td>ASEGURADO+</td>\n",
              "      <td>ACTIVO</td>\n",
              "      <td>MonoProducto</td>\n",
              "    </tr>\n",
              "    <tr>\n",
              "      <th>4</th>\n",
              "      <td>CC</td>\n",
              "      <td>1048290780</td>\n",
              "      <td>M</td>\n",
              "      <td>28.5</td>\n",
              "      <td>GALAPA</td>\n",
              "      <td>7.2</td>\n",
              "      <td>SOLTERO</td>\n",
              "      <td>ASEGURADO+</td>\n",
              "      <td>ACTIVO</td>\n",
              "      <td>MultiProducto</td>\n",
              "    </tr>\n",
              "  </tbody>\n",
              "</table>\n",
              "</div>\n",
              "      <button class=\"colab-df-convert\" onclick=\"convertToInteractive('df-e2d14a15-d595-4cde-9718-f6d61bb10130')\"\n",
              "              title=\"Convert this dataframe to an interactive table.\"\n",
              "              style=\"display:none;\">\n",
              "        \n",
              "  <svg xmlns=\"http://www.w3.org/2000/svg\" height=\"24px\"viewBox=\"0 0 24 24\"\n",
              "       width=\"24px\">\n",
              "    <path d=\"M0 0h24v24H0V0z\" fill=\"none\"/>\n",
              "    <path d=\"M18.56 5.44l.94 2.06.94-2.06 2.06-.94-2.06-.94-.94-2.06-.94 2.06-2.06.94zm-11 1L8.5 8.5l.94-2.06 2.06-.94-2.06-.94L8.5 2.5l-.94 2.06-2.06.94zm10 10l.94 2.06.94-2.06 2.06-.94-2.06-.94-.94-2.06-.94 2.06-2.06.94z\"/><path d=\"M17.41 7.96l-1.37-1.37c-.4-.4-.92-.59-1.43-.59-.52 0-1.04.2-1.43.59L10.3 9.45l-7.72 7.72c-.78.78-.78 2.05 0 2.83L4 21.41c.39.39.9.59 1.41.59.51 0 1.02-.2 1.41-.59l7.78-7.78 2.81-2.81c.8-.78.8-2.07 0-2.86zM5.41 20L4 18.59l7.72-7.72 1.47 1.35L5.41 20z\"/>\n",
              "  </svg>\n",
              "      </button>\n",
              "      \n",
              "  <style>\n",
              "    .colab-df-container {\n",
              "      display:flex;\n",
              "      flex-wrap:wrap;\n",
              "      gap: 12px;\n",
              "    }\n",
              "\n",
              "    .colab-df-convert {\n",
              "      background-color: #E8F0FE;\n",
              "      border: none;\n",
              "      border-radius: 50%;\n",
              "      cursor: pointer;\n",
              "      display: none;\n",
              "      fill: #1967D2;\n",
              "      height: 32px;\n",
              "      padding: 0 0 0 0;\n",
              "      width: 32px;\n",
              "    }\n",
              "\n",
              "    .colab-df-convert:hover {\n",
              "      background-color: #E2EBFA;\n",
              "      box-shadow: 0px 1px 2px rgba(60, 64, 67, 0.3), 0px 1px 3px 1px rgba(60, 64, 67, 0.15);\n",
              "      fill: #174EA6;\n",
              "    }\n",
              "\n",
              "    [theme=dark] .colab-df-convert {\n",
              "      background-color: #3B4455;\n",
              "      fill: #D2E3FC;\n",
              "    }\n",
              "\n",
              "    [theme=dark] .colab-df-convert:hover {\n",
              "      background-color: #434B5C;\n",
              "      box-shadow: 0px 1px 3px 1px rgba(0, 0, 0, 0.15);\n",
              "      filter: drop-shadow(0px 1px 2px rgba(0, 0, 0, 0.3));\n",
              "      fill: #FFFFFF;\n",
              "    }\n",
              "  </style>\n",
              "\n",
              "      <script>\n",
              "        const buttonEl =\n",
              "          document.querySelector('#df-e2d14a15-d595-4cde-9718-f6d61bb10130 button.colab-df-convert');\n",
              "        buttonEl.style.display =\n",
              "          google.colab.kernel.accessAllowed ? 'block' : 'none';\n",
              "\n",
              "        async function convertToInteractive(key) {\n",
              "          const element = document.querySelector('#df-e2d14a15-d595-4cde-9718-f6d61bb10130');\n",
              "          const dataTable =\n",
              "            await google.colab.kernel.invokeFunction('convertToInteractive',\n",
              "                                                     [key], {});\n",
              "          if (!dataTable) return;\n",
              "\n",
              "          const docLinkHtml = 'Like what you see? Visit the ' +\n",
              "            '<a target=\"_blank\" href=https://colab.research.google.com/notebooks/data_table.ipynb>data table notebook</a>'\n",
              "            + ' to learn more about interactive tables.';\n",
              "          element.innerHTML = '';\n",
              "          dataTable['output_type'] = 'display_data';\n",
              "          await google.colab.output.renderOutput(dataTable, element);\n",
              "          const docLink = document.createElement('div');\n",
              "          docLink.innerHTML = docLinkHtml;\n",
              "          element.appendChild(docLink);\n",
              "        }\n",
              "      </script>\n",
              "    </div>\n",
              "  </div>\n",
              "  "
            ],
            "text/plain": [
              "  TIPO_DOCUMENTO  NUMERO_DOCUMENTO  ... SEGMENTO_PERFIL_CLV  NUMERO_PRODUCTOS\n",
              "0             CC          18879388  ...             NEUTRAL     MultiProducto\n",
              "1             CC        1010209255  ...             NEUTRAL     MultiProducto\n",
              "2             CC        1050919339  ...              ACTIVO      MonoProducto\n",
              "3             CC          75040881  ...              ACTIVO      MonoProducto\n",
              "4             CC        1048290780  ...              ACTIVO     MultiProducto\n",
              "\n",
              "[5 rows x 10 columns]"
            ]
          },
          "metadata": {},
          "execution_count": 62
        }
      ]
    },
    {
      "cell_type": "code",
      "source": [
        "info_cliente.to_csv('INFO_CLIENTE.csv')"
      ],
      "metadata": {
        "id": "XQRdbOtXmihE"
      },
      "execution_count": null,
      "outputs": []
    },
    {
      "cell_type": "code",
      "source": [
        "files.download('INFO_CLIENTE.csv')"
      ],
      "metadata": {
        "id": "VXna-Kq1myLa"
      },
      "execution_count": null,
      "outputs": []
    },
    {
      "cell_type": "code",
      "source": [
        "info_cliente.isnull().sum()"
      ],
      "metadata": {
        "colab": {
          "base_uri": "https://localhost:8080/"
        },
        "id": "jLwRarqPpQeE",
        "outputId": "37f9d42f-9e8f-4ca9-c986-fff878ec2b78"
      },
      "execution_count": null,
      "outputs": [
        {
          "output_type": "execute_result",
          "data": {
            "text/plain": [
              "TIPO_DOCUMENTO               0\n",
              "NUMERO_DOCUMENTO             0\n",
              "SEXO                    124606\n",
              "EDAD                    302117\n",
              "CIUDAD_RESIDENCIA       311086\n",
              "AÑOS_ANTIGUEDAD         117207\n",
              "ESTADO_CIVIL            747337\n",
              "ROL                      62412\n",
              "SEGMENTO_PERFIL_CLV    1364158\n",
              "NUMERO_PRODUCTOS        228385\n",
              "dtype: int64"
            ]
          },
          "metadata": {},
          "execution_count": 61
        }
      ]
    },
    {
      "cell_type": "markdown",
      "source": [
        "###**Limpieza sexo**"
      ],
      "metadata": {
        "id": "HFd8AabL3Ll8"
      }
    },
    {
      "cell_type": "code",
      "source": [
        "#Limpieza campo sexo: Dado que no podemos asumir el sexo de una persona, \n",
        "#vamos a eliminar los missing values de dicha columna\n",
        "info_cliente_sexo_ok = info_cliente[info_cliente['SEXO'].notna()]"
      ],
      "metadata": {
        "id": "3DsAw2-ErfMu"
      },
      "execution_count": null,
      "outputs": []
    },
    {
      "cell_type": "code",
      "source": [
        "def mayuscula(x):\n",
        "  x = x.upper()\n",
        "  return x"
      ],
      "metadata": {
        "id": "vXA2YYrMt3pj"
      },
      "execution_count": null,
      "outputs": []
    },
    {
      "cell_type": "code",
      "source": [
        "info_cliente_sexo_ok['SEXO'] = info_cliente_sexo_ok['SEXO'].apply(mayuscula)"
      ],
      "metadata": {
        "id": "QnoUk9w-uEPS",
        "colab": {
          "base_uri": "https://localhost:8080/"
        },
        "outputId": "68ed5376-1922-42cb-906a-96690848ed8d"
      },
      "execution_count": null,
      "outputs": [
        {
          "output_type": "stream",
          "name": "stderr",
          "text": [
            "/usr/local/lib/python3.7/dist-packages/ipykernel_launcher.py:1: SettingWithCopyWarning: \n",
            "A value is trying to be set on a copy of a slice from a DataFrame.\n",
            "Try using .loc[row_indexer,col_indexer] = value instead\n",
            "\n",
            "See the caveats in the documentation: https://pandas.pydata.org/pandas-docs/stable/user_guide/indexing.html#returning-a-view-versus-a-copy\n",
            "  \"\"\"Entry point for launching an IPython kernel.\n"
          ]
        }
      ]
    },
    {
      "cell_type": "code",
      "source": [
        "info_cliente_sexo_ok.groupby('SEXO').count()"
      ],
      "metadata": {
        "colab": {
          "base_uri": "https://localhost:8080/",
          "height": 143
        },
        "id": "ejoK3-3gtGYb",
        "outputId": "79f21535-86b0-411c-f7f5-9bbc04359ead"
      },
      "execution_count": null,
      "outputs": [
        {
          "output_type": "execute_result",
          "data": {
            "text/html": [
              "\n",
              "  <div id=\"df-35d31a38-05ff-49ed-9e31-f266c4146e2b\">\n",
              "    <div class=\"colab-df-container\">\n",
              "      <div>\n",
              "<style scoped>\n",
              "    .dataframe tbody tr th:only-of-type {\n",
              "        vertical-align: middle;\n",
              "    }\n",
              "\n",
              "    .dataframe tbody tr th {\n",
              "        vertical-align: top;\n",
              "    }\n",
              "\n",
              "    .dataframe thead th {\n",
              "        text-align: right;\n",
              "    }\n",
              "</style>\n",
              "<table border=\"1\" class=\"dataframe\">\n",
              "  <thead>\n",
              "    <tr style=\"text-align: right;\">\n",
              "      <th></th>\n",
              "      <th>TIPO_DOCUMENTO</th>\n",
              "      <th>NUMERO_DOCUMENTO</th>\n",
              "      <th>EDAD</th>\n",
              "      <th>CIUDAD_RESIDENCIA</th>\n",
              "      <th>AÑOS_ANTIGUEDAD</th>\n",
              "      <th>ESTADO_CIVIL</th>\n",
              "      <th>ROL</th>\n",
              "      <th>SEGMENTO_PERFIL_CLV</th>\n",
              "      <th>NUMERO_PRODUCTOS</th>\n",
              "    </tr>\n",
              "    <tr>\n",
              "      <th>SEXO</th>\n",
              "      <th></th>\n",
              "      <th></th>\n",
              "      <th></th>\n",
              "      <th></th>\n",
              "      <th></th>\n",
              "      <th></th>\n",
              "      <th></th>\n",
              "      <th></th>\n",
              "      <th></th>\n",
              "    </tr>\n",
              "  </thead>\n",
              "  <tbody>\n",
              "    <tr>\n",
              "      <th>F</th>\n",
              "      <td>1285476</td>\n",
              "      <td>1285476</td>\n",
              "      <td>1186742</td>\n",
              "      <td>1174326</td>\n",
              "      <td>1258668</td>\n",
              "      <td>1020923</td>\n",
              "      <td>1285476</td>\n",
              "      <td>764669</td>\n",
              "      <td>1214978</td>\n",
              "    </tr>\n",
              "    <tr>\n",
              "      <th>M</th>\n",
              "      <td>1636000</td>\n",
              "      <td>1636000</td>\n",
              "      <td>1527463</td>\n",
              "      <td>1504044</td>\n",
              "      <td>1605610</td>\n",
              "      <td>1263458</td>\n",
              "      <td>1636000</td>\n",
              "      <td>872726</td>\n",
              "      <td>1547179</td>\n",
              "    </tr>\n",
              "  </tbody>\n",
              "</table>\n",
              "</div>\n",
              "      <button class=\"colab-df-convert\" onclick=\"convertToInteractive('df-35d31a38-05ff-49ed-9e31-f266c4146e2b')\"\n",
              "              title=\"Convert this dataframe to an interactive table.\"\n",
              "              style=\"display:none;\">\n",
              "        \n",
              "  <svg xmlns=\"http://www.w3.org/2000/svg\" height=\"24px\"viewBox=\"0 0 24 24\"\n",
              "       width=\"24px\">\n",
              "    <path d=\"M0 0h24v24H0V0z\" fill=\"none\"/>\n",
              "    <path d=\"M18.56 5.44l.94 2.06.94-2.06 2.06-.94-2.06-.94-.94-2.06-.94 2.06-2.06.94zm-11 1L8.5 8.5l.94-2.06 2.06-.94-2.06-.94L8.5 2.5l-.94 2.06-2.06.94zm10 10l.94 2.06.94-2.06 2.06-.94-2.06-.94-.94-2.06-.94 2.06-2.06.94z\"/><path d=\"M17.41 7.96l-1.37-1.37c-.4-.4-.92-.59-1.43-.59-.52 0-1.04.2-1.43.59L10.3 9.45l-7.72 7.72c-.78.78-.78 2.05 0 2.83L4 21.41c.39.39.9.59 1.41.59.51 0 1.02-.2 1.41-.59l7.78-7.78 2.81-2.81c.8-.78.8-2.07 0-2.86zM5.41 20L4 18.59l7.72-7.72 1.47 1.35L5.41 20z\"/>\n",
              "  </svg>\n",
              "      </button>\n",
              "      \n",
              "  <style>\n",
              "    .colab-df-container {\n",
              "      display:flex;\n",
              "      flex-wrap:wrap;\n",
              "      gap: 12px;\n",
              "    }\n",
              "\n",
              "    .colab-df-convert {\n",
              "      background-color: #E8F0FE;\n",
              "      border: none;\n",
              "      border-radius: 50%;\n",
              "      cursor: pointer;\n",
              "      display: none;\n",
              "      fill: #1967D2;\n",
              "      height: 32px;\n",
              "      padding: 0 0 0 0;\n",
              "      width: 32px;\n",
              "    }\n",
              "\n",
              "    .colab-df-convert:hover {\n",
              "      background-color: #E2EBFA;\n",
              "      box-shadow: 0px 1px 2px rgba(60, 64, 67, 0.3), 0px 1px 3px 1px rgba(60, 64, 67, 0.15);\n",
              "      fill: #174EA6;\n",
              "    }\n",
              "\n",
              "    [theme=dark] .colab-df-convert {\n",
              "      background-color: #3B4455;\n",
              "      fill: #D2E3FC;\n",
              "    }\n",
              "\n",
              "    [theme=dark] .colab-df-convert:hover {\n",
              "      background-color: #434B5C;\n",
              "      box-shadow: 0px 1px 3px 1px rgba(0, 0, 0, 0.15);\n",
              "      filter: drop-shadow(0px 1px 2px rgba(0, 0, 0, 0.3));\n",
              "      fill: #FFFFFF;\n",
              "    }\n",
              "  </style>\n",
              "\n",
              "      <script>\n",
              "        const buttonEl =\n",
              "          document.querySelector('#df-35d31a38-05ff-49ed-9e31-f266c4146e2b button.colab-df-convert');\n",
              "        buttonEl.style.display =\n",
              "          google.colab.kernel.accessAllowed ? 'block' : 'none';\n",
              "\n",
              "        async function convertToInteractive(key) {\n",
              "          const element = document.querySelector('#df-35d31a38-05ff-49ed-9e31-f266c4146e2b');\n",
              "          const dataTable =\n",
              "            await google.colab.kernel.invokeFunction('convertToInteractive',\n",
              "                                                     [key], {});\n",
              "          if (!dataTable) return;\n",
              "\n",
              "          const docLinkHtml = 'Like what you see? Visit the ' +\n",
              "            '<a target=\"_blank\" href=https://colab.research.google.com/notebooks/data_table.ipynb>data table notebook</a>'\n",
              "            + ' to learn more about interactive tables.';\n",
              "          element.innerHTML = '';\n",
              "          dataTable['output_type'] = 'display_data';\n",
              "          await google.colab.output.renderOutput(dataTable, element);\n",
              "          const docLink = document.createElement('div');\n",
              "          docLink.innerHTML = docLinkHtml;\n",
              "          element.appendChild(docLink);\n",
              "        }\n",
              "      </script>\n",
              "    </div>\n",
              "  </div>\n",
              "  "
            ],
            "text/plain": [
              "      TIPO_DOCUMENTO  NUMERO_DOCUMENTO  ...  SEGMENTO_PERFIL_CLV  NUMERO_PRODUCTOS\n",
              "SEXO                                    ...                                       \n",
              "F            1285476           1285476  ...               764669           1214978\n",
              "M            1636000           1636000  ...               872726           1547179\n",
              "\n",
              "[2 rows x 9 columns]"
            ]
          },
          "metadata": {},
          "execution_count": 66
        }
      ]
    },
    {
      "cell_type": "code",
      "source": [
        "info_cliente_sexo_ok.shape"
      ],
      "metadata": {
        "colab": {
          "base_uri": "https://localhost:8080/"
        },
        "id": "xTk2iQIMr9tN",
        "outputId": "5592fb4c-cc30-4b49-b4bd-bed3152ddd58"
      },
      "execution_count": null,
      "outputs": [
        {
          "output_type": "execute_result",
          "data": {
            "text/plain": [
              "(2921476, 10)"
            ]
          },
          "metadata": {},
          "execution_count": 67
        }
      ]
    },
    {
      "cell_type": "markdown",
      "source": [
        "###**Limpieza edad**"
      ],
      "metadata": {
        "id": "MSgWM0uD3R-7"
      }
    },
    {
      "cell_type": "code",
      "source": [
        "#Limpieza campo edad: En este caso vamos a asegurarnos que el campo sea \n",
        "#de tipo float y luego vamos a modificar tanto los outliers, como \n",
        "#los missing values por la media de la columna\n",
        "info_cliente_edad_ok = info_cliente_sexo_ok.copy()"
      ],
      "metadata": {
        "id": "ZMg1pGI_rWST"
      },
      "execution_count": null,
      "outputs": []
    },
    {
      "cell_type": "code",
      "source": [
        "info_cliente_edad_ok.head(5)"
      ],
      "metadata": {
        "colab": {
          "base_uri": "https://localhost:8080/",
          "height": 206
        },
        "id": "3PmloEZNxJTb",
        "outputId": "ffa8cb89-756f-4ed1-fa17-f91d3fe9206c"
      },
      "execution_count": null,
      "outputs": [
        {
          "output_type": "execute_result",
          "data": {
            "text/html": [
              "\n",
              "  <div id=\"df-c7fb2e69-a3fe-4de1-a6e4-2b131be33a4c\">\n",
              "    <div class=\"colab-df-container\">\n",
              "      <div>\n",
              "<style scoped>\n",
              "    .dataframe tbody tr th:only-of-type {\n",
              "        vertical-align: middle;\n",
              "    }\n",
              "\n",
              "    .dataframe tbody tr th {\n",
              "        vertical-align: top;\n",
              "    }\n",
              "\n",
              "    .dataframe thead th {\n",
              "        text-align: right;\n",
              "    }\n",
              "</style>\n",
              "<table border=\"1\" class=\"dataframe\">\n",
              "  <thead>\n",
              "    <tr style=\"text-align: right;\">\n",
              "      <th></th>\n",
              "      <th>TIPO_DOCUMENTO</th>\n",
              "      <th>NUMERO_DOCUMENTO</th>\n",
              "      <th>SEXO</th>\n",
              "      <th>EDAD</th>\n",
              "      <th>CIUDAD_RESIDENCIA</th>\n",
              "      <th>AÑOS_ANTIGUEDAD</th>\n",
              "      <th>ESTADO_CIVIL</th>\n",
              "      <th>ROL</th>\n",
              "      <th>SEGMENTO_PERFIL_CLV</th>\n",
              "      <th>NUMERO_PRODUCTOS</th>\n",
              "    </tr>\n",
              "  </thead>\n",
              "  <tbody>\n",
              "    <tr>\n",
              "      <th>0</th>\n",
              "      <td>CC</td>\n",
              "      <td>18879388</td>\n",
              "      <td>F</td>\n",
              "      <td>48.0</td>\n",
              "      <td>OVEJAS</td>\n",
              "      <td>5.5</td>\n",
              "      <td>CASADO</td>\n",
              "      <td>TOMADOR+ASEGURADO+</td>\n",
              "      <td>NEUTRAL</td>\n",
              "      <td>MultiProducto</td>\n",
              "    </tr>\n",
              "    <tr>\n",
              "      <th>1</th>\n",
              "      <td>CC</td>\n",
              "      <td>1010209255</td>\n",
              "      <td>M</td>\n",
              "      <td>28.0</td>\n",
              "      <td>BOGOTA</td>\n",
              "      <td>4.1</td>\n",
              "      <td>SOLTERO</td>\n",
              "      <td>ASEGURADO+</td>\n",
              "      <td>NEUTRAL</td>\n",
              "      <td>MultiProducto</td>\n",
              "    </tr>\n",
              "    <tr>\n",
              "      <th>2</th>\n",
              "      <td>CC</td>\n",
              "      <td>1050919339</td>\n",
              "      <td>M</td>\n",
              "      <td>36.0</td>\n",
              "      <td>BUCARAMANGA</td>\n",
              "      <td>2.1</td>\n",
              "      <td>UNION LIBRE</td>\n",
              "      <td>ASEGURADO+</td>\n",
              "      <td>ACTIVO</td>\n",
              "      <td>MonoProducto</td>\n",
              "    </tr>\n",
              "    <tr>\n",
              "      <th>3</th>\n",
              "      <td>CC</td>\n",
              "      <td>75040881</td>\n",
              "      <td>M</td>\n",
              "      <td>47.0</td>\n",
              "      <td>ANSERMA</td>\n",
              "      <td>10.9</td>\n",
              "      <td>VIUDO</td>\n",
              "      <td>ASEGURADO+</td>\n",
              "      <td>ACTIVO</td>\n",
              "      <td>MonoProducto</td>\n",
              "    </tr>\n",
              "    <tr>\n",
              "      <th>4</th>\n",
              "      <td>CC</td>\n",
              "      <td>1048290780</td>\n",
              "      <td>M</td>\n",
              "      <td>28.0</td>\n",
              "      <td>GALAPA</td>\n",
              "      <td>7.2</td>\n",
              "      <td>SOLTERO</td>\n",
              "      <td>ASEGURADO+</td>\n",
              "      <td>ACTIVO</td>\n",
              "      <td>MultiProducto</td>\n",
              "    </tr>\n",
              "  </tbody>\n",
              "</table>\n",
              "</div>\n",
              "      <button class=\"colab-df-convert\" onclick=\"convertToInteractive('df-c7fb2e69-a3fe-4de1-a6e4-2b131be33a4c')\"\n",
              "              title=\"Convert this dataframe to an interactive table.\"\n",
              "              style=\"display:none;\">\n",
              "        \n",
              "  <svg xmlns=\"http://www.w3.org/2000/svg\" height=\"24px\"viewBox=\"0 0 24 24\"\n",
              "       width=\"24px\">\n",
              "    <path d=\"M0 0h24v24H0V0z\" fill=\"none\"/>\n",
              "    <path d=\"M18.56 5.44l.94 2.06.94-2.06 2.06-.94-2.06-.94-.94-2.06-.94 2.06-2.06.94zm-11 1L8.5 8.5l.94-2.06 2.06-.94-2.06-.94L8.5 2.5l-.94 2.06-2.06.94zm10 10l.94 2.06.94-2.06 2.06-.94-2.06-.94-.94-2.06-.94 2.06-2.06.94z\"/><path d=\"M17.41 7.96l-1.37-1.37c-.4-.4-.92-.59-1.43-.59-.52 0-1.04.2-1.43.59L10.3 9.45l-7.72 7.72c-.78.78-.78 2.05 0 2.83L4 21.41c.39.39.9.59 1.41.59.51 0 1.02-.2 1.41-.59l7.78-7.78 2.81-2.81c.8-.78.8-2.07 0-2.86zM5.41 20L4 18.59l7.72-7.72 1.47 1.35L5.41 20z\"/>\n",
              "  </svg>\n",
              "      </button>\n",
              "      \n",
              "  <style>\n",
              "    .colab-df-container {\n",
              "      display:flex;\n",
              "      flex-wrap:wrap;\n",
              "      gap: 12px;\n",
              "    }\n",
              "\n",
              "    .colab-df-convert {\n",
              "      background-color: #E8F0FE;\n",
              "      border: none;\n",
              "      border-radius: 50%;\n",
              "      cursor: pointer;\n",
              "      display: none;\n",
              "      fill: #1967D2;\n",
              "      height: 32px;\n",
              "      padding: 0 0 0 0;\n",
              "      width: 32px;\n",
              "    }\n",
              "\n",
              "    .colab-df-convert:hover {\n",
              "      background-color: #E2EBFA;\n",
              "      box-shadow: 0px 1px 2px rgba(60, 64, 67, 0.3), 0px 1px 3px 1px rgba(60, 64, 67, 0.15);\n",
              "      fill: #174EA6;\n",
              "    }\n",
              "\n",
              "    [theme=dark] .colab-df-convert {\n",
              "      background-color: #3B4455;\n",
              "      fill: #D2E3FC;\n",
              "    }\n",
              "\n",
              "    [theme=dark] .colab-df-convert:hover {\n",
              "      background-color: #434B5C;\n",
              "      box-shadow: 0px 1px 3px 1px rgba(0, 0, 0, 0.15);\n",
              "      filter: drop-shadow(0px 1px 2px rgba(0, 0, 0, 0.3));\n",
              "      fill: #FFFFFF;\n",
              "    }\n",
              "  </style>\n",
              "\n",
              "      <script>\n",
              "        const buttonEl =\n",
              "          document.querySelector('#df-c7fb2e69-a3fe-4de1-a6e4-2b131be33a4c button.colab-df-convert');\n",
              "        buttonEl.style.display =\n",
              "          google.colab.kernel.accessAllowed ? 'block' : 'none';\n",
              "\n",
              "        async function convertToInteractive(key) {\n",
              "          const element = document.querySelector('#df-c7fb2e69-a3fe-4de1-a6e4-2b131be33a4c');\n",
              "          const dataTable =\n",
              "            await google.colab.kernel.invokeFunction('convertToInteractive',\n",
              "                                                     [key], {});\n",
              "          if (!dataTable) return;\n",
              "\n",
              "          const docLinkHtml = 'Like what you see? Visit the ' +\n",
              "            '<a target=\"_blank\" href=https://colab.research.google.com/notebooks/data_table.ipynb>data table notebook</a>'\n",
              "            + ' to learn more about interactive tables.';\n",
              "          element.innerHTML = '';\n",
              "          dataTable['output_type'] = 'display_data';\n",
              "          await google.colab.output.renderOutput(dataTable, element);\n",
              "          const docLink = document.createElement('div');\n",
              "          docLink.innerHTML = docLinkHtml;\n",
              "          element.appendChild(docLink);\n",
              "        }\n",
              "      </script>\n",
              "    </div>\n",
              "  </div>\n",
              "  "
            ],
            "text/plain": [
              "  TIPO_DOCUMENTO  NUMERO_DOCUMENTO  ... SEGMENTO_PERFIL_CLV  NUMERO_PRODUCTOS\n",
              "0             CC          18879388  ...             NEUTRAL     MultiProducto\n",
              "1             CC        1010209255  ...             NEUTRAL     MultiProducto\n",
              "2             CC        1050919339  ...              ACTIVO      MonoProducto\n",
              "3             CC          75040881  ...              ACTIVO      MonoProducto\n",
              "4             CC        1048290780  ...              ACTIVO     MultiProducto\n",
              "\n",
              "[5 rows x 10 columns]"
            ]
          },
          "metadata": {},
          "execution_count": 76
        }
      ]
    },
    {
      "cell_type": "code",
      "source": [
        "def to_float(x):\n",
        "  try:\n",
        "    x = round(float(x),0)\n",
        "  except:\n",
        "    x = np.nan\n",
        "  return x"
      ],
      "metadata": {
        "id": "R6Sl19IGweny"
      },
      "execution_count": null,
      "outputs": []
    },
    {
      "cell_type": "code",
      "source": [
        "info_cliente_edad_ok['EDAD'] = info_cliente_edad_ok['EDAD'].apply(to_float)\n"
      ],
      "metadata": {
        "id": "_l7f2xs8w9os"
      },
      "execution_count": null,
      "outputs": []
    },
    {
      "cell_type": "code",
      "source": [
        "def no_outliers(x):\n",
        "  if x < 18 or x > 99:\n",
        "    x = np.nan\n",
        "  else:\n",
        "    x = x\n",
        "  return x"
      ],
      "metadata": {
        "id": "1Sn1vZ-Jofw9"
      },
      "execution_count": null,
      "outputs": []
    },
    {
      "cell_type": "code",
      "source": [
        "info_cliente_edad_ok['EDAD'] = info_cliente_edad_ok['EDAD'].apply(no_outliers)"
      ],
      "metadata": {
        "id": "5blaMqS3r8an"
      },
      "execution_count": null,
      "outputs": []
    },
    {
      "cell_type": "code",
      "source": [
        "info_cliente_edad_ok['EDAD'].isnull().sum()"
      ],
      "metadata": {
        "colab": {
          "base_uri": "https://localhost:8080/"
        },
        "id": "BGGVgbVYsJhQ",
        "outputId": "343ddde6-1bf1-43a6-ac9a-747f366061ec"
      },
      "execution_count": null,
      "outputs": [
        {
          "output_type": "execute_result",
          "data": {
            "text/plain": [
              "226360"
            ]
          },
          "metadata": {},
          "execution_count": 78
        }
      ]
    },
    {
      "cell_type": "code",
      "source": [
        "edad_promedio = round(info_cliente_edad_ok['EDAD'].mean(), 0)\n",
        "print(edad_promedio)\n",
        "edad_media = round(info_cliente_edad_ok['EDAD'].median(), 0)\n",
        "print(edad_media)"
      ],
      "metadata": {
        "colab": {
          "base_uri": "https://localhost:8080/"
        },
        "id": "TkE8StAQsNw6",
        "outputId": "e731b26f-ad32-4135-ed58-f3b7f3de87ca"
      },
      "execution_count": null,
      "outputs": [
        {
          "output_type": "stream",
          "name": "stdout",
          "text": [
            "41.0\n",
            "40.0\n"
          ]
        }
      ]
    },
    {
      "cell_type": "code",
      "source": [
        "info_cliente_edad_ok['EDAD'] = info_cliente_edad_ok['EDAD'].fillna(edad_media)\n",
        "info_cliente_edad_ok['EDAD'].isnull().sum()"
      ],
      "metadata": {
        "colab": {
          "base_uri": "https://localhost:8080/"
        },
        "id": "X8wOMDGgs0XL",
        "outputId": "721f978d-29bf-4c42-e8c6-bf6d11119e12"
      },
      "execution_count": null,
      "outputs": [
        {
          "output_type": "execute_result",
          "data": {
            "text/plain": [
              "0"
            ]
          },
          "metadata": {},
          "execution_count": 81
        }
      ]
    },
    {
      "cell_type": "markdown",
      "source": [
        "###**Limpieza antiguedad**"
      ],
      "metadata": {
        "id": "tqu7Oe8L3Wsu"
      }
    },
    {
      "cell_type": "code",
      "source": [
        "#Limpieza campo antiguedad: En este caso vamos a asegurarnos que el campo sea \n",
        "#de tipo float y luego vamos a modificar los missing values por la media de la columna\n",
        "info_cliente_antiguedad_ok = info_cliente_edad_ok.copy()"
      ],
      "metadata": {
        "id": "7o-6ix9t3cHx"
      },
      "execution_count": null,
      "outputs": []
    },
    {
      "cell_type": "code",
      "source": [
        "info_cliente_antiguedad_ok.head(5)"
      ],
      "metadata": {
        "colab": {
          "base_uri": "https://localhost:8080/",
          "height": 206
        },
        "id": "ZrMvRz4n3o1u",
        "outputId": "6058ebc8-1a42-40c4-9431-9cda9eea8425"
      },
      "execution_count": null,
      "outputs": [
        {
          "output_type": "execute_result",
          "data": {
            "text/html": [
              "\n",
              "  <div id=\"df-ec6ca070-3f25-4fef-8d97-708d9d7a17de\">\n",
              "    <div class=\"colab-df-container\">\n",
              "      <div>\n",
              "<style scoped>\n",
              "    .dataframe tbody tr th:only-of-type {\n",
              "        vertical-align: middle;\n",
              "    }\n",
              "\n",
              "    .dataframe tbody tr th {\n",
              "        vertical-align: top;\n",
              "    }\n",
              "\n",
              "    .dataframe thead th {\n",
              "        text-align: right;\n",
              "    }\n",
              "</style>\n",
              "<table border=\"1\" class=\"dataframe\">\n",
              "  <thead>\n",
              "    <tr style=\"text-align: right;\">\n",
              "      <th></th>\n",
              "      <th>TIPO_DOCUMENTO</th>\n",
              "      <th>NUMERO_DOCUMENTO</th>\n",
              "      <th>SEXO</th>\n",
              "      <th>EDAD</th>\n",
              "      <th>CIUDAD_RESIDENCIA</th>\n",
              "      <th>AÑOS_ANTIGUEDAD</th>\n",
              "      <th>ESTADO_CIVIL</th>\n",
              "      <th>ROL</th>\n",
              "      <th>SEGMENTO_PERFIL_CLV</th>\n",
              "      <th>NUMERO_PRODUCTOS</th>\n",
              "    </tr>\n",
              "  </thead>\n",
              "  <tbody>\n",
              "    <tr>\n",
              "      <th>0</th>\n",
              "      <td>CC</td>\n",
              "      <td>18879388</td>\n",
              "      <td>F</td>\n",
              "      <td>48.0</td>\n",
              "      <td>OVEJAS</td>\n",
              "      <td>6.0</td>\n",
              "      <td>CASADO</td>\n",
              "      <td>TOMADOR+ASEGURADO+</td>\n",
              "      <td>NEUTRAL</td>\n",
              "      <td>MultiProducto</td>\n",
              "    </tr>\n",
              "    <tr>\n",
              "      <th>1</th>\n",
              "      <td>CC</td>\n",
              "      <td>1010209255</td>\n",
              "      <td>M</td>\n",
              "      <td>28.0</td>\n",
              "      <td>BOGOTA</td>\n",
              "      <td>4.0</td>\n",
              "      <td>SOLTERO</td>\n",
              "      <td>ASEGURADO+</td>\n",
              "      <td>NEUTRAL</td>\n",
              "      <td>MultiProducto</td>\n",
              "    </tr>\n",
              "    <tr>\n",
              "      <th>2</th>\n",
              "      <td>CC</td>\n",
              "      <td>1050919339</td>\n",
              "      <td>M</td>\n",
              "      <td>36.0</td>\n",
              "      <td>BUCARAMANGA</td>\n",
              "      <td>2.0</td>\n",
              "      <td>UNION LIBRE</td>\n",
              "      <td>ASEGURADO+</td>\n",
              "      <td>ACTIVO</td>\n",
              "      <td>MonoProducto</td>\n",
              "    </tr>\n",
              "    <tr>\n",
              "      <th>3</th>\n",
              "      <td>CC</td>\n",
              "      <td>75040881</td>\n",
              "      <td>M</td>\n",
              "      <td>47.0</td>\n",
              "      <td>ANSERMA</td>\n",
              "      <td>11.0</td>\n",
              "      <td>VIUDO</td>\n",
              "      <td>ASEGURADO+</td>\n",
              "      <td>ACTIVO</td>\n",
              "      <td>MonoProducto</td>\n",
              "    </tr>\n",
              "    <tr>\n",
              "      <th>4</th>\n",
              "      <td>CC</td>\n",
              "      <td>1048290780</td>\n",
              "      <td>M</td>\n",
              "      <td>28.0</td>\n",
              "      <td>GALAPA</td>\n",
              "      <td>7.0</td>\n",
              "      <td>SOLTERO</td>\n",
              "      <td>ASEGURADO+</td>\n",
              "      <td>ACTIVO</td>\n",
              "      <td>MultiProducto</td>\n",
              "    </tr>\n",
              "  </tbody>\n",
              "</table>\n",
              "</div>\n",
              "      <button class=\"colab-df-convert\" onclick=\"convertToInteractive('df-ec6ca070-3f25-4fef-8d97-708d9d7a17de')\"\n",
              "              title=\"Convert this dataframe to an interactive table.\"\n",
              "              style=\"display:none;\">\n",
              "        \n",
              "  <svg xmlns=\"http://www.w3.org/2000/svg\" height=\"24px\"viewBox=\"0 0 24 24\"\n",
              "       width=\"24px\">\n",
              "    <path d=\"M0 0h24v24H0V0z\" fill=\"none\"/>\n",
              "    <path d=\"M18.56 5.44l.94 2.06.94-2.06 2.06-.94-2.06-.94-.94-2.06-.94 2.06-2.06.94zm-11 1L8.5 8.5l.94-2.06 2.06-.94-2.06-.94L8.5 2.5l-.94 2.06-2.06.94zm10 10l.94 2.06.94-2.06 2.06-.94-2.06-.94-.94-2.06-.94 2.06-2.06.94z\"/><path d=\"M17.41 7.96l-1.37-1.37c-.4-.4-.92-.59-1.43-.59-.52 0-1.04.2-1.43.59L10.3 9.45l-7.72 7.72c-.78.78-.78 2.05 0 2.83L4 21.41c.39.39.9.59 1.41.59.51 0 1.02-.2 1.41-.59l7.78-7.78 2.81-2.81c.8-.78.8-2.07 0-2.86zM5.41 20L4 18.59l7.72-7.72 1.47 1.35L5.41 20z\"/>\n",
              "  </svg>\n",
              "      </button>\n",
              "      \n",
              "  <style>\n",
              "    .colab-df-container {\n",
              "      display:flex;\n",
              "      flex-wrap:wrap;\n",
              "      gap: 12px;\n",
              "    }\n",
              "\n",
              "    .colab-df-convert {\n",
              "      background-color: #E8F0FE;\n",
              "      border: none;\n",
              "      border-radius: 50%;\n",
              "      cursor: pointer;\n",
              "      display: none;\n",
              "      fill: #1967D2;\n",
              "      height: 32px;\n",
              "      padding: 0 0 0 0;\n",
              "      width: 32px;\n",
              "    }\n",
              "\n",
              "    .colab-df-convert:hover {\n",
              "      background-color: #E2EBFA;\n",
              "      box-shadow: 0px 1px 2px rgba(60, 64, 67, 0.3), 0px 1px 3px 1px rgba(60, 64, 67, 0.15);\n",
              "      fill: #174EA6;\n",
              "    }\n",
              "\n",
              "    [theme=dark] .colab-df-convert {\n",
              "      background-color: #3B4455;\n",
              "      fill: #D2E3FC;\n",
              "    }\n",
              "\n",
              "    [theme=dark] .colab-df-convert:hover {\n",
              "      background-color: #434B5C;\n",
              "      box-shadow: 0px 1px 3px 1px rgba(0, 0, 0, 0.15);\n",
              "      filter: drop-shadow(0px 1px 2px rgba(0, 0, 0, 0.3));\n",
              "      fill: #FFFFFF;\n",
              "    }\n",
              "  </style>\n",
              "\n",
              "      <script>\n",
              "        const buttonEl =\n",
              "          document.querySelector('#df-ec6ca070-3f25-4fef-8d97-708d9d7a17de button.colab-df-convert');\n",
              "        buttonEl.style.display =\n",
              "          google.colab.kernel.accessAllowed ? 'block' : 'none';\n",
              "\n",
              "        async function convertToInteractive(key) {\n",
              "          const element = document.querySelector('#df-ec6ca070-3f25-4fef-8d97-708d9d7a17de');\n",
              "          const dataTable =\n",
              "            await google.colab.kernel.invokeFunction('convertToInteractive',\n",
              "                                                     [key], {});\n",
              "          if (!dataTable) return;\n",
              "\n",
              "          const docLinkHtml = 'Like what you see? Visit the ' +\n",
              "            '<a target=\"_blank\" href=https://colab.research.google.com/notebooks/data_table.ipynb>data table notebook</a>'\n",
              "            + ' to learn more about interactive tables.';\n",
              "          element.innerHTML = '';\n",
              "          dataTable['output_type'] = 'display_data';\n",
              "          await google.colab.output.renderOutput(dataTable, element);\n",
              "          const docLink = document.createElement('div');\n",
              "          docLink.innerHTML = docLinkHtml;\n",
              "          element.appendChild(docLink);\n",
              "        }\n",
              "      </script>\n",
              "    </div>\n",
              "  </div>\n",
              "  "
            ],
            "text/plain": [
              "  TIPO_DOCUMENTO  NUMERO_DOCUMENTO  ... SEGMENTO_PERFIL_CLV  NUMERO_PRODUCTOS\n",
              "0             CC          18879388  ...             NEUTRAL     MultiProducto\n",
              "1             CC        1010209255  ...             NEUTRAL     MultiProducto\n",
              "2             CC        1050919339  ...              ACTIVO      MonoProducto\n",
              "3             CC          75040881  ...              ACTIVO      MonoProducto\n",
              "4             CC        1048290780  ...              ACTIVO     MultiProducto\n",
              "\n",
              "[5 rows x 10 columns]"
            ]
          },
          "metadata": {},
          "execution_count": 85
        }
      ]
    },
    {
      "cell_type": "code",
      "source": [
        "info_cliente_antiguedad_ok['AÑOS_ANTIGUEDAD'] = info_cliente_antiguedad_ok['AÑOS_ANTIGUEDAD'].apply(to_float)"
      ],
      "metadata": {
        "id": "LTAX30lU3vDM"
      },
      "execution_count": null,
      "outputs": []
    },
    {
      "cell_type": "code",
      "source": [
        "antiguedad_promedio = round(info_cliente_antiguedad_ok['AÑOS_ANTIGUEDAD'].mean(), 0)\n",
        "print(antiguedad_promedio)\n",
        "antiguedad_media = round(info_cliente_antiguedad_ok['AÑOS_ANTIGUEDAD'].median(), 0)\n",
        "print(antiguedad_media)"
      ],
      "metadata": {
        "colab": {
          "base_uri": "https://localhost:8080/"
        },
        "id": "vATskK_U37Bv",
        "outputId": "c1d9612a-ac96-413e-e5e5-21ae5513b3a4"
      },
      "execution_count": null,
      "outputs": [
        {
          "output_type": "stream",
          "name": "stdout",
          "text": [
            "4.0\n",
            "3.0\n"
          ]
        }
      ]
    },
    {
      "cell_type": "code",
      "source": [
        "info_cliente_antiguedad_ok['AÑOS_ANTIGUEDAD'] = info_cliente_antiguedad_ok['AÑOS_ANTIGUEDAD'].fillna(antiguedad_media)\n",
        "info_cliente_antiguedad_ok['AÑOS_ANTIGUEDAD'].isnull().sum()"
      ],
      "metadata": {
        "colab": {
          "base_uri": "https://localhost:8080/"
        },
        "id": "8_-CWN9d4ek_",
        "outputId": "f7387dfb-669c-45f1-e2c2-c754c087834e"
      },
      "execution_count": null,
      "outputs": [
        {
          "output_type": "execute_result",
          "data": {
            "text/plain": [
              "0"
            ]
          },
          "metadata": {},
          "execution_count": 88
        }
      ]
    },
    {
      "cell_type": "markdown",
      "source": [
        "###**Limpieza ciudad**"
      ],
      "metadata": {
        "id": "UR3-FwzJ5cKo"
      }
    },
    {
      "cell_type": "code",
      "source": [
        "#Limpieza campo ciudad: Para la ciudad vamos a tomar 5 campos, \n",
        "#cuatro para las ciudades principales y un quinto para las demás\n",
        "info_cliente_ciudad_ok = info_cliente_antiguedad_ok.copy()"
      ],
      "metadata": {
        "id": "CdoZ2Y8m5I8V"
      },
      "execution_count": null,
      "outputs": []
    },
    {
      "cell_type": "code",
      "source": [
        "info_cliente_ciudad_ok.loc[:,'CIUDAD_RESIDENCIA'] = info_cliente_ciudad_ok.loc[:,'CIUDAD_RESIDENCIA'].astype(str)"
      ],
      "metadata": {
        "id": "Zrw5n91_6Mgi"
      },
      "execution_count": null,
      "outputs": []
    },
    {
      "cell_type": "code",
      "source": [
        "info_cliente_ciudad_ok['CIUDAD_RESIDENCIA'] = info_cliente_ciudad_ok['CIUDAD_RESIDENCIA'].apply(mayuscula)"
      ],
      "metadata": {
        "id": "S_Cw5r366V0_"
      },
      "execution_count": null,
      "outputs": []
    },
    {
      "cell_type": "code",
      "source": [
        "CIUDAD = []\n",
        "for campo in info_cliente_ciudad_ok.loc[:,'CIUDAD_RESIDENCIA']:\n",
        "  if campo in 'BOGOTA':\n",
        "    CIUDAD.append('BOGOTA')\n",
        "  elif campo in 'MEDELLIN':\n",
        "    CIUDAD.append('MEDELLIN')\n",
        "  elif campo in 'CALI':\n",
        "    CIUDAD.append('CAALI')\n",
        "  elif campo in 'BUCARAMANGA':\n",
        "    CIUDAD.append('BUCARAMANGA')\n",
        "  elif campo in 'BARRANQUILLA':\n",
        "    CIUDAD.append('BARRANQUILLA')\n",
        "  else:\n",
        "    CIUDAD.append('OTROS')"
      ],
      "metadata": {
        "id": "CKs_ykMo57Dd"
      },
      "execution_count": null,
      "outputs": []
    },
    {
      "cell_type": "code",
      "source": [
        "info_cliente_ciudad_ok['CIUDAD'] = CIUDAD"
      ],
      "metadata": {
        "id": "Rg6NFfPK7f6E"
      },
      "execution_count": null,
      "outputs": []
    },
    {
      "cell_type": "code",
      "source": [
        "info_cliente_ciudad_ok = info_cliente_ciudad_ok.drop('CIUDAD_RESIDENCIA', axis = 1)"
      ],
      "metadata": {
        "id": "T1KkBHfy8LQc"
      },
      "execution_count": null,
      "outputs": []
    },
    {
      "cell_type": "code",
      "source": [
        "info_cliente_ciudad_ok.head(5)"
      ],
      "metadata": {
        "colab": {
          "base_uri": "https://localhost:8080/",
          "height": 206
        },
        "id": "4-ODMVQH8bEg",
        "outputId": "cc254f6e-bb31-474f-88ee-74bf473ae7a3"
      },
      "execution_count": null,
      "outputs": [
        {
          "output_type": "execute_result",
          "data": {
            "text/html": [
              "\n",
              "  <div id=\"df-be97fc88-843f-45fb-ac3c-7b90c2906999\">\n",
              "    <div class=\"colab-df-container\">\n",
              "      <div>\n",
              "<style scoped>\n",
              "    .dataframe tbody tr th:only-of-type {\n",
              "        vertical-align: middle;\n",
              "    }\n",
              "\n",
              "    .dataframe tbody tr th {\n",
              "        vertical-align: top;\n",
              "    }\n",
              "\n",
              "    .dataframe thead th {\n",
              "        text-align: right;\n",
              "    }\n",
              "</style>\n",
              "<table border=\"1\" class=\"dataframe\">\n",
              "  <thead>\n",
              "    <tr style=\"text-align: right;\">\n",
              "      <th></th>\n",
              "      <th>TIPO_DOCUMENTO</th>\n",
              "      <th>NUMERO_DOCUMENTO</th>\n",
              "      <th>SEXO</th>\n",
              "      <th>EDAD</th>\n",
              "      <th>AÑOS_ANTIGUEDAD</th>\n",
              "      <th>ESTADO_CIVIL</th>\n",
              "      <th>ROL</th>\n",
              "      <th>SEGMENTO_PERFIL_CLV</th>\n",
              "      <th>NUMERO_PRODUCTOS</th>\n",
              "      <th>CIUDAD</th>\n",
              "    </tr>\n",
              "  </thead>\n",
              "  <tbody>\n",
              "    <tr>\n",
              "      <th>0</th>\n",
              "      <td>CC</td>\n",
              "      <td>18879388</td>\n",
              "      <td>F</td>\n",
              "      <td>48.0</td>\n",
              "      <td>6.0</td>\n",
              "      <td>CASADO</td>\n",
              "      <td>TOMADOR+ASEGURADO+</td>\n",
              "      <td>NEUTRAL</td>\n",
              "      <td>MultiProducto</td>\n",
              "      <td>OTROS</td>\n",
              "    </tr>\n",
              "    <tr>\n",
              "      <th>1</th>\n",
              "      <td>CC</td>\n",
              "      <td>1010209255</td>\n",
              "      <td>M</td>\n",
              "      <td>28.0</td>\n",
              "      <td>4.0</td>\n",
              "      <td>SOLTERO</td>\n",
              "      <td>ASEGURADO+</td>\n",
              "      <td>NEUTRAL</td>\n",
              "      <td>MultiProducto</td>\n",
              "      <td>BOGOTA</td>\n",
              "    </tr>\n",
              "    <tr>\n",
              "      <th>2</th>\n",
              "      <td>CC</td>\n",
              "      <td>1050919339</td>\n",
              "      <td>M</td>\n",
              "      <td>36.0</td>\n",
              "      <td>2.0</td>\n",
              "      <td>UNION LIBRE</td>\n",
              "      <td>ASEGURADO+</td>\n",
              "      <td>ACTIVO</td>\n",
              "      <td>MonoProducto</td>\n",
              "      <td>BUCARAMANGA</td>\n",
              "    </tr>\n",
              "    <tr>\n",
              "      <th>3</th>\n",
              "      <td>CC</td>\n",
              "      <td>75040881</td>\n",
              "      <td>M</td>\n",
              "      <td>47.0</td>\n",
              "      <td>11.0</td>\n",
              "      <td>VIUDO</td>\n",
              "      <td>ASEGURADO+</td>\n",
              "      <td>ACTIVO</td>\n",
              "      <td>MonoProducto</td>\n",
              "      <td>OTROS</td>\n",
              "    </tr>\n",
              "    <tr>\n",
              "      <th>4</th>\n",
              "      <td>CC</td>\n",
              "      <td>1048290780</td>\n",
              "      <td>M</td>\n",
              "      <td>28.0</td>\n",
              "      <td>7.0</td>\n",
              "      <td>SOLTERO</td>\n",
              "      <td>ASEGURADO+</td>\n",
              "      <td>ACTIVO</td>\n",
              "      <td>MultiProducto</td>\n",
              "      <td>OTROS</td>\n",
              "    </tr>\n",
              "  </tbody>\n",
              "</table>\n",
              "</div>\n",
              "      <button class=\"colab-df-convert\" onclick=\"convertToInteractive('df-be97fc88-843f-45fb-ac3c-7b90c2906999')\"\n",
              "              title=\"Convert this dataframe to an interactive table.\"\n",
              "              style=\"display:none;\">\n",
              "        \n",
              "  <svg xmlns=\"http://www.w3.org/2000/svg\" height=\"24px\"viewBox=\"0 0 24 24\"\n",
              "       width=\"24px\">\n",
              "    <path d=\"M0 0h24v24H0V0z\" fill=\"none\"/>\n",
              "    <path d=\"M18.56 5.44l.94 2.06.94-2.06 2.06-.94-2.06-.94-.94-2.06-.94 2.06-2.06.94zm-11 1L8.5 8.5l.94-2.06 2.06-.94-2.06-.94L8.5 2.5l-.94 2.06-2.06.94zm10 10l.94 2.06.94-2.06 2.06-.94-2.06-.94-.94-2.06-.94 2.06-2.06.94z\"/><path d=\"M17.41 7.96l-1.37-1.37c-.4-.4-.92-.59-1.43-.59-.52 0-1.04.2-1.43.59L10.3 9.45l-7.72 7.72c-.78.78-.78 2.05 0 2.83L4 21.41c.39.39.9.59 1.41.59.51 0 1.02-.2 1.41-.59l7.78-7.78 2.81-2.81c.8-.78.8-2.07 0-2.86zM5.41 20L4 18.59l7.72-7.72 1.47 1.35L5.41 20z\"/>\n",
              "  </svg>\n",
              "      </button>\n",
              "      \n",
              "  <style>\n",
              "    .colab-df-container {\n",
              "      display:flex;\n",
              "      flex-wrap:wrap;\n",
              "      gap: 12px;\n",
              "    }\n",
              "\n",
              "    .colab-df-convert {\n",
              "      background-color: #E8F0FE;\n",
              "      border: none;\n",
              "      border-radius: 50%;\n",
              "      cursor: pointer;\n",
              "      display: none;\n",
              "      fill: #1967D2;\n",
              "      height: 32px;\n",
              "      padding: 0 0 0 0;\n",
              "      width: 32px;\n",
              "    }\n",
              "\n",
              "    .colab-df-convert:hover {\n",
              "      background-color: #E2EBFA;\n",
              "      box-shadow: 0px 1px 2px rgba(60, 64, 67, 0.3), 0px 1px 3px 1px rgba(60, 64, 67, 0.15);\n",
              "      fill: #174EA6;\n",
              "    }\n",
              "\n",
              "    [theme=dark] .colab-df-convert {\n",
              "      background-color: #3B4455;\n",
              "      fill: #D2E3FC;\n",
              "    }\n",
              "\n",
              "    [theme=dark] .colab-df-convert:hover {\n",
              "      background-color: #434B5C;\n",
              "      box-shadow: 0px 1px 3px 1px rgba(0, 0, 0, 0.15);\n",
              "      filter: drop-shadow(0px 1px 2px rgba(0, 0, 0, 0.3));\n",
              "      fill: #FFFFFF;\n",
              "    }\n",
              "  </style>\n",
              "\n",
              "      <script>\n",
              "        const buttonEl =\n",
              "          document.querySelector('#df-be97fc88-843f-45fb-ac3c-7b90c2906999 button.colab-df-convert');\n",
              "        buttonEl.style.display =\n",
              "          google.colab.kernel.accessAllowed ? 'block' : 'none';\n",
              "\n",
              "        async function convertToInteractive(key) {\n",
              "          const element = document.querySelector('#df-be97fc88-843f-45fb-ac3c-7b90c2906999');\n",
              "          const dataTable =\n",
              "            await google.colab.kernel.invokeFunction('convertToInteractive',\n",
              "                                                     [key], {});\n",
              "          if (!dataTable) return;\n",
              "\n",
              "          const docLinkHtml = 'Like what you see? Visit the ' +\n",
              "            '<a target=\"_blank\" href=https://colab.research.google.com/notebooks/data_table.ipynb>data table notebook</a>'\n",
              "            + ' to learn more about interactive tables.';\n",
              "          element.innerHTML = '';\n",
              "          dataTable['output_type'] = 'display_data';\n",
              "          await google.colab.output.renderOutput(dataTable, element);\n",
              "          const docLink = document.createElement('div');\n",
              "          docLink.innerHTML = docLinkHtml;\n",
              "          element.appendChild(docLink);\n",
              "        }\n",
              "      </script>\n",
              "    </div>\n",
              "  </div>\n",
              "  "
            ],
            "text/plain": [
              "  TIPO_DOCUMENTO  NUMERO_DOCUMENTO  ... NUMERO_PRODUCTOS       CIUDAD\n",
              "0             CC          18879388  ...    MultiProducto        OTROS\n",
              "1             CC        1010209255  ...    MultiProducto       BOGOTA\n",
              "2             CC        1050919339  ...     MonoProducto  BUCARAMANGA\n",
              "3             CC          75040881  ...     MonoProducto        OTROS\n",
              "4             CC        1048290780  ...    MultiProducto        OTROS\n",
              "\n",
              "[5 rows x 10 columns]"
            ]
          },
          "metadata": {},
          "execution_count": 117
        }
      ]
    },
    {
      "cell_type": "code",
      "source": [
        "info_cliente_ciudad_ok.shape"
      ],
      "metadata": {
        "colab": {
          "base_uri": "https://localhost:8080/"
        },
        "id": "QBDiLa9R_6EG",
        "outputId": "9be1878d-1ebe-4e33-e38b-b3ad1bec573d"
      },
      "execution_count": null,
      "outputs": [
        {
          "output_type": "execute_result",
          "data": {
            "text/plain": [
              "(2921476, 10)"
            ]
          },
          "metadata": {},
          "execution_count": 131
        }
      ]
    },
    {
      "cell_type": "markdown",
      "source": [
        "###**Limpieza estado civil**"
      ],
      "metadata": {
        "id": "L22yDhlP9h3g"
      }
    },
    {
      "cell_type": "code",
      "source": [
        "#Limpieza campo estado civil: Al igual q con el sexo, no existe\n",
        "#una forma objetiva de definir el estado civil de un cliente a\n",
        "#visa, por lo tanto los NaN serán eliminados \n",
        "info_cliente_estado_ok = info_cliente_ciudad_ok.copy()"
      ],
      "metadata": {
        "id": "v_NsLjx49mL2"
      },
      "execution_count": null,
      "outputs": []
    },
    {
      "cell_type": "code",
      "source": [
        "info_cliente_estado_ok = info_cliente_estado_ok[info_cliente_estado_ok['ESTADO_CIVIL'].notna()]"
      ],
      "metadata": {
        "id": "FNtVXHma-1QX"
      },
      "execution_count": null,
      "outputs": []
    },
    {
      "cell_type": "code",
      "source": [
        "info_cliente_estado_ok.loc[:,'ESTADO_CIVIL'] = info_cliente_estado_ok.loc[:,'ESTADO_CIVIL'].astype(str)"
      ],
      "metadata": {
        "id": "5ZkejY6j-6S3"
      },
      "execution_count": null,
      "outputs": []
    },
    {
      "cell_type": "code",
      "source": [
        "info_cliente_estado_ok['ESTADO_CIVIL'] = info_cliente_estado_ok['ESTADO_CIVIL'].apply(mayuscula)"
      ],
      "metadata": {
        "id": "aHmU7Kff-6S4"
      },
      "execution_count": null,
      "outputs": []
    },
    {
      "cell_type": "code",
      "source": [
        "info_cliente_estado_ok['ESTADO_CIVIL'].isnull().sum()"
      ],
      "metadata": {
        "colab": {
          "base_uri": "https://localhost:8080/"
        },
        "id": "0Ch2Yc2uA8qN",
        "outputId": "f13137bb-b6bc-4123-f40c-a4888f6eefc4"
      },
      "execution_count": null,
      "outputs": [
        {
          "output_type": "execute_result",
          "data": {
            "text/plain": [
              "0"
            ]
          },
          "metadata": {},
          "execution_count": 145
        }
      ]
    },
    {
      "cell_type": "code",
      "source": [
        "conteo_estado = info_cliente_estado_ok.groupby('ESTADO_CIVIL').count()\n",
        "conteo_estado"
      ],
      "metadata": {
        "colab": {
          "base_uri": "https://localhost:8080/",
          "height": 268
        },
        "id": "lzFYjSFX9tqX",
        "outputId": "fd8c7664-a2c7-4c14-8012-177e50c1f0bc"
      },
      "execution_count": null,
      "outputs": [
        {
          "output_type": "execute_result",
          "data": {
            "text/html": [
              "\n",
              "  <div id=\"df-60717f54-3858-491c-9828-8be90e7bab16\">\n",
              "    <div class=\"colab-df-container\">\n",
              "      <div>\n",
              "<style scoped>\n",
              "    .dataframe tbody tr th:only-of-type {\n",
              "        vertical-align: middle;\n",
              "    }\n",
              "\n",
              "    .dataframe tbody tr th {\n",
              "        vertical-align: top;\n",
              "    }\n",
              "\n",
              "    .dataframe thead th {\n",
              "        text-align: right;\n",
              "    }\n",
              "</style>\n",
              "<table border=\"1\" class=\"dataframe\">\n",
              "  <thead>\n",
              "    <tr style=\"text-align: right;\">\n",
              "      <th></th>\n",
              "      <th>TIPO_DOCUMENTO</th>\n",
              "      <th>NUMERO_DOCUMENTO</th>\n",
              "      <th>SEXO</th>\n",
              "      <th>EDAD</th>\n",
              "      <th>AÑOS_ANTIGUEDAD</th>\n",
              "      <th>ROL</th>\n",
              "      <th>SEGMENTO_PERFIL_CLV</th>\n",
              "      <th>NUMERO_PRODUCTOS</th>\n",
              "      <th>CIUDAD</th>\n",
              "    </tr>\n",
              "    <tr>\n",
              "      <th>ESTADO_CIVIL</th>\n",
              "      <th></th>\n",
              "      <th></th>\n",
              "      <th></th>\n",
              "      <th></th>\n",
              "      <th></th>\n",
              "      <th></th>\n",
              "      <th></th>\n",
              "      <th></th>\n",
              "      <th></th>\n",
              "    </tr>\n",
              "  </thead>\n",
              "  <tbody>\n",
              "    <tr>\n",
              "      <th>CASADO</th>\n",
              "      <td>643746</td>\n",
              "      <td>643746</td>\n",
              "      <td>643746</td>\n",
              "      <td>643746</td>\n",
              "      <td>643746</td>\n",
              "      <td>643746</td>\n",
              "      <td>502290</td>\n",
              "      <td>621515</td>\n",
              "      <td>643746</td>\n",
              "    </tr>\n",
              "    <tr>\n",
              "      <th>DIVORCIADO</th>\n",
              "      <td>15376</td>\n",
              "      <td>15376</td>\n",
              "      <td>15376</td>\n",
              "      <td>15376</td>\n",
              "      <td>15376</td>\n",
              "      <td>15376</td>\n",
              "      <td>12066</td>\n",
              "      <td>14779</td>\n",
              "      <td>15376</td>\n",
              "    </tr>\n",
              "    <tr>\n",
              "      <th>SEPARADO</th>\n",
              "      <td>39572</td>\n",
              "      <td>39572</td>\n",
              "      <td>39572</td>\n",
              "      <td>39572</td>\n",
              "      <td>39572</td>\n",
              "      <td>39572</td>\n",
              "      <td>28662</td>\n",
              "      <td>37965</td>\n",
              "      <td>39572</td>\n",
              "    </tr>\n",
              "    <tr>\n",
              "      <th>SOLTERO</th>\n",
              "      <td>1178507</td>\n",
              "      <td>1178507</td>\n",
              "      <td>1178507</td>\n",
              "      <td>1178507</td>\n",
              "      <td>1178507</td>\n",
              "      <td>1178507</td>\n",
              "      <td>632270</td>\n",
              "      <td>1106746</td>\n",
              "      <td>1178507</td>\n",
              "    </tr>\n",
              "    <tr>\n",
              "      <th>UNION LIBRE</th>\n",
              "      <td>387694</td>\n",
              "      <td>387694</td>\n",
              "      <td>387694</td>\n",
              "      <td>387694</td>\n",
              "      <td>387694</td>\n",
              "      <td>387694</td>\n",
              "      <td>257620</td>\n",
              "      <td>373275</td>\n",
              "      <td>387694</td>\n",
              "    </tr>\n",
              "    <tr>\n",
              "      <th>VIUDO</th>\n",
              "      <td>19486</td>\n",
              "      <td>19486</td>\n",
              "      <td>19486</td>\n",
              "      <td>19486</td>\n",
              "      <td>19486</td>\n",
              "      <td>19486</td>\n",
              "      <td>15909</td>\n",
              "      <td>18573</td>\n",
              "      <td>19486</td>\n",
              "    </tr>\n",
              "  </tbody>\n",
              "</table>\n",
              "</div>\n",
              "      <button class=\"colab-df-convert\" onclick=\"convertToInteractive('df-60717f54-3858-491c-9828-8be90e7bab16')\"\n",
              "              title=\"Convert this dataframe to an interactive table.\"\n",
              "              style=\"display:none;\">\n",
              "        \n",
              "  <svg xmlns=\"http://www.w3.org/2000/svg\" height=\"24px\"viewBox=\"0 0 24 24\"\n",
              "       width=\"24px\">\n",
              "    <path d=\"M0 0h24v24H0V0z\" fill=\"none\"/>\n",
              "    <path d=\"M18.56 5.44l.94 2.06.94-2.06 2.06-.94-2.06-.94-.94-2.06-.94 2.06-2.06.94zm-11 1L8.5 8.5l.94-2.06 2.06-.94-2.06-.94L8.5 2.5l-.94 2.06-2.06.94zm10 10l.94 2.06.94-2.06 2.06-.94-2.06-.94-.94-2.06-.94 2.06-2.06.94z\"/><path d=\"M17.41 7.96l-1.37-1.37c-.4-.4-.92-.59-1.43-.59-.52 0-1.04.2-1.43.59L10.3 9.45l-7.72 7.72c-.78.78-.78 2.05 0 2.83L4 21.41c.39.39.9.59 1.41.59.51 0 1.02-.2 1.41-.59l7.78-7.78 2.81-2.81c.8-.78.8-2.07 0-2.86zM5.41 20L4 18.59l7.72-7.72 1.47 1.35L5.41 20z\"/>\n",
              "  </svg>\n",
              "      </button>\n",
              "      \n",
              "  <style>\n",
              "    .colab-df-container {\n",
              "      display:flex;\n",
              "      flex-wrap:wrap;\n",
              "      gap: 12px;\n",
              "    }\n",
              "\n",
              "    .colab-df-convert {\n",
              "      background-color: #E8F0FE;\n",
              "      border: none;\n",
              "      border-radius: 50%;\n",
              "      cursor: pointer;\n",
              "      display: none;\n",
              "      fill: #1967D2;\n",
              "      height: 32px;\n",
              "      padding: 0 0 0 0;\n",
              "      width: 32px;\n",
              "    }\n",
              "\n",
              "    .colab-df-convert:hover {\n",
              "      background-color: #E2EBFA;\n",
              "      box-shadow: 0px 1px 2px rgba(60, 64, 67, 0.3), 0px 1px 3px 1px rgba(60, 64, 67, 0.15);\n",
              "      fill: #174EA6;\n",
              "    }\n",
              "\n",
              "    [theme=dark] .colab-df-convert {\n",
              "      background-color: #3B4455;\n",
              "      fill: #D2E3FC;\n",
              "    }\n",
              "\n",
              "    [theme=dark] .colab-df-convert:hover {\n",
              "      background-color: #434B5C;\n",
              "      box-shadow: 0px 1px 3px 1px rgba(0, 0, 0, 0.15);\n",
              "      filter: drop-shadow(0px 1px 2px rgba(0, 0, 0, 0.3));\n",
              "      fill: #FFFFFF;\n",
              "    }\n",
              "  </style>\n",
              "\n",
              "      <script>\n",
              "        const buttonEl =\n",
              "          document.querySelector('#df-60717f54-3858-491c-9828-8be90e7bab16 button.colab-df-convert');\n",
              "        buttonEl.style.display =\n",
              "          google.colab.kernel.accessAllowed ? 'block' : 'none';\n",
              "\n",
              "        async function convertToInteractive(key) {\n",
              "          const element = document.querySelector('#df-60717f54-3858-491c-9828-8be90e7bab16');\n",
              "          const dataTable =\n",
              "            await google.colab.kernel.invokeFunction('convertToInteractive',\n",
              "                                                     [key], {});\n",
              "          if (!dataTable) return;\n",
              "\n",
              "          const docLinkHtml = 'Like what you see? Visit the ' +\n",
              "            '<a target=\"_blank\" href=https://colab.research.google.com/notebooks/data_table.ipynb>data table notebook</a>'\n",
              "            + ' to learn more about interactive tables.';\n",
              "          element.innerHTML = '';\n",
              "          dataTable['output_type'] = 'display_data';\n",
              "          await google.colab.output.renderOutput(dataTable, element);\n",
              "          const docLink = document.createElement('div');\n",
              "          docLink.innerHTML = docLinkHtml;\n",
              "          element.appendChild(docLink);\n",
              "        }\n",
              "      </script>\n",
              "    </div>\n",
              "  </div>\n",
              "  "
            ],
            "text/plain": [
              "              TIPO_DOCUMENTO  NUMERO_DOCUMENTO  ...  NUMERO_PRODUCTOS   CIUDAD\n",
              "ESTADO_CIVIL                                    ...                           \n",
              "CASADO                643746            643746  ...            621515   643746\n",
              "DIVORCIADO             15376             15376  ...             14779    15376\n",
              "SEPARADO               39572             39572  ...             37965    39572\n",
              "SOLTERO              1178507           1178507  ...           1106746  1178507\n",
              "UNION LIBRE           387694            387694  ...            373275   387694\n",
              "VIUDO                  19486             19486  ...             18573    19486\n",
              "\n",
              "[6 rows x 9 columns]"
            ]
          },
          "metadata": {},
          "execution_count": 146
        }
      ]
    },
    {
      "cell_type": "code",
      "source": [
        "info_cliente_estado_ok.shape"
      ],
      "metadata": {
        "colab": {
          "base_uri": "https://localhost:8080/"
        },
        "id": "eqrRMCDUAle4",
        "outputId": "f6fa6164-024f-4452-b566-304cbd26933c"
      },
      "execution_count": null,
      "outputs": [
        {
          "output_type": "execute_result",
          "data": {
            "text/plain": [
              "(2284381, 10)"
            ]
          },
          "metadata": {},
          "execution_count": 147
        }
      ]
    },
    {
      "cell_type": "markdown",
      "source": [
        "###**Limpieza rol**"
      ],
      "metadata": {
        "id": "XsefUNJYCqFK"
      }
    },
    {
      "cell_type": "code",
      "source": [
        "#Limpieza rol: Esta limpieza se realiza priorizando a partir del rol más  \n",
        "#significativo que tenga el cliente en el siguiente orden: tomador\n",
        "#asegurado, beneficiario, dejando que los missing values tomen el valor \n",
        "#de asegurado\n",
        "info_cliente_rol_ok = info_cliente_estado_ok.copy()"
      ],
      "metadata": {
        "id": "Jq0mzzRYCgXI"
      },
      "execution_count": null,
      "outputs": []
    },
    {
      "cell_type": "code",
      "source": [
        "info_cliente_rol_ok.loc[:,'ROL'] = info_cliente_rol_ok.loc[:,'ROL'].astype(str)"
      ],
      "metadata": {
        "id": "gizOMIg3ES6k"
      },
      "execution_count": null,
      "outputs": []
    },
    {
      "cell_type": "code",
      "source": [
        "info_cliente_rol_ok['ROL'] = info_cliente_rol_ok['ROL'].apply(mayuscula)"
      ],
      "metadata": {
        "id": "vV4hkQv2ES6k"
      },
      "execution_count": null,
      "outputs": []
    },
    {
      "cell_type": "code",
      "source": [
        "info_cliente_rol_ok.groupby('ROL').count()"
      ],
      "metadata": {
        "colab": {
          "base_uri": "https://localhost:8080/",
          "height": 363
        },
        "id": "oXEvO3JVDLzM",
        "outputId": "a48235ea-5099-4c52-a6b3-1bf6a4ad99fb"
      },
      "execution_count": null,
      "outputs": [
        {
          "output_type": "execute_result",
          "data": {
            "text/html": [
              "\n",
              "  <div id=\"df-b0f1b321-9516-48f2-8f93-4618a5059705\">\n",
              "    <div class=\"colab-df-container\">\n",
              "      <div>\n",
              "<style scoped>\n",
              "    .dataframe tbody tr th:only-of-type {\n",
              "        vertical-align: middle;\n",
              "    }\n",
              "\n",
              "    .dataframe tbody tr th {\n",
              "        vertical-align: top;\n",
              "    }\n",
              "\n",
              "    .dataframe thead th {\n",
              "        text-align: right;\n",
              "    }\n",
              "</style>\n",
              "<table border=\"1\" class=\"dataframe\">\n",
              "  <thead>\n",
              "    <tr style=\"text-align: right;\">\n",
              "      <th></th>\n",
              "      <th>TIPO_DOCUMENTO</th>\n",
              "      <th>NUMERO_DOCUMENTO</th>\n",
              "      <th>SEXO</th>\n",
              "      <th>EDAD</th>\n",
              "      <th>AÑOS_ANTIGUEDAD</th>\n",
              "      <th>ESTADO_CIVIL</th>\n",
              "      <th>SEGMENTO_PERFIL_CLV</th>\n",
              "      <th>NUMERO_PRODUCTOS</th>\n",
              "      <th>CIUDAD</th>\n",
              "    </tr>\n",
              "    <tr>\n",
              "      <th>ROL</th>\n",
              "      <th></th>\n",
              "      <th></th>\n",
              "      <th></th>\n",
              "      <th></th>\n",
              "      <th></th>\n",
              "      <th></th>\n",
              "      <th></th>\n",
              "      <th></th>\n",
              "      <th></th>\n",
              "    </tr>\n",
              "  </thead>\n",
              "  <tbody>\n",
              "    <tr>\n",
              "      <th>ASEGURADO+</th>\n",
              "      <td>1529790</td>\n",
              "      <td>1529790</td>\n",
              "      <td>1529790</td>\n",
              "      <td>1529790</td>\n",
              "      <td>1529790</td>\n",
              "      <td>1529790</td>\n",
              "      <td>834153</td>\n",
              "      <td>1465912</td>\n",
              "      <td>1529790</td>\n",
              "    </tr>\n",
              "    <tr>\n",
              "      <th>ASEGURADO+BENEFICIARIO+</th>\n",
              "      <td>13653</td>\n",
              "      <td>13653</td>\n",
              "      <td>13653</td>\n",
              "      <td>13653</td>\n",
              "      <td>13653</td>\n",
              "      <td>13653</td>\n",
              "      <td>10158</td>\n",
              "      <td>13260</td>\n",
              "      <td>13653</td>\n",
              "    </tr>\n",
              "    <tr>\n",
              "      <th>BENEFICIARIO+</th>\n",
              "      <td>35340</td>\n",
              "      <td>35340</td>\n",
              "      <td>35340</td>\n",
              "      <td>35340</td>\n",
              "      <td>35340</td>\n",
              "      <td>35340</td>\n",
              "      <td>6758</td>\n",
              "      <td>6414</td>\n",
              "      <td>35340</td>\n",
              "    </tr>\n",
              "    <tr>\n",
              "      <th>TOMADOR+</th>\n",
              "      <td>3328</td>\n",
              "      <td>3328</td>\n",
              "      <td>3328</td>\n",
              "      <td>3328</td>\n",
              "      <td>3328</td>\n",
              "      <td>3328</td>\n",
              "      <td>2435</td>\n",
              "      <td>777</td>\n",
              "      <td>3328</td>\n",
              "    </tr>\n",
              "    <tr>\n",
              "      <th>TOMADOR+ASEGURADO+</th>\n",
              "      <td>686867</td>\n",
              "      <td>686867</td>\n",
              "      <td>686867</td>\n",
              "      <td>686867</td>\n",
              "      <td>686867</td>\n",
              "      <td>686867</td>\n",
              "      <td>581376</td>\n",
              "      <td>671573</td>\n",
              "      <td>686867</td>\n",
              "    </tr>\n",
              "    <tr>\n",
              "      <th>TOMADOR+ASEGURADO+BENEFICIARIO+</th>\n",
              "      <td>15340</td>\n",
              "      <td>15340</td>\n",
              "      <td>15340</td>\n",
              "      <td>15340</td>\n",
              "      <td>15340</td>\n",
              "      <td>15340</td>\n",
              "      <td>13883</td>\n",
              "      <td>14901</td>\n",
              "      <td>15340</td>\n",
              "    </tr>\n",
              "    <tr>\n",
              "      <th>TOMADOR+BENEFICIARIO+</th>\n",
              "      <td>63</td>\n",
              "      <td>63</td>\n",
              "      <td>63</td>\n",
              "      <td>63</td>\n",
              "      <td>63</td>\n",
              "      <td>63</td>\n",
              "      <td>54</td>\n",
              "      <td>16</td>\n",
              "      <td>63</td>\n",
              "    </tr>\n",
              "  </tbody>\n",
              "</table>\n",
              "</div>\n",
              "      <button class=\"colab-df-convert\" onclick=\"convertToInteractive('df-b0f1b321-9516-48f2-8f93-4618a5059705')\"\n",
              "              title=\"Convert this dataframe to an interactive table.\"\n",
              "              style=\"display:none;\">\n",
              "        \n",
              "  <svg xmlns=\"http://www.w3.org/2000/svg\" height=\"24px\"viewBox=\"0 0 24 24\"\n",
              "       width=\"24px\">\n",
              "    <path d=\"M0 0h24v24H0V0z\" fill=\"none\"/>\n",
              "    <path d=\"M18.56 5.44l.94 2.06.94-2.06 2.06-.94-2.06-.94-.94-2.06-.94 2.06-2.06.94zm-11 1L8.5 8.5l.94-2.06 2.06-.94-2.06-.94L8.5 2.5l-.94 2.06-2.06.94zm10 10l.94 2.06.94-2.06 2.06-.94-2.06-.94-.94-2.06-.94 2.06-2.06.94z\"/><path d=\"M17.41 7.96l-1.37-1.37c-.4-.4-.92-.59-1.43-.59-.52 0-1.04.2-1.43.59L10.3 9.45l-7.72 7.72c-.78.78-.78 2.05 0 2.83L4 21.41c.39.39.9.59 1.41.59.51 0 1.02-.2 1.41-.59l7.78-7.78 2.81-2.81c.8-.78.8-2.07 0-2.86zM5.41 20L4 18.59l7.72-7.72 1.47 1.35L5.41 20z\"/>\n",
              "  </svg>\n",
              "      </button>\n",
              "      \n",
              "  <style>\n",
              "    .colab-df-container {\n",
              "      display:flex;\n",
              "      flex-wrap:wrap;\n",
              "      gap: 12px;\n",
              "    }\n",
              "\n",
              "    .colab-df-convert {\n",
              "      background-color: #E8F0FE;\n",
              "      border: none;\n",
              "      border-radius: 50%;\n",
              "      cursor: pointer;\n",
              "      display: none;\n",
              "      fill: #1967D2;\n",
              "      height: 32px;\n",
              "      padding: 0 0 0 0;\n",
              "      width: 32px;\n",
              "    }\n",
              "\n",
              "    .colab-df-convert:hover {\n",
              "      background-color: #E2EBFA;\n",
              "      box-shadow: 0px 1px 2px rgba(60, 64, 67, 0.3), 0px 1px 3px 1px rgba(60, 64, 67, 0.15);\n",
              "      fill: #174EA6;\n",
              "    }\n",
              "\n",
              "    [theme=dark] .colab-df-convert {\n",
              "      background-color: #3B4455;\n",
              "      fill: #D2E3FC;\n",
              "    }\n",
              "\n",
              "    [theme=dark] .colab-df-convert:hover {\n",
              "      background-color: #434B5C;\n",
              "      box-shadow: 0px 1px 3px 1px rgba(0, 0, 0, 0.15);\n",
              "      filter: drop-shadow(0px 1px 2px rgba(0, 0, 0, 0.3));\n",
              "      fill: #FFFFFF;\n",
              "    }\n",
              "  </style>\n",
              "\n",
              "      <script>\n",
              "        const buttonEl =\n",
              "          document.querySelector('#df-b0f1b321-9516-48f2-8f93-4618a5059705 button.colab-df-convert');\n",
              "        buttonEl.style.display =\n",
              "          google.colab.kernel.accessAllowed ? 'block' : 'none';\n",
              "\n",
              "        async function convertToInteractive(key) {\n",
              "          const element = document.querySelector('#df-b0f1b321-9516-48f2-8f93-4618a5059705');\n",
              "          const dataTable =\n",
              "            await google.colab.kernel.invokeFunction('convertToInteractive',\n",
              "                                                     [key], {});\n",
              "          if (!dataTable) return;\n",
              "\n",
              "          const docLinkHtml = 'Like what you see? Visit the ' +\n",
              "            '<a target=\"_blank\" href=https://colab.research.google.com/notebooks/data_table.ipynb>data table notebook</a>'\n",
              "            + ' to learn more about interactive tables.';\n",
              "          element.innerHTML = '';\n",
              "          dataTable['output_type'] = 'display_data';\n",
              "          await google.colab.output.renderOutput(dataTable, element);\n",
              "          const docLink = document.createElement('div');\n",
              "          docLink.innerHTML = docLinkHtml;\n",
              "          element.appendChild(docLink);\n",
              "        }\n",
              "      </script>\n",
              "    </div>\n",
              "  </div>\n",
              "  "
            ],
            "text/plain": [
              "                                 TIPO_DOCUMENTO  ...   CIUDAD\n",
              "ROL                                              ...         \n",
              "ASEGURADO+                              1529790  ...  1529790\n",
              "ASEGURADO+BENEFICIARIO+                   13653  ...    13653\n",
              "BENEFICIARIO+                             35340  ...    35340\n",
              "TOMADOR+                                   3328  ...     3328\n",
              "TOMADOR+ASEGURADO+                       686867  ...   686867\n",
              "TOMADOR+ASEGURADO+BENEFICIARIO+           15340  ...    15340\n",
              "TOMADOR+BENEFICIARIO+                        63  ...       63\n",
              "\n",
              "[7 rows x 9 columns]"
            ]
          },
          "metadata": {},
          "execution_count": 161
        }
      ]
    },
    {
      "cell_type": "code",
      "source": [
        "FIGURA = []\n",
        "for campo in info_cliente_rol_ok.loc[:,'ROL']:\n",
        "  if campo in ('TOMADOR+', 'TOMADOR+ASEGURADO+', 'TOMADOR+ASEGURADO+BENEFICIARIO+', 'TOMADOR+BENEFICIARIO+'):\n",
        "    FIGURA.append('TOMADOR')\n",
        "  elif campo in ('BENEFICIARIO+'):\n",
        "    FIGURA.append('BENEFICIARIO')\n",
        "  else:\n",
        "    FIGURA.append('ASEGURADO')"
      ],
      "metadata": {
        "id": "ScULDlacD7zq"
      },
      "execution_count": null,
      "outputs": []
    },
    {
      "cell_type": "code",
      "source": [
        "info_cliente_rol_ok['FIGURA'] = FIGURA"
      ],
      "metadata": {
        "id": "N9TozQQ4FoH_"
      },
      "execution_count": null,
      "outputs": []
    },
    {
      "cell_type": "code",
      "source": [
        "info_cliente_rol_ok = info_cliente_rol_ok.drop('ROL', axis = 1)"
      ],
      "metadata": {
        "id": "fJGCvlznFvdz"
      },
      "execution_count": null,
      "outputs": []
    },
    {
      "cell_type": "code",
      "source": [
        "info_cliente_rol_ok.head(5)"
      ],
      "metadata": {
        "colab": {
          "base_uri": "https://localhost:8080/",
          "height": 206
        },
        "id": "bRYNQOtcGCz5",
        "outputId": "e961d9be-811c-49d5-92a2-4489a3fb89f6"
      },
      "execution_count": null,
      "outputs": [
        {
          "output_type": "execute_result",
          "data": {
            "text/html": [
              "\n",
              "  <div id=\"df-d9ff3151-fc36-4692-8d05-267c27f8e74d\">\n",
              "    <div class=\"colab-df-container\">\n",
              "      <div>\n",
              "<style scoped>\n",
              "    .dataframe tbody tr th:only-of-type {\n",
              "        vertical-align: middle;\n",
              "    }\n",
              "\n",
              "    .dataframe tbody tr th {\n",
              "        vertical-align: top;\n",
              "    }\n",
              "\n",
              "    .dataframe thead th {\n",
              "        text-align: right;\n",
              "    }\n",
              "</style>\n",
              "<table border=\"1\" class=\"dataframe\">\n",
              "  <thead>\n",
              "    <tr style=\"text-align: right;\">\n",
              "      <th></th>\n",
              "      <th>TIPO_DOCUMENTO</th>\n",
              "      <th>NUMERO_DOCUMENTO</th>\n",
              "      <th>SEXO</th>\n",
              "      <th>EDAD</th>\n",
              "      <th>AÑOS_ANTIGUEDAD</th>\n",
              "      <th>ESTADO_CIVIL</th>\n",
              "      <th>SEGMENTO_PERFIL_CLV</th>\n",
              "      <th>NUMERO_PRODUCTOS</th>\n",
              "      <th>CIUDAD</th>\n",
              "      <th>FIGURA</th>\n",
              "    </tr>\n",
              "  </thead>\n",
              "  <tbody>\n",
              "    <tr>\n",
              "      <th>0</th>\n",
              "      <td>CC</td>\n",
              "      <td>18879388</td>\n",
              "      <td>F</td>\n",
              "      <td>48.0</td>\n",
              "      <td>6.0</td>\n",
              "      <td>CASADO</td>\n",
              "      <td>NEUTRAL</td>\n",
              "      <td>MultiProducto</td>\n",
              "      <td>OTROS</td>\n",
              "      <td>TOMADOR</td>\n",
              "    </tr>\n",
              "    <tr>\n",
              "      <th>1</th>\n",
              "      <td>CC</td>\n",
              "      <td>1010209255</td>\n",
              "      <td>M</td>\n",
              "      <td>28.0</td>\n",
              "      <td>4.0</td>\n",
              "      <td>SOLTERO</td>\n",
              "      <td>NEUTRAL</td>\n",
              "      <td>MultiProducto</td>\n",
              "      <td>BOGOTA</td>\n",
              "      <td>ASEGURADO</td>\n",
              "    </tr>\n",
              "    <tr>\n",
              "      <th>2</th>\n",
              "      <td>CC</td>\n",
              "      <td>1050919339</td>\n",
              "      <td>M</td>\n",
              "      <td>36.0</td>\n",
              "      <td>2.0</td>\n",
              "      <td>UNION LIBRE</td>\n",
              "      <td>ACTIVO</td>\n",
              "      <td>MonoProducto</td>\n",
              "      <td>BUCARAMANGA</td>\n",
              "      <td>ASEGURADO</td>\n",
              "    </tr>\n",
              "    <tr>\n",
              "      <th>3</th>\n",
              "      <td>CC</td>\n",
              "      <td>75040881</td>\n",
              "      <td>M</td>\n",
              "      <td>47.0</td>\n",
              "      <td>11.0</td>\n",
              "      <td>VIUDO</td>\n",
              "      <td>ACTIVO</td>\n",
              "      <td>MonoProducto</td>\n",
              "      <td>OTROS</td>\n",
              "      <td>ASEGURADO</td>\n",
              "    </tr>\n",
              "    <tr>\n",
              "      <th>4</th>\n",
              "      <td>CC</td>\n",
              "      <td>1048290780</td>\n",
              "      <td>M</td>\n",
              "      <td>28.0</td>\n",
              "      <td>7.0</td>\n",
              "      <td>SOLTERO</td>\n",
              "      <td>ACTIVO</td>\n",
              "      <td>MultiProducto</td>\n",
              "      <td>OTROS</td>\n",
              "      <td>ASEGURADO</td>\n",
              "    </tr>\n",
              "  </tbody>\n",
              "</table>\n",
              "</div>\n",
              "      <button class=\"colab-df-convert\" onclick=\"convertToInteractive('df-d9ff3151-fc36-4692-8d05-267c27f8e74d')\"\n",
              "              title=\"Convert this dataframe to an interactive table.\"\n",
              "              style=\"display:none;\">\n",
              "        \n",
              "  <svg xmlns=\"http://www.w3.org/2000/svg\" height=\"24px\"viewBox=\"0 0 24 24\"\n",
              "       width=\"24px\">\n",
              "    <path d=\"M0 0h24v24H0V0z\" fill=\"none\"/>\n",
              "    <path d=\"M18.56 5.44l.94 2.06.94-2.06 2.06-.94-2.06-.94-.94-2.06-.94 2.06-2.06.94zm-11 1L8.5 8.5l.94-2.06 2.06-.94-2.06-.94L8.5 2.5l-.94 2.06-2.06.94zm10 10l.94 2.06.94-2.06 2.06-.94-2.06-.94-.94-2.06-.94 2.06-2.06.94z\"/><path d=\"M17.41 7.96l-1.37-1.37c-.4-.4-.92-.59-1.43-.59-.52 0-1.04.2-1.43.59L10.3 9.45l-7.72 7.72c-.78.78-.78 2.05 0 2.83L4 21.41c.39.39.9.59 1.41.59.51 0 1.02-.2 1.41-.59l7.78-7.78 2.81-2.81c.8-.78.8-2.07 0-2.86zM5.41 20L4 18.59l7.72-7.72 1.47 1.35L5.41 20z\"/>\n",
              "  </svg>\n",
              "      </button>\n",
              "      \n",
              "  <style>\n",
              "    .colab-df-container {\n",
              "      display:flex;\n",
              "      flex-wrap:wrap;\n",
              "      gap: 12px;\n",
              "    }\n",
              "\n",
              "    .colab-df-convert {\n",
              "      background-color: #E8F0FE;\n",
              "      border: none;\n",
              "      border-radius: 50%;\n",
              "      cursor: pointer;\n",
              "      display: none;\n",
              "      fill: #1967D2;\n",
              "      height: 32px;\n",
              "      padding: 0 0 0 0;\n",
              "      width: 32px;\n",
              "    }\n",
              "\n",
              "    .colab-df-convert:hover {\n",
              "      background-color: #E2EBFA;\n",
              "      box-shadow: 0px 1px 2px rgba(60, 64, 67, 0.3), 0px 1px 3px 1px rgba(60, 64, 67, 0.15);\n",
              "      fill: #174EA6;\n",
              "    }\n",
              "\n",
              "    [theme=dark] .colab-df-convert {\n",
              "      background-color: #3B4455;\n",
              "      fill: #D2E3FC;\n",
              "    }\n",
              "\n",
              "    [theme=dark] .colab-df-convert:hover {\n",
              "      background-color: #434B5C;\n",
              "      box-shadow: 0px 1px 3px 1px rgba(0, 0, 0, 0.15);\n",
              "      filter: drop-shadow(0px 1px 2px rgba(0, 0, 0, 0.3));\n",
              "      fill: #FFFFFF;\n",
              "    }\n",
              "  </style>\n",
              "\n",
              "      <script>\n",
              "        const buttonEl =\n",
              "          document.querySelector('#df-d9ff3151-fc36-4692-8d05-267c27f8e74d button.colab-df-convert');\n",
              "        buttonEl.style.display =\n",
              "          google.colab.kernel.accessAllowed ? 'block' : 'none';\n",
              "\n",
              "        async function convertToInteractive(key) {\n",
              "          const element = document.querySelector('#df-d9ff3151-fc36-4692-8d05-267c27f8e74d');\n",
              "          const dataTable =\n",
              "            await google.colab.kernel.invokeFunction('convertToInteractive',\n",
              "                                                     [key], {});\n",
              "          if (!dataTable) return;\n",
              "\n",
              "          const docLinkHtml = 'Like what you see? Visit the ' +\n",
              "            '<a target=\"_blank\" href=https://colab.research.google.com/notebooks/data_table.ipynb>data table notebook</a>'\n",
              "            + ' to learn more about interactive tables.';\n",
              "          element.innerHTML = '';\n",
              "          dataTable['output_type'] = 'display_data';\n",
              "          await google.colab.output.renderOutput(dataTable, element);\n",
              "          const docLink = document.createElement('div');\n",
              "          docLink.innerHTML = docLinkHtml;\n",
              "          element.appendChild(docLink);\n",
              "        }\n",
              "      </script>\n",
              "    </div>\n",
              "  </div>\n",
              "  "
            ],
            "text/plain": [
              "  TIPO_DOCUMENTO  NUMERO_DOCUMENTO  ...       CIUDAD     FIGURA\n",
              "0             CC          18879388  ...        OTROS    TOMADOR\n",
              "1             CC        1010209255  ...       BOGOTA  ASEGURADO\n",
              "2             CC        1050919339  ...  BUCARAMANGA  ASEGURADO\n",
              "3             CC          75040881  ...        OTROS  ASEGURADO\n",
              "4             CC        1048290780  ...        OTROS  ASEGURADO\n",
              "\n",
              "[5 rows x 10 columns]"
            ]
          },
          "metadata": {},
          "execution_count": 168
        }
      ]
    },
    {
      "cell_type": "code",
      "source": [
        "info_cliente_rol_ok.shape"
      ],
      "metadata": {
        "colab": {
          "base_uri": "https://localhost:8080/"
        },
        "id": "ojnyNsxCGGIi",
        "outputId": "51bb0777-2151-4adf-ccd8-7d7ad497f637"
      },
      "execution_count": null,
      "outputs": [
        {
          "output_type": "execute_result",
          "data": {
            "text/plain": [
              "(2284381, 10)"
            ]
          },
          "metadata": {},
          "execution_count": 167
        }
      ]
    },
    {
      "cell_type": "code",
      "source": [
        "info_cliente_rol_ok['FIGURA'].isnull().sum()"
      ],
      "metadata": {
        "colab": {
          "base_uri": "https://localhost:8080/"
        },
        "id": "NIMZV0JWGHTa",
        "outputId": "443b137b-1943-4dd8-bc77-1647e8dc1239"
      },
      "execution_count": null,
      "outputs": [
        {
          "output_type": "execute_result",
          "data": {
            "text/plain": [
              "0"
            ]
          },
          "metadata": {},
          "execution_count": 166
        }
      ]
    },
    {
      "cell_type": "markdown",
      "source": [
        "###**Limpieza segmento y número productos**"
      ],
      "metadata": {
        "id": "bDy-UOp_GgOF"
      }
    },
    {
      "cell_type": "code",
      "source": [
        "#Limpieza segmento y número productos: Esta limpieza es sencilla,\n",
        "#acá asumimos los missing values como neutrales y monoproductos \n",
        "#respectivamente\n",
        "info_final = info_cliente_rol_ok.copy()"
      ],
      "metadata": {
        "id": "Y3O0pTATGm2_"
      },
      "execution_count": null,
      "outputs": []
    },
    {
      "cell_type": "code",
      "source": [
        "info_final.groupby('SEGMENTO_PERFIL_CLV').count()"
      ],
      "metadata": {
        "colab": {
          "base_uri": "https://localhost:8080/",
          "height": 175
        },
        "id": "XwVG2pjWGtYq",
        "outputId": "d22053a2-bad9-4764-b78d-161ba74d9526"
      },
      "execution_count": null,
      "outputs": [
        {
          "output_type": "execute_result",
          "data": {
            "text/html": [
              "\n",
              "  <div id=\"df-ff17c5ea-d8fa-4406-8b7f-908ed85c3656\">\n",
              "    <div class=\"colab-df-container\">\n",
              "      <div>\n",
              "<style scoped>\n",
              "    .dataframe tbody tr th:only-of-type {\n",
              "        vertical-align: middle;\n",
              "    }\n",
              "\n",
              "    .dataframe tbody tr th {\n",
              "        vertical-align: top;\n",
              "    }\n",
              "\n",
              "    .dataframe thead th {\n",
              "        text-align: right;\n",
              "    }\n",
              "</style>\n",
              "<table border=\"1\" class=\"dataframe\">\n",
              "  <thead>\n",
              "    <tr style=\"text-align: right;\">\n",
              "      <th></th>\n",
              "      <th>TIPO_DOCUMENTO</th>\n",
              "      <th>NUMERO_DOCUMENTO</th>\n",
              "      <th>SEXO</th>\n",
              "      <th>EDAD</th>\n",
              "      <th>AÑOS_ANTIGUEDAD</th>\n",
              "      <th>ESTADO_CIVIL</th>\n",
              "      <th>NUMERO_PRODUCTOS</th>\n",
              "      <th>CIUDAD</th>\n",
              "      <th>FIGURA</th>\n",
              "    </tr>\n",
              "    <tr>\n",
              "      <th>SEGMENTO_PERFIL_CLV</th>\n",
              "      <th></th>\n",
              "      <th></th>\n",
              "      <th></th>\n",
              "      <th></th>\n",
              "      <th></th>\n",
              "      <th></th>\n",
              "      <th></th>\n",
              "      <th></th>\n",
              "      <th></th>\n",
              "    </tr>\n",
              "  </thead>\n",
              "  <tbody>\n",
              "    <tr>\n",
              "      <th>ACTIVO</th>\n",
              "      <td>822624</td>\n",
              "      <td>822624</td>\n",
              "      <td>822624</td>\n",
              "      <td>822624</td>\n",
              "      <td>822624</td>\n",
              "      <td>822624</td>\n",
              "      <td>814454</td>\n",
              "      <td>822624</td>\n",
              "      <td>822624</td>\n",
              "    </tr>\n",
              "    <tr>\n",
              "      <th>ANEXO</th>\n",
              "      <td>59319</td>\n",
              "      <td>59319</td>\n",
              "      <td>59319</td>\n",
              "      <td>59319</td>\n",
              "      <td>59319</td>\n",
              "      <td>59319</td>\n",
              "      <td>58465</td>\n",
              "      <td>59319</td>\n",
              "      <td>59319</td>\n",
              "    </tr>\n",
              "    <tr>\n",
              "      <th>NEUTRAL</th>\n",
              "      <td>566874</td>\n",
              "      <td>566874</td>\n",
              "      <td>566874</td>\n",
              "      <td>566874</td>\n",
              "      <td>566874</td>\n",
              "      <td>566874</td>\n",
              "      <td>563237</td>\n",
              "      <td>566874</td>\n",
              "      <td>566874</td>\n",
              "    </tr>\n",
              "  </tbody>\n",
              "</table>\n",
              "</div>\n",
              "      <button class=\"colab-df-convert\" onclick=\"convertToInteractive('df-ff17c5ea-d8fa-4406-8b7f-908ed85c3656')\"\n",
              "              title=\"Convert this dataframe to an interactive table.\"\n",
              "              style=\"display:none;\">\n",
              "        \n",
              "  <svg xmlns=\"http://www.w3.org/2000/svg\" height=\"24px\"viewBox=\"0 0 24 24\"\n",
              "       width=\"24px\">\n",
              "    <path d=\"M0 0h24v24H0V0z\" fill=\"none\"/>\n",
              "    <path d=\"M18.56 5.44l.94 2.06.94-2.06 2.06-.94-2.06-.94-.94-2.06-.94 2.06-2.06.94zm-11 1L8.5 8.5l.94-2.06 2.06-.94-2.06-.94L8.5 2.5l-.94 2.06-2.06.94zm10 10l.94 2.06.94-2.06 2.06-.94-2.06-.94-.94-2.06-.94 2.06-2.06.94z\"/><path d=\"M17.41 7.96l-1.37-1.37c-.4-.4-.92-.59-1.43-.59-.52 0-1.04.2-1.43.59L10.3 9.45l-7.72 7.72c-.78.78-.78 2.05 0 2.83L4 21.41c.39.39.9.59 1.41.59.51 0 1.02-.2 1.41-.59l7.78-7.78 2.81-2.81c.8-.78.8-2.07 0-2.86zM5.41 20L4 18.59l7.72-7.72 1.47 1.35L5.41 20z\"/>\n",
              "  </svg>\n",
              "      </button>\n",
              "      \n",
              "  <style>\n",
              "    .colab-df-container {\n",
              "      display:flex;\n",
              "      flex-wrap:wrap;\n",
              "      gap: 12px;\n",
              "    }\n",
              "\n",
              "    .colab-df-convert {\n",
              "      background-color: #E8F0FE;\n",
              "      border: none;\n",
              "      border-radius: 50%;\n",
              "      cursor: pointer;\n",
              "      display: none;\n",
              "      fill: #1967D2;\n",
              "      height: 32px;\n",
              "      padding: 0 0 0 0;\n",
              "      width: 32px;\n",
              "    }\n",
              "\n",
              "    .colab-df-convert:hover {\n",
              "      background-color: #E2EBFA;\n",
              "      box-shadow: 0px 1px 2px rgba(60, 64, 67, 0.3), 0px 1px 3px 1px rgba(60, 64, 67, 0.15);\n",
              "      fill: #174EA6;\n",
              "    }\n",
              "\n",
              "    [theme=dark] .colab-df-convert {\n",
              "      background-color: #3B4455;\n",
              "      fill: #D2E3FC;\n",
              "    }\n",
              "\n",
              "    [theme=dark] .colab-df-convert:hover {\n",
              "      background-color: #434B5C;\n",
              "      box-shadow: 0px 1px 3px 1px rgba(0, 0, 0, 0.15);\n",
              "      filter: drop-shadow(0px 1px 2px rgba(0, 0, 0, 0.3));\n",
              "      fill: #FFFFFF;\n",
              "    }\n",
              "  </style>\n",
              "\n",
              "      <script>\n",
              "        const buttonEl =\n",
              "          document.querySelector('#df-ff17c5ea-d8fa-4406-8b7f-908ed85c3656 button.colab-df-convert');\n",
              "        buttonEl.style.display =\n",
              "          google.colab.kernel.accessAllowed ? 'block' : 'none';\n",
              "\n",
              "        async function convertToInteractive(key) {\n",
              "          const element = document.querySelector('#df-ff17c5ea-d8fa-4406-8b7f-908ed85c3656');\n",
              "          const dataTable =\n",
              "            await google.colab.kernel.invokeFunction('convertToInteractive',\n",
              "                                                     [key], {});\n",
              "          if (!dataTable) return;\n",
              "\n",
              "          const docLinkHtml = 'Like what you see? Visit the ' +\n",
              "            '<a target=\"_blank\" href=https://colab.research.google.com/notebooks/data_table.ipynb>data table notebook</a>'\n",
              "            + ' to learn more about interactive tables.';\n",
              "          element.innerHTML = '';\n",
              "          dataTable['output_type'] = 'display_data';\n",
              "          await google.colab.output.renderOutput(dataTable, element);\n",
              "          const docLink = document.createElement('div');\n",
              "          docLink.innerHTML = docLinkHtml;\n",
              "          element.appendChild(docLink);\n",
              "        }\n",
              "      </script>\n",
              "    </div>\n",
              "  </div>\n",
              "  "
            ],
            "text/plain": [
              "                     TIPO_DOCUMENTO  NUMERO_DOCUMENTO  ...  CIUDAD  FIGURA\n",
              "SEGMENTO_PERFIL_CLV                                    ...                \n",
              "ACTIVO                       822624            822624  ...  822624  822624\n",
              "ANEXO                         59319             59319  ...   59319   59319\n",
              "NEUTRAL                      566874            566874  ...  566874  566874\n",
              "\n",
              "[3 rows x 9 columns]"
            ]
          },
          "metadata": {},
          "execution_count": 175
        }
      ]
    },
    {
      "cell_type": "code",
      "source": [
        "info_final.groupby('NUMERO_PRODUCTOS').count()"
      ],
      "metadata": {
        "colab": {
          "base_uri": "https://localhost:8080/",
          "height": 143
        },
        "id": "GI1GFTLFG4iT",
        "outputId": "52f4903b-3e8e-46ec-9112-b4270914d3ca"
      },
      "execution_count": null,
      "outputs": [
        {
          "output_type": "execute_result",
          "data": {
            "text/html": [
              "\n",
              "  <div id=\"df-ad1e36b5-7880-4622-a825-d1071c459155\">\n",
              "    <div class=\"colab-df-container\">\n",
              "      <div>\n",
              "<style scoped>\n",
              "    .dataframe tbody tr th:only-of-type {\n",
              "        vertical-align: middle;\n",
              "    }\n",
              "\n",
              "    .dataframe tbody tr th {\n",
              "        vertical-align: top;\n",
              "    }\n",
              "\n",
              "    .dataframe thead th {\n",
              "        text-align: right;\n",
              "    }\n",
              "</style>\n",
              "<table border=\"1\" class=\"dataframe\">\n",
              "  <thead>\n",
              "    <tr style=\"text-align: right;\">\n",
              "      <th></th>\n",
              "      <th>TIPO_DOCUMENTO</th>\n",
              "      <th>NUMERO_DOCUMENTO</th>\n",
              "      <th>SEXO</th>\n",
              "      <th>EDAD</th>\n",
              "      <th>AÑOS_ANTIGUEDAD</th>\n",
              "      <th>ESTADO_CIVIL</th>\n",
              "      <th>SEGMENTO_PERFIL_CLV</th>\n",
              "      <th>CIUDAD</th>\n",
              "      <th>FIGURA</th>\n",
              "    </tr>\n",
              "    <tr>\n",
              "      <th>NUMERO_PRODUCTOS</th>\n",
              "      <th></th>\n",
              "      <th></th>\n",
              "      <th></th>\n",
              "      <th></th>\n",
              "      <th></th>\n",
              "      <th></th>\n",
              "      <th></th>\n",
              "      <th></th>\n",
              "      <th></th>\n",
              "    </tr>\n",
              "  </thead>\n",
              "  <tbody>\n",
              "    <tr>\n",
              "      <th>MonoProducto</th>\n",
              "      <td>1165021</td>\n",
              "      <td>1165021</td>\n",
              "      <td>1165021</td>\n",
              "      <td>1165021</td>\n",
              "      <td>1165021</td>\n",
              "      <td>1165021</td>\n",
              "      <td>552150</td>\n",
              "      <td>1165021</td>\n",
              "      <td>1165021</td>\n",
              "    </tr>\n",
              "    <tr>\n",
              "      <th>MultiProducto</th>\n",
              "      <td>1007832</td>\n",
              "      <td>1007832</td>\n",
              "      <td>1007832</td>\n",
              "      <td>1007832</td>\n",
              "      <td>1007832</td>\n",
              "      <td>1007832</td>\n",
              "      <td>884006</td>\n",
              "      <td>1007832</td>\n",
              "      <td>1007832</td>\n",
              "    </tr>\n",
              "  </tbody>\n",
              "</table>\n",
              "</div>\n",
              "      <button class=\"colab-df-convert\" onclick=\"convertToInteractive('df-ad1e36b5-7880-4622-a825-d1071c459155')\"\n",
              "              title=\"Convert this dataframe to an interactive table.\"\n",
              "              style=\"display:none;\">\n",
              "        \n",
              "  <svg xmlns=\"http://www.w3.org/2000/svg\" height=\"24px\"viewBox=\"0 0 24 24\"\n",
              "       width=\"24px\">\n",
              "    <path d=\"M0 0h24v24H0V0z\" fill=\"none\"/>\n",
              "    <path d=\"M18.56 5.44l.94 2.06.94-2.06 2.06-.94-2.06-.94-.94-2.06-.94 2.06-2.06.94zm-11 1L8.5 8.5l.94-2.06 2.06-.94-2.06-.94L8.5 2.5l-.94 2.06-2.06.94zm10 10l.94 2.06.94-2.06 2.06-.94-2.06-.94-.94-2.06-.94 2.06-2.06.94z\"/><path d=\"M17.41 7.96l-1.37-1.37c-.4-.4-.92-.59-1.43-.59-.52 0-1.04.2-1.43.59L10.3 9.45l-7.72 7.72c-.78.78-.78 2.05 0 2.83L4 21.41c.39.39.9.59 1.41.59.51 0 1.02-.2 1.41-.59l7.78-7.78 2.81-2.81c.8-.78.8-2.07 0-2.86zM5.41 20L4 18.59l7.72-7.72 1.47 1.35L5.41 20z\"/>\n",
              "  </svg>\n",
              "      </button>\n",
              "      \n",
              "  <style>\n",
              "    .colab-df-container {\n",
              "      display:flex;\n",
              "      flex-wrap:wrap;\n",
              "      gap: 12px;\n",
              "    }\n",
              "\n",
              "    .colab-df-convert {\n",
              "      background-color: #E8F0FE;\n",
              "      border: none;\n",
              "      border-radius: 50%;\n",
              "      cursor: pointer;\n",
              "      display: none;\n",
              "      fill: #1967D2;\n",
              "      height: 32px;\n",
              "      padding: 0 0 0 0;\n",
              "      width: 32px;\n",
              "    }\n",
              "\n",
              "    .colab-df-convert:hover {\n",
              "      background-color: #E2EBFA;\n",
              "      box-shadow: 0px 1px 2px rgba(60, 64, 67, 0.3), 0px 1px 3px 1px rgba(60, 64, 67, 0.15);\n",
              "      fill: #174EA6;\n",
              "    }\n",
              "\n",
              "    [theme=dark] .colab-df-convert {\n",
              "      background-color: #3B4455;\n",
              "      fill: #D2E3FC;\n",
              "    }\n",
              "\n",
              "    [theme=dark] .colab-df-convert:hover {\n",
              "      background-color: #434B5C;\n",
              "      box-shadow: 0px 1px 3px 1px rgba(0, 0, 0, 0.15);\n",
              "      filter: drop-shadow(0px 1px 2px rgba(0, 0, 0, 0.3));\n",
              "      fill: #FFFFFF;\n",
              "    }\n",
              "  </style>\n",
              "\n",
              "      <script>\n",
              "        const buttonEl =\n",
              "          document.querySelector('#df-ad1e36b5-7880-4622-a825-d1071c459155 button.colab-df-convert');\n",
              "        buttonEl.style.display =\n",
              "          google.colab.kernel.accessAllowed ? 'block' : 'none';\n",
              "\n",
              "        async function convertToInteractive(key) {\n",
              "          const element = document.querySelector('#df-ad1e36b5-7880-4622-a825-d1071c459155');\n",
              "          const dataTable =\n",
              "            await google.colab.kernel.invokeFunction('convertToInteractive',\n",
              "                                                     [key], {});\n",
              "          if (!dataTable) return;\n",
              "\n",
              "          const docLinkHtml = 'Like what you see? Visit the ' +\n",
              "            '<a target=\"_blank\" href=https://colab.research.google.com/notebooks/data_table.ipynb>data table notebook</a>'\n",
              "            + ' to learn more about interactive tables.';\n",
              "          element.innerHTML = '';\n",
              "          dataTable['output_type'] = 'display_data';\n",
              "          await google.colab.output.renderOutput(dataTable, element);\n",
              "          const docLink = document.createElement('div');\n",
              "          docLink.innerHTML = docLinkHtml;\n",
              "          element.appendChild(docLink);\n",
              "        }\n",
              "      </script>\n",
              "    </div>\n",
              "  </div>\n",
              "  "
            ],
            "text/plain": [
              "                  TIPO_DOCUMENTO  NUMERO_DOCUMENTO  ...   CIUDAD   FIGURA\n",
              "NUMERO_PRODUCTOS                                    ...                  \n",
              "MonoProducto             1165021           1165021  ...  1165021  1165021\n",
              "MultiProducto            1007832           1007832  ...  1007832  1007832\n",
              "\n",
              "[2 rows x 9 columns]"
            ]
          },
          "metadata": {},
          "execution_count": 176
        }
      ]
    },
    {
      "cell_type": "code",
      "source": [
        "info_final['SEGMENTO_PERFIL_CLV'] = info_final['SEGMENTO_PERFIL_CLV'].fillna('NEUTRAL')\n",
        "info_final['SEGMENTO_PERFIL_CLV'].isnull().sum()"
      ],
      "metadata": {
        "colab": {
          "base_uri": "https://localhost:8080/"
        },
        "id": "TGDKTNBAHah3",
        "outputId": "ce5b36b8-ca94-4d7c-da7c-2068753f6ece"
      },
      "execution_count": null,
      "outputs": [
        {
          "output_type": "execute_result",
          "data": {
            "text/plain": [
              "0"
            ]
          },
          "metadata": {},
          "execution_count": 177
        }
      ]
    },
    {
      "cell_type": "code",
      "source": [
        "info_final['NUMERO_PRODUCTOS'] = info_final['NUMERO_PRODUCTOS'].fillna('MonoProducto')\n",
        "info_final['NUMERO_PRODUCTOS'].isnull().sum()"
      ],
      "metadata": {
        "colab": {
          "base_uri": "https://localhost:8080/"
        },
        "id": "L1Kz29RlH3VE",
        "outputId": "b7808a8d-8e5b-4c08-da1c-64eefd22f286"
      },
      "execution_count": null,
      "outputs": [
        {
          "output_type": "execute_result",
          "data": {
            "text/plain": [
              "0"
            ]
          },
          "metadata": {},
          "execution_count": 178
        }
      ]
    },
    {
      "cell_type": "code",
      "source": [
        "info_final.loc[:,'SEGMENTO_PERFIL_CLV'] = info_final.loc[:,'SEGMENTO_PERFIL_CLV'].astype(str)\n",
        "info_final['SEGMENTO_PERFIL_CLV'] = info_final['SEGMENTO_PERFIL_CLV'].apply(mayuscula)"
      ],
      "metadata": {
        "id": "czwZdjhjIAF5"
      },
      "execution_count": null,
      "outputs": []
    },
    {
      "cell_type": "code",
      "source": [
        "info_final.loc[:,'NUMERO_PRODUCTOS'] = info_final.loc[:,'NUMERO_PRODUCTOS'].astype(str)\n",
        "info_final['NUMERO_PRODUCTOS'] = info_final['NUMERO_PRODUCTOS'].apply(mayuscula)"
      ],
      "metadata": {
        "id": "5miXzDsAIWwU"
      },
      "execution_count": null,
      "outputs": []
    },
    {
      "cell_type": "markdown",
      "source": [
        "###**Fichero limpio**"
      ],
      "metadata": {
        "id": "Fc5rgmR5IeyO"
      }
    },
    {
      "cell_type": "code",
      "source": [
        "info_final.head(5)"
      ],
      "metadata": {
        "colab": {
          "base_uri": "https://localhost:8080/",
          "height": 206
        },
        "id": "N0asyTimIiD6",
        "outputId": "0f9a9695-427b-481d-fe71-72b8f07ce1a5"
      },
      "execution_count": null,
      "outputs": [
        {
          "output_type": "execute_result",
          "data": {
            "text/html": [
              "\n",
              "  <div id=\"df-c477e4b9-273d-4c1b-93b6-55fcf156c77f\">\n",
              "    <div class=\"colab-df-container\">\n",
              "      <div>\n",
              "<style scoped>\n",
              "    .dataframe tbody tr th:only-of-type {\n",
              "        vertical-align: middle;\n",
              "    }\n",
              "\n",
              "    .dataframe tbody tr th {\n",
              "        vertical-align: top;\n",
              "    }\n",
              "\n",
              "    .dataframe thead th {\n",
              "        text-align: right;\n",
              "    }\n",
              "</style>\n",
              "<table border=\"1\" class=\"dataframe\">\n",
              "  <thead>\n",
              "    <tr style=\"text-align: right;\">\n",
              "      <th></th>\n",
              "      <th>TIPO_DOCUMENTO</th>\n",
              "      <th>NUMERO_DOCUMENTO</th>\n",
              "      <th>SEXO</th>\n",
              "      <th>EDAD</th>\n",
              "      <th>AÑOS_ANTIGUEDAD</th>\n",
              "      <th>ESTADO_CIVIL</th>\n",
              "      <th>SEGMENTO_PERFIL_CLV</th>\n",
              "      <th>NUMERO_PRODUCTOS</th>\n",
              "      <th>CIUDAD</th>\n",
              "      <th>FIGURA</th>\n",
              "    </tr>\n",
              "  </thead>\n",
              "  <tbody>\n",
              "    <tr>\n",
              "      <th>0</th>\n",
              "      <td>CC</td>\n",
              "      <td>18879388</td>\n",
              "      <td>F</td>\n",
              "      <td>48.0</td>\n",
              "      <td>6.0</td>\n",
              "      <td>CASADO</td>\n",
              "      <td>NEUTRAL</td>\n",
              "      <td>MULTIPRODUCTO</td>\n",
              "      <td>OTROS</td>\n",
              "      <td>TOMADOR</td>\n",
              "    </tr>\n",
              "    <tr>\n",
              "      <th>1</th>\n",
              "      <td>CC</td>\n",
              "      <td>1010209255</td>\n",
              "      <td>M</td>\n",
              "      <td>28.0</td>\n",
              "      <td>4.0</td>\n",
              "      <td>SOLTERO</td>\n",
              "      <td>NEUTRAL</td>\n",
              "      <td>MULTIPRODUCTO</td>\n",
              "      <td>BOGOTA</td>\n",
              "      <td>ASEGURADO</td>\n",
              "    </tr>\n",
              "    <tr>\n",
              "      <th>2</th>\n",
              "      <td>CC</td>\n",
              "      <td>1050919339</td>\n",
              "      <td>M</td>\n",
              "      <td>36.0</td>\n",
              "      <td>2.0</td>\n",
              "      <td>UNION LIBRE</td>\n",
              "      <td>ACTIVO</td>\n",
              "      <td>MONOPRODUCTO</td>\n",
              "      <td>BUCARAMANGA</td>\n",
              "      <td>ASEGURADO</td>\n",
              "    </tr>\n",
              "    <tr>\n",
              "      <th>3</th>\n",
              "      <td>CC</td>\n",
              "      <td>75040881</td>\n",
              "      <td>M</td>\n",
              "      <td>47.0</td>\n",
              "      <td>11.0</td>\n",
              "      <td>VIUDO</td>\n",
              "      <td>ACTIVO</td>\n",
              "      <td>MONOPRODUCTO</td>\n",
              "      <td>OTROS</td>\n",
              "      <td>ASEGURADO</td>\n",
              "    </tr>\n",
              "    <tr>\n",
              "      <th>4</th>\n",
              "      <td>CC</td>\n",
              "      <td>1048290780</td>\n",
              "      <td>M</td>\n",
              "      <td>28.0</td>\n",
              "      <td>7.0</td>\n",
              "      <td>SOLTERO</td>\n",
              "      <td>ACTIVO</td>\n",
              "      <td>MULTIPRODUCTO</td>\n",
              "      <td>OTROS</td>\n",
              "      <td>ASEGURADO</td>\n",
              "    </tr>\n",
              "  </tbody>\n",
              "</table>\n",
              "</div>\n",
              "      <button class=\"colab-df-convert\" onclick=\"convertToInteractive('df-c477e4b9-273d-4c1b-93b6-55fcf156c77f')\"\n",
              "              title=\"Convert this dataframe to an interactive table.\"\n",
              "              style=\"display:none;\">\n",
              "        \n",
              "  <svg xmlns=\"http://www.w3.org/2000/svg\" height=\"24px\"viewBox=\"0 0 24 24\"\n",
              "       width=\"24px\">\n",
              "    <path d=\"M0 0h24v24H0V0z\" fill=\"none\"/>\n",
              "    <path d=\"M18.56 5.44l.94 2.06.94-2.06 2.06-.94-2.06-.94-.94-2.06-.94 2.06-2.06.94zm-11 1L8.5 8.5l.94-2.06 2.06-.94-2.06-.94L8.5 2.5l-.94 2.06-2.06.94zm10 10l.94 2.06.94-2.06 2.06-.94-2.06-.94-.94-2.06-.94 2.06-2.06.94z\"/><path d=\"M17.41 7.96l-1.37-1.37c-.4-.4-.92-.59-1.43-.59-.52 0-1.04.2-1.43.59L10.3 9.45l-7.72 7.72c-.78.78-.78 2.05 0 2.83L4 21.41c.39.39.9.59 1.41.59.51 0 1.02-.2 1.41-.59l7.78-7.78 2.81-2.81c.8-.78.8-2.07 0-2.86zM5.41 20L4 18.59l7.72-7.72 1.47 1.35L5.41 20z\"/>\n",
              "  </svg>\n",
              "      </button>\n",
              "      \n",
              "  <style>\n",
              "    .colab-df-container {\n",
              "      display:flex;\n",
              "      flex-wrap:wrap;\n",
              "      gap: 12px;\n",
              "    }\n",
              "\n",
              "    .colab-df-convert {\n",
              "      background-color: #E8F0FE;\n",
              "      border: none;\n",
              "      border-radius: 50%;\n",
              "      cursor: pointer;\n",
              "      display: none;\n",
              "      fill: #1967D2;\n",
              "      height: 32px;\n",
              "      padding: 0 0 0 0;\n",
              "      width: 32px;\n",
              "    }\n",
              "\n",
              "    .colab-df-convert:hover {\n",
              "      background-color: #E2EBFA;\n",
              "      box-shadow: 0px 1px 2px rgba(60, 64, 67, 0.3), 0px 1px 3px 1px rgba(60, 64, 67, 0.15);\n",
              "      fill: #174EA6;\n",
              "    }\n",
              "\n",
              "    [theme=dark] .colab-df-convert {\n",
              "      background-color: #3B4455;\n",
              "      fill: #D2E3FC;\n",
              "    }\n",
              "\n",
              "    [theme=dark] .colab-df-convert:hover {\n",
              "      background-color: #434B5C;\n",
              "      box-shadow: 0px 1px 3px 1px rgba(0, 0, 0, 0.15);\n",
              "      filter: drop-shadow(0px 1px 2px rgba(0, 0, 0, 0.3));\n",
              "      fill: #FFFFFF;\n",
              "    }\n",
              "  </style>\n",
              "\n",
              "      <script>\n",
              "        const buttonEl =\n",
              "          document.querySelector('#df-c477e4b9-273d-4c1b-93b6-55fcf156c77f button.colab-df-convert');\n",
              "        buttonEl.style.display =\n",
              "          google.colab.kernel.accessAllowed ? 'block' : 'none';\n",
              "\n",
              "        async function convertToInteractive(key) {\n",
              "          const element = document.querySelector('#df-c477e4b9-273d-4c1b-93b6-55fcf156c77f');\n",
              "          const dataTable =\n",
              "            await google.colab.kernel.invokeFunction('convertToInteractive',\n",
              "                                                     [key], {});\n",
              "          if (!dataTable) return;\n",
              "\n",
              "          const docLinkHtml = 'Like what you see? Visit the ' +\n",
              "            '<a target=\"_blank\" href=https://colab.research.google.com/notebooks/data_table.ipynb>data table notebook</a>'\n",
              "            + ' to learn more about interactive tables.';\n",
              "          element.innerHTML = '';\n",
              "          dataTable['output_type'] = 'display_data';\n",
              "          await google.colab.output.renderOutput(dataTable, element);\n",
              "          const docLink = document.createElement('div');\n",
              "          docLink.innerHTML = docLinkHtml;\n",
              "          element.appendChild(docLink);\n",
              "        }\n",
              "      </script>\n",
              "    </div>\n",
              "  </div>\n",
              "  "
            ],
            "text/plain": [
              "  TIPO_DOCUMENTO  NUMERO_DOCUMENTO  ...       CIUDAD     FIGURA\n",
              "0             CC          18879388  ...        OTROS    TOMADOR\n",
              "1             CC        1010209255  ...       BOGOTA  ASEGURADO\n",
              "2             CC        1050919339  ...  BUCARAMANGA  ASEGURADO\n",
              "3             CC          75040881  ...        OTROS  ASEGURADO\n",
              "4             CC        1048290780  ...        OTROS  ASEGURADO\n",
              "\n",
              "[5 rows x 10 columns]"
            ]
          },
          "metadata": {},
          "execution_count": 181
        }
      ]
    },
    {
      "cell_type": "code",
      "source": [
        "info_final.shape"
      ],
      "metadata": {
        "colab": {
          "base_uri": "https://localhost:8080/"
        },
        "id": "dhLPjCuhIkgP",
        "outputId": "a4540321-6b69-4603-f54e-3467d0d369e1"
      },
      "execution_count": null,
      "outputs": [
        {
          "output_type": "execute_result",
          "data": {
            "text/plain": [
              "(2284381, 10)"
            ]
          },
          "metadata": {},
          "execution_count": 182
        }
      ]
    },
    {
      "cell_type": "code",
      "source": [
        "info_final.isnull().sum()"
      ],
      "metadata": {
        "colab": {
          "base_uri": "https://localhost:8080/"
        },
        "id": "h8tlZo0iIllL",
        "outputId": "df9481ba-2fda-4caa-ff8b-d4485e07e17d"
      },
      "execution_count": null,
      "outputs": [
        {
          "output_type": "execute_result",
          "data": {
            "text/plain": [
              "TIPO_DOCUMENTO         0\n",
              "NUMERO_DOCUMENTO       0\n",
              "SEXO                   0\n",
              "EDAD                   0\n",
              "AÑOS_ANTIGUEDAD        0\n",
              "ESTADO_CIVIL           0\n",
              "SEGMENTO_PERFIL_CLV    0\n",
              "NUMERO_PRODUCTOS       0\n",
              "CIUDAD                 0\n",
              "FIGURA                 0\n",
              "dtype: int64"
            ]
          },
          "metadata": {},
          "execution_count": 183
        }
      ]
    },
    {
      "cell_type": "code",
      "source": [
        "info_final.to_csv('INFO_CLIENTE_LIMPIA.csv')"
      ],
      "metadata": {
        "id": "EZjJGZmrI2V0"
      },
      "execution_count": null,
      "outputs": []
    },
    {
      "cell_type": "code",
      "source": [
        "files.download('INFO_CLIENTE_LIMPIA.csv')"
      ],
      "metadata": {
        "id": "aeZJOEaeI9e8"
      },
      "execution_count": null,
      "outputs": []
    },
    {
      "cell_type": "markdown",
      "source": [
        "###**K-means**"
      ],
      "metadata": {
        "id": "sjvuWq8OvWim"
      }
    },
    {
      "cell_type": "code",
      "source": [
        "uploaded = files.upload()"
      ],
      "metadata": {
        "id": "_u2S8U65vzKH"
      },
      "execution_count": null,
      "outputs": []
    },
    {
      "cell_type": "code",
      "source": [
        "info_final = pd.read_csv(io.BytesIO(uploaded['INFO_CLIENTE_LIMPIA.csv']), sep = ',', encoding = 'latin-1')"
      ],
      "metadata": {
        "id": "cUwcnfg0vzKH"
      },
      "execution_count": null,
      "outputs": []
    },
    {
      "cell_type": "code",
      "source": [
        "#Empezamos por crear lo que sera nuestra llave con el archivo de los modelos\n",
        "info_final.loc[:,'NUMERO_DOCUMENTO'] = info_final.loc[:,'NUMERO_DOCUMENTO'].astype(str)\n",
        "info_final['LLAVE'] = info_final['TIPO_DOCUMENTO']+info_final['NUMERO_DOCUMENTO']\n",
        "info_final.head(5)"
      ],
      "metadata": {
        "id": "Op8Ubx8uwqhr"
      },
      "execution_count": null,
      "outputs": []
    },
    {
      "cell_type": "code",
      "source": [
        "info_final = info_final.drop(['Unnamed: 0', 'TIPO_DOCUMENTO', 'NUMERO_DOCUMENTO'], axis = 1)"
      ],
      "metadata": {
        "id": "uk5Rc5_lxBkU"
      },
      "execution_count": null,
      "outputs": []
    },
    {
      "cell_type": "code",
      "source": [
        "fichero_kmeans = info_final.copy()"
      ],
      "metadata": {
        "id": "qHLsBJTqyFMr"
      },
      "execution_count": null,
      "outputs": []
    },
    {
      "cell_type": "code",
      "source": [
        "fichero_kmeans = fichero_kmeans.rename(columns = {'AÃOS_ANTIGUEDAD': 'ANIOS_ANTIGUEDAD'})\n",
        "fichero_kmeans.head(5)"
      ],
      "metadata": {
        "id": "he-0fOiG0hsE"
      },
      "execution_count": null,
      "outputs": []
    },
    {
      "cell_type": "code",
      "source": [
        "#Ahora vamos a obligar que todas las varibles categorícas sean binarias \n",
        "#creando una variables dummie por cada una\n",
        "dummie_sexo = pd.get_dummies(fichero_kmeans['SEXO'], drop_first = False)\n",
        "fichero_kmeans = pd.concat([fichero_kmeans, dummie_sexo], axis = 1)\n",
        "fichero_kmeans.head(5)"
      ],
      "metadata": {
        "id": "GWW5z09jxNjk"
      },
      "execution_count": null,
      "outputs": []
    },
    {
      "cell_type": "code",
      "source": [
        "dummie_estado = pd.get_dummies(fichero_kmeans['ESTADO_CIVIL'], drop_first = False)\n",
        "fichero_kmeans = pd.concat([fichero_kmeans, dummie_estado], axis = 1)\n",
        "fichero_kmeans.head(5)"
      ],
      "metadata": {
        "id": "ral77m8Xx8qj"
      },
      "execution_count": null,
      "outputs": []
    },
    {
      "cell_type": "code",
      "source": [
        "dummie_segmento = pd.get_dummies(fichero_kmeans['SEGMENTO_PERFIL_CLV'], drop_first = False)\n",
        "fichero_kmeans = pd.concat([fichero_kmeans, dummie_segmento], axis = 1)\n",
        "fichero_kmeans.head(5)"
      ],
      "metadata": {
        "id": "5g1bV1XeyeWs"
      },
      "execution_count": null,
      "outputs": []
    },
    {
      "cell_type": "code",
      "source": [
        "dummie_productos = pd.get_dummies(fichero_kmeans['NUMERO_PRODUCTOS'], drop_first = False)\n",
        "fichero_kmeans = pd.concat([fichero_kmeans, dummie_productos], axis = 1)\n",
        "fichero_kmeans.head(5)"
      ],
      "metadata": {
        "id": "_7LtEeCeysVE"
      },
      "execution_count": null,
      "outputs": []
    },
    {
      "cell_type": "code",
      "source": [
        "dummie_ciudad = pd.get_dummies(fichero_kmeans['CIUDAD'], drop_first = False)\n",
        "fichero_kmeans = pd.concat([fichero_kmeans, dummie_ciudad], axis = 1)\n",
        "fichero_kmeans.head(5)"
      ],
      "metadata": {
        "id": "jjmGbnsfy1ga"
      },
      "execution_count": null,
      "outputs": []
    },
    {
      "cell_type": "code",
      "source": [
        "dummie_figura = pd.get_dummies(fichero_kmeans['FIGURA'], drop_first = False)\n",
        "fichero_kmeans = pd.concat([fichero_kmeans, dummie_figura], axis = 1)\n",
        "fichero_kmeans.head(5)"
      ],
      "metadata": {
        "id": "GABCCbKry-ij"
      },
      "execution_count": null,
      "outputs": []
    },
    {
      "cell_type": "code",
      "source": [
        "fichero_kmeans = fichero_kmeans.drop(['SEXO', 'ESTADO_CIVIL', 'SEGMENTO_PERFIL_CLV', 'NUMERO_PRODUCTOS', 'CIUDAD', 'FIGURA'], axis = 1)\n",
        "fichero_kmeans.head(5)"
      ],
      "metadata": {
        "colab": {
          "base_uri": "https://localhost:8080/",
          "height": 287
        },
        "id": "436rggiizTTT",
        "outputId": "d78aac67-0161-4559-b553-8b9ffcb0f068"
      },
      "execution_count": null,
      "outputs": [
        {
          "output_type": "execute_result",
          "data": {
            "text/html": [
              "\n",
              "  <div id=\"df-10220a6a-48aa-4f63-a683-b51e25b0c8fc\">\n",
              "    <div class=\"colab-df-container\">\n",
              "      <div>\n",
              "<style scoped>\n",
              "    .dataframe tbody tr th:only-of-type {\n",
              "        vertical-align: middle;\n",
              "    }\n",
              "\n",
              "    .dataframe tbody tr th {\n",
              "        vertical-align: top;\n",
              "    }\n",
              "\n",
              "    .dataframe thead th {\n",
              "        text-align: right;\n",
              "    }\n",
              "</style>\n",
              "<table border=\"1\" class=\"dataframe\">\n",
              "  <thead>\n",
              "    <tr style=\"text-align: right;\">\n",
              "      <th></th>\n",
              "      <th>EDAD</th>\n",
              "      <th>ANIOS_ANTIGUEDAD</th>\n",
              "      <th>LLAVE</th>\n",
              "      <th>F</th>\n",
              "      <th>M</th>\n",
              "      <th>CASADO</th>\n",
              "      <th>DIVORCIADO</th>\n",
              "      <th>SEPARADO</th>\n",
              "      <th>SOLTERO</th>\n",
              "      <th>UNION LIBRE</th>\n",
              "      <th>VIUDO</th>\n",
              "      <th>ACTIVO</th>\n",
              "      <th>ANEXO</th>\n",
              "      <th>NEUTRAL</th>\n",
              "      <th>MONOPRODUCTO</th>\n",
              "      <th>MULTIPRODUCTO</th>\n",
              "      <th>BARRANQUILLA</th>\n",
              "      <th>BOGOTA</th>\n",
              "      <th>BUCARAMANGA</th>\n",
              "      <th>CAALI</th>\n",
              "      <th>MEDELLIN</th>\n",
              "      <th>OTROS</th>\n",
              "      <th>ASEGURADO</th>\n",
              "      <th>BENEFICIARIO</th>\n",
              "      <th>TOMADOR</th>\n",
              "    </tr>\n",
              "  </thead>\n",
              "  <tbody>\n",
              "    <tr>\n",
              "      <th>0</th>\n",
              "      <td>48.0</td>\n",
              "      <td>6.0</td>\n",
              "      <td>CC18879388</td>\n",
              "      <td>1</td>\n",
              "      <td>0</td>\n",
              "      <td>1</td>\n",
              "      <td>0</td>\n",
              "      <td>0</td>\n",
              "      <td>0</td>\n",
              "      <td>0</td>\n",
              "      <td>0</td>\n",
              "      <td>0</td>\n",
              "      <td>0</td>\n",
              "      <td>1</td>\n",
              "      <td>0</td>\n",
              "      <td>1</td>\n",
              "      <td>0</td>\n",
              "      <td>0</td>\n",
              "      <td>0</td>\n",
              "      <td>0</td>\n",
              "      <td>0</td>\n",
              "      <td>1</td>\n",
              "      <td>0</td>\n",
              "      <td>0</td>\n",
              "      <td>1</td>\n",
              "    </tr>\n",
              "    <tr>\n",
              "      <th>1</th>\n",
              "      <td>28.0</td>\n",
              "      <td>4.0</td>\n",
              "      <td>CC1010209255</td>\n",
              "      <td>0</td>\n",
              "      <td>1</td>\n",
              "      <td>0</td>\n",
              "      <td>0</td>\n",
              "      <td>0</td>\n",
              "      <td>1</td>\n",
              "      <td>0</td>\n",
              "      <td>0</td>\n",
              "      <td>0</td>\n",
              "      <td>0</td>\n",
              "      <td>1</td>\n",
              "      <td>0</td>\n",
              "      <td>1</td>\n",
              "      <td>0</td>\n",
              "      <td>1</td>\n",
              "      <td>0</td>\n",
              "      <td>0</td>\n",
              "      <td>0</td>\n",
              "      <td>0</td>\n",
              "      <td>1</td>\n",
              "      <td>0</td>\n",
              "      <td>0</td>\n",
              "    </tr>\n",
              "    <tr>\n",
              "      <th>2</th>\n",
              "      <td>36.0</td>\n",
              "      <td>2.0</td>\n",
              "      <td>CC1050919339</td>\n",
              "      <td>0</td>\n",
              "      <td>1</td>\n",
              "      <td>0</td>\n",
              "      <td>0</td>\n",
              "      <td>0</td>\n",
              "      <td>0</td>\n",
              "      <td>1</td>\n",
              "      <td>0</td>\n",
              "      <td>1</td>\n",
              "      <td>0</td>\n",
              "      <td>0</td>\n",
              "      <td>1</td>\n",
              "      <td>0</td>\n",
              "      <td>0</td>\n",
              "      <td>0</td>\n",
              "      <td>1</td>\n",
              "      <td>0</td>\n",
              "      <td>0</td>\n",
              "      <td>0</td>\n",
              "      <td>1</td>\n",
              "      <td>0</td>\n",
              "      <td>0</td>\n",
              "    </tr>\n",
              "    <tr>\n",
              "      <th>3</th>\n",
              "      <td>47.0</td>\n",
              "      <td>11.0</td>\n",
              "      <td>CC75040881</td>\n",
              "      <td>0</td>\n",
              "      <td>1</td>\n",
              "      <td>0</td>\n",
              "      <td>0</td>\n",
              "      <td>0</td>\n",
              "      <td>0</td>\n",
              "      <td>0</td>\n",
              "      <td>1</td>\n",
              "      <td>1</td>\n",
              "      <td>0</td>\n",
              "      <td>0</td>\n",
              "      <td>1</td>\n",
              "      <td>0</td>\n",
              "      <td>0</td>\n",
              "      <td>0</td>\n",
              "      <td>0</td>\n",
              "      <td>0</td>\n",
              "      <td>0</td>\n",
              "      <td>1</td>\n",
              "      <td>1</td>\n",
              "      <td>0</td>\n",
              "      <td>0</td>\n",
              "    </tr>\n",
              "    <tr>\n",
              "      <th>4</th>\n",
              "      <td>28.0</td>\n",
              "      <td>7.0</td>\n",
              "      <td>CC1048290780</td>\n",
              "      <td>0</td>\n",
              "      <td>1</td>\n",
              "      <td>0</td>\n",
              "      <td>0</td>\n",
              "      <td>0</td>\n",
              "      <td>1</td>\n",
              "      <td>0</td>\n",
              "      <td>0</td>\n",
              "      <td>1</td>\n",
              "      <td>0</td>\n",
              "      <td>0</td>\n",
              "      <td>0</td>\n",
              "      <td>1</td>\n",
              "      <td>0</td>\n",
              "      <td>0</td>\n",
              "      <td>0</td>\n",
              "      <td>0</td>\n",
              "      <td>0</td>\n",
              "      <td>1</td>\n",
              "      <td>1</td>\n",
              "      <td>0</td>\n",
              "      <td>0</td>\n",
              "    </tr>\n",
              "  </tbody>\n",
              "</table>\n",
              "</div>\n",
              "      <button class=\"colab-df-convert\" onclick=\"convertToInteractive('df-10220a6a-48aa-4f63-a683-b51e25b0c8fc')\"\n",
              "              title=\"Convert this dataframe to an interactive table.\"\n",
              "              style=\"display:none;\">\n",
              "        \n",
              "  <svg xmlns=\"http://www.w3.org/2000/svg\" height=\"24px\"viewBox=\"0 0 24 24\"\n",
              "       width=\"24px\">\n",
              "    <path d=\"M0 0h24v24H0V0z\" fill=\"none\"/>\n",
              "    <path d=\"M18.56 5.44l.94 2.06.94-2.06 2.06-.94-2.06-.94-.94-2.06-.94 2.06-2.06.94zm-11 1L8.5 8.5l.94-2.06 2.06-.94-2.06-.94L8.5 2.5l-.94 2.06-2.06.94zm10 10l.94 2.06.94-2.06 2.06-.94-2.06-.94-.94-2.06-.94 2.06-2.06.94z\"/><path d=\"M17.41 7.96l-1.37-1.37c-.4-.4-.92-.59-1.43-.59-.52 0-1.04.2-1.43.59L10.3 9.45l-7.72 7.72c-.78.78-.78 2.05 0 2.83L4 21.41c.39.39.9.59 1.41.59.51 0 1.02-.2 1.41-.59l7.78-7.78 2.81-2.81c.8-.78.8-2.07 0-2.86zM5.41 20L4 18.59l7.72-7.72 1.47 1.35L5.41 20z\"/>\n",
              "  </svg>\n",
              "      </button>\n",
              "      \n",
              "  <style>\n",
              "    .colab-df-container {\n",
              "      display:flex;\n",
              "      flex-wrap:wrap;\n",
              "      gap: 12px;\n",
              "    }\n",
              "\n",
              "    .colab-df-convert {\n",
              "      background-color: #E8F0FE;\n",
              "      border: none;\n",
              "      border-radius: 50%;\n",
              "      cursor: pointer;\n",
              "      display: none;\n",
              "      fill: #1967D2;\n",
              "      height: 32px;\n",
              "      padding: 0 0 0 0;\n",
              "      width: 32px;\n",
              "    }\n",
              "\n",
              "    .colab-df-convert:hover {\n",
              "      background-color: #E2EBFA;\n",
              "      box-shadow: 0px 1px 2px rgba(60, 64, 67, 0.3), 0px 1px 3px 1px rgba(60, 64, 67, 0.15);\n",
              "      fill: #174EA6;\n",
              "    }\n",
              "\n",
              "    [theme=dark] .colab-df-convert {\n",
              "      background-color: #3B4455;\n",
              "      fill: #D2E3FC;\n",
              "    }\n",
              "\n",
              "    [theme=dark] .colab-df-convert:hover {\n",
              "      background-color: #434B5C;\n",
              "      box-shadow: 0px 1px 3px 1px rgba(0, 0, 0, 0.15);\n",
              "      filter: drop-shadow(0px 1px 2px rgba(0, 0, 0, 0.3));\n",
              "      fill: #FFFFFF;\n",
              "    }\n",
              "  </style>\n",
              "\n",
              "      <script>\n",
              "        const buttonEl =\n",
              "          document.querySelector('#df-10220a6a-48aa-4f63-a683-b51e25b0c8fc button.colab-df-convert');\n",
              "        buttonEl.style.display =\n",
              "          google.colab.kernel.accessAllowed ? 'block' : 'none';\n",
              "\n",
              "        async function convertToInteractive(key) {\n",
              "          const element = document.querySelector('#df-10220a6a-48aa-4f63-a683-b51e25b0c8fc');\n",
              "          const dataTable =\n",
              "            await google.colab.kernel.invokeFunction('convertToInteractive',\n",
              "                                                     [key], {});\n",
              "          if (!dataTable) return;\n",
              "\n",
              "          const docLinkHtml = 'Like what you see? Visit the ' +\n",
              "            '<a target=\"_blank\" href=https://colab.research.google.com/notebooks/data_table.ipynb>data table notebook</a>'\n",
              "            + ' to learn more about interactive tables.';\n",
              "          element.innerHTML = '';\n",
              "          dataTable['output_type'] = 'display_data';\n",
              "          await google.colab.output.renderOutput(dataTable, element);\n",
              "          const docLink = document.createElement('div');\n",
              "          docLink.innerHTML = docLinkHtml;\n",
              "          element.appendChild(docLink);\n",
              "        }\n",
              "      </script>\n",
              "    </div>\n",
              "  </div>\n",
              "  "
            ],
            "text/plain": [
              "   EDAD  ANIOS_ANTIGUEDAD         LLAVE  ...  ASEGURADO  BENEFICIARIO  TOMADOR\n",
              "0  48.0               6.0    CC18879388  ...          0             0        1\n",
              "1  28.0               4.0  CC1010209255  ...          1             0        0\n",
              "2  36.0               2.0  CC1050919339  ...          1             0        0\n",
              "3  47.0              11.0    CC75040881  ...          1             0        0\n",
              "4  28.0               7.0  CC1048290780  ...          1             0        0\n",
              "\n",
              "[5 rows x 25 columns]"
            ]
          },
          "metadata": {},
          "execution_count": 22
        }
      ]
    },
    {
      "cell_type": "code",
      "source": [
        "fichero_kmeans.dtypes"
      ],
      "metadata": {
        "colab": {
          "base_uri": "https://localhost:8080/"
        },
        "id": "JkietEuF2F8m",
        "outputId": "cf5c40e9-a8a1-4164-d328-94e529a17147"
      },
      "execution_count": null,
      "outputs": [
        {
          "output_type": "execute_result",
          "data": {
            "text/plain": [
              "EDAD                float64\n",
              "ANIOS_ANTIGUEDAD    float64\n",
              "LLAVE                object\n",
              "F                     uint8\n",
              "M                     uint8\n",
              "CASADO                uint8\n",
              "DIVORCIADO            uint8\n",
              "SEPARADO              uint8\n",
              "SOLTERO               uint8\n",
              "UNION LIBRE           uint8\n",
              "VIUDO                 uint8\n",
              "ACTIVO                uint8\n",
              "ANEXO                 uint8\n",
              "NEUTRAL               uint8\n",
              "MONOPRODUCTO          uint8\n",
              "MULTIPRODUCTO         uint8\n",
              "BARRANQUILLA          uint8\n",
              "BOGOTA                uint8\n",
              "BUCARAMANGA           uint8\n",
              "CAALI                 uint8\n",
              "MEDELLIN              uint8\n",
              "OTROS                 uint8\n",
              "ASEGURADO             uint8\n",
              "BENEFICIARIO          uint8\n",
              "TOMADOR               uint8\n",
              "dtype: object"
            ]
          },
          "metadata": {},
          "execution_count": 26
        }
      ]
    },
    {
      "cell_type": "code",
      "source": [
        "fichero_kmeans.shape"
      ],
      "metadata": {
        "colab": {
          "base_uri": "https://localhost:8080/"
        },
        "id": "HU9R56jFHmFk",
        "outputId": "f8161d06-14fb-4c8f-a859-927bfbcc677c"
      },
      "execution_count": null,
      "outputs": [
        {
          "output_type": "execute_result",
          "data": {
            "text/plain": [
              "(2284381, 25)"
            ]
          },
          "metadata": {},
          "execution_count": 36
        }
      ]
    },
    {
      "cell_type": "code",
      "source": [
        "fichero_kmeans.to_csv('FICHERO_KMEANS.csv')"
      ],
      "metadata": {
        "id": "TOVAKBY53T8T"
      },
      "execution_count": null,
      "outputs": []
    },
    {
      "cell_type": "code",
      "source": [
        "files.download('FICHERO_KMEANS.csv')"
      ],
      "metadata": {
        "id": "_vFjLZgT3eup"
      },
      "execution_count": null,
      "outputs": []
    },
    {
      "cell_type": "markdown",
      "source": [
        "Ahora que ya tenemos nuestro fichero limpio, procederemos a implementar el algoritmo K-means, inicialmente nos gustaría trabajar con 4 clusters, número, que nos parece óptimo luego de implementar el método del codo para revisar que la suma de los cuadrados de las distancias de cada elemento de datos con su centroide"
      ],
      "metadata": {
        "id": "SbHvBo9a4l_B"
      }
    },
    {
      "cell_type": "code",
      "source": [
        "wcss = []\n",
        "for i in range(1, 20):\n",
        "  kmeans = KMeans(n_clusters = i, init = 'k-means++', random_state = 0)\n",
        "  kmeans.fit(fichero_kmeans.drop('LLAVE', axis = 1))\n",
        "  wcss.append(kmeans.inertia_)"
      ],
      "metadata": {
        "id": "uf3ZWlw25Kgx"
      },
      "execution_count": null,
      "outputs": []
    },
    {
      "cell_type": "code",
      "source": [
        "plt.plot(range(1, 20), wcss)\n",
        "plt.title('Método del Codo')\n",
        "plt.xlabel('NO. Clusters')\n",
        "plt.ylabel('WCSS')\n",
        "plt.show()"
      ],
      "metadata": {
        "colab": {
          "base_uri": "https://localhost:8080/",
          "height": 295
        },
        "id": "dz6afSE1FR0p",
        "outputId": "42cf7488-81c5-4d76-af42-aaefee33b977"
      },
      "execution_count": null,
      "outputs": [
        {
          "output_type": "display_data",
          "data": {
            "image/png": "[encoded data removed]",
            "text/plain": [
              "<Figure size 432x288 with 1 Axes>"
            ]
          },
          "metadata": {
            "needs_background": "light"
          }
        }
      ]
    },
    {
      "cell_type": "code",
      "source": [
        "kmeans_cliente = KMeans(n_clusters = 4, init = 'k-means++', random_state = 0)\n",
        "y_pred = kmeans_cliente.fit_predict(fichero_kmeans.drop('LLAVE', axis = 1))"
      ],
      "metadata": {
        "id": "wyASE4q0FpJi"
      },
      "execution_count": null,
      "outputs": []
    },
    {
      "cell_type": "code",
      "source": [
        "ETIQUETAS = kmeans_cliente.labels_\n",
        "len(ETIQUETAS)"
      ],
      "metadata": {
        "colab": {
          "base_uri": "https://localhost:8080/"
        },
        "id": "6z_oVDXpHX1Y",
        "outputId": "f61f6cb1-2c3d-4673-bb32-68de7f6a6f7c"
      },
      "execution_count": null,
      "outputs": [
        {
          "output_type": "execute_result",
          "data": {
            "text/plain": [
              "2284381"
            ]
          },
          "metadata": {},
          "execution_count": 38
        }
      ]
    },
    {
      "cell_type": "code",
      "source": [
        "fichero_kmeans['CLUSTER'] = ETIQUETAS\n",
        "fichero_kmeans.head(5)"
      ],
      "metadata": {
        "colab": {
          "base_uri": "https://localhost:8080/",
          "height": 287
        },
        "id": "lPzKOh-WHpW8",
        "outputId": "43075ffe-5efa-4083-9c8f-eff119622017"
      },
      "execution_count": null,
      "outputs": [
        {
          "output_type": "execute_result",
          "data": {
            "text/html": [
              "\n",
              "  <div id=\"df-f8bd0b91-e9a1-4d76-96af-db41487c64b6\">\n",
              "    <div class=\"colab-df-container\">\n",
              "      <div>\n",
              "<style scoped>\n",
              "    .dataframe tbody tr th:only-of-type {\n",
              "        vertical-align: middle;\n",
              "    }\n",
              "\n",
              "    .dataframe tbody tr th {\n",
              "        vertical-align: top;\n",
              "    }\n",
              "\n",
              "    .dataframe thead th {\n",
              "        text-align: right;\n",
              "    }\n",
              "</style>\n",
              "<table border=\"1\" class=\"dataframe\">\n",
              "  <thead>\n",
              "    <tr style=\"text-align: right;\">\n",
              "      <th></th>\n",
              "      <th>EDAD</th>\n",
              "      <th>ANIOS_ANTIGUEDAD</th>\n",
              "      <th>LLAVE</th>\n",
              "      <th>F</th>\n",
              "      <th>M</th>\n",
              "      <th>CASADO</th>\n",
              "      <th>DIVORCIADO</th>\n",
              "      <th>SEPARADO</th>\n",
              "      <th>SOLTERO</th>\n",
              "      <th>UNION LIBRE</th>\n",
              "      <th>VIUDO</th>\n",
              "      <th>ACTIVO</th>\n",
              "      <th>ANEXO</th>\n",
              "      <th>NEUTRAL</th>\n",
              "      <th>MONOPRODUCTO</th>\n",
              "      <th>MULTIPRODUCTO</th>\n",
              "      <th>BARRANQUILLA</th>\n",
              "      <th>BOGOTA</th>\n",
              "      <th>BUCARAMANGA</th>\n",
              "      <th>CAALI</th>\n",
              "      <th>MEDELLIN</th>\n",
              "      <th>OTROS</th>\n",
              "      <th>ASEGURADO</th>\n",
              "      <th>BENEFICIARIO</th>\n",
              "      <th>TOMADOR</th>\n",
              "      <th>CLUSTER</th>\n",
              "    </tr>\n",
              "  </thead>\n",
              "  <tbody>\n",
              "    <tr>\n",
              "      <th>0</th>\n",
              "      <td>48.0</td>\n",
              "      <td>6.0</td>\n",
              "      <td>CC18879388</td>\n",
              "      <td>1</td>\n",
              "      <td>0</td>\n",
              "      <td>1</td>\n",
              "      <td>0</td>\n",
              "      <td>0</td>\n",
              "      <td>0</td>\n",
              "      <td>0</td>\n",
              "      <td>0</td>\n",
              "      <td>0</td>\n",
              "      <td>0</td>\n",
              "      <td>1</td>\n",
              "      <td>0</td>\n",
              "      <td>1</td>\n",
              "      <td>0</td>\n",
              "      <td>0</td>\n",
              "      <td>0</td>\n",
              "      <td>0</td>\n",
              "      <td>0</td>\n",
              "      <td>1</td>\n",
              "      <td>0</td>\n",
              "      <td>0</td>\n",
              "      <td>1</td>\n",
              "      <td>0</td>\n",
              "    </tr>\n",
              "    <tr>\n",
              "      <th>1</th>\n",
              "      <td>28.0</td>\n",
              "      <td>4.0</td>\n",
              "      <td>CC1010209255</td>\n",
              "      <td>0</td>\n",
              "      <td>1</td>\n",
              "      <td>0</td>\n",
              "      <td>0</td>\n",
              "      <td>0</td>\n",
              "      <td>1</td>\n",
              "      <td>0</td>\n",
              "      <td>0</td>\n",
              "      <td>0</td>\n",
              "      <td>0</td>\n",
              "      <td>1</td>\n",
              "      <td>0</td>\n",
              "      <td>1</td>\n",
              "      <td>0</td>\n",
              "      <td>1</td>\n",
              "      <td>0</td>\n",
              "      <td>0</td>\n",
              "      <td>0</td>\n",
              "      <td>0</td>\n",
              "      <td>1</td>\n",
              "      <td>0</td>\n",
              "      <td>0</td>\n",
              "      <td>1</td>\n",
              "    </tr>\n",
              "    <tr>\n",
              "      <th>2</th>\n",
              "      <td>36.0</td>\n",
              "      <td>2.0</td>\n",
              "      <td>CC1050919339</td>\n",
              "      <td>0</td>\n",
              "      <td>1</td>\n",
              "      <td>0</td>\n",
              "      <td>0</td>\n",
              "      <td>0</td>\n",
              "      <td>0</td>\n",
              "      <td>1</td>\n",
              "      <td>0</td>\n",
              "      <td>1</td>\n",
              "      <td>0</td>\n",
              "      <td>0</td>\n",
              "      <td>1</td>\n",
              "      <td>0</td>\n",
              "      <td>0</td>\n",
              "      <td>0</td>\n",
              "      <td>1</td>\n",
              "      <td>0</td>\n",
              "      <td>0</td>\n",
              "      <td>0</td>\n",
              "      <td>1</td>\n",
              "      <td>0</td>\n",
              "      <td>0</td>\n",
              "      <td>2</td>\n",
              "    </tr>\n",
              "    <tr>\n",
              "      <th>3</th>\n",
              "      <td>47.0</td>\n",
              "      <td>11.0</td>\n",
              "      <td>CC75040881</td>\n",
              "      <td>0</td>\n",
              "      <td>1</td>\n",
              "      <td>0</td>\n",
              "      <td>0</td>\n",
              "      <td>0</td>\n",
              "      <td>0</td>\n",
              "      <td>0</td>\n",
              "      <td>1</td>\n",
              "      <td>1</td>\n",
              "      <td>0</td>\n",
              "      <td>0</td>\n",
              "      <td>1</td>\n",
              "      <td>0</td>\n",
              "      <td>0</td>\n",
              "      <td>0</td>\n",
              "      <td>0</td>\n",
              "      <td>0</td>\n",
              "      <td>0</td>\n",
              "      <td>1</td>\n",
              "      <td>1</td>\n",
              "      <td>0</td>\n",
              "      <td>0</td>\n",
              "      <td>0</td>\n",
              "    </tr>\n",
              "    <tr>\n",
              "      <th>4</th>\n",
              "      <td>28.0</td>\n",
              "      <td>7.0</td>\n",
              "      <td>CC1048290780</td>\n",
              "      <td>0</td>\n",
              "      <td>1</td>\n",
              "      <td>0</td>\n",
              "      <td>0</td>\n",
              "      <td>0</td>\n",
              "      <td>1</td>\n",
              "      <td>0</td>\n",
              "      <td>0</td>\n",
              "      <td>1</td>\n",
              "      <td>0</td>\n",
              "      <td>0</td>\n",
              "      <td>0</td>\n",
              "      <td>1</td>\n",
              "      <td>0</td>\n",
              "      <td>0</td>\n",
              "      <td>0</td>\n",
              "      <td>0</td>\n",
              "      <td>0</td>\n",
              "      <td>1</td>\n",
              "      <td>1</td>\n",
              "      <td>0</td>\n",
              "      <td>0</td>\n",
              "      <td>1</td>\n",
              "    </tr>\n",
              "  </tbody>\n",
              "</table>\n",
              "</div>\n",
              "      <button class=\"colab-df-convert\" onclick=\"convertToInteractive('df-f8bd0b91-e9a1-4d76-96af-db41487c64b6')\"\n",
              "              title=\"Convert this dataframe to an interactive table.\"\n",
              "              style=\"display:none;\">\n",
              "        \n",
              "  <svg xmlns=\"http://www.w3.org/2000/svg\" height=\"24px\"viewBox=\"0 0 24 24\"\n",
              "       width=\"24px\">\n",
              "    <path d=\"M0 0h24v24H0V0z\" fill=\"none\"/>\n",
              "    <path d=\"M18.56 5.44l.94 2.06.94-2.06 2.06-.94-2.06-.94-.94-2.06-.94 2.06-2.06.94zm-11 1L8.5 8.5l.94-2.06 2.06-.94-2.06-.94L8.5 2.5l-.94 2.06-2.06.94zm10 10l.94 2.06.94-2.06 2.06-.94-2.06-.94-.94-2.06-.94 2.06-2.06.94z\"/><path d=\"M17.41 7.96l-1.37-1.37c-.4-.4-.92-.59-1.43-.59-.52 0-1.04.2-1.43.59L10.3 9.45l-7.72 7.72c-.78.78-.78 2.05 0 2.83L4 21.41c.39.39.9.59 1.41.59.51 0 1.02-.2 1.41-.59l7.78-7.78 2.81-2.81c.8-.78.8-2.07 0-2.86zM5.41 20L4 18.59l7.72-7.72 1.47 1.35L5.41 20z\"/>\n",
              "  </svg>\n",
              "      </button>\n",
              "      \n",
              "  <style>\n",
              "    .colab-df-container {\n",
              "      display:flex;\n",
              "      flex-wrap:wrap;\n",
              "      gap: 12px;\n",
              "    }\n",
              "\n",
              "    .colab-df-convert {\n",
              "      background-color: #E8F0FE;\n",
              "      border: none;\n",
              "      border-radius: 50%;\n",
              "      cursor: pointer;\n",
              "      display: none;\n",
              "      fill: #1967D2;\n",
              "      height: 32px;\n",
              "      padding: 0 0 0 0;\n",
              "      width: 32px;\n",
              "    }\n",
              "\n",
              "    .colab-df-convert:hover {\n",
              "      background-color: #E2EBFA;\n",
              "      box-shadow: 0px 1px 2px rgba(60, 64, 67, 0.3), 0px 1px 3px 1px rgba(60, 64, 67, 0.15);\n",
              "      fill: #174EA6;\n",
              "    }\n",
              "\n",
              "    [theme=dark] .colab-df-convert {\n",
              "      background-color: #3B4455;\n",
              "      fill: #D2E3FC;\n",
              "    }\n",
              "\n",
              "    [theme=dark] .colab-df-convert:hover {\n",
              "      background-color: #434B5C;\n",
              "      box-shadow: 0px 1px 3px 1px rgba(0, 0, 0, 0.15);\n",
              "      filter: drop-shadow(0px 1px 2px rgba(0, 0, 0, 0.3));\n",
              "      fill: #FFFFFF;\n",
              "    }\n",
              "  </style>\n",
              "\n",
              "      <script>\n",
              "        const buttonEl =\n",
              "          document.querySelector('#df-f8bd0b91-e9a1-4d76-96af-db41487c64b6 button.colab-df-convert');\n",
              "        buttonEl.style.display =\n",
              "          google.colab.kernel.accessAllowed ? 'block' : 'none';\n",
              "\n",
              "        async function convertToInteractive(key) {\n",
              "          const element = document.querySelector('#df-f8bd0b91-e9a1-4d76-96af-db41487c64b6');\n",
              "          const dataTable =\n",
              "            await google.colab.kernel.invokeFunction('convertToInteractive',\n",
              "                                                     [key], {});\n",
              "          if (!dataTable) return;\n",
              "\n",
              "          const docLinkHtml = 'Like what you see? Visit the ' +\n",
              "            '<a target=\"_blank\" href=https://colab.research.google.com/notebooks/data_table.ipynb>data table notebook</a>'\n",
              "            + ' to learn more about interactive tables.';\n",
              "          element.innerHTML = '';\n",
              "          dataTable['output_type'] = 'display_data';\n",
              "          await google.colab.output.renderOutput(dataTable, element);\n",
              "          const docLink = document.createElement('div');\n",
              "          docLink.innerHTML = docLinkHtml;\n",
              "          element.appendChild(docLink);\n",
              "        }\n",
              "      </script>\n",
              "    </div>\n",
              "  </div>\n",
              "  "
            ],
            "text/plain": [
              "   EDAD  ANIOS_ANTIGUEDAD         LLAVE  ...  BENEFICIARIO  TOMADOR  CLUSTER\n",
              "0  48.0               6.0    CC18879388  ...             0        1        0\n",
              "1  28.0               4.0  CC1010209255  ...             0        0        1\n",
              "2  36.0               2.0  CC1050919339  ...             0        0        2\n",
              "3  47.0              11.0    CC75040881  ...             0        0        0\n",
              "4  28.0               7.0  CC1048290780  ...             0        0        1\n",
              "\n",
              "[5 rows x 26 columns]"
            ]
          },
          "metadata": {},
          "execution_count": 41
        }
      ]
    },
    {
      "cell_type": "code",
      "source": [
        "fichero_kmeans_final = fichero_kmeans[['LLAVE', 'CLUSTER']]\n",
        "fichero_kmeans_final.head(5)"
      ],
      "metadata": {
        "colab": {
          "base_uri": "https://localhost:8080/",
          "height": 206
        },
        "id": "0tbs-KXiIAh2",
        "outputId": "7571d8b0-9884-4976-fbbe-61546b3e8a94"
      },
      "execution_count": null,
      "outputs": [
        {
          "output_type": "execute_result",
          "data": {
            "text/html": [
              "\n",
              "  <div id=\"df-b8103f09-039f-46d4-bc87-500a0af3f3ba\">\n",
              "    <div class=\"colab-df-container\">\n",
              "      <div>\n",
              "<style scoped>\n",
              "    .dataframe tbody tr th:only-of-type {\n",
              "        vertical-align: middle;\n",
              "    }\n",
              "\n",
              "    .dataframe tbody tr th {\n",
              "        vertical-align: top;\n",
              "    }\n",
              "\n",
              "    .dataframe thead th {\n",
              "        text-align: right;\n",
              "    }\n",
              "</style>\n",
              "<table border=\"1\" class=\"dataframe\">\n",
              "  <thead>\n",
              "    <tr style=\"text-align: right;\">\n",
              "      <th></th>\n",
              "      <th>LLAVE</th>\n",
              "      <th>CLUSTER</th>\n",
              "    </tr>\n",
              "  </thead>\n",
              "  <tbody>\n",
              "    <tr>\n",
              "      <th>0</th>\n",
              "      <td>CC18879388</td>\n",
              "      <td>0</td>\n",
              "    </tr>\n",
              "    <tr>\n",
              "      <th>1</th>\n",
              "      <td>CC1010209255</td>\n",
              "      <td>1</td>\n",
              "    </tr>\n",
              "    <tr>\n",
              "      <th>2</th>\n",
              "      <td>CC1050919339</td>\n",
              "      <td>2</td>\n",
              "    </tr>\n",
              "    <tr>\n",
              "      <th>3</th>\n",
              "      <td>CC75040881</td>\n",
              "      <td>0</td>\n",
              "    </tr>\n",
              "    <tr>\n",
              "      <th>4</th>\n",
              "      <td>CC1048290780</td>\n",
              "      <td>1</td>\n",
              "    </tr>\n",
              "  </tbody>\n",
              "</table>\n",
              "</div>\n",
              "      <button class=\"colab-df-convert\" onclick=\"convertToInteractive('df-b8103f09-039f-46d4-bc87-500a0af3f3ba')\"\n",
              "              title=\"Convert this dataframe to an interactive table.\"\n",
              "              style=\"display:none;\">\n",
              "        \n",
              "  <svg xmlns=\"http://www.w3.org/2000/svg\" height=\"24px\"viewBox=\"0 0 24 24\"\n",
              "       width=\"24px\">\n",
              "    <path d=\"M0 0h24v24H0V0z\" fill=\"none\"/>\n",
              "    <path d=\"M18.56 5.44l.94 2.06.94-2.06 2.06-.94-2.06-.94-.94-2.06-.94 2.06-2.06.94zm-11 1L8.5 8.5l.94-2.06 2.06-.94-2.06-.94L8.5 2.5l-.94 2.06-2.06.94zm10 10l.94 2.06.94-2.06 2.06-.94-2.06-.94-.94-2.06-.94 2.06-2.06.94z\"/><path d=\"M17.41 7.96l-1.37-1.37c-.4-.4-.92-.59-1.43-.59-.52 0-1.04.2-1.43.59L10.3 9.45l-7.72 7.72c-.78.78-.78 2.05 0 2.83L4 21.41c.39.39.9.59 1.41.59.51 0 1.02-.2 1.41-.59l7.78-7.78 2.81-2.81c.8-.78.8-2.07 0-2.86zM5.41 20L4 18.59l7.72-7.72 1.47 1.35L5.41 20z\"/>\n",
              "  </svg>\n",
              "      </button>\n",
              "      \n",
              "  <style>\n",
              "    .colab-df-container {\n",
              "      display:flex;\n",
              "      flex-wrap:wrap;\n",
              "      gap: 12px;\n",
              "    }\n",
              "\n",
              "    .colab-df-convert {\n",
              "      background-color: #E8F0FE;\n",
              "      border: none;\n",
              "      border-radius: 50%;\n",
              "      cursor: pointer;\n",
              "      display: none;\n",
              "      fill: #1967D2;\n",
              "      height: 32px;\n",
              "      padding: 0 0 0 0;\n",
              "      width: 32px;\n",
              "    }\n",
              "\n",
              "    .colab-df-convert:hover {\n",
              "      background-color: #E2EBFA;\n",
              "      box-shadow: 0px 1px 2px rgba(60, 64, 67, 0.3), 0px 1px 3px 1px rgba(60, 64, 67, 0.15);\n",
              "      fill: #174EA6;\n",
              "    }\n",
              "\n",
              "    [theme=dark] .colab-df-convert {\n",
              "      background-color: #3B4455;\n",
              "      fill: #D2E3FC;\n",
              "    }\n",
              "\n",
              "    [theme=dark] .colab-df-convert:hover {\n",
              "      background-color: #434B5C;\n",
              "      box-shadow: 0px 1px 3px 1px rgba(0, 0, 0, 0.15);\n",
              "      filter: drop-shadow(0px 1px 2px rgba(0, 0, 0, 0.3));\n",
              "      fill: #FFFFFF;\n",
              "    }\n",
              "  </style>\n",
              "\n",
              "      <script>\n",
              "        const buttonEl =\n",
              "          document.querySelector('#df-b8103f09-039f-46d4-bc87-500a0af3f3ba button.colab-df-convert');\n",
              "        buttonEl.style.display =\n",
              "          google.colab.kernel.accessAllowed ? 'block' : 'none';\n",
              "\n",
              "        async function convertToInteractive(key) {\n",
              "          const element = document.querySelector('#df-b8103f09-039f-46d4-bc87-500a0af3f3ba');\n",
              "          const dataTable =\n",
              "            await google.colab.kernel.invokeFunction('convertToInteractive',\n",
              "                                                     [key], {});\n",
              "          if (!dataTable) return;\n",
              "\n",
              "          const docLinkHtml = 'Like what you see? Visit the ' +\n",
              "            '<a target=\"_blank\" href=https://colab.research.google.com/notebooks/data_table.ipynb>data table notebook</a>'\n",
              "            + ' to learn more about interactive tables.';\n",
              "          element.innerHTML = '';\n",
              "          dataTable['output_type'] = 'display_data';\n",
              "          await google.colab.output.renderOutput(dataTable, element);\n",
              "          const docLink = document.createElement('div');\n",
              "          docLink.innerHTML = docLinkHtml;\n",
              "          element.appendChild(docLink);\n",
              "        }\n",
              "      </script>\n",
              "    </div>\n",
              "  </div>\n",
              "  "
            ],
            "text/plain": [
              "          LLAVE  CLUSTER\n",
              "0    CC18879388        0\n",
              "1  CC1010209255        1\n",
              "2  CC1050919339        2\n",
              "3    CC75040881        0\n",
              "4  CC1048290780        1"
            ]
          },
          "metadata": {},
          "execution_count": 42
        }
      ]
    },
    {
      "cell_type": "code",
      "source": [
        "fichero_kmeans_final.shape"
      ],
      "metadata": {
        "colab": {
          "base_uri": "https://localhost:8080/"
        },
        "id": "35PUHMB2Ieqt",
        "outputId": "aa4d02a2-ef5c-46e6-a8d5-61557cab9805"
      },
      "execution_count": null,
      "outputs": [
        {
          "output_type": "execute_result",
          "data": {
            "text/plain": [
              "(2284381, 2)"
            ]
          },
          "metadata": {},
          "execution_count": 43
        }
      ]
    },
    {
      "cell_type": "code",
      "source": [
        "fichero_kmeans_final.groupby('CLUSTER').count()"
      ],
      "metadata": {
        "colab": {
          "base_uri": "https://localhost:8080/",
          "height": 206
        },
        "id": "cPrSzQCHRO9r",
        "outputId": "b9dcee43-e1bf-4110-c78e-d5ab29ac68f5"
      },
      "execution_count": null,
      "outputs": [
        {
          "output_type": "execute_result",
          "data": {
            "text/html": [
              "\n",
              "  <div id=\"df-f49932d2-386c-4105-ad64-b198af0c0857\">\n",
              "    <div class=\"colab-df-container\">\n",
              "      <div>\n",
              "<style scoped>\n",
              "    .dataframe tbody tr th:only-of-type {\n",
              "        vertical-align: middle;\n",
              "    }\n",
              "\n",
              "    .dataframe tbody tr th {\n",
              "        vertical-align: top;\n",
              "    }\n",
              "\n",
              "    .dataframe thead th {\n",
              "        text-align: right;\n",
              "    }\n",
              "</style>\n",
              "<table border=\"1\" class=\"dataframe\">\n",
              "  <thead>\n",
              "    <tr style=\"text-align: right;\">\n",
              "      <th></th>\n",
              "      <th>LLAVE</th>\n",
              "    </tr>\n",
              "    <tr>\n",
              "      <th>CLUSTER</th>\n",
              "      <th></th>\n",
              "    </tr>\n",
              "  </thead>\n",
              "  <tbody>\n",
              "    <tr>\n",
              "      <th>0</th>\n",
              "      <td>589925</td>\n",
              "    </tr>\n",
              "    <tr>\n",
              "      <th>1</th>\n",
              "      <td>629311</td>\n",
              "    </tr>\n",
              "    <tr>\n",
              "      <th>2</th>\n",
              "      <td>796583</td>\n",
              "    </tr>\n",
              "    <tr>\n",
              "      <th>3</th>\n",
              "      <td>268562</td>\n",
              "    </tr>\n",
              "  </tbody>\n",
              "</table>\n",
              "</div>\n",
              "      <button class=\"colab-df-convert\" onclick=\"convertToInteractive('df-f49932d2-386c-4105-ad64-b198af0c0857')\"\n",
              "              title=\"Convert this dataframe to an interactive table.\"\n",
              "              style=\"display:none;\">\n",
              "        \n",
              "  <svg xmlns=\"http://www.w3.org/2000/svg\" height=\"24px\"viewBox=\"0 0 24 24\"\n",
              "       width=\"24px\">\n",
              "    <path d=\"M0 0h24v24H0V0z\" fill=\"none\"/>\n",
              "    <path d=\"M18.56 5.44l.94 2.06.94-2.06 2.06-.94-2.06-.94-.94-2.06-.94 2.06-2.06.94zm-11 1L8.5 8.5l.94-2.06 2.06-.94-2.06-.94L8.5 2.5l-.94 2.06-2.06.94zm10 10l.94 2.06.94-2.06 2.06-.94-2.06-.94-.94-2.06-.94 2.06-2.06.94z\"/><path d=\"M17.41 7.96l-1.37-1.37c-.4-.4-.92-.59-1.43-.59-.52 0-1.04.2-1.43.59L10.3 9.45l-7.72 7.72c-.78.78-.78 2.05 0 2.83L4 21.41c.39.39.9.59 1.41.59.51 0 1.02-.2 1.41-.59l7.78-7.78 2.81-2.81c.8-.78.8-2.07 0-2.86zM5.41 20L4 18.59l7.72-7.72 1.47 1.35L5.41 20z\"/>\n",
              "  </svg>\n",
              "      </button>\n",
              "      \n",
              "  <style>\n",
              "    .colab-df-container {\n",
              "      display:flex;\n",
              "      flex-wrap:wrap;\n",
              "      gap: 12px;\n",
              "    }\n",
              "\n",
              "    .colab-df-convert {\n",
              "      background-color: #E8F0FE;\n",
              "      border: none;\n",
              "      border-radius: 50%;\n",
              "      cursor: pointer;\n",
              "      display: none;\n",
              "      fill: #1967D2;\n",
              "      height: 32px;\n",
              "      padding: 0 0 0 0;\n",
              "      width: 32px;\n",
              "    }\n",
              "\n",
              "    .colab-df-convert:hover {\n",
              "      background-color: #E2EBFA;\n",
              "      box-shadow: 0px 1px 2px rgba(60, 64, 67, 0.3), 0px 1px 3px 1px rgba(60, 64, 67, 0.15);\n",
              "      fill: #174EA6;\n",
              "    }\n",
              "\n",
              "    [theme=dark] .colab-df-convert {\n",
              "      background-color: #3B4455;\n",
              "      fill: #D2E3FC;\n",
              "    }\n",
              "\n",
              "    [theme=dark] .colab-df-convert:hover {\n",
              "      background-color: #434B5C;\n",
              "      box-shadow: 0px 1px 3px 1px rgba(0, 0, 0, 0.15);\n",
              "      filter: drop-shadow(0px 1px 2px rgba(0, 0, 0, 0.3));\n",
              "      fill: #FFFFFF;\n",
              "    }\n",
              "  </style>\n",
              "\n",
              "      <script>\n",
              "        const buttonEl =\n",
              "          document.querySelector('#df-f49932d2-386c-4105-ad64-b198af0c0857 button.colab-df-convert');\n",
              "        buttonEl.style.display =\n",
              "          google.colab.kernel.accessAllowed ? 'block' : 'none';\n",
              "\n",
              "        async function convertToInteractive(key) {\n",
              "          const element = document.querySelector('#df-f49932d2-386c-4105-ad64-b198af0c0857');\n",
              "          const dataTable =\n",
              "            await google.colab.kernel.invokeFunction('convertToInteractive',\n",
              "                                                     [key], {});\n",
              "          if (!dataTable) return;\n",
              "\n",
              "          const docLinkHtml = 'Like what you see? Visit the ' +\n",
              "            '<a target=\"_blank\" href=https://colab.research.google.com/notebooks/data_table.ipynb>data table notebook</a>'\n",
              "            + ' to learn more about interactive tables.';\n",
              "          element.innerHTML = '';\n",
              "          dataTable['output_type'] = 'display_data';\n",
              "          await google.colab.output.renderOutput(dataTable, element);\n",
              "          const docLink = document.createElement('div');\n",
              "          docLink.innerHTML = docLinkHtml;\n",
              "          element.appendChild(docLink);\n",
              "        }\n",
              "      </script>\n",
              "    </div>\n",
              "  </div>\n",
              "  "
            ],
            "text/plain": [
              "          LLAVE\n",
              "CLUSTER        \n",
              "0        589925\n",
              "1        629311\n",
              "2        796583\n",
              "3        268562"
            ]
          },
          "metadata": {},
          "execution_count": 56
        }
      ]
    },
    {
      "cell_type": "code",
      "source": [
        "fichero_kmeans_final.to_csv('FICHERO_KMEANS_FINAL.csv')"
      ],
      "metadata": {
        "id": "yEu-uB0uIhA_"
      },
      "execution_count": null,
      "outputs": []
    },
    {
      "cell_type": "code",
      "source": [
        "files.download('FICHERO_KMEANS_FINAL.csv')"
      ],
      "metadata": {
        "colab": {
          "base_uri": "https://localhost:8080/",
          "height": 17
        },
        "id": "eOFQ4tpWIoWf",
        "outputId": "b7490301-3be9-4cf0-841d-05e0ca5ade6f"
      },
      "execution_count": null,
      "outputs": [
        {
          "output_type": "display_data",
          "data": {
            "application/javascript": [
              "\n",
              "    async function download(id, filename, size) {\n",
              "      if (!google.colab.kernel.accessAllowed) {\n",
              "        return;\n",
              "      }\n",
              "      const div = document.createElement('div');\n",
              "      const label = document.createElement('label');\n",
              "      label.textContent = `Downloading \"${filename}\": `;\n",
              "      div.appendChild(label);\n",
              "      const progress = document.createElement('progress');\n",
              "      progress.max = size;\n",
              "      div.appendChild(progress);\n",
              "      document.body.appendChild(div);\n",
              "\n",
              "      const buffers = [];\n",
              "      let downloaded = 0;\n",
              "\n",
              "      const channel = await google.colab.kernel.comms.open(id);\n",
              "      // Send a message to notify the kernel that we're ready.\n",
              "      channel.send({})\n",
              "\n",
              "      for await (const message of channel.messages) {\n",
              "        // Send a message to notify the kernel that we're ready.\n",
              "        channel.send({})\n",
              "        if (message.buffers) {\n",
              "          for (const buffer of message.buffers) {\n",
              "            buffers.push(buffer);\n",
              "            downloaded += buffer.byteLength;\n",
              "            progress.value = downloaded;\n",
              "          }\n",
              "        }\n",
              "      }\n",
              "      const blob = new Blob(buffers, {type: 'application/binary'});\n",
              "      const a = document.createElement('a');\n",
              "      a.href = window.URL.createObjectURL(blob);\n",
              "      a.download = filename;\n",
              "      div.appendChild(a);\n",
              "      a.click();\n",
              "      div.remove();\n",
              "    }\n",
              "  "
            ],
            "text/plain": [
              "<IPython.core.display.Javascript object>"
            ]
          },
          "metadata": {}
        },
        {
          "output_type": "display_data",
          "data": {
            "application/javascript": [
              "download(\"download_82e7557e-361c-49fe-bcf2-17e3af52ffaf\", \"FICHERO_KMEANS_FINAL.csv\", 48272096)"
            ],
            "text/plain": [
              "<IPython.core.display.Javascript object>"
            ]
          },
          "metadata": {}
        }
      ]
    },
    {
      "cell_type": "markdown",
      "source": [
        "###**Filtro K-means - Media Ponderada**"
      ],
      "metadata": {
        "id": "x6ocVJ5yqpgS"
      }
    },
    {
      "cell_type": "markdown",
      "source": [
        "####**Cluster = 0**"
      ],
      "metadata": {
        "id": "vNyB7q2TvEEU"
      }
    },
    {
      "cell_type": "code",
      "source": [
        "uploaded = files.upload()"
      ],
      "metadata": {
        "id": "NdjSWsAXrFez",
        "colab": {
          "resources": {
            "http://localhost:8080/nbextensions/google.colab/files.js": {
              "data": "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",
              "ok": true,
              "headers": [
                [
                  "content-type",
                  "application/javascript"
                ]
              ],
              "status": 200,
              "status_text": ""
            }
          },
          "base_uri": "https://localhost:8080/",
          "height": 72
        },
        "outputId": "83e57c04-06ad-4f63-e194-e15597203c96"
      },
      "execution_count": null,
      "outputs": [
        {
          "output_type": "display_data",
          "data": {
            "text/html": [
              "\n",
              "     <input type=\"file\" id=\"files-3a722334-7407-4a5c-a283-71914cd6fa3b\" name=\"files[]\" multiple disabled\n",
              "        style=\"border:none\" />\n",
              "     <output id=\"result-3a722334-7407-4a5c-a283-71914cd6fa3b\">\n",
              "      Upload widget is only available when the cell has been executed in the\n",
              "      current browser session. Please rerun this cell to enable.\n",
              "      </output>\n",
              "      <script src=\"/nbextensions/google.colab/files.js\"></script> "
            ],
            "text/plain": [
              "<IPython.core.display.HTML object>"
            ]
          },
          "metadata": {}
        },
        {
          "output_type": "stream",
          "name": "stdout",
          "text": [
            "Saving FICHERO_KMEANS_FINAL.csv to FICHERO_KMEANS_FINAL.csv\n"
          ]
        }
      ]
    },
    {
      "cell_type": "code",
      "source": [
        "matriz_reducida = pd.read_csv('/content/MATRIZ_REDUCIDA.csv', sep = ',', encoding = 'latin-1')"
      ],
      "metadata": {
        "id": "J78X3ETOrFe0"
      },
      "execution_count": null,
      "outputs": []
    },
    {
      "cell_type": "code",
      "source": [
        "fichero_kmeans_final = pd.read_csv('/content/FICHERO_KMEANS_FINAL.csv', sep = ',', encoding = 'latin-1')"
      ],
      "metadata": {
        "id": "BfQjgrnJrFe0"
      },
      "execution_count": null,
      "outputs": []
    },
    {
      "cell_type": "code",
      "source": [
        "matriz_reducida = matriz_reducida.drop('Unnamed: 0', axis = 1)\n",
        "matriz_reducida.head(2)"
      ],
      "metadata": {
        "colab": {
          "base_uri": "https://localhost:8080/",
          "height": 112
        },
        "outputId": "bf9a6626-a4a6-4e57-a892-53eab004357a",
        "id": "yKcvpxMCrFe1"
      },
      "execution_count": null,
      "outputs": [
        {
          "output_type": "execute_result",
          "data": {
            "text/html": [
              "\n",
              "  <div id=\"df-efa98ed7-feed-4394-b2cb-85768547d080\">\n",
              "    <div class=\"colab-df-container\">\n",
              "      <div>\n",
              "<style scoped>\n",
              "    .dataframe tbody tr th:only-of-type {\n",
              "        vertical-align: middle;\n",
              "    }\n",
              "\n",
              "    .dataframe tbody tr th {\n",
              "        vertical-align: top;\n",
              "    }\n",
              "\n",
              "    .dataframe thead th {\n",
              "        text-align: right;\n",
              "    }\n",
              "</style>\n",
              "<table border=\"1\" class=\"dataframe\">\n",
              "  <thead>\n",
              "    <tr style=\"text-align: right;\">\n",
              "      <th></th>\n",
              "      <th>LLAVE</th>\n",
              "      <th>CATEGORIA_ID</th>\n",
              "      <th>CALIFICACION</th>\n",
              "    </tr>\n",
              "  </thead>\n",
              "  <tbody>\n",
              "    <tr>\n",
              "      <th>0</th>\n",
              "      <td>12345678</td>\n",
              "      <td>1</td>\n",
              "      <td>1</td>\n",
              "    </tr>\n",
              "    <tr>\n",
              "      <th>1</th>\n",
              "      <td>12345678</td>\n",
              "      <td>2</td>\n",
              "      <td>5</td>\n",
              "    </tr>\n",
              "  </tbody>\n",
              "</table>\n",
              "</div>\n",
              "      <button class=\"colab-df-convert\" onclick=\"convertToInteractive('df-efa98ed7-feed-4394-b2cb-85768547d080')\"\n",
              "              title=\"Convert this dataframe to an interactive table.\"\n",
              "              style=\"display:none;\">\n",
              "        \n",
              "  <svg xmlns=\"http://www.w3.org/2000/svg\" height=\"24px\"viewBox=\"0 0 24 24\"\n",
              "       width=\"24px\">\n",
              "    <path d=\"M0 0h24v24H0V0z\" fill=\"none\"/>\n",
              "    <path d=\"M18.56 5.44l.94 2.06.94-2.06 2.06-.94-2.06-.94-.94-2.06-.94 2.06-2.06.94zm-11 1L8.5 8.5l.94-2.06 2.06-.94-2.06-.94L8.5 2.5l-.94 2.06-2.06.94zm10 10l.94 2.06.94-2.06 2.06-.94-2.06-.94-.94-2.06-.94 2.06-2.06.94z\"/><path d=\"M17.41 7.96l-1.37-1.37c-.4-.4-.92-.59-1.43-.59-.52 0-1.04.2-1.43.59L10.3 9.45l-7.72 7.72c-.78.78-.78 2.05 0 2.83L4 21.41c.39.39.9.59 1.41.59.51 0 1.02-.2 1.41-.59l7.78-7.78 2.81-2.81c.8-.78.8-2.07 0-2.86zM5.41 20L4 18.59l7.72-7.72 1.47 1.35L5.41 20z\"/>\n",
              "  </svg>\n",
              "      </button>\n",
              "      \n",
              "  <style>\n",
              "    .colab-df-container {\n",
              "      display:flex;\n",
              "      flex-wrap:wrap;\n",
              "      gap: 12px;\n",
              "    }\n",
              "\n",
              "    .colab-df-convert {\n",
              "      background-color: #E8F0FE;\n",
              "      border: none;\n",
              "      border-radius: 50%;\n",
              "      cursor: pointer;\n",
              "      display: none;\n",
              "      fill: #1967D2;\n",
              "      height: 32px;\n",
              "      padding: 0 0 0 0;\n",
              "      width: 32px;\n",
              "    }\n",
              "\n",
              "    .colab-df-convert:hover {\n",
              "      background-color: #E2EBFA;\n",
              "      box-shadow: 0px 1px 2px rgba(60, 64, 67, 0.3), 0px 1px 3px 1px rgba(60, 64, 67, 0.15);\n",
              "      fill: #174EA6;\n",
              "    }\n",
              "\n",
              "    [theme=dark] .colab-df-convert {\n",
              "      background-color: #3B4455;\n",
              "      fill: #D2E3FC;\n",
              "    }\n",
              "\n",
              "    [theme=dark] .colab-df-convert:hover {\n",
              "      background-color: #434B5C;\n",
              "      box-shadow: 0px 1px 3px 1px rgba(0, 0, 0, 0.15);\n",
              "      filter: drop-shadow(0px 1px 2px rgba(0, 0, 0, 0.3));\n",
              "      fill: #FFFFFF;\n",
              "    }\n",
              "  </style>\n",
              "\n",
              "      <script>\n",
              "        const buttonEl =\n",
              "          document.querySelector('#df-efa98ed7-feed-4394-b2cb-85768547d080 button.colab-df-convert');\n",
              "        buttonEl.style.display =\n",
              "          google.colab.kernel.accessAllowed ? 'block' : 'none';\n",
              "\n",
              "        async function convertToInteractive(key) {\n",
              "          const element = document.querySelector('#df-efa98ed7-feed-4394-b2cb-85768547d080');\n",
              "          const dataTable =\n",
              "            await google.colab.kernel.invokeFunction('convertToInteractive',\n",
              "                                                     [key], {});\n",
              "          if (!dataTable) return;\n",
              "\n",
              "          const docLinkHtml = 'Like what you see? Visit the ' +\n",
              "            '<a target=\"_blank\" href=https://colab.research.google.com/notebooks/data_table.ipynb>data table notebook</a>'\n",
              "            + ' to learn more about interactive tables.';\n",
              "          element.innerHTML = '';\n",
              "          dataTable['output_type'] = 'display_data';\n",
              "          await google.colab.output.renderOutput(dataTable, element);\n",
              "          const docLink = document.createElement('div');\n",
              "          docLink.innerHTML = docLinkHtml;\n",
              "          element.appendChild(docLink);\n",
              "        }\n",
              "      </script>\n",
              "    </div>\n",
              "  </div>\n",
              "  "
            ],
            "text/plain": [
              "      LLAVE  CATEGORIA_ID  CALIFICACION\n",
              "0  12345678             1             1\n",
              "1  12345678             2             5"
            ]
          },
          "metadata": {},
          "execution_count": 6
        }
      ]
    },
    {
      "cell_type": "code",
      "source": [
        "fichero_kmeans_final = fichero_kmeans_final.drop('Unnamed: 0', axis = 1)\n",
        "fichero_kmeans_final.head(2)"
      ],
      "metadata": {
        "colab": {
          "base_uri": "https://localhost:8080/",
          "height": 112
        },
        "outputId": "869c8a91-67f9-4611-d5c7-1efa25a85203",
        "id": "Epek4792rFe1"
      },
      "execution_count": null,
      "outputs": [
        {
          "output_type": "execute_result",
          "data": {
            "text/html": [
              "\n",
              "  <div id=\"df-9acecda9-25c9-4bdf-a167-a26566f9fa4f\">\n",
              "    <div class=\"colab-df-container\">\n",
              "      <div>\n",
              "<style scoped>\n",
              "    .dataframe tbody tr th:only-of-type {\n",
              "        vertical-align: middle;\n",
              "    }\n",
              "\n",
              "    .dataframe tbody tr th {\n",
              "        vertical-align: top;\n",
              "    }\n",
              "\n",
              "    .dataframe thead th {\n",
              "        text-align: right;\n",
              "    }\n",
              "</style>\n",
              "<table border=\"1\" class=\"dataframe\">\n",
              "  <thead>\n",
              "    <tr style=\"text-align: right;\">\n",
              "      <th></th>\n",
              "      <th>LLAVE</th>\n",
              "      <th>CLUSTER</th>\n",
              "    </tr>\n",
              "  </thead>\n",
              "  <tbody>\n",
              "    <tr>\n",
              "      <th>0</th>\n",
              "      <td>CC18879388</td>\n",
              "      <td>0</td>\n",
              "    </tr>\n",
              "    <tr>\n",
              "      <th>1</th>\n",
              "      <td>CC1010209255</td>\n",
              "      <td>1</td>\n",
              "    </tr>\n",
              "  </tbody>\n",
              "</table>\n",
              "</div>\n",
              "      <button class=\"colab-df-convert\" onclick=\"convertToInteractive('df-9acecda9-25c9-4bdf-a167-a26566f9fa4f')\"\n",
              "              title=\"Convert this dataframe to an interactive table.\"\n",
              "              style=\"display:none;\">\n",
              "        \n",
              "  <svg xmlns=\"http://www.w3.org/2000/svg\" height=\"24px\"viewBox=\"0 0 24 24\"\n",
              "       width=\"24px\">\n",
              "    <path d=\"M0 0h24v24H0V0z\" fill=\"none\"/>\n",
              "    <path d=\"M18.56 5.44l.94 2.06.94-2.06 2.06-.94-2.06-.94-.94-2.06-.94 2.06-2.06.94zm-11 1L8.5 8.5l.94-2.06 2.06-.94-2.06-.94L8.5 2.5l-.94 2.06-2.06.94zm10 10l.94 2.06.94-2.06 2.06-.94-2.06-.94-.94-2.06-.94 2.06-2.06.94z\"/><path d=\"M17.41 7.96l-1.37-1.37c-.4-.4-.92-.59-1.43-.59-.52 0-1.04.2-1.43.59L10.3 9.45l-7.72 7.72c-.78.78-.78 2.05 0 2.83L4 21.41c.39.39.9.59 1.41.59.51 0 1.02-.2 1.41-.59l7.78-7.78 2.81-2.81c.8-.78.8-2.07 0-2.86zM5.41 20L4 18.59l7.72-7.72 1.47 1.35L5.41 20z\"/>\n",
              "  </svg>\n",
              "      </button>\n",
              "      \n",
              "  <style>\n",
              "    .colab-df-container {\n",
              "      display:flex;\n",
              "      flex-wrap:wrap;\n",
              "      gap: 12px;\n",
              "    }\n",
              "\n",
              "    .colab-df-convert {\n",
              "      background-color: #E8F0FE;\n",
              "      border: none;\n",
              "      border-radius: 50%;\n",
              "      cursor: pointer;\n",
              "      display: none;\n",
              "      fill: #1967D2;\n",
              "      height: 32px;\n",
              "      padding: 0 0 0 0;\n",
              "      width: 32px;\n",
              "    }\n",
              "\n",
              "    .colab-df-convert:hover {\n",
              "      background-color: #E2EBFA;\n",
              "      box-shadow: 0px 1px 2px rgba(60, 64, 67, 0.3), 0px 1px 3px 1px rgba(60, 64, 67, 0.15);\n",
              "      fill: #174EA6;\n",
              "    }\n",
              "\n",
              "    [theme=dark] .colab-df-convert {\n",
              "      background-color: #3B4455;\n",
              "      fill: #D2E3FC;\n",
              "    }\n",
              "\n",
              "    [theme=dark] .colab-df-convert:hover {\n",
              "      background-color: #434B5C;\n",
              "      box-shadow: 0px 1px 3px 1px rgba(0, 0, 0, 0.15);\n",
              "      filter: drop-shadow(0px 1px 2px rgba(0, 0, 0, 0.3));\n",
              "      fill: #FFFFFF;\n",
              "    }\n",
              "  </style>\n",
              "\n",
              "      <script>\n",
              "        const buttonEl =\n",
              "          document.querySelector('#df-9acecda9-25c9-4bdf-a167-a26566f9fa4f button.colab-df-convert');\n",
              "        buttonEl.style.display =\n",
              "          google.colab.kernel.accessAllowed ? 'block' : 'none';\n",
              "\n",
              "        async function convertToInteractive(key) {\n",
              "          const element = document.querySelector('#df-9acecda9-25c9-4bdf-a167-a26566f9fa4f');\n",
              "          const dataTable =\n",
              "            await google.colab.kernel.invokeFunction('convertToInteractive',\n",
              "                                                     [key], {});\n",
              "          if (!dataTable) return;\n",
              "\n",
              "          const docLinkHtml = 'Like what you see? Visit the ' +\n",
              "            '<a target=\"_blank\" href=https://colab.research.google.com/notebooks/data_table.ipynb>data table notebook</a>'\n",
              "            + ' to learn more about interactive tables.';\n",
              "          element.innerHTML = '';\n",
              "          dataTable['output_type'] = 'display_data';\n",
              "          await google.colab.output.renderOutput(dataTable, element);\n",
              "          const docLink = document.createElement('div');\n",
              "          docLink.innerHTML = docLinkHtml;\n",
              "          element.appendChild(docLink);\n",
              "        }\n",
              "      </script>\n",
              "    </div>\n",
              "  </div>\n",
              "  "
            ],
            "text/plain": [
              "          LLAVE  CLUSTER\n",
              "0    CC18879388        0\n",
              "1  CC1010209255        1"
            ]
          },
          "metadata": {},
          "execution_count": 7
        }
      ]
    },
    {
      "cell_type": "code",
      "source": [
        "fichero_cluster = pd.merge(matriz_reducida, fichero_kmeans_final, on = 'LLAVE', how = 'inner')"
      ],
      "metadata": {
        "id": "4Kz3X3_FrFe2"
      },
      "execution_count": null,
      "outputs": []
    },
    {
      "cell_type": "code",
      "source": [
        "fichero_cluster.head(5)"
      ],
      "metadata": {
        "colab": {
          "base_uri": "https://localhost:8080/",
          "height": 206
        },
        "outputId": "48be412c-e326-45a5-cbb3-c7aa7ee701d0",
        "id": "yBrxsGRtrFe2"
      },
      "execution_count": null,
      "outputs": [
        {
          "output_type": "execute_result",
          "data": {
            "text/html": [
              "\n",
              "  <div id=\"df-64a79cac-1fe5-4d5f-b4c4-3df2cb4fe703\">\n",
              "    <div class=\"colab-df-container\">\n",
              "      <div>\n",
              "<style scoped>\n",
              "    .dataframe tbody tr th:only-of-type {\n",
              "        vertical-align: middle;\n",
              "    }\n",
              "\n",
              "    .dataframe tbody tr th {\n",
              "        vertical-align: top;\n",
              "    }\n",
              "\n",
              "    .dataframe thead th {\n",
              "        text-align: right;\n",
              "    }\n",
              "</style>\n",
              "<table border=\"1\" class=\"dataframe\">\n",
              "  <thead>\n",
              "    <tr style=\"text-align: right;\">\n",
              "      <th></th>\n",
              "      <th>LLAVE</th>\n",
              "      <th>CATEGORIA_ID</th>\n",
              "      <th>CALIFICACION</th>\n",
              "      <th>CLUSTER</th>\n",
              "    </tr>\n",
              "  </thead>\n",
              "  <tbody>\n",
              "    <tr>\n",
              "      <th>0</th>\n",
              "      <td>CC10000437</td>\n",
              "      <td>1</td>\n",
              "      <td>5</td>\n",
              "      <td>2</td>\n",
              "    </tr>\n",
              "    <tr>\n",
              "      <th>1</th>\n",
              "      <td>CC10000437</td>\n",
              "      <td>2</td>\n",
              "      <td>1</td>\n",
              "      <td>2</td>\n",
              "    </tr>\n",
              "    <tr>\n",
              "      <th>2</th>\n",
              "      <td>CC10000437</td>\n",
              "      <td>3</td>\n",
              "      <td>2</td>\n",
              "      <td>2</td>\n",
              "    </tr>\n",
              "    <tr>\n",
              "      <th>3</th>\n",
              "      <td>CC10000437</td>\n",
              "      <td>4</td>\n",
              "      <td>5</td>\n",
              "      <td>2</td>\n",
              "    </tr>\n",
              "    <tr>\n",
              "      <th>4</th>\n",
              "      <td>CC10000437</td>\n",
              "      <td>5</td>\n",
              "      <td>1</td>\n",
              "      <td>2</td>\n",
              "    </tr>\n",
              "  </tbody>\n",
              "</table>\n",
              "</div>\n",
              "      <button class=\"colab-df-convert\" onclick=\"convertToInteractive('df-64a79cac-1fe5-4d5f-b4c4-3df2cb4fe703')\"\n",
              "              title=\"Convert this dataframe to an interactive table.\"\n",
              "              style=\"display:none;\">\n",
              "        \n",
              "  <svg xmlns=\"http://www.w3.org/2000/svg\" height=\"24px\"viewBox=\"0 0 24 24\"\n",
              "       width=\"24px\">\n",
              "    <path d=\"M0 0h24v24H0V0z\" fill=\"none\"/>\n",
              "    <path d=\"M18.56 5.44l.94 2.06.94-2.06 2.06-.94-2.06-.94-.94-2.06-.94 2.06-2.06.94zm-11 1L8.5 8.5l.94-2.06 2.06-.94-2.06-.94L8.5 2.5l-.94 2.06-2.06.94zm10 10l.94 2.06.94-2.06 2.06-.94-2.06-.94-.94-2.06-.94 2.06-2.06.94z\"/><path d=\"M17.41 7.96l-1.37-1.37c-.4-.4-.92-.59-1.43-.59-.52 0-1.04.2-1.43.59L10.3 9.45l-7.72 7.72c-.78.78-.78 2.05 0 2.83L4 21.41c.39.39.9.59 1.41.59.51 0 1.02-.2 1.41-.59l7.78-7.78 2.81-2.81c.8-.78.8-2.07 0-2.86zM5.41 20L4 18.59l7.72-7.72 1.47 1.35L5.41 20z\"/>\n",
              "  </svg>\n",
              "      </button>\n",
              "      \n",
              "  <style>\n",
              "    .colab-df-container {\n",
              "      display:flex;\n",
              "      flex-wrap:wrap;\n",
              "      gap: 12px;\n",
              "    }\n",
              "\n",
              "    .colab-df-convert {\n",
              "      background-color: #E8F0FE;\n",
              "      border: none;\n",
              "      border-radius: 50%;\n",
              "      cursor: pointer;\n",
              "      display: none;\n",
              "      fill: #1967D2;\n",
              "      height: 32px;\n",
              "      padding: 0 0 0 0;\n",
              "      width: 32px;\n",
              "    }\n",
              "\n",
              "    .colab-df-convert:hover {\n",
              "      background-color: #E2EBFA;\n",
              "      box-shadow: 0px 1px 2px rgba(60, 64, 67, 0.3), 0px 1px 3px 1px rgba(60, 64, 67, 0.15);\n",
              "      fill: #174EA6;\n",
              "    }\n",
              "\n",
              "    [theme=dark] .colab-df-convert {\n",
              "      background-color: #3B4455;\n",
              "      fill: #D2E3FC;\n",
              "    }\n",
              "\n",
              "    [theme=dark] .colab-df-convert:hover {\n",
              "      background-color: #434B5C;\n",
              "      box-shadow: 0px 1px 3px 1px rgba(0, 0, 0, 0.15);\n",
              "      filter: drop-shadow(0px 1px 2px rgba(0, 0, 0, 0.3));\n",
              "      fill: #FFFFFF;\n",
              "    }\n",
              "  </style>\n",
              "\n",
              "      <script>\n",
              "        const buttonEl =\n",
              "          document.querySelector('#df-64a79cac-1fe5-4d5f-b4c4-3df2cb4fe703 button.colab-df-convert');\n",
              "        buttonEl.style.display =\n",
              "          google.colab.kernel.accessAllowed ? 'block' : 'none';\n",
              "\n",
              "        async function convertToInteractive(key) {\n",
              "          const element = document.querySelector('#df-64a79cac-1fe5-4d5f-b4c4-3df2cb4fe703');\n",
              "          const dataTable =\n",
              "            await google.colab.kernel.invokeFunction('convertToInteractive',\n",
              "                                                     [key], {});\n",
              "          if (!dataTable) return;\n",
              "\n",
              "          const docLinkHtml = 'Like what you see? Visit the ' +\n",
              "            '<a target=\"_blank\" href=https://colab.research.google.com/notebooks/data_table.ipynb>data table notebook</a>'\n",
              "            + ' to learn more about interactive tables.';\n",
              "          element.innerHTML = '';\n",
              "          dataTable['output_type'] = 'display_data';\n",
              "          await google.colab.output.renderOutput(dataTable, element);\n",
              "          const docLink = document.createElement('div');\n",
              "          docLink.innerHTML = docLinkHtml;\n",
              "          element.appendChild(docLink);\n",
              "        }\n",
              "      </script>\n",
              "    </div>\n",
              "  </div>\n",
              "  "
            ],
            "text/plain": [
              "        LLAVE  CATEGORIA_ID  CALIFICACION  CLUSTER\n",
              "0  CC10000437             1             5        2\n",
              "1  CC10000437             2             1        2\n",
              "2  CC10000437             3             2        2\n",
              "3  CC10000437             4             5        2\n",
              "4  CC10000437             5             1        2"
            ]
          },
          "metadata": {},
          "execution_count": 9
        }
      ]
    },
    {
      "cell_type": "code",
      "source": [
        "fichero_cluster.isnull().sum()"
      ],
      "metadata": {
        "colab": {
          "base_uri": "https://localhost:8080/"
        },
        "outputId": "29e6ab20-c07b-43b9-e551-53c062a45e05",
        "id": "ICi9C5exrFe2"
      },
      "execution_count": null,
      "outputs": [
        {
          "output_type": "execute_result",
          "data": {
            "text/plain": [
              "LLAVE           0\n",
              "CATEGORIA_ID    0\n",
              "CALIFICACION    0\n",
              "CLUSTER         0\n",
              "dtype: int64"
            ]
          },
          "metadata": {},
          "execution_count": 10
        }
      ]
    },
    {
      "cell_type": "code",
      "source": [
        "fichero_cluster.shape"
      ],
      "metadata": {
        "colab": {
          "base_uri": "https://localhost:8080/"
        },
        "id": "n7m9JWvQdz1H",
        "outputId": "180e1051-cfc0-4031-865f-51ab7babc801"
      },
      "execution_count": null,
      "outputs": [
        {
          "output_type": "execute_result",
          "data": {
            "text/plain": [
              "(165716, 4)"
            ]
          },
          "metadata": {},
          "execution_count": 11
        }
      ]
    },
    {
      "cell_type": "code",
      "source": [
        "fichero_K0 = fichero_cluster[fichero_cluster['CLUSTER'] == 0]"
      ],
      "metadata": {
        "id": "JFgyi7WmrHkT"
      },
      "execution_count": null,
      "outputs": []
    },
    {
      "cell_type": "code",
      "source": [
        "fichero_K0.head(2)"
      ],
      "metadata": {
        "colab": {
          "base_uri": "https://localhost:8080/",
          "height": 112
        },
        "id": "AOtfo_LitDCM",
        "outputId": "5c459ec4-75bd-41f1-badd-715f77fb377c"
      },
      "execution_count": null,
      "outputs": [
        {
          "output_type": "execute_result",
          "data": {
            "text/html": [
              "\n",
              "  <div id=\"df-95e2ff54-e813-479b-a54b-26926c143fec\">\n",
              "    <div class=\"colab-df-container\">\n",
              "      <div>\n",
              "<style scoped>\n",
              "    .dataframe tbody tr th:only-of-type {\n",
              "        vertical-align: middle;\n",
              "    }\n",
              "\n",
              "    .dataframe tbody tr th {\n",
              "        vertical-align: top;\n",
              "    }\n",
              "\n",
              "    .dataframe thead th {\n",
              "        text-align: right;\n",
              "    }\n",
              "</style>\n",
              "<table border=\"1\" class=\"dataframe\">\n",
              "  <thead>\n",
              "    <tr style=\"text-align: right;\">\n",
              "      <th></th>\n",
              "      <th>LLAVE</th>\n",
              "      <th>CATEGORIA_ID</th>\n",
              "      <th>CALIFICACION</th>\n",
              "      <th>CLUSTER</th>\n",
              "    </tr>\n",
              "  </thead>\n",
              "  <tbody>\n",
              "    <tr>\n",
              "      <th>126</th>\n",
              "      <td>CC10014786</td>\n",
              "      <td>1</td>\n",
              "      <td>1</td>\n",
              "      <td>0</td>\n",
              "    </tr>\n",
              "    <tr>\n",
              "      <th>127</th>\n",
              "      <td>CC10014786</td>\n",
              "      <td>2</td>\n",
              "      <td>5</td>\n",
              "      <td>0</td>\n",
              "    </tr>\n",
              "  </tbody>\n",
              "</table>\n",
              "</div>\n",
              "      <button class=\"colab-df-convert\" onclick=\"convertToInteractive('df-95e2ff54-e813-479b-a54b-26926c143fec')\"\n",
              "              title=\"Convert this dataframe to an interactive table.\"\n",
              "              style=\"display:none;\">\n",
              "        \n",
              "  <svg xmlns=\"http://www.w3.org/2000/svg\" height=\"24px\"viewBox=\"0 0 24 24\"\n",
              "       width=\"24px\">\n",
              "    <path d=\"M0 0h24v24H0V0z\" fill=\"none\"/>\n",
              "    <path d=\"M18.56 5.44l.94 2.06.94-2.06 2.06-.94-2.06-.94-.94-2.06-.94 2.06-2.06.94zm-11 1L8.5 8.5l.94-2.06 2.06-.94-2.06-.94L8.5 2.5l-.94 2.06-2.06.94zm10 10l.94 2.06.94-2.06 2.06-.94-2.06-.94-.94-2.06-.94 2.06-2.06.94z\"/><path d=\"M17.41 7.96l-1.37-1.37c-.4-.4-.92-.59-1.43-.59-.52 0-1.04.2-1.43.59L10.3 9.45l-7.72 7.72c-.78.78-.78 2.05 0 2.83L4 21.41c.39.39.9.59 1.41.59.51 0 1.02-.2 1.41-.59l7.78-7.78 2.81-2.81c.8-.78.8-2.07 0-2.86zM5.41 20L4 18.59l7.72-7.72 1.47 1.35L5.41 20z\"/>\n",
              "  </svg>\n",
              "      </button>\n",
              "      \n",
              "  <style>\n",
              "    .colab-df-container {\n",
              "      display:flex;\n",
              "      flex-wrap:wrap;\n",
              "      gap: 12px;\n",
              "    }\n",
              "\n",
              "    .colab-df-convert {\n",
              "      background-color: #E8F0FE;\n",
              "      border: none;\n",
              "      border-radius: 50%;\n",
              "      cursor: pointer;\n",
              "      display: none;\n",
              "      fill: #1967D2;\n",
              "      height: 32px;\n",
              "      padding: 0 0 0 0;\n",
              "      width: 32px;\n",
              "    }\n",
              "\n",
              "    .colab-df-convert:hover {\n",
              "      background-color: #E2EBFA;\n",
              "      box-shadow: 0px 1px 2px rgba(60, 64, 67, 0.3), 0px 1px 3px 1px rgba(60, 64, 67, 0.15);\n",
              "      fill: #174EA6;\n",
              "    }\n",
              "\n",
              "    [theme=dark] .colab-df-convert {\n",
              "      background-color: #3B4455;\n",
              "      fill: #D2E3FC;\n",
              "    }\n",
              "\n",
              "    [theme=dark] .colab-df-convert:hover {\n",
              "      background-color: #434B5C;\n",
              "      box-shadow: 0px 1px 3px 1px rgba(0, 0, 0, 0.15);\n",
              "      filter: drop-shadow(0px 1px 2px rgba(0, 0, 0, 0.3));\n",
              "      fill: #FFFFFF;\n",
              "    }\n",
              "  </style>\n",
              "\n",
              "      <script>\n",
              "        const buttonEl =\n",
              "          document.querySelector('#df-95e2ff54-e813-479b-a54b-26926c143fec button.colab-df-convert');\n",
              "        buttonEl.style.display =\n",
              "          google.colab.kernel.accessAllowed ? 'block' : 'none';\n",
              "\n",
              "        async function convertToInteractive(key) {\n",
              "          const element = document.querySelector('#df-95e2ff54-e813-479b-a54b-26926c143fec');\n",
              "          const dataTable =\n",
              "            await google.colab.kernel.invokeFunction('convertToInteractive',\n",
              "                                                     [key], {});\n",
              "          if (!dataTable) return;\n",
              "\n",
              "          const docLinkHtml = 'Like what you see? Visit the ' +\n",
              "            '<a target=\"_blank\" href=https://colab.research.google.com/notebooks/data_table.ipynb>data table notebook</a>'\n",
              "            + ' to learn more about interactive tables.';\n",
              "          element.innerHTML = '';\n",
              "          dataTable['output_type'] = 'display_data';\n",
              "          await google.colab.output.renderOutput(dataTable, element);\n",
              "          const docLink = document.createElement('div');\n",
              "          docLink.innerHTML = docLinkHtml;\n",
              "          element.appendChild(docLink);\n",
              "        }\n",
              "      </script>\n",
              "    </div>\n",
              "  </div>\n",
              "  "
            ],
            "text/plain": [
              "          LLAVE  CATEGORIA_ID  CALIFICACION  CLUSTER\n",
              "126  CC10014786             1             1        0\n",
              "127  CC10014786             2             5        0"
            ]
          },
          "metadata": {},
          "execution_count": 29
        }
      ]
    },
    {
      "cell_type": "code",
      "source": [
        "fichero_K0.shape"
      ],
      "metadata": {
        "colab": {
          "base_uri": "https://localhost:8080/"
        },
        "id": "Bz8SSSPltFyv",
        "outputId": "79824bc6-db2e-4b2c-d318-b2f902638ba6"
      },
      "execution_count": null,
      "outputs": [
        {
          "output_type": "execute_result",
          "data": {
            "text/plain": [
              "(57011, 4)"
            ]
          },
          "metadata": {},
          "execution_count": 30
        }
      ]
    },
    {
      "cell_type": "code",
      "source": [
        "X = fichero_K0.copy()\n",
        "y = fichero_K0['LLAVE']"
      ],
      "metadata": {
        "id": "NSCgY-Hmta6r"
      },
      "execution_count": null,
      "outputs": []
    },
    {
      "cell_type": "code",
      "source": [
        "X_train, X_test, y_train, y_test = train_test_split(X, y, stratify = y, test_size = 0.2, random_state = 0)"
      ],
      "metadata": {
        "id": "6CSl3yB9tkPs"
      },
      "execution_count": null,
      "outputs": []
    },
    {
      "cell_type": "code",
      "source": [
        "matriz_cal_K0 = X_train.pivot_table(values = 'CALIFICACION', index = 'LLAVE', columns = 'CATEGORIA_ID')"
      ],
      "metadata": {
        "id": "n68x18IguBGE"
      },
      "execution_count": null,
      "outputs": []
    },
    {
      "cell_type": "code",
      "source": [
        "matriz_cal_K0_copia = matriz_cal_K0.copy().fillna(0)"
      ],
      "metadata": {
        "id": "6NfspRykuRM-"
      },
      "execution_count": null,
      "outputs": []
    },
    {
      "cell_type": "code",
      "source": [
        "similarity_K0 = cosine_similarity(matriz_cal_K0_copia, matriz_cal_K0_copia)"
      ],
      "metadata": {
        "id": "JH4g1o0KufXg"
      },
      "execution_count": null,
      "outputs": []
    },
    {
      "cell_type": "code",
      "source": [
        "similarity_K0 = pd.DataFrame(similarity_K0, index = matriz_cal_K0.index, columns = matriz_cal_K0.index)"
      ],
      "metadata": {
        "id": "v-sUw7ObufXg"
      },
      "execution_count": null,
      "outputs": []
    },
    {
      "cell_type": "code",
      "source": [
        "similarity_K0.head(2)"
      ],
      "metadata": {
        "colab": {
          "base_uri": "https://localhost:8080/",
          "height": 237
        },
        "outputId": "a3d75628-8215-4447-cade-a9df1860c148",
        "id": "xFsPRwMjufXh"
      },
      "execution_count": null,
      "outputs": [
        {
          "output_type": "execute_result",
          "data": {
            "text/html": [
              "\n",
              "  <div id=\"df-ca74d421-240b-46e9-a671-51f9d3f66b9e\">\n",
              "    <div class=\"colab-df-container\">\n",
              "      <div>\n",
              "<style scoped>\n",
              "    .dataframe tbody tr th:only-of-type {\n",
              "        vertical-align: middle;\n",
              "    }\n",
              "\n",
              "    .dataframe tbody tr th {\n",
              "        vertical-align: top;\n",
              "    }\n",
              "\n",
              "    .dataframe thead th {\n",
              "        text-align: right;\n",
              "    }\n",
              "</style>\n",
              "<table border=\"1\" class=\"dataframe\">\n",
              "  <thead>\n",
              "    <tr style=\"text-align: right;\">\n",
              "      <th>LLAVE</th>\n",
              "      <th>CC10014786</th>\n",
              "      <th>CC10017970</th>\n",
              "      <th>CC10018018</th>\n",
              "      <th>CC10019430</th>\n",
              "      <th>CC10023879</th>\n",
              "      <th>CC10024021</th>\n",
              "      <th>CC10024336</th>\n",
              "      <th>CC10026784</th>\n",
              "      <th>CC10028363</th>\n",
              "      <th>CC10028887</th>\n",
              "      <th>CC10096145</th>\n",
              "      <th>CC10113715</th>\n",
              "      <th>CC10115227</th>\n",
              "      <th>CC10117735</th>\n",
              "      <th>CC10122729</th>\n",
              "      <th>CC1012371175</th>\n",
              "      <th>CC10124083</th>\n",
              "      <th>CC10124394</th>\n",
              "      <th>CC10129387</th>\n",
              "      <th>CC10129759</th>\n",
              "      <th>CC10130006</th>\n",
              "      <th>CC10131127</th>\n",
              "      <th>CC10133058</th>\n",
              "      <th>CC10135310</th>\n",
              "      <th>CC1013654179</th>\n",
              "      <th>CC10136782</th>\n",
              "      <th>CC10136843</th>\n",
              "      <th>CC10137037</th>\n",
              "      <th>CC10140222</th>\n",
              "      <th>CC10142265</th>\n",
              "      <th>CC10144542</th>\n",
              "      <th>CC1015413553</th>\n",
              "      <th>CC10173172</th>\n",
              "      <th>CC1019024540</th>\n",
              "      <th>CC1019064312</th>\n",
              "      <th>CC1019067054</th>\n",
              "      <th>CC1020745173</th>\n",
              "      <th>CC1020759099</th>\n",
              "      <th>CC1020766842</th>\n",
              "      <th>CC1022327790</th>\n",
              "      <th>...</th>\n",
              "      <th>CC98620133</th>\n",
              "      <th>CC98620265</th>\n",
              "      <th>CC98622355</th>\n",
              "      <th>CC98622544</th>\n",
              "      <th>CC98622878</th>\n",
              "      <th>CC98623051</th>\n",
              "      <th>CC98625849</th>\n",
              "      <th>CC98626167</th>\n",
              "      <th>CC98626283</th>\n",
              "      <th>CC98629259</th>\n",
              "      <th>CC98642018</th>\n",
              "      <th>CC98642863</th>\n",
              "      <th>CC98643173</th>\n",
              "      <th>CC98644561</th>\n",
              "      <th>CC98647607</th>\n",
              "      <th>CC98657626</th>\n",
              "      <th>CC98658451</th>\n",
              "      <th>CC98659621</th>\n",
              "      <th>CC98668566</th>\n",
              "      <th>CC98669481</th>\n",
              "      <th>CC9892071</th>\n",
              "      <th>CC9921604</th>\n",
              "      <th>CC9922883</th>\n",
              "      <th>CC9955346</th>\n",
              "      <th>CC9970148</th>\n",
              "      <th>CC9970335</th>\n",
              "      <th>CC9970687</th>\n",
              "      <th>CC9991783</th>\n",
              "      <th>CC9993808</th>\n",
              "      <th>CE245644</th>\n",
              "      <th>CE249396</th>\n",
              "      <th>CE354459</th>\n",
              "      <th>CE368386</th>\n",
              "      <th>CE376696</th>\n",
              "      <th>CE381795</th>\n",
              "      <th>CE381797</th>\n",
              "      <th>CE402925</th>\n",
              "      <th>CE416387</th>\n",
              "      <th>CE464694</th>\n",
              "      <th>CE594587</th>\n",
              "    </tr>\n",
              "    <tr>\n",
              "      <th>LLAVE</th>\n",
              "      <th></th>\n",
              "      <th></th>\n",
              "      <th></th>\n",
              "      <th></th>\n",
              "      <th></th>\n",
              "      <th></th>\n",
              "      <th></th>\n",
              "      <th></th>\n",
              "      <th></th>\n",
              "      <th></th>\n",
              "      <th></th>\n",
              "      <th></th>\n",
              "      <th></th>\n",
              "      <th></th>\n",
              "      <th></th>\n",
              "      <th></th>\n",
              "      <th></th>\n",
              "      <th></th>\n",
              "      <th></th>\n",
              "      <th></th>\n",
              "      <th></th>\n",
              "      <th></th>\n",
              "      <th></th>\n",
              "      <th></th>\n",
              "      <th></th>\n",
              "      <th></th>\n",
              "      <th></th>\n",
              "      <th></th>\n",
              "      <th></th>\n",
              "      <th></th>\n",
              "      <th></th>\n",
              "      <th></th>\n",
              "      <th></th>\n",
              "      <th></th>\n",
              "      <th></th>\n",
              "      <th></th>\n",
              "      <th></th>\n",
              "      <th></th>\n",
              "      <th></th>\n",
              "      <th></th>\n",
              "      <th></th>\n",
              "      <th></th>\n",
              "      <th></th>\n",
              "      <th></th>\n",
              "      <th></th>\n",
              "      <th></th>\n",
              "      <th></th>\n",
              "      <th></th>\n",
              "      <th></th>\n",
              "      <th></th>\n",
              "      <th></th>\n",
              "      <th></th>\n",
              "      <th></th>\n",
              "      <th></th>\n",
              "      <th></th>\n",
              "      <th></th>\n",
              "      <th></th>\n",
              "      <th></th>\n",
              "      <th></th>\n",
              "      <th></th>\n",
              "      <th></th>\n",
              "      <th></th>\n",
              "      <th></th>\n",
              "      <th></th>\n",
              "      <th></th>\n",
              "      <th></th>\n",
              "      <th></th>\n",
              "      <th></th>\n",
              "      <th></th>\n",
              "      <th></th>\n",
              "      <th></th>\n",
              "      <th></th>\n",
              "      <th></th>\n",
              "      <th></th>\n",
              "      <th></th>\n",
              "      <th></th>\n",
              "      <th></th>\n",
              "      <th></th>\n",
              "      <th></th>\n",
              "      <th></th>\n",
              "      <th></th>\n",
              "    </tr>\n",
              "  </thead>\n",
              "  <tbody>\n",
              "    <tr>\n",
              "      <th>CC10014786</th>\n",
              "      <td>1.000000</td>\n",
              "      <td>0.667491</td>\n",
              "      <td>0.667491</td>\n",
              "      <td>0.729856</td>\n",
              "      <td>0.570693</td>\n",
              "      <td>0.295638</td>\n",
              "      <td>0.667491</td>\n",
              "      <td>0.570569</td>\n",
              "      <td>0.503453</td>\n",
              "      <td>0.667151</td>\n",
              "      <td>0.539527</td>\n",
              "      <td>0.711835</td>\n",
              "      <td>0.263849</td>\n",
              "      <td>0.667491</td>\n",
              "      <td>0.792079</td>\n",
              "      <td>0.633238</td>\n",
              "      <td>0.870658</td>\n",
              "      <td>0.692902</td>\n",
              "      <td>0.853067</td>\n",
              "      <td>0.44550</td>\n",
              "      <td>0.765848</td>\n",
              "      <td>0.853067</td>\n",
              "      <td>0.620941</td>\n",
              "      <td>0.742515</td>\n",
              "      <td>0.485671</td>\n",
              "      <td>0.244747</td>\n",
              "      <td>0.525758</td>\n",
              "      <td>0.897226</td>\n",
              "      <td>0.649956</td>\n",
              "      <td>0.711991</td>\n",
              "      <td>0.545166</td>\n",
              "      <td>0.743397</td>\n",
              "      <td>0.711991</td>\n",
              "      <td>0.712318</td>\n",
              "      <td>0.896527</td>\n",
              "      <td>0.611867</td>\n",
              "      <td>0.489494</td>\n",
              "      <td>0.649956</td>\n",
              "      <td>0.893689</td>\n",
              "      <td>0.290669</td>\n",
              "      <td>...</td>\n",
              "      <td>0.489494</td>\n",
              "      <td>0.444994</td>\n",
              "      <td>0.361998</td>\n",
              "      <td>0.477203</td>\n",
              "      <td>0.711991</td>\n",
              "      <td>0.778048</td>\n",
              "      <td>0.667491</td>\n",
              "      <td>0.762458</td>\n",
              "      <td>0.527698</td>\n",
              "      <td>0.603330</td>\n",
              "      <td>0.555064</td>\n",
              "      <td>0.711991</td>\n",
              "      <td>0.667491</td>\n",
              "      <td>0.750038</td>\n",
              "      <td>0.588899</td>\n",
              "      <td>0.714805</td>\n",
              "      <td>0.351525</td>\n",
              "      <td>0.582943</td>\n",
              "      <td>0.667491</td>\n",
              "      <td>0.351525</td>\n",
              "      <td>0.531870</td>\n",
              "      <td>0.646708</td>\n",
              "      <td>0.469598</td>\n",
              "      <td>0.792079</td>\n",
              "      <td>0.738777</td>\n",
              "      <td>0.607816</td>\n",
              "      <td>0.703598</td>\n",
              "      <td>0.562878</td>\n",
              "      <td>0.537022</td>\n",
              "      <td>0.853067</td>\n",
              "      <td>0.478446</td>\n",
              "      <td>0.365243</td>\n",
              "      <td>0.303483</td>\n",
              "      <td>0.615397</td>\n",
              "      <td>0.780571</td>\n",
              "      <td>0.510443</td>\n",
              "      <td>0.311219</td>\n",
              "      <td>0.820073</td>\n",
              "      <td>0.489494</td>\n",
              "      <td>0.179941</td>\n",
              "    </tr>\n",
              "    <tr>\n",
              "      <th>CC10017970</th>\n",
              "      <td>0.667491</td>\n",
              "      <td>1.000000</td>\n",
              "      <td>0.800000</td>\n",
              "      <td>0.830455</td>\n",
              "      <td>0.872082</td>\n",
              "      <td>0.664364</td>\n",
              "      <td>1.000000</td>\n",
              "      <td>0.699379</td>\n",
              "      <td>0.707107</td>\n",
              "      <td>0.556859</td>\n",
              "      <td>0.692820</td>\n",
              "      <td>0.605273</td>\n",
              "      <td>0.711512</td>\n",
              "      <td>0.800000</td>\n",
              "      <td>0.711991</td>\n",
              "      <td>0.632456</td>\n",
              "      <td>0.782624</td>\n",
              "      <td>0.622841</td>\n",
              "      <td>0.730297</td>\n",
              "      <td>0.76277</td>\n",
              "      <td>0.655630</td>\n",
              "      <td>0.730297</td>\n",
              "      <td>0.620174</td>\n",
              "      <td>0.580381</td>\n",
              "      <td>0.776114</td>\n",
              "      <td>0.600000</td>\n",
              "      <td>0.723364</td>\n",
              "      <td>0.795147</td>\n",
              "      <td>0.730297</td>\n",
              "      <td>0.800000</td>\n",
              "      <td>0.717137</td>\n",
              "      <td>0.856706</td>\n",
              "      <td>0.600000</td>\n",
              "      <td>0.873128</td>\n",
              "      <td>0.758473</td>\n",
              "      <td>0.400000</td>\n",
              "      <td>0.600000</td>\n",
              "      <td>0.730297</td>\n",
              "      <td>0.669439</td>\n",
              "      <td>0.653197</td>\n",
              "      <td>...</td>\n",
              "      <td>0.600000</td>\n",
              "      <td>0.700000</td>\n",
              "      <td>0.813489</td>\n",
              "      <td>0.885880</td>\n",
              "      <td>0.600000</td>\n",
              "      <td>0.699379</td>\n",
              "      <td>0.800000</td>\n",
              "      <td>0.556859</td>\n",
              "      <td>0.948683</td>\n",
              "      <td>0.596559</td>\n",
              "      <td>0.813489</td>\n",
              "      <td>0.600000</td>\n",
              "      <td>0.800000</td>\n",
              "      <td>0.539360</td>\n",
              "      <td>0.367607</td>\n",
              "      <td>0.771035</td>\n",
              "      <td>0.764471</td>\n",
              "      <td>0.756889</td>\n",
              "      <td>1.000000</td>\n",
              "      <td>0.815436</td>\n",
              "      <td>0.537853</td>\n",
              "      <td>0.664364</td>\n",
              "      <td>0.904534</td>\n",
              "      <td>0.489494</td>\n",
              "      <td>0.632456</td>\n",
              "      <td>0.764902</td>\n",
              "      <td>0.790569</td>\n",
              "      <td>0.632456</td>\n",
              "      <td>0.652328</td>\n",
              "      <td>0.730297</td>\n",
              "      <td>0.632456</td>\n",
              "      <td>0.615587</td>\n",
              "      <td>0.477396</td>\n",
              "      <td>0.813489</td>\n",
              "      <td>0.526235</td>\n",
              "      <td>0.550598</td>\n",
              "      <td>0.699379</td>\n",
              "      <td>0.491436</td>\n",
              "      <td>0.600000</td>\n",
              "      <td>0.661693</td>\n",
              "    </tr>\n",
              "  </tbody>\n",
              "</table>\n",
              "<p>2 rows × 8634 columns</p>\n",
              "</div>\n",
              "      <button class=\"colab-df-convert\" onclick=\"convertToInteractive('df-ca74d421-240b-46e9-a671-51f9d3f66b9e')\"\n",
              "              title=\"Convert this dataframe to an interactive table.\"\n",
              "              style=\"display:none;\">\n",
              "        \n",
              "  <svg xmlns=\"http://www.w3.org/2000/svg\" height=\"24px\"viewBox=\"0 0 24 24\"\n",
              "       width=\"24px\">\n",
              "    <path d=\"M0 0h24v24H0V0z\" fill=\"none\"/>\n",
              "    <path d=\"M18.56 5.44l.94 2.06.94-2.06 2.06-.94-2.06-.94-.94-2.06-.94 2.06-2.06.94zm-11 1L8.5 8.5l.94-2.06 2.06-.94-2.06-.94L8.5 2.5l-.94 2.06-2.06.94zm10 10l.94 2.06.94-2.06 2.06-.94-2.06-.94-.94-2.06-.94 2.06-2.06.94z\"/><path d=\"M17.41 7.96l-1.37-1.37c-.4-.4-.92-.59-1.43-.59-.52 0-1.04.2-1.43.59L10.3 9.45l-7.72 7.72c-.78.78-.78 2.05 0 2.83L4 21.41c.39.39.9.59 1.41.59.51 0 1.02-.2 1.41-.59l7.78-7.78 2.81-2.81c.8-.78.8-2.07 0-2.86zM5.41 20L4 18.59l7.72-7.72 1.47 1.35L5.41 20z\"/>\n",
              "  </svg>\n",
              "      </button>\n",
              "      \n",
              "  <style>\n",
              "    .colab-df-container {\n",
              "      display:flex;\n",
              "      flex-wrap:wrap;\n",
              "      gap: 12px;\n",
              "    }\n",
              "\n",
              "    .colab-df-convert {\n",
              "      background-color: #E8F0FE;\n",
              "      border: none;\n",
              "      border-radius: 50%;\n",
              "      cursor: pointer;\n",
              "      display: none;\n",
              "      fill: #1967D2;\n",
              "      height: 32px;\n",
              "      padding: 0 0 0 0;\n",
              "      width: 32px;\n",
              "    }\n",
              "\n",
              "    .colab-df-convert:hover {\n",
              "      background-color: #E2EBFA;\n",
              "      box-shadow: 0px 1px 2px rgba(60, 64, 67, 0.3), 0px 1px 3px 1px rgba(60, 64, 67, 0.15);\n",
              "      fill: #174EA6;\n",
              "    }\n",
              "\n",
              "    [theme=dark] .colab-df-convert {\n",
              "      background-color: #3B4455;\n",
              "      fill: #D2E3FC;\n",
              "    }\n",
              "\n",
              "    [theme=dark] .colab-df-convert:hover {\n",
              "      background-color: #434B5C;\n",
              "      box-shadow: 0px 1px 3px 1px rgba(0, 0, 0, 0.15);\n",
              "      filter: drop-shadow(0px 1px 2px rgba(0, 0, 0, 0.3));\n",
              "      fill: #FFFFFF;\n",
              "    }\n",
              "  </style>\n",
              "\n",
              "      <script>\n",
              "        const buttonEl =\n",
              "          document.querySelector('#df-ca74d421-240b-46e9-a671-51f9d3f66b9e button.colab-df-convert');\n",
              "        buttonEl.style.display =\n",
              "          google.colab.kernel.accessAllowed ? 'block' : 'none';\n",
              "\n",
              "        async function convertToInteractive(key) {\n",
              "          const element = document.querySelector('#df-ca74d421-240b-46e9-a671-51f9d3f66b9e');\n",
              "          const dataTable =\n",
              "            await google.colab.kernel.invokeFunction('convertToInteractive',\n",
              "                                                     [key], {});\n",
              "          if (!dataTable) return;\n",
              "\n",
              "          const docLinkHtml = 'Like what you see? Visit the ' +\n",
              "            '<a target=\"_blank\" href=https://colab.research.google.com/notebooks/data_table.ipynb>data table notebook</a>'\n",
              "            + ' to learn more about interactive tables.';\n",
              "          element.innerHTML = '';\n",
              "          dataTable['output_type'] = 'display_data';\n",
              "          await google.colab.output.renderOutput(dataTable, element);\n",
              "          const docLink = document.createElement('div');\n",
              "          docLink.innerHTML = docLinkHtml;\n",
              "          element.appendChild(docLink);\n",
              "        }\n",
              "      </script>\n",
              "    </div>\n",
              "  </div>\n",
              "  "
            ],
            "text/plain": [
              "LLAVE       CC10014786  CC10017970  CC10018018  ...  CE416387  CE464694  CE594587\n",
              "LLAVE                                           ...                              \n",
              "CC10014786    1.000000    0.667491    0.667491  ...  0.820073  0.489494  0.179941\n",
              "CC10017970    0.667491    1.000000    0.800000  ...  0.491436  0.600000  0.661693\n",
              "\n",
              "[2 rows x 8634 columns]"
            ]
          },
          "metadata": {},
          "execution_count": 39
        }
      ]
    },
    {
      "cell_type": "code",
      "source": [
        "def modelo_media_ponderada_K0(llave, categoria_id):\n",
        "\n",
        "  #Validamos si la categoría existe en la matriz\n",
        "  if categoria_id in matriz_cal_K0:\n",
        "\n",
        "    #Obtenemos los scores de similitud del cliente analizado y todos los demás\n",
        "    scores = similarity_K0[llave]\n",
        "\n",
        "    #Obtenemos las tasas de los clientes de la categoría buscada\n",
        "    ratings = matriz_cal_K0[categoria_id]\n",
        "\n",
        "    #Identificamos todos los missing values de la serie ratings\n",
        "    indices = ratings[ratings.isnull()].index\n",
        "\n",
        "    #Eliminamos todos los missing values de la serie ratings\n",
        "    ratings = ratings.dropna()\n",
        "\n",
        "    #Eliminamos los scores de similitud correspondientes a los clientes con missing values\n",
        "    scores = scores.drop(indices)\n",
        "\n",
        "    #Calculamos la media ponderada\n",
        "    tasa_promedio_ponderada = np.dot(scores, ratings) / scores.sum() \n",
        "\n",
        "  else:\n",
        "    tasa_promedio_ponderada = 3\n",
        "\n",
        "  return tasa_promedio_ponderada"
      ],
      "metadata": {
        "id": "IbJkjxIzufXh"
      },
      "execution_count": null,
      "outputs": []
    },
    {
      "cell_type": "code",
      "source": [
        "score(modelo_media_ponderada_K0)"
      ],
      "metadata": {
        "colab": {
          "base_uri": "https://localhost:8080/"
        },
        "outputId": "376dacc6-0c7f-4853-ddfe-abd91db92e92",
        "id": "FXL9PqyLufXi"
      },
      "execution_count": null,
      "outputs": [
        {
          "output_type": "execute_result",
          "data": {
            "text/plain": [
              "1.7787516226762268"
            ]
          },
          "metadata": {},
          "execution_count": 41
        }
      ]
    },
    {
      "cell_type": "markdown",
      "source": [
        "####**Cluster = 1**"
      ],
      "metadata": {
        "id": "Qd0Qjsp4vkYQ"
      }
    },
    {
      "cell_type": "code",
      "source": [
        "fichero_K1 = fichero_cluster[fichero_cluster['CLUSTER'] == 1]"
      ],
      "metadata": {
        "id": "oc3ckaE7vkYU"
      },
      "execution_count": null,
      "outputs": []
    },
    {
      "cell_type": "code",
      "source": [
        "fichero_K1.head(2)"
      ],
      "metadata": {
        "colab": {
          "base_uri": "https://localhost:8080/",
          "height": 112
        },
        "outputId": "358274a9-920c-4f1d-f6e9-e91b073f0f46",
        "id": "50LoT3mFvkYU"
      },
      "execution_count": null,
      "outputs": [
        {
          "output_type": "execute_result",
          "data": {
            "text/html": [
              "\n",
              "  <div id=\"df-13122a0a-182f-4995-9db7-c7e4e51ee3c7\">\n",
              "    <div class=\"colab-df-container\">\n",
              "      <div>\n",
              "<style scoped>\n",
              "    .dataframe tbody tr th:only-of-type {\n",
              "        vertical-align: middle;\n",
              "    }\n",
              "\n",
              "    .dataframe tbody tr th {\n",
              "        vertical-align: top;\n",
              "    }\n",
              "\n",
              "    .dataframe thead th {\n",
              "        text-align: right;\n",
              "    }\n",
              "</style>\n",
              "<table border=\"1\" class=\"dataframe\">\n",
              "  <thead>\n",
              "    <tr style=\"text-align: right;\">\n",
              "      <th></th>\n",
              "      <th>LLAVE</th>\n",
              "      <th>CATEGORIA_ID</th>\n",
              "      <th>CALIFICACION</th>\n",
              "      <th>CLUSTER</th>\n",
              "    </tr>\n",
              "  </thead>\n",
              "  <tbody>\n",
              "    <tr>\n",
              "      <th>56</th>\n",
              "      <td>CC1000602756</td>\n",
              "      <td>1</td>\n",
              "      <td>5</td>\n",
              "      <td>1</td>\n",
              "    </tr>\n",
              "    <tr>\n",
              "      <th>57</th>\n",
              "      <td>CC1000602756</td>\n",
              "      <td>2</td>\n",
              "      <td>2</td>\n",
              "      <td>1</td>\n",
              "    </tr>\n",
              "  </tbody>\n",
              "</table>\n",
              "</div>\n",
              "      <button class=\"colab-df-convert\" onclick=\"convertToInteractive('df-13122a0a-182f-4995-9db7-c7e4e51ee3c7')\"\n",
              "              title=\"Convert this dataframe to an interactive table.\"\n",
              "              style=\"display:none;\">\n",
              "        \n",
              "  <svg xmlns=\"http://www.w3.org/2000/svg\" height=\"24px\"viewBox=\"0 0 24 24\"\n",
              "       width=\"24px\">\n",
              "    <path d=\"M0 0h24v24H0V0z\" fill=\"none\"/>\n",
              "    <path d=\"M18.56 5.44l.94 2.06.94-2.06 2.06-.94-2.06-.94-.94-2.06-.94 2.06-2.06.94zm-11 1L8.5 8.5l.94-2.06 2.06-.94-2.06-.94L8.5 2.5l-.94 2.06-2.06.94zm10 10l.94 2.06.94-2.06 2.06-.94-2.06-.94-.94-2.06-.94 2.06-2.06.94z\"/><path d=\"M17.41 7.96l-1.37-1.37c-.4-.4-.92-.59-1.43-.59-.52 0-1.04.2-1.43.59L10.3 9.45l-7.72 7.72c-.78.78-.78 2.05 0 2.83L4 21.41c.39.39.9.59 1.41.59.51 0 1.02-.2 1.41-.59l7.78-7.78 2.81-2.81c.8-.78.8-2.07 0-2.86zM5.41 20L4 18.59l7.72-7.72 1.47 1.35L5.41 20z\"/>\n",
              "  </svg>\n",
              "      </button>\n",
              "      \n",
              "  <style>\n",
              "    .colab-df-container {\n",
              "      display:flex;\n",
              "      flex-wrap:wrap;\n",
              "      gap: 12px;\n",
              "    }\n",
              "\n",
              "    .colab-df-convert {\n",
              "      background-color: #E8F0FE;\n",
              "      border: none;\n",
              "      border-radius: 50%;\n",
              "      cursor: pointer;\n",
              "      display: none;\n",
              "      fill: #1967D2;\n",
              "      height: 32px;\n",
              "      padding: 0 0 0 0;\n",
              "      width: 32px;\n",
              "    }\n",
              "\n",
              "    .colab-df-convert:hover {\n",
              "      background-color: #E2EBFA;\n",
              "      box-shadow: 0px 1px 2px rgba(60, 64, 67, 0.3), 0px 1px 3px 1px rgba(60, 64, 67, 0.15);\n",
              "      fill: #174EA6;\n",
              "    }\n",
              "\n",
              "    [theme=dark] .colab-df-convert {\n",
              "      background-color: #3B4455;\n",
              "      fill: #D2E3FC;\n",
              "    }\n",
              "\n",
              "    [theme=dark] .colab-df-convert:hover {\n",
              "      background-color: #434B5C;\n",
              "      box-shadow: 0px 1px 3px 1px rgba(0, 0, 0, 0.15);\n",
              "      filter: drop-shadow(0px 1px 2px rgba(0, 0, 0, 0.3));\n",
              "      fill: #FFFFFF;\n",
              "    }\n",
              "  </style>\n",
              "\n",
              "      <script>\n",
              "        const buttonEl =\n",
              "          document.querySelector('#df-13122a0a-182f-4995-9db7-c7e4e51ee3c7 button.colab-df-convert');\n",
              "        buttonEl.style.display =\n",
              "          google.colab.kernel.accessAllowed ? 'block' : 'none';\n",
              "\n",
              "        async function convertToInteractive(key) {\n",
              "          const element = document.querySelector('#df-13122a0a-182f-4995-9db7-c7e4e51ee3c7');\n",
              "          const dataTable =\n",
              "            await google.colab.kernel.invokeFunction('convertToInteractive',\n",
              "                                                     [key], {});\n",
              "          if (!dataTable) return;\n",
              "\n",
              "          const docLinkHtml = 'Like what you see? Visit the ' +\n",
              "            '<a target=\"_blank\" href=https://colab.research.google.com/notebooks/data_table.ipynb>data table notebook</a>'\n",
              "            + ' to learn more about interactive tables.';\n",
              "          element.innerHTML = '';\n",
              "          dataTable['output_type'] = 'display_data';\n",
              "          await google.colab.output.renderOutput(dataTable, element);\n",
              "          const docLink = document.createElement('div');\n",
              "          docLink.innerHTML = docLinkHtml;\n",
              "          element.appendChild(docLink);\n",
              "        }\n",
              "      </script>\n",
              "    </div>\n",
              "  </div>\n",
              "  "
            ],
            "text/plain": [
              "           LLAVE  CATEGORIA_ID  CALIFICACION  CLUSTER\n",
              "56  CC1000602756             1             5        1\n",
              "57  CC1000602756             2             2        1"
            ]
          },
          "metadata": {},
          "execution_count": 13
        }
      ]
    },
    {
      "cell_type": "code",
      "source": [
        "fichero_K1.shape"
      ],
      "metadata": {
        "colab": {
          "base_uri": "https://localhost:8080/"
        },
        "outputId": "dbeff2cb-2703-41d6-8300-fedb2aacca44",
        "id": "XHnenUQpvkYV"
      },
      "execution_count": null,
      "outputs": [
        {
          "output_type": "execute_result",
          "data": {
            "text/plain": [
              "(21244, 4)"
            ]
          },
          "metadata": {},
          "execution_count": 14
        }
      ]
    },
    {
      "cell_type": "code",
      "source": [
        "X = fichero_K1.copy()\n",
        "y = fichero_K1['LLAVE']"
      ],
      "metadata": {
        "id": "ySJBrQQPvkYV"
      },
      "execution_count": null,
      "outputs": []
    },
    {
      "cell_type": "code",
      "source": [
        "X_train, X_test, y_train, y_test = train_test_split(X, y, stratify = y, test_size = 0.2, random_state = 0)"
      ],
      "metadata": {
        "id": "1HYCnHwnvkYV"
      },
      "execution_count": null,
      "outputs": []
    },
    {
      "cell_type": "code",
      "source": [
        "matriz_cal_K1 = X_train.pivot_table(values = 'CALIFICACION', index = 'LLAVE', columns = 'CATEGORIA_ID')"
      ],
      "metadata": {
        "id": "fsu23tbxvkYW"
      },
      "execution_count": null,
      "outputs": []
    },
    {
      "cell_type": "code",
      "source": [
        "matriz_cal_K1_copia = matriz_cal_K1.copy().fillna(0)"
      ],
      "metadata": {
        "id": "6SeeliS9vkYW"
      },
      "execution_count": null,
      "outputs": []
    },
    {
      "cell_type": "code",
      "source": [
        "similarity_K1 = cosine_similarity(matriz_cal_K1_copia, matriz_cal_K1_copia)"
      ],
      "metadata": {
        "id": "G2lrgrvLvkYW"
      },
      "execution_count": null,
      "outputs": []
    },
    {
      "cell_type": "code",
      "source": [
        "similarity_K1 = pd.DataFrame(similarity_K1, index = matriz_cal_K1.index, columns = matriz_cal_K1.index)"
      ],
      "metadata": {
        "id": "UNoDvpqkvkYW"
      },
      "execution_count": null,
      "outputs": []
    },
    {
      "cell_type": "code",
      "source": [
        "similarity_K1.head(2)"
      ],
      "metadata": {
        "colab": {
          "base_uri": "https://localhost:8080/",
          "height": 237
        },
        "outputId": "4c3fcfac-e36a-4078-b4df-3d02557309b5",
        "id": "FGnfeLeXvkYX"
      },
      "execution_count": null,
      "outputs": [
        {
          "output_type": "execute_result",
          "data": {
            "text/html": [
              "\n",
              "  <div id=\"df-295ad494-d785-4c32-aa3f-65eb048b48b5\">\n",
              "    <div class=\"colab-df-container\">\n",
              "      <div>\n",
              "<style scoped>\n",
              "    .dataframe tbody tr th:only-of-type {\n",
              "        vertical-align: middle;\n",
              "    }\n",
              "\n",
              "    .dataframe tbody tr th {\n",
              "        vertical-align: top;\n",
              "    }\n",
              "\n",
              "    .dataframe thead th {\n",
              "        text-align: right;\n",
              "    }\n",
              "</style>\n",
              "<table border=\"1\" class=\"dataframe\">\n",
              "  <thead>\n",
              "    <tr style=\"text-align: right;\">\n",
              "      <th>LLAVE</th>\n",
              "      <th>CC1000602756</th>\n",
              "      <th>CC1001143622</th>\n",
              "      <th>CC1001803532</th>\n",
              "      <th>CC1002536222</th>\n",
              "      <th>CC1003510091</th>\n",
              "      <th>CC1003709469</th>\n",
              "      <th>CC1003822136</th>\n",
              "      <th>CC1005892089</th>\n",
              "      <th>CC1010077521</th>\n",
              "      <th>CC1010083120</th>\n",
              "      <th>CC1010179823</th>\n",
              "      <th>CC1010182600</th>\n",
              "      <th>CC1010185242</th>\n",
              "      <th>CC1010190877</th>\n",
              "      <th>CC1010196627</th>\n",
              "      <th>CC1010199074</th>\n",
              "      <th>CC1010203279</th>\n",
              "      <th>CC1010206462</th>\n",
              "      <th>CC1012352464</th>\n",
              "      <th>CC1012365784</th>\n",
              "      <th>CC1012377485</th>\n",
              "      <th>CC1012384170</th>\n",
              "      <th>CC1012417212</th>\n",
              "      <th>CC1013595272</th>\n",
              "      <th>CC1013600425</th>\n",
              "      <th>CC1013615207</th>\n",
              "      <th>CC1013617426</th>\n",
              "      <th>CC1013653090</th>\n",
              "      <th>CC1014183437</th>\n",
              "      <th>CC1014194763</th>\n",
              "      <th>CC1014196206</th>\n",
              "      <th>CC1014206045</th>\n",
              "      <th>CC1014207291</th>\n",
              "      <th>CC1014209231</th>\n",
              "      <th>CC1014210011</th>\n",
              "      <th>CC1014210752</th>\n",
              "      <th>CC1014211415</th>\n",
              "      <th>CC1014215810</th>\n",
              "      <th>CC1014218426</th>\n",
              "      <th>CC1014222636</th>\n",
              "      <th>...</th>\n",
              "      <th>CC80113155</th>\n",
              "      <th>CC80191900</th>\n",
              "      <th>CC80284014</th>\n",
              "      <th>CC80421736</th>\n",
              "      <th>CC80421847</th>\n",
              "      <th>CC80548346</th>\n",
              "      <th>CC8064593</th>\n",
              "      <th>CC80729475</th>\n",
              "      <th>CC80828622</th>\n",
              "      <th>CC80845143</th>\n",
              "      <th>CC80864832</th>\n",
              "      <th>CC80872480</th>\n",
              "      <th>CC83237433</th>\n",
              "      <th>CC8416763</th>\n",
              "      <th>CC86007555</th>\n",
              "      <th>CC86042147</th>\n",
              "      <th>CC8701447</th>\n",
              "      <th>CC88144949</th>\n",
              "      <th>CC88180448</th>\n",
              "      <th>CC88283615</th>\n",
              "      <th>CC89009681</th>\n",
              "      <th>CC9081361</th>\n",
              "      <th>CC91213673</th>\n",
              "      <th>CC91269428</th>\n",
              "      <th>CC91277277</th>\n",
              "      <th>CC91527590</th>\n",
              "      <th>CC92189098</th>\n",
              "      <th>CC93361654</th>\n",
              "      <th>CC9397837</th>\n",
              "      <th>CC94483351</th>\n",
              "      <th>CC94536076</th>\n",
              "      <th>CC98384581</th>\n",
              "      <th>CC98517196</th>\n",
              "      <th>CC98541476</th>\n",
              "      <th>CC9860542</th>\n",
              "      <th>CC98706008</th>\n",
              "      <th>CE535996</th>\n",
              "      <th>CE873164</th>\n",
              "      <th>PP145422851</th>\n",
              "      <th>TI1006207592</th>\n",
              "    </tr>\n",
              "    <tr>\n",
              "      <th>LLAVE</th>\n",
              "      <th></th>\n",
              "      <th></th>\n",
              "      <th></th>\n",
              "      <th></th>\n",
              "      <th></th>\n",
              "      <th></th>\n",
              "      <th></th>\n",
              "      <th></th>\n",
              "      <th></th>\n",
              "      <th></th>\n",
              "      <th></th>\n",
              "      <th></th>\n",
              "      <th></th>\n",
              "      <th></th>\n",
              "      <th></th>\n",
              "      <th></th>\n",
              "      <th></th>\n",
              "      <th></th>\n",
              "      <th></th>\n",
              "      <th></th>\n",
              "      <th></th>\n",
              "      <th></th>\n",
              "      <th></th>\n",
              "      <th></th>\n",
              "      <th></th>\n",
              "      <th></th>\n",
              "      <th></th>\n",
              "      <th></th>\n",
              "      <th></th>\n",
              "      <th></th>\n",
              "      <th></th>\n",
              "      <th></th>\n",
              "      <th></th>\n",
              "      <th></th>\n",
              "      <th></th>\n",
              "      <th></th>\n",
              "      <th></th>\n",
              "      <th></th>\n",
              "      <th></th>\n",
              "      <th></th>\n",
              "      <th></th>\n",
              "      <th></th>\n",
              "      <th></th>\n",
              "      <th></th>\n",
              "      <th></th>\n",
              "      <th></th>\n",
              "      <th></th>\n",
              "      <th></th>\n",
              "      <th></th>\n",
              "      <th></th>\n",
              "      <th></th>\n",
              "      <th></th>\n",
              "      <th></th>\n",
              "      <th></th>\n",
              "      <th></th>\n",
              "      <th></th>\n",
              "      <th></th>\n",
              "      <th></th>\n",
              "      <th></th>\n",
              "      <th></th>\n",
              "      <th></th>\n",
              "      <th></th>\n",
              "      <th></th>\n",
              "      <th></th>\n",
              "      <th></th>\n",
              "      <th></th>\n",
              "      <th></th>\n",
              "      <th></th>\n",
              "      <th></th>\n",
              "      <th></th>\n",
              "      <th></th>\n",
              "      <th></th>\n",
              "      <th></th>\n",
              "      <th></th>\n",
              "      <th></th>\n",
              "      <th></th>\n",
              "      <th></th>\n",
              "      <th></th>\n",
              "      <th></th>\n",
              "      <th></th>\n",
              "      <th></th>\n",
              "    </tr>\n",
              "  </thead>\n",
              "  <tbody>\n",
              "    <tr>\n",
              "      <th>CC1000602756</th>\n",
              "      <td>1.0000</td>\n",
              "      <td>0.3371</td>\n",
              "      <td>0.612737</td>\n",
              "      <td>0.537587</td>\n",
              "      <td>0.501221</td>\n",
              "      <td>0.166091</td>\n",
              "      <td>0.515339</td>\n",
              "      <td>0.861597</td>\n",
              "      <td>0.778551</td>\n",
              "      <td>0.522913</td>\n",
              "      <td>0.465130</td>\n",
              "      <td>0.245718</td>\n",
              "      <td>0.65000</td>\n",
              "      <td>0.519034</td>\n",
              "      <td>0.45000</td>\n",
              "      <td>0.55000</td>\n",
              "      <td>0.254824</td>\n",
              "      <td>0.465130</td>\n",
              "      <td>0.573353</td>\n",
              "      <td>0.664364</td>\n",
              "      <td>0.222497</td>\n",
              "      <td>0.641236</td>\n",
              "      <td>0.503115</td>\n",
              "      <td>0.500618</td>\n",
              "      <td>0.384790</td>\n",
              "      <td>0.674745</td>\n",
              "      <td>0.755929</td>\n",
              "      <td>0.75000</td>\n",
              "      <td>0.384742</td>\n",
              "      <td>0.55000</td>\n",
              "      <td>0.597085</td>\n",
              "      <td>0.65000</td>\n",
              "      <td>0.670820</td>\n",
              "      <td>0.636890</td>\n",
              "      <td>0.671984</td>\n",
              "      <td>0.269898</td>\n",
              "      <td>0.622841</td>\n",
              "      <td>0.429521</td>\n",
              "      <td>0.528768</td>\n",
              "      <td>0.239046</td>\n",
              "      <td>...</td>\n",
              "      <td>0.40000</td>\n",
              "      <td>0.447214</td>\n",
              "      <td>0.447214</td>\n",
              "      <td>0.465130</td>\n",
              "      <td>0.275705</td>\n",
              "      <td>0.229039</td>\n",
              "      <td>0.395285</td>\n",
              "      <td>0.359092</td>\n",
              "      <td>0.302372</td>\n",
              "      <td>0.475164</td>\n",
              "      <td>0.451848</td>\n",
              "      <td>0.60000</td>\n",
              "      <td>0.549350</td>\n",
              "      <td>0.670820</td>\n",
              "      <td>0.387665</td>\n",
              "      <td>0.397567</td>\n",
              "      <td>0.488795</td>\n",
              "      <td>0.443296</td>\n",
              "      <td>0.212500</td>\n",
              "      <td>0.532872</td>\n",
              "      <td>0.692535</td>\n",
              "      <td>0.535441</td>\n",
              "      <td>0.385988</td>\n",
              "      <td>0.40000</td>\n",
              "      <td>0.442725</td>\n",
              "      <td>0.539360</td>\n",
              "      <td>0.679720</td>\n",
              "      <td>0.249136</td>\n",
              "      <td>0.55000</td>\n",
              "      <td>0.388909</td>\n",
              "      <td>0.524000</td>\n",
              "      <td>0.447214</td>\n",
              "      <td>0.478091</td>\n",
              "      <td>0.503115</td>\n",
              "      <td>0.726247</td>\n",
              "      <td>0.394466</td>\n",
              "      <td>0.388909</td>\n",
              "      <td>0.522388</td>\n",
              "      <td>0.352943</td>\n",
              "      <td>0.592927</td>\n",
              "    </tr>\n",
              "    <tr>\n",
              "      <th>CC1001143622</th>\n",
              "      <td>0.3371</td>\n",
              "      <td>1.0000</td>\n",
              "      <td>0.227921</td>\n",
              "      <td>0.596962</td>\n",
              "      <td>0.707281</td>\n",
              "      <td>0.755855</td>\n",
              "      <td>0.791394</td>\n",
              "      <td>0.489906</td>\n",
              "      <td>0.419919</td>\n",
              "      <td>0.705095</td>\n",
              "      <td>0.229967</td>\n",
              "      <td>0.724776</td>\n",
              "      <td>0.47194</td>\n",
              "      <td>0.475909</td>\n",
              "      <td>0.91017</td>\n",
              "      <td>0.40452</td>\n",
              "      <td>0.893371</td>\n",
              "      <td>0.376309</td>\n",
              "      <td>0.876190</td>\n",
              "      <td>0.419919</td>\n",
              "      <td>0.750038</td>\n",
              "      <td>0.899229</td>\n",
              "      <td>0.640712</td>\n",
              "      <td>0.540027</td>\n",
              "      <td>0.590416</td>\n",
              "      <td>0.545895</td>\n",
              "      <td>0.407718</td>\n",
              "      <td>0.47194</td>\n",
              "      <td>0.587957</td>\n",
              "      <td>0.47194</td>\n",
              "      <td>0.195837</td>\n",
              "      <td>0.47194</td>\n",
              "      <td>0.512569</td>\n",
              "      <td>0.736099</td>\n",
              "      <td>0.159901</td>\n",
              "      <td>0.727860</td>\n",
              "      <td>0.713863</td>\n",
              "      <td>0.827379</td>\n",
              "      <td>0.822681</td>\n",
              "      <td>0.966988</td>\n",
              "      <td>...</td>\n",
              "      <td>0.74162</td>\n",
              "      <td>0.527645</td>\n",
              "      <td>0.527645</td>\n",
              "      <td>0.418121</td>\n",
              "      <td>0.644386</td>\n",
              "      <td>0.810696</td>\n",
              "      <td>0.852803</td>\n",
              "      <td>0.847350</td>\n",
              "      <td>0.815436</td>\n",
              "      <td>0.489956</td>\n",
              "      <td>0.580259</td>\n",
              "      <td>0.80904</td>\n",
              "      <td>0.512823</td>\n",
              "      <td>0.716089</td>\n",
              "      <td>0.590909</td>\n",
              "      <td>0.778179</td>\n",
              "      <td>0.522727</td>\n",
              "      <td>0.781661</td>\n",
              "      <td>0.859605</td>\n",
              "      <td>0.438125</td>\n",
              "      <td>0.345857</td>\n",
              "      <td>0.837507</td>\n",
              "      <td>0.446113</td>\n",
              "      <td>0.74162</td>\n",
              "      <td>0.612277</td>\n",
              "      <td>0.727273</td>\n",
              "      <td>0.591312</td>\n",
              "      <td>0.783850</td>\n",
              "      <td>0.47194</td>\n",
              "      <td>0.595914</td>\n",
              "      <td>0.686935</td>\n",
              "      <td>0.678401</td>\n",
              "      <td>0.543931</td>\n",
              "      <td>0.942223</td>\n",
              "      <td>0.326424</td>\n",
              "      <td>0.699866</td>\n",
              "      <td>0.905789</td>\n",
              "      <td>0.876190</td>\n",
              "      <td>0.335936</td>\n",
              "      <td>0.799503</td>\n",
              "    </tr>\n",
              "  </tbody>\n",
              "</table>\n",
              "<p>2 rows × 3373 columns</p>\n",
              "</div>\n",
              "      <button class=\"colab-df-convert\" onclick=\"convertToInteractive('df-295ad494-d785-4c32-aa3f-65eb048b48b5')\"\n",
              "              title=\"Convert this dataframe to an interactive table.\"\n",
              "              style=\"display:none;\">\n",
              "        \n",
              "  <svg xmlns=\"http://www.w3.org/2000/svg\" height=\"24px\"viewBox=\"0 0 24 24\"\n",
              "       width=\"24px\">\n",
              "    <path d=\"M0 0h24v24H0V0z\" fill=\"none\"/>\n",
              "    <path d=\"M18.56 5.44l.94 2.06.94-2.06 2.06-.94-2.06-.94-.94-2.06-.94 2.06-2.06.94zm-11 1L8.5 8.5l.94-2.06 2.06-.94-2.06-.94L8.5 2.5l-.94 2.06-2.06.94zm10 10l.94 2.06.94-2.06 2.06-.94-2.06-.94-.94-2.06-.94 2.06-2.06.94z\"/><path d=\"M17.41 7.96l-1.37-1.37c-.4-.4-.92-.59-1.43-.59-.52 0-1.04.2-1.43.59L10.3 9.45l-7.72 7.72c-.78.78-.78 2.05 0 2.83L4 21.41c.39.39.9.59 1.41.59.51 0 1.02-.2 1.41-.59l7.78-7.78 2.81-2.81c.8-.78.8-2.07 0-2.86zM5.41 20L4 18.59l7.72-7.72 1.47 1.35L5.41 20z\"/>\n",
              "  </svg>\n",
              "      </button>\n",
              "      \n",
              "  <style>\n",
              "    .colab-df-container {\n",
              "      display:flex;\n",
              "      flex-wrap:wrap;\n",
              "      gap: 12px;\n",
              "    }\n",
              "\n",
              "    .colab-df-convert {\n",
              "      background-color: #E8F0FE;\n",
              "      border: none;\n",
              "      border-radius: 50%;\n",
              "      cursor: pointer;\n",
              "      display: none;\n",
              "      fill: #1967D2;\n",
              "      height: 32px;\n",
              "      padding: 0 0 0 0;\n",
              "      width: 32px;\n",
              "    }\n",
              "\n",
              "    .colab-df-convert:hover {\n",
              "      background-color: #E2EBFA;\n",
              "      box-shadow: 0px 1px 2px rgba(60, 64, 67, 0.3), 0px 1px 3px 1px rgba(60, 64, 67, 0.15);\n",
              "      fill: #174EA6;\n",
              "    }\n",
              "\n",
              "    [theme=dark] .colab-df-convert {\n",
              "      background-color: #3B4455;\n",
              "      fill: #D2E3FC;\n",
              "    }\n",
              "\n",
              "    [theme=dark] .colab-df-convert:hover {\n",
              "      background-color: #434B5C;\n",
              "      box-shadow: 0px 1px 3px 1px rgba(0, 0, 0, 0.15);\n",
              "      filter: drop-shadow(0px 1px 2px rgba(0, 0, 0, 0.3));\n",
              "      fill: #FFFFFF;\n",
              "    }\n",
              "  </style>\n",
              "\n",
              "      <script>\n",
              "        const buttonEl =\n",
              "          document.querySelector('#df-295ad494-d785-4c32-aa3f-65eb048b48b5 button.colab-df-convert');\n",
              "        buttonEl.style.display =\n",
              "          google.colab.kernel.accessAllowed ? 'block' : 'none';\n",
              "\n",
              "        async function convertToInteractive(key) {\n",
              "          const element = document.querySelector('#df-295ad494-d785-4c32-aa3f-65eb048b48b5');\n",
              "          const dataTable =\n",
              "            await google.colab.kernel.invokeFunction('convertToInteractive',\n",
              "                                                     [key], {});\n",
              "          if (!dataTable) return;\n",
              "\n",
              "          const docLinkHtml = 'Like what you see? Visit the ' +\n",
              "            '<a target=\"_blank\" href=https://colab.research.google.com/notebooks/data_table.ipynb>data table notebook</a>'\n",
              "            + ' to learn more about interactive tables.';\n",
              "          element.innerHTML = '';\n",
              "          dataTable['output_type'] = 'display_data';\n",
              "          await google.colab.output.renderOutput(dataTable, element);\n",
              "          const docLink = document.createElement('div');\n",
              "          docLink.innerHTML = docLinkHtml;\n",
              "          element.appendChild(docLink);\n",
              "        }\n",
              "      </script>\n",
              "    </div>\n",
              "  </div>\n",
              "  "
            ],
            "text/plain": [
              "LLAVE         CC1000602756  CC1001143622  ...  PP145422851  TI1006207592\n",
              "LLAVE                                     ...                           \n",
              "CC1000602756        1.0000        0.3371  ...     0.352943      0.592927\n",
              "CC1001143622        0.3371        1.0000  ...     0.335936      0.799503\n",
              "\n",
              "[2 rows x 3373 columns]"
            ]
          },
          "metadata": {},
          "execution_count": 52
        }
      ]
    },
    {
      "cell_type": "code",
      "source": [
        "def modelo_media_ponderada_K1(llave, categoria_id):\n",
        "\n",
        "  #Validamos si la categoría existe en la matriz\n",
        "  if categoria_id in matriz_cal_K1:\n",
        "\n",
        "    #Obtenemos los scores de similitud del cliente analizado y todos los demás\n",
        "    scores = similarity_K1[llave]\n",
        "\n",
        "    #Obtenemos las tasas de los clientes de la categoría buscada\n",
        "    ratings = matriz_cal_K1[categoria_id]\n",
        "\n",
        "    #Identificamos todos los missing values de la serie ratings\n",
        "    indices = ratings[ratings.isnull()].index\n",
        "\n",
        "    #Eliminamos todos los missing values de la serie ratings\n",
        "    ratings = ratings.dropna()\n",
        "\n",
        "    #Eliminamos los scores de similitud correspondientes a los clientes con missing values\n",
        "    scores = scores.drop(indices)\n",
        "\n",
        "    #Calculamos la media ponderada\n",
        "    tasa_promedio_ponderada = np.dot(scores, ratings) / scores.sum() \n",
        "\n",
        "  else:\n",
        "    tasa_promedio_ponderada = 3\n",
        "\n",
        "  return tasa_promedio_ponderada"
      ],
      "metadata": {
        "id": "gDk9AkOpvkYX"
      },
      "execution_count": null,
      "outputs": []
    },
    {
      "cell_type": "code",
      "source": [
        "score(modelo_media_ponderada_K1)"
      ],
      "metadata": {
        "colab": {
          "base_uri": "https://localhost:8080/"
        },
        "outputId": "7f5daacb-0b56-4689-c4aa-5866007521df",
        "id": "l3CA0rUAvkYX"
      },
      "execution_count": null,
      "outputs": [
        {
          "output_type": "execute_result",
          "data": {
            "text/plain": [
              "1.7877665723214364"
            ]
          },
          "metadata": {},
          "execution_count": 54
        }
      ]
    },
    {
      "cell_type": "markdown",
      "source": [
        "####**Cluster = 2**"
      ],
      "metadata": {
        "id": "HeMGMR4dwgn3"
      }
    },
    {
      "cell_type": "code",
      "source": [
        "fichero_K2 = fichero_cluster[fichero_cluster['CLUSTER'] == 2]"
      ],
      "metadata": {
        "id": "ub29GZwGwgn4"
      },
      "execution_count": null,
      "outputs": []
    },
    {
      "cell_type": "code",
      "source": [
        "fichero_K2.head(2)"
      ],
      "metadata": {
        "colab": {
          "base_uri": "https://localhost:8080/",
          "height": 112
        },
        "outputId": "f4a9090c-9211-4efa-a752-d198533d07d7",
        "id": "muMaoh8Owgn4"
      },
      "execution_count": null,
      "outputs": [
        {
          "output_type": "execute_result",
          "data": {
            "text/html": [
              "\n",
              "  <div id=\"df-926765f0-d0ce-4602-a1b0-5cdc910920ec\">\n",
              "    <div class=\"colab-df-container\">\n",
              "      <div>\n",
              "<style scoped>\n",
              "    .dataframe tbody tr th:only-of-type {\n",
              "        vertical-align: middle;\n",
              "    }\n",
              "\n",
              "    .dataframe tbody tr th {\n",
              "        vertical-align: top;\n",
              "    }\n",
              "\n",
              "    .dataframe thead th {\n",
              "        text-align: right;\n",
              "    }\n",
              "</style>\n",
              "<table border=\"1\" class=\"dataframe\">\n",
              "  <thead>\n",
              "    <tr style=\"text-align: right;\">\n",
              "      <th></th>\n",
              "      <th>LLAVE</th>\n",
              "      <th>CATEGORIA_ID</th>\n",
              "      <th>CALIFICACION</th>\n",
              "      <th>CLUSTER</th>\n",
              "    </tr>\n",
              "  </thead>\n",
              "  <tbody>\n",
              "    <tr>\n",
              "      <th>0</th>\n",
              "      <td>CC10000437</td>\n",
              "      <td>1</td>\n",
              "      <td>5</td>\n",
              "      <td>2</td>\n",
              "    </tr>\n",
              "    <tr>\n",
              "      <th>1</th>\n",
              "      <td>CC10000437</td>\n",
              "      <td>2</td>\n",
              "      <td>1</td>\n",
              "      <td>2</td>\n",
              "    </tr>\n",
              "  </tbody>\n",
              "</table>\n",
              "</div>\n",
              "      <button class=\"colab-df-convert\" onclick=\"convertToInteractive('df-926765f0-d0ce-4602-a1b0-5cdc910920ec')\"\n",
              "              title=\"Convert this dataframe to an interactive table.\"\n",
              "              style=\"display:none;\">\n",
              "        \n",
              "  <svg xmlns=\"http://www.w3.org/2000/svg\" height=\"24px\"viewBox=\"0 0 24 24\"\n",
              "       width=\"24px\">\n",
              "    <path d=\"M0 0h24v24H0V0z\" fill=\"none\"/>\n",
              "    <path d=\"M18.56 5.44l.94 2.06.94-2.06 2.06-.94-2.06-.94-.94-2.06-.94 2.06-2.06.94zm-11 1L8.5 8.5l.94-2.06 2.06-.94-2.06-.94L8.5 2.5l-.94 2.06-2.06.94zm10 10l.94 2.06.94-2.06 2.06-.94-2.06-.94-.94-2.06-.94 2.06-2.06.94z\"/><path d=\"M17.41 7.96l-1.37-1.37c-.4-.4-.92-.59-1.43-.59-.52 0-1.04.2-1.43.59L10.3 9.45l-7.72 7.72c-.78.78-.78 2.05 0 2.83L4 21.41c.39.39.9.59 1.41.59.51 0 1.02-.2 1.41-.59l7.78-7.78 2.81-2.81c.8-.78.8-2.07 0-2.86zM5.41 20L4 18.59l7.72-7.72 1.47 1.35L5.41 20z\"/>\n",
              "  </svg>\n",
              "      </button>\n",
              "      \n",
              "  <style>\n",
              "    .colab-df-container {\n",
              "      display:flex;\n",
              "      flex-wrap:wrap;\n",
              "      gap: 12px;\n",
              "    }\n",
              "\n",
              "    .colab-df-convert {\n",
              "      background-color: #E8F0FE;\n",
              "      border: none;\n",
              "      border-radius: 50%;\n",
              "      cursor: pointer;\n",
              "      display: none;\n",
              "      fill: #1967D2;\n",
              "      height: 32px;\n",
              "      padding: 0 0 0 0;\n",
              "      width: 32px;\n",
              "    }\n",
              "\n",
              "    .colab-df-convert:hover {\n",
              "      background-color: #E2EBFA;\n",
              "      box-shadow: 0px 1px 2px rgba(60, 64, 67, 0.3), 0px 1px 3px 1px rgba(60, 64, 67, 0.15);\n",
              "      fill: #174EA6;\n",
              "    }\n",
              "\n",
              "    [theme=dark] .colab-df-convert {\n",
              "      background-color: #3B4455;\n",
              "      fill: #D2E3FC;\n",
              "    }\n",
              "\n",
              "    [theme=dark] .colab-df-convert:hover {\n",
              "      background-color: #434B5C;\n",
              "      box-shadow: 0px 1px 3px 1px rgba(0, 0, 0, 0.15);\n",
              "      filter: drop-shadow(0px 1px 2px rgba(0, 0, 0, 0.3));\n",
              "      fill: #FFFFFF;\n",
              "    }\n",
              "  </style>\n",
              "\n",
              "      <script>\n",
              "        const buttonEl =\n",
              "          document.querySelector('#df-926765f0-d0ce-4602-a1b0-5cdc910920ec button.colab-df-convert');\n",
              "        buttonEl.style.display =\n",
              "          google.colab.kernel.accessAllowed ? 'block' : 'none';\n",
              "\n",
              "        async function convertToInteractive(key) {\n",
              "          const element = document.querySelector('#df-926765f0-d0ce-4602-a1b0-5cdc910920ec');\n",
              "          const dataTable =\n",
              "            await google.colab.kernel.invokeFunction('convertToInteractive',\n",
              "                                                     [key], {});\n",
              "          if (!dataTable) return;\n",
              "\n",
              "          const docLinkHtml = 'Like what you see? Visit the ' +\n",
              "            '<a target=\"_blank\" href=https://colab.research.google.com/notebooks/data_table.ipynb>data table notebook</a>'\n",
              "            + ' to learn more about interactive tables.';\n",
              "          element.innerHTML = '';\n",
              "          dataTable['output_type'] = 'display_data';\n",
              "          await google.colab.output.renderOutput(dataTable, element);\n",
              "          const docLink = document.createElement('div');\n",
              "          docLink.innerHTML = docLinkHtml;\n",
              "          element.appendChild(docLink);\n",
              "        }\n",
              "      </script>\n",
              "    </div>\n",
              "  </div>\n",
              "  "
            ],
            "text/plain": [
              "        LLAVE  CATEGORIA_ID  CALIFICACION  CLUSTER\n",
              "0  CC10000437             1             5        2\n",
              "1  CC10000437             2             1        2"
            ]
          },
          "metadata": {},
          "execution_count": 56
        }
      ]
    },
    {
      "cell_type": "code",
      "source": [
        "fichero_K2.shape"
      ],
      "metadata": {
        "colab": {
          "base_uri": "https://localhost:8080/"
        },
        "outputId": "18339504-d55f-4ad5-af02-6e979d5547fe",
        "id": "SGlcA8DEwgn5"
      },
      "execution_count": null,
      "outputs": [
        {
          "output_type": "execute_result",
          "data": {
            "text/plain": [
              "(53976, 4)"
            ]
          },
          "metadata": {},
          "execution_count": 57
        }
      ]
    },
    {
      "cell_type": "code",
      "source": [
        "X = fichero_K2.copy()\n",
        "y = fichero_K2['LLAVE']"
      ],
      "metadata": {
        "id": "Hw4NriTDwgn5"
      },
      "execution_count": null,
      "outputs": []
    },
    {
      "cell_type": "code",
      "source": [
        "X_train, X_test, y_train, y_test = train_test_split(X, y, stratify = y, test_size = 0.2, random_state = 0)"
      ],
      "metadata": {
        "id": "kWJuovX4wgn5"
      },
      "execution_count": null,
      "outputs": []
    },
    {
      "cell_type": "code",
      "source": [
        "matriz_cal_K2 = X_train.pivot_table(values = 'CALIFICACION', index = 'LLAVE', columns = 'CATEGORIA_ID')"
      ],
      "metadata": {
        "id": "D9AcINn5wgn6"
      },
      "execution_count": null,
      "outputs": []
    },
    {
      "cell_type": "code",
      "source": [
        "matriz_cal_K2_copia = matriz_cal_K2.copy().fillna(0)"
      ],
      "metadata": {
        "id": "FMnKvECZwgn6"
      },
      "execution_count": null,
      "outputs": []
    },
    {
      "cell_type": "code",
      "source": [
        "similarity_K2 = cosine_similarity(matriz_cal_K2_copia, matriz_cal_K2_copia)"
      ],
      "metadata": {
        "id": "PyQeStsgwgn6"
      },
      "execution_count": null,
      "outputs": []
    },
    {
      "cell_type": "code",
      "source": [
        "similarity_K2 = pd.DataFrame(similarity_K2, index = matriz_cal_K2.index, columns = matriz_cal_K2.index)"
      ],
      "metadata": {
        "id": "7xH94WOywgn6"
      },
      "execution_count": null,
      "outputs": []
    },
    {
      "cell_type": "code",
      "source": [
        "similarity_K2.head(2)"
      ],
      "metadata": {
        "colab": {
          "base_uri": "https://localhost:8080/",
          "height": 237
        },
        "outputId": "b9c9ff3a-161f-44f9-91a5-a2b8a4b360d4",
        "id": "vtl0Tcopwgn7"
      },
      "execution_count": null,
      "outputs": [
        {
          "output_type": "execute_result",
          "data": {
            "text/html": [
              "\n",
              "  <div id=\"df-f244dce3-518f-4009-a31f-db98db26c27d\">\n",
              "    <div class=\"colab-df-container\">\n",
              "      <div>\n",
              "<style scoped>\n",
              "    .dataframe tbody tr th:only-of-type {\n",
              "        vertical-align: middle;\n",
              "    }\n",
              "\n",
              "    .dataframe tbody tr th {\n",
              "        vertical-align: top;\n",
              "    }\n",
              "\n",
              "    .dataframe thead th {\n",
              "        text-align: right;\n",
              "    }\n",
              "</style>\n",
              "<table border=\"1\" class=\"dataframe\">\n",
              "  <thead>\n",
              "    <tr style=\"text-align: right;\">\n",
              "      <th>LLAVE</th>\n",
              "      <th>CC10000437</th>\n",
              "      <th>CC1000047909</th>\n",
              "      <th>CC10000952</th>\n",
              "      <th>CC10002143</th>\n",
              "      <th>CC10003232</th>\n",
              "      <th>CC10004409</th>\n",
              "      <th>CC10004786</th>\n",
              "      <th>CC10005087</th>\n",
              "      <th>CC10006861</th>\n",
              "      <th>CC10006988</th>\n",
              "      <th>CC10008962</th>\n",
              "      <th>CC10009215</th>\n",
              "      <th>CC10010230</th>\n",
              "      <th>CC10010535</th>\n",
              "      <th>CC10013290</th>\n",
              "      <th>CC1001940754</th>\n",
              "      <th>CC10025931</th>\n",
              "      <th>CC10027309</th>\n",
              "      <th>CC10028653</th>\n",
              "      <th>CC10029279</th>\n",
              "      <th>CC10029338</th>\n",
              "      <th>CC10031262</th>\n",
              "      <th>CC10031503</th>\n",
              "      <th>CC10034993</th>\n",
              "      <th>CC1010160668</th>\n",
              "      <th>CC1010162487</th>\n",
              "      <th>CC1010163720</th>\n",
              "      <th>CC1010169967</th>\n",
              "      <th>CC1010171040</th>\n",
              "      <th>CC1010174479</th>\n",
              "      <th>CC1010175058</th>\n",
              "      <th>CC1010175106</th>\n",
              "      <th>CC1010196249</th>\n",
              "      <th>CC1012319191</th>\n",
              "      <th>CC1012319250</th>\n",
              "      <th>CC1012330666</th>\n",
              "      <th>CC1012342542</th>\n",
              "      <th>CC1013579039</th>\n",
              "      <th>CC1013579366</th>\n",
              "      <th>CC1013579375</th>\n",
              "      <th>...</th>\n",
              "      <th>CC9871999</th>\n",
              "      <th>CC9872068</th>\n",
              "      <th>CC9872485</th>\n",
              "      <th>CC9872558</th>\n",
              "      <th>CC9873771</th>\n",
              "      <th>CC9873783</th>\n",
              "      <th>CC9873924</th>\n",
              "      <th>CC9874298</th>\n",
              "      <th>CC98761994</th>\n",
              "      <th>CC98764136</th>\n",
              "      <th>CC98771546</th>\n",
              "      <th>CC98771869</th>\n",
              "      <th>CC98772179</th>\n",
              "      <th>CC98772559</th>\n",
              "      <th>CC98772712</th>\n",
              "      <th>CC98772850</th>\n",
              "      <th>CC9877318</th>\n",
              "      <th>CC9877791</th>\n",
              "      <th>CC9877858</th>\n",
              "      <th>CC9911146</th>\n",
              "      <th>CC9930027</th>\n",
              "      <th>CC9930268</th>\n",
              "      <th>CC9971363</th>\n",
              "      <th>CC9971636</th>\n",
              "      <th>CC9971863</th>\n",
              "      <th>CC9975856</th>\n",
              "      <th>CC9976356</th>\n",
              "      <th>CC9976839</th>\n",
              "      <th>CC9977210</th>\n",
              "      <th>CC9977259</th>\n",
              "      <th>CC9977631</th>\n",
              "      <th>CC9994981</th>\n",
              "      <th>CE253227</th>\n",
              "      <th>CE338735</th>\n",
              "      <th>CE353537</th>\n",
              "      <th>CE400551</th>\n",
              "      <th>CE426247</th>\n",
              "      <th>CE508172</th>\n",
              "      <th>CE643128</th>\n",
              "      <th>CE665912</th>\n",
              "    </tr>\n",
              "    <tr>\n",
              "      <th>LLAVE</th>\n",
              "      <th></th>\n",
              "      <th></th>\n",
              "      <th></th>\n",
              "      <th></th>\n",
              "      <th></th>\n",
              "      <th></th>\n",
              "      <th></th>\n",
              "      <th></th>\n",
              "      <th></th>\n",
              "      <th></th>\n",
              "      <th></th>\n",
              "      <th></th>\n",
              "      <th></th>\n",
              "      <th></th>\n",
              "      <th></th>\n",
              "      <th></th>\n",
              "      <th></th>\n",
              "      <th></th>\n",
              "      <th></th>\n",
              "      <th></th>\n",
              "      <th></th>\n",
              "      <th></th>\n",
              "      <th></th>\n",
              "      <th></th>\n",
              "      <th></th>\n",
              "      <th></th>\n",
              "      <th></th>\n",
              "      <th></th>\n",
              "      <th></th>\n",
              "      <th></th>\n",
              "      <th></th>\n",
              "      <th></th>\n",
              "      <th></th>\n",
              "      <th></th>\n",
              "      <th></th>\n",
              "      <th></th>\n",
              "      <th></th>\n",
              "      <th></th>\n",
              "      <th></th>\n",
              "      <th></th>\n",
              "      <th></th>\n",
              "      <th></th>\n",
              "      <th></th>\n",
              "      <th></th>\n",
              "      <th></th>\n",
              "      <th></th>\n",
              "      <th></th>\n",
              "      <th></th>\n",
              "      <th></th>\n",
              "      <th></th>\n",
              "      <th></th>\n",
              "      <th></th>\n",
              "      <th></th>\n",
              "      <th></th>\n",
              "      <th></th>\n",
              "      <th></th>\n",
              "      <th></th>\n",
              "      <th></th>\n",
              "      <th></th>\n",
              "      <th></th>\n",
              "      <th></th>\n",
              "      <th></th>\n",
              "      <th></th>\n",
              "      <th></th>\n",
              "      <th></th>\n",
              "      <th></th>\n",
              "      <th></th>\n",
              "      <th></th>\n",
              "      <th></th>\n",
              "      <th></th>\n",
              "      <th></th>\n",
              "      <th></th>\n",
              "      <th></th>\n",
              "      <th></th>\n",
              "      <th></th>\n",
              "      <th></th>\n",
              "      <th></th>\n",
              "      <th></th>\n",
              "      <th></th>\n",
              "      <th></th>\n",
              "      <th></th>\n",
              "    </tr>\n",
              "  </thead>\n",
              "  <tbody>\n",
              "    <tr>\n",
              "      <th>CC10000437</th>\n",
              "      <td>1.000000</td>\n",
              "      <td>0.900149</td>\n",
              "      <td>0.526451</td>\n",
              "      <td>0.776899</td>\n",
              "      <td>0.388449</td>\n",
              "      <td>0.965061</td>\n",
              "      <td>0.826797</td>\n",
              "      <td>0.484832</td>\n",
              "      <td>0.330547</td>\n",
              "      <td>0.201911</td>\n",
              "      <td>0.677296</td>\n",
              "      <td>0.533514</td>\n",
              "      <td>0.519701</td>\n",
              "      <td>0.717137</td>\n",
              "      <td>0.707107</td>\n",
              "      <td>0.297775</td>\n",
              "      <td>0.333385</td>\n",
              "      <td>0.212167</td>\n",
              "      <td>0.445521</td>\n",
              "      <td>0.547871</td>\n",
              "      <td>0.521917</td>\n",
              "      <td>0.427741</td>\n",
              "      <td>0.282038</td>\n",
              "      <td>0.794067</td>\n",
              "      <td>0.531870</td>\n",
              "      <td>0.446429</td>\n",
              "      <td>0.496389</td>\n",
              "      <td>0.657376</td>\n",
              "      <td>0.664839</td>\n",
              "      <td>0.526212</td>\n",
              "      <td>0.395437</td>\n",
              "      <td>0.639200</td>\n",
              "      <td>0.322329</td>\n",
              "      <td>0.329531</td>\n",
              "      <td>0.545921</td>\n",
              "      <td>0.548230</td>\n",
              "      <td>0.166781</td>\n",
              "      <td>0.537853</td>\n",
              "      <td>0.496292</td>\n",
              "      <td>0.843696</td>\n",
              "      <td>...</td>\n",
              "      <td>0.633009</td>\n",
              "      <td>0.478091</td>\n",
              "      <td>0.478091</td>\n",
              "      <td>0.582482</td>\n",
              "      <td>0.813869</td>\n",
              "      <td>0.530330</td>\n",
              "      <td>0.385467</td>\n",
              "      <td>0.613139</td>\n",
              "      <td>0.811101</td>\n",
              "      <td>0.537853</td>\n",
              "      <td>0.776899</td>\n",
              "      <td>0.507972</td>\n",
              "      <td>0.685288</td>\n",
              "      <td>0.776899</td>\n",
              "      <td>0.657376</td>\n",
              "      <td>0.598353</td>\n",
              "      <td>0.334367</td>\n",
              "      <td>0.552793</td>\n",
              "      <td>0.238623</td>\n",
              "      <td>0.687256</td>\n",
              "      <td>0.105644</td>\n",
              "      <td>0.545166</td>\n",
              "      <td>0.432014</td>\n",
              "      <td>0.551226</td>\n",
              "      <td>0.402911</td>\n",
              "      <td>0.632456</td>\n",
              "      <td>0.443203</td>\n",
              "      <td>0.585142</td>\n",
              "      <td>0.41833</td>\n",
              "      <td>0.139320</td>\n",
              "      <td>0.322329</td>\n",
              "      <td>0.519701</td>\n",
              "      <td>0.518875</td>\n",
              "      <td>0.522913</td>\n",
              "      <td>0.753603</td>\n",
              "      <td>0.797805</td>\n",
              "      <td>0.604367</td>\n",
              "      <td>0.826788</td>\n",
              "      <td>0.721605</td>\n",
              "      <td>0.472456</td>\n",
              "    </tr>\n",
              "    <tr>\n",
              "      <th>CC1000047909</th>\n",
              "      <td>0.900149</td>\n",
              "      <td>1.000000</td>\n",
              "      <td>0.752617</td>\n",
              "      <td>0.775940</td>\n",
              "      <td>0.707475</td>\n",
              "      <td>0.964901</td>\n",
              "      <td>0.775814</td>\n",
              "      <td>0.630505</td>\n",
              "      <td>0.558069</td>\n",
              "      <td>0.280386</td>\n",
              "      <td>0.623795</td>\n",
              "      <td>0.710717</td>\n",
              "      <td>0.757772</td>\n",
              "      <td>0.730297</td>\n",
              "      <td>0.848668</td>\n",
              "      <td>0.303239</td>\n",
              "      <td>0.589662</td>\n",
              "      <td>0.441942</td>\n",
              "      <td>0.500400</td>\n",
              "      <td>0.749305</td>\n",
              "      <td>0.651080</td>\n",
              "      <td>0.457370</td>\n",
              "      <td>0.646230</td>\n",
              "      <td>0.682288</td>\n",
              "      <td>0.619489</td>\n",
              "      <td>0.627376</td>\n",
              "      <td>0.714162</td>\n",
              "      <td>0.684653</td>\n",
              "      <td>0.746124</td>\n",
              "      <td>0.608593</td>\n",
              "      <td>0.721493</td>\n",
              "      <td>0.728013</td>\n",
              "      <td>0.538525</td>\n",
              "      <td>0.436251</td>\n",
              "      <td>0.767574</td>\n",
              "      <td>0.616446</td>\n",
              "      <td>0.396297</td>\n",
              "      <td>0.775940</td>\n",
              "      <td>0.710717</td>\n",
              "      <td>0.947623</td>\n",
              "      <td>...</td>\n",
              "      <td>0.572269</td>\n",
              "      <td>0.593366</td>\n",
              "      <td>0.684653</td>\n",
              "      <td>0.725854</td>\n",
              "      <td>0.937338</td>\n",
              "      <td>0.810093</td>\n",
              "      <td>0.729004</td>\n",
              "      <td>0.620488</td>\n",
              "      <td>0.802289</td>\n",
              "      <td>0.775940</td>\n",
              "      <td>0.775940</td>\n",
              "      <td>0.616188</td>\n",
              "      <td>0.883960</td>\n",
              "      <td>0.775940</td>\n",
              "      <td>0.684653</td>\n",
              "      <td>0.822600</td>\n",
              "      <td>0.670365</td>\n",
              "      <td>0.604777</td>\n",
              "      <td>0.336463</td>\n",
              "      <td>0.684653</td>\n",
              "      <td>0.290474</td>\n",
              "      <td>0.781978</td>\n",
              "      <td>0.531596</td>\n",
              "      <td>0.574099</td>\n",
              "      <td>0.738549</td>\n",
              "      <td>0.862582</td>\n",
              "      <td>0.646230</td>\n",
              "      <td>0.851257</td>\n",
              "      <td>0.63901</td>\n",
              "      <td>0.340503</td>\n",
              "      <td>0.353888</td>\n",
              "      <td>0.793857</td>\n",
              "      <td>0.679366</td>\n",
              "      <td>0.650421</td>\n",
              "      <td>0.868079</td>\n",
              "      <td>0.812444</td>\n",
              "      <td>0.769322</td>\n",
              "      <td>0.937338</td>\n",
              "      <td>0.745053</td>\n",
              "      <td>0.649519</td>\n",
              "    </tr>\n",
              "  </tbody>\n",
              "</table>\n",
              "<p>2 rows × 8326 columns</p>\n",
              "</div>\n",
              "      <button class=\"colab-df-convert\" onclick=\"convertToInteractive('df-f244dce3-518f-4009-a31f-db98db26c27d')\"\n",
              "              title=\"Convert this dataframe to an interactive table.\"\n",
              "              style=\"display:none;\">\n",
              "        \n",
              "  <svg xmlns=\"http://www.w3.org/2000/svg\" height=\"24px\"viewBox=\"0 0 24 24\"\n",
              "       width=\"24px\">\n",
              "    <path d=\"M0 0h24v24H0V0z\" fill=\"none\"/>\n",
              "    <path d=\"M18.56 5.44l.94 2.06.94-2.06 2.06-.94-2.06-.94-.94-2.06-.94 2.06-2.06.94zm-11 1L8.5 8.5l.94-2.06 2.06-.94-2.06-.94L8.5 2.5l-.94 2.06-2.06.94zm10 10l.94 2.06.94-2.06 2.06-.94-2.06-.94-.94-2.06-.94 2.06-2.06.94z\"/><path d=\"M17.41 7.96l-1.37-1.37c-.4-.4-.92-.59-1.43-.59-.52 0-1.04.2-1.43.59L10.3 9.45l-7.72 7.72c-.78.78-.78 2.05 0 2.83L4 21.41c.39.39.9.59 1.41.59.51 0 1.02-.2 1.41-.59l7.78-7.78 2.81-2.81c.8-.78.8-2.07 0-2.86zM5.41 20L4 18.59l7.72-7.72 1.47 1.35L5.41 20z\"/>\n",
              "  </svg>\n",
              "      </button>\n",
              "      \n",
              "  <style>\n",
              "    .colab-df-container {\n",
              "      display:flex;\n",
              "      flex-wrap:wrap;\n",
              "      gap: 12px;\n",
              "    }\n",
              "\n",
              "    .colab-df-convert {\n",
              "      background-color: #E8F0FE;\n",
              "      border: none;\n",
              "      border-radius: 50%;\n",
              "      cursor: pointer;\n",
              "      display: none;\n",
              "      fill: #1967D2;\n",
              "      height: 32px;\n",
              "      padding: 0 0 0 0;\n",
              "      width: 32px;\n",
              "    }\n",
              "\n",
              "    .colab-df-convert:hover {\n",
              "      background-color: #E2EBFA;\n",
              "      box-shadow: 0px 1px 2px rgba(60, 64, 67, 0.3), 0px 1px 3px 1px rgba(60, 64, 67, 0.15);\n",
              "      fill: #174EA6;\n",
              "    }\n",
              "\n",
              "    [theme=dark] .colab-df-convert {\n",
              "      background-color: #3B4455;\n",
              "      fill: #D2E3FC;\n",
              "    }\n",
              "\n",
              "    [theme=dark] .colab-df-convert:hover {\n",
              "      background-color: #434B5C;\n",
              "      box-shadow: 0px 1px 3px 1px rgba(0, 0, 0, 0.15);\n",
              "      filter: drop-shadow(0px 1px 2px rgba(0, 0, 0, 0.3));\n",
              "      fill: #FFFFFF;\n",
              "    }\n",
              "  </style>\n",
              "\n",
              "      <script>\n",
              "        const buttonEl =\n",
              "          document.querySelector('#df-f244dce3-518f-4009-a31f-db98db26c27d button.colab-df-convert');\n",
              "        buttonEl.style.display =\n",
              "          google.colab.kernel.accessAllowed ? 'block' : 'none';\n",
              "\n",
              "        async function convertToInteractive(key) {\n",
              "          const element = document.querySelector('#df-f244dce3-518f-4009-a31f-db98db26c27d');\n",
              "          const dataTable =\n",
              "            await google.colab.kernel.invokeFunction('convertToInteractive',\n",
              "                                                     [key], {});\n",
              "          if (!dataTable) return;\n",
              "\n",
              "          const docLinkHtml = 'Like what you see? Visit the ' +\n",
              "            '<a target=\"_blank\" href=https://colab.research.google.com/notebooks/data_table.ipynb>data table notebook</a>'\n",
              "            + ' to learn more about interactive tables.';\n",
              "          element.innerHTML = '';\n",
              "          dataTable['output_type'] = 'display_data';\n",
              "          await google.colab.output.renderOutput(dataTable, element);\n",
              "          const docLink = document.createElement('div');\n",
              "          docLink.innerHTML = docLinkHtml;\n",
              "          element.appendChild(docLink);\n",
              "        }\n",
              "      </script>\n",
              "    </div>\n",
              "  </div>\n",
              "  "
            ],
            "text/plain": [
              "LLAVE         CC10000437  CC1000047909  ...  CE643128  CE665912\n",
              "LLAVE                                   ...                    \n",
              "CC10000437      1.000000      0.900149  ...  0.721605  0.472456\n",
              "CC1000047909    0.900149      1.000000  ...  0.745053  0.649519\n",
              "\n",
              "[2 rows x 8326 columns]"
            ]
          },
          "metadata": {},
          "execution_count": 64
        }
      ]
    },
    {
      "cell_type": "code",
      "source": [
        "def modelo_media_ponderada_K2(llave, categoria_id):\n",
        "\n",
        "  #Validamos si la categoría existe en la matriz\n",
        "  if categoria_id in matriz_cal_K2:\n",
        "\n",
        "    #Obtenemos los scores de similitud del cliente analizado y todos los demás\n",
        "    scores = similarity_K2[llave]\n",
        "\n",
        "    #Obtenemos las tasas de los clientes de la categoría buscada\n",
        "    ratings = matriz_cal_K2[categoria_id]\n",
        "\n",
        "    #Identificamos todos los missing values de la serie ratings\n",
        "    indices = ratings[ratings.isnull()].index\n",
        "\n",
        "    #Eliminamos todos los missing values de la serie ratings\n",
        "    ratings = ratings.dropna()\n",
        "\n",
        "    #Eliminamos los scores de similitud correspondientes a los clientes con missing values\n",
        "    scores = scores.drop(indices)\n",
        "\n",
        "    #Calculamos la media ponderada\n",
        "    tasa_promedio_ponderada = np.dot(scores, ratings) / scores.sum() \n",
        "\n",
        "  else:\n",
        "    tasa_promedio_ponderada = 3\n",
        "\n",
        "  return tasa_promedio_ponderada"
      ],
      "metadata": {
        "id": "QQ8r0sPAwgn7"
      },
      "execution_count": null,
      "outputs": []
    },
    {
      "cell_type": "code",
      "source": [
        "score(modelo_media_ponderada_K2)"
      ],
      "metadata": {
        "colab": {
          "base_uri": "https://localhost:8080/"
        },
        "outputId": "d0dcd1f5-2e6a-493e-d7e7-ea997f700558",
        "id": "sedTe96Cwgn8"
      },
      "execution_count": null,
      "outputs": [
        {
          "output_type": "execute_result",
          "data": {
            "text/plain": [
              "1.7886736796566534"
            ]
          },
          "metadata": {},
          "execution_count": 66
        }
      ]
    },
    {
      "cell_type": "markdown",
      "source": [
        "####**Cluster = 3**"
      ],
      "metadata": {
        "id": "xNKhHJguxW1T"
      }
    },
    {
      "cell_type": "code",
      "source": [
        "fichero_K3 = fichero_cluster[fichero_cluster['CLUSTER'] == 3]"
      ],
      "metadata": {
        "id": "sOTEMnavxW1U"
      },
      "execution_count": null,
      "outputs": []
    },
    {
      "cell_type": "code",
      "source": [
        "fichero_K3.head(2)"
      ],
      "metadata": {
        "colab": {
          "base_uri": "https://localhost:8080/",
          "height": 112
        },
        "outputId": "f3ffe52f-de13-4f56-c60b-2a6ca37165c5",
        "id": "RXJtEhPyxW1U"
      },
      "execution_count": null,
      "outputs": [
        {
          "output_type": "execute_result",
          "data": {
            "text/html": [
              "\n",
              "  <div id=\"df-2bcb488c-5058-4777-82d0-41fcde9fcf52\">\n",
              "    <div class=\"colab-df-container\">\n",
              "      <div>\n",
              "<style scoped>\n",
              "    .dataframe tbody tr th:only-of-type {\n",
              "        vertical-align: middle;\n",
              "    }\n",
              "\n",
              "    .dataframe tbody tr th {\n",
              "        vertical-align: top;\n",
              "    }\n",
              "\n",
              "    .dataframe thead th {\n",
              "        text-align: right;\n",
              "    }\n",
              "</style>\n",
              "<table border=\"1\" class=\"dataframe\">\n",
              "  <thead>\n",
              "    <tr style=\"text-align: right;\">\n",
              "      <th></th>\n",
              "      <th>LLAVE</th>\n",
              "      <th>CATEGORIA_ID</th>\n",
              "      <th>CALIFICACION</th>\n",
              "      <th>CLUSTER</th>\n",
              "    </tr>\n",
              "  </thead>\n",
              "  <tbody>\n",
              "    <tr>\n",
              "      <th>301</th>\n",
              "      <td>CC10064338</td>\n",
              "      <td>1</td>\n",
              "      <td>1</td>\n",
              "      <td>3</td>\n",
              "    </tr>\n",
              "    <tr>\n",
              "      <th>302</th>\n",
              "      <td>CC10064338</td>\n",
              "      <td>2</td>\n",
              "      <td>1</td>\n",
              "      <td>3</td>\n",
              "    </tr>\n",
              "  </tbody>\n",
              "</table>\n",
              "</div>\n",
              "      <button class=\"colab-df-convert\" onclick=\"convertToInteractive('df-2bcb488c-5058-4777-82d0-41fcde9fcf52')\"\n",
              "              title=\"Convert this dataframe to an interactive table.\"\n",
              "              style=\"display:none;\">\n",
              "        \n",
              "  <svg xmlns=\"http://www.w3.org/2000/svg\" height=\"24px\"viewBox=\"0 0 24 24\"\n",
              "       width=\"24px\">\n",
              "    <path d=\"M0 0h24v24H0V0z\" fill=\"none\"/>\n",
              "    <path d=\"M18.56 5.44l.94 2.06.94-2.06 2.06-.94-2.06-.94-.94-2.06-.94 2.06-2.06.94zm-11 1L8.5 8.5l.94-2.06 2.06-.94-2.06-.94L8.5 2.5l-.94 2.06-2.06.94zm10 10l.94 2.06.94-2.06 2.06-.94-2.06-.94-.94-2.06-.94 2.06-2.06.94z\"/><path d=\"M17.41 7.96l-1.37-1.37c-.4-.4-.92-.59-1.43-.59-.52 0-1.04.2-1.43.59L10.3 9.45l-7.72 7.72c-.78.78-.78 2.05 0 2.83L4 21.41c.39.39.9.59 1.41.59.51 0 1.02-.2 1.41-.59l7.78-7.78 2.81-2.81c.8-.78.8-2.07 0-2.86zM5.41 20L4 18.59l7.72-7.72 1.47 1.35L5.41 20z\"/>\n",
              "  </svg>\n",
              "      </button>\n",
              "      \n",
              "  <style>\n",
              "    .colab-df-container {\n",
              "      display:flex;\n",
              "      flex-wrap:wrap;\n",
              "      gap: 12px;\n",
              "    }\n",
              "\n",
              "    .colab-df-convert {\n",
              "      background-color: #E8F0FE;\n",
              "      border: none;\n",
              "      border-radius: 50%;\n",
              "      cursor: pointer;\n",
              "      display: none;\n",
              "      fill: #1967D2;\n",
              "      height: 32px;\n",
              "      padding: 0 0 0 0;\n",
              "      width: 32px;\n",
              "    }\n",
              "\n",
              "    .colab-df-convert:hover {\n",
              "      background-color: #E2EBFA;\n",
              "      box-shadow: 0px 1px 2px rgba(60, 64, 67, 0.3), 0px 1px 3px 1px rgba(60, 64, 67, 0.15);\n",
              "      fill: #174EA6;\n",
              "    }\n",
              "\n",
              "    [theme=dark] .colab-df-convert {\n",
              "      background-color: #3B4455;\n",
              "      fill: #D2E3FC;\n",
              "    }\n",
              "\n",
              "    [theme=dark] .colab-df-convert:hover {\n",
              "      background-color: #434B5C;\n",
              "      box-shadow: 0px 1px 3px 1px rgba(0, 0, 0, 0.15);\n",
              "      filter: drop-shadow(0px 1px 2px rgba(0, 0, 0, 0.3));\n",
              "      fill: #FFFFFF;\n",
              "    }\n",
              "  </style>\n",
              "\n",
              "      <script>\n",
              "        const buttonEl =\n",
              "          document.querySelector('#df-2bcb488c-5058-4777-82d0-41fcde9fcf52 button.colab-df-convert');\n",
              "        buttonEl.style.display =\n",
              "          google.colab.kernel.accessAllowed ? 'block' : 'none';\n",
              "\n",
              "        async function convertToInteractive(key) {\n",
              "          const element = document.querySelector('#df-2bcb488c-5058-4777-82d0-41fcde9fcf52');\n",
              "          const dataTable =\n",
              "            await google.colab.kernel.invokeFunction('convertToInteractive',\n",
              "                                                     [key], {});\n",
              "          if (!dataTable) return;\n",
              "\n",
              "          const docLinkHtml = 'Like what you see? Visit the ' +\n",
              "            '<a target=\"_blank\" href=https://colab.research.google.com/notebooks/data_table.ipynb>data table notebook</a>'\n",
              "            + ' to learn more about interactive tables.';\n",
              "          element.innerHTML = '';\n",
              "          dataTable['output_type'] = 'display_data';\n",
              "          await google.colab.output.renderOutput(dataTable, element);\n",
              "          const docLink = document.createElement('div');\n",
              "          docLink.innerHTML = docLinkHtml;\n",
              "          element.appendChild(docLink);\n",
              "        }\n",
              "      </script>\n",
              "    </div>\n",
              "  </div>\n",
              "  "
            ],
            "text/plain": [
              "          LLAVE  CATEGORIA_ID  CALIFICACION  CLUSTER\n",
              "301  CC10064338             1             1        3\n",
              "302  CC10064338             2             1        3"
            ]
          },
          "metadata": {},
          "execution_count": 68
        }
      ]
    },
    {
      "cell_type": "code",
      "source": [
        "fichero_K3.shape"
      ],
      "metadata": {
        "colab": {
          "base_uri": "https://localhost:8080/"
        },
        "outputId": "578bfdf7-5633-456a-8c50-6953874641f1",
        "id": "_-vyzchdxW1V"
      },
      "execution_count": null,
      "outputs": [
        {
          "output_type": "execute_result",
          "data": {
            "text/plain": [
              "(33485, 4)"
            ]
          },
          "metadata": {},
          "execution_count": 69
        }
      ]
    },
    {
      "cell_type": "code",
      "source": [
        "X = fichero_K3.copy()\n",
        "y = fichero_K3['LLAVE']"
      ],
      "metadata": {
        "id": "6wJIEkdfxW1V"
      },
      "execution_count": null,
      "outputs": []
    },
    {
      "cell_type": "code",
      "source": [
        "X_train, X_test, y_train, y_test = train_test_split(X, y, stratify = y, test_size = 0.2, random_state = 0)"
      ],
      "metadata": {
        "id": "pZgOM79CxW1W"
      },
      "execution_count": null,
      "outputs": []
    },
    {
      "cell_type": "code",
      "source": [
        "matriz_cal_K3 = X_train.pivot_table(values = 'CALIFICACION', index = 'LLAVE', columns = 'CATEGORIA_ID')"
      ],
      "metadata": {
        "id": "OxRAFqOGxW1W"
      },
      "execution_count": null,
      "outputs": []
    },
    {
      "cell_type": "code",
      "source": [
        "matriz_cal_K3_copia = matriz_cal_K3.copy().fillna(0)"
      ],
      "metadata": {
        "id": "8z0_wj99xW1W"
      },
      "execution_count": null,
      "outputs": []
    },
    {
      "cell_type": "code",
      "source": [
        "similarity_K3 = cosine_similarity(matriz_cal_K3_copia, matriz_cal_K3_copia)"
      ],
      "metadata": {
        "id": "uYRGp1n1xW1W"
      },
      "execution_count": null,
      "outputs": []
    },
    {
      "cell_type": "code",
      "source": [
        "similarity_K3 = pd.DataFrame(similarity_K3, index = matriz_cal_K3.index, columns = matriz_cal_K3.index)"
      ],
      "metadata": {
        "id": "GYsGGhCUxW1X"
      },
      "execution_count": null,
      "outputs": []
    },
    {
      "cell_type": "code",
      "source": [
        "similarity_K3.head(2)"
      ],
      "metadata": {
        "colab": {
          "base_uri": "https://localhost:8080/",
          "height": 237
        },
        "outputId": "3242c808-a040-4f8a-c17e-9b86b493f125",
        "id": "usFVCkmIxW1X"
      },
      "execution_count": null,
      "outputs": [
        {
          "output_type": "execute_result",
          "data": {
            "text/html": [
              "\n",
              "  <div id=\"df-525994cd-93e9-4ae5-9ac4-9f4fbfa33065\">\n",
              "    <div class=\"colab-df-container\">\n",
              "      <div>\n",
              "<style scoped>\n",
              "    .dataframe tbody tr th:only-of-type {\n",
              "        vertical-align: middle;\n",
              "    }\n",
              "\n",
              "    .dataframe tbody tr th {\n",
              "        vertical-align: top;\n",
              "    }\n",
              "\n",
              "    .dataframe thead th {\n",
              "        text-align: right;\n",
              "    }\n",
              "</style>\n",
              "<table border=\"1\" class=\"dataframe\">\n",
              "  <thead>\n",
              "    <tr style=\"text-align: right;\">\n",
              "      <th>LLAVE</th>\n",
              "      <th>CC10064338</th>\n",
              "      <th>CC10068791</th>\n",
              "      <th>CC10075762</th>\n",
              "      <th>CC10084469</th>\n",
              "      <th>CC10092860</th>\n",
              "      <th>CC10093787</th>\n",
              "      <th>CC10101253</th>\n",
              "      <th>CC10102604</th>\n",
              "      <th>CC10103797</th>\n",
              "      <th>CC10163988</th>\n",
              "      <th>CC10210263</th>\n",
              "      <th>CC10214315</th>\n",
              "      <th>CC10216571</th>\n",
              "      <th>CC10218850</th>\n",
              "      <th>CC10222230</th>\n",
              "      <th>CC10225368</th>\n",
              "      <th>CC10225566</th>\n",
              "      <th>CC10225809</th>\n",
              "      <th>CC10227160</th>\n",
              "      <th>CC10227341</th>\n",
              "      <th>CC10227500</th>\n",
              "      <th>CC10227720</th>\n",
              "      <th>CC10228018</th>\n",
              "      <th>CC10228890</th>\n",
              "      <th>CC10229062</th>\n",
              "      <th>CC10229094</th>\n",
              "      <th>CC10229105</th>\n",
              "      <th>CC10229289</th>\n",
              "      <th>CC10229334</th>\n",
              "      <th>CC10229405</th>\n",
              "      <th>CC10232259</th>\n",
              "      <th>CC10232580</th>\n",
              "      <th>CC10232679</th>\n",
              "      <th>CC10232934</th>\n",
              "      <th>CC10233950</th>\n",
              "      <th>CC10234198</th>\n",
              "      <th>CC10234239</th>\n",
              "      <th>CC10234421</th>\n",
              "      <th>CC10234724</th>\n",
              "      <th>CC10235001</th>\n",
              "      <th>...</th>\n",
              "      <th>CC94398113</th>\n",
              "      <th>CC94428858</th>\n",
              "      <th>CC94505739</th>\n",
              "      <th>CC94507583</th>\n",
              "      <th>CC94526448</th>\n",
              "      <th>CC9505516</th>\n",
              "      <th>CC9516756</th>\n",
              "      <th>CC9517177</th>\n",
              "      <th>CC9517686</th>\n",
              "      <th>CC9519263</th>\n",
              "      <th>CC9519750</th>\n",
              "      <th>CC9520020</th>\n",
              "      <th>CC9520784</th>\n",
              "      <th>CC9521662</th>\n",
              "      <th>CC9523100</th>\n",
              "      <th>CC9524407</th>\n",
              "      <th>CC9527541</th>\n",
              "      <th>CC9600064</th>\n",
              "      <th>CC9696261</th>\n",
              "      <th>CC97601305</th>\n",
              "      <th>CC9760476</th>\n",
              "      <th>CC9760747</th>\n",
              "      <th>CC9762901</th>\n",
              "      <th>CC9775117</th>\n",
              "      <th>CC9775257</th>\n",
              "      <th>CC9778003</th>\n",
              "      <th>CC9779183</th>\n",
              "      <th>CC9779590</th>\n",
              "      <th>CC98322181</th>\n",
              "      <th>CC98322484</th>\n",
              "      <th>CC9855279</th>\n",
              "      <th>CC9891076</th>\n",
              "      <th>CC9990101</th>\n",
              "      <th>CE116905</th>\n",
              "      <th>CE132030</th>\n",
              "      <th>CE139623</th>\n",
              "      <th>CE144075</th>\n",
              "      <th>CE156996</th>\n",
              "      <th>CE207704</th>\n",
              "      <th>CE284150</th>\n",
              "    </tr>\n",
              "    <tr>\n",
              "      <th>LLAVE</th>\n",
              "      <th></th>\n",
              "      <th></th>\n",
              "      <th></th>\n",
              "      <th></th>\n",
              "      <th></th>\n",
              "      <th></th>\n",
              "      <th></th>\n",
              "      <th></th>\n",
              "      <th></th>\n",
              "      <th></th>\n",
              "      <th></th>\n",
              "      <th></th>\n",
              "      <th></th>\n",
              "      <th></th>\n",
              "      <th></th>\n",
              "      <th></th>\n",
              "      <th></th>\n",
              "      <th></th>\n",
              "      <th></th>\n",
              "      <th></th>\n",
              "      <th></th>\n",
              "      <th></th>\n",
              "      <th></th>\n",
              "      <th></th>\n",
              "      <th></th>\n",
              "      <th></th>\n",
              "      <th></th>\n",
              "      <th></th>\n",
              "      <th></th>\n",
              "      <th></th>\n",
              "      <th></th>\n",
              "      <th></th>\n",
              "      <th></th>\n",
              "      <th></th>\n",
              "      <th></th>\n",
              "      <th></th>\n",
              "      <th></th>\n",
              "      <th></th>\n",
              "      <th></th>\n",
              "      <th></th>\n",
              "      <th></th>\n",
              "      <th></th>\n",
              "      <th></th>\n",
              "      <th></th>\n",
              "      <th></th>\n",
              "      <th></th>\n",
              "      <th></th>\n",
              "      <th></th>\n",
              "      <th></th>\n",
              "      <th></th>\n",
              "      <th></th>\n",
              "      <th></th>\n",
              "      <th></th>\n",
              "      <th></th>\n",
              "      <th></th>\n",
              "      <th></th>\n",
              "      <th></th>\n",
              "      <th></th>\n",
              "      <th></th>\n",
              "      <th></th>\n",
              "      <th></th>\n",
              "      <th></th>\n",
              "      <th></th>\n",
              "      <th></th>\n",
              "      <th></th>\n",
              "      <th></th>\n",
              "      <th></th>\n",
              "      <th></th>\n",
              "      <th></th>\n",
              "      <th></th>\n",
              "      <th></th>\n",
              "      <th></th>\n",
              "      <th></th>\n",
              "      <th></th>\n",
              "      <th></th>\n",
              "      <th></th>\n",
              "      <th></th>\n",
              "      <th></th>\n",
              "      <th></th>\n",
              "      <th></th>\n",
              "      <th></th>\n",
              "    </tr>\n",
              "  </thead>\n",
              "  <tbody>\n",
              "    <tr>\n",
              "      <th>CC10064338</th>\n",
              "      <td>1.000000</td>\n",
              "      <td>0.886186</td>\n",
              "      <td>0.265165</td>\n",
              "      <td>0.711512</td>\n",
              "      <td>0.825137</td>\n",
              "      <td>0.510310</td>\n",
              "      <td>0.646774</td>\n",
              "      <td>0.364662</td>\n",
              "      <td>0.870658</td>\n",
              "      <td>0.338358</td>\n",
              "      <td>0.768350</td>\n",
              "      <td>0.621898</td>\n",
              "      <td>0.593391</td>\n",
              "      <td>1.000000</td>\n",
              "      <td>0.782624</td>\n",
              "      <td>0.601041</td>\n",
              "      <td>0.879192</td>\n",
              "      <td>0.484237</td>\n",
              "      <td>0.447214</td>\n",
              "      <td>0.447214</td>\n",
              "      <td>0.729325</td>\n",
              "      <td>0.782624</td>\n",
              "      <td>0.782624</td>\n",
              "      <td>0.782624</td>\n",
              "      <td>0.782624</td>\n",
              "      <td>0.641390</td>\n",
              "      <td>0.514805</td>\n",
              "      <td>0.693375</td>\n",
              "      <td>0.663738</td>\n",
              "      <td>0.489956</td>\n",
              "      <td>0.335410</td>\n",
              "      <td>0.614919</td>\n",
              "      <td>0.728869</td>\n",
              "      <td>0.782624</td>\n",
              "      <td>0.588348</td>\n",
              "      <td>0.746278</td>\n",
              "      <td>0.559017</td>\n",
              "      <td>0.782624</td>\n",
              "      <td>0.530330</td>\n",
              "      <td>0.670820</td>\n",
              "      <td>...</td>\n",
              "      <td>0.616496</td>\n",
              "      <td>0.683763</td>\n",
              "      <td>0.593750</td>\n",
              "      <td>0.324967</td>\n",
              "      <td>0.443093</td>\n",
              "      <td>0.412082</td>\n",
              "      <td>0.698696</td>\n",
              "      <td>0.952501</td>\n",
              "      <td>0.447214</td>\n",
              "      <td>0.746278</td>\n",
              "      <td>0.510662</td>\n",
              "      <td>0.599479</td>\n",
              "      <td>0.447214</td>\n",
              "      <td>0.782624</td>\n",
              "      <td>0.914991</td>\n",
              "      <td>0.729800</td>\n",
              "      <td>0.593391</td>\n",
              "      <td>0.474342</td>\n",
              "      <td>0.771154</td>\n",
              "      <td>0.765791</td>\n",
              "      <td>0.774070</td>\n",
              "      <td>0.782624</td>\n",
              "      <td>0.753778</td>\n",
              "      <td>0.894427</td>\n",
              "      <td>0.530330</td>\n",
              "      <td>0.490990</td>\n",
              "      <td>0.812417</td>\n",
              "      <td>0.802955</td>\n",
              "      <td>0.904194</td>\n",
              "      <td>0.742781</td>\n",
              "      <td>0.753778</td>\n",
              "      <td>0.510662</td>\n",
              "      <td>0.670820</td>\n",
              "      <td>0.795495</td>\n",
              "      <td>0.724368</td>\n",
              "      <td>0.486136</td>\n",
              "      <td>0.583460</td>\n",
              "      <td>0.626722</td>\n",
              "      <td>0.683763</td>\n",
              "      <td>0.272853</td>\n",
              "    </tr>\n",
              "    <tr>\n",
              "      <th>CC10068791</th>\n",
              "      <td>0.886186</td>\n",
              "      <td>1.000000</td>\n",
              "      <td>0.294884</td>\n",
              "      <td>0.824226</td>\n",
              "      <td>0.602185</td>\n",
              "      <td>0.468191</td>\n",
              "      <td>0.622439</td>\n",
              "      <td>0.364979</td>\n",
              "      <td>0.829918</td>\n",
              "      <td>0.403157</td>\n",
              "      <td>0.846835</td>\n",
              "      <td>0.746927</td>\n",
              "      <td>0.494922</td>\n",
              "      <td>0.886186</td>\n",
              "      <td>0.652753</td>\n",
              "      <td>0.324372</td>\n",
              "      <td>0.758583</td>\n",
              "      <td>0.421442</td>\n",
              "      <td>0.512878</td>\n",
              "      <td>0.373002</td>\n",
              "      <td>0.699544</td>\n",
              "      <td>0.746004</td>\n",
              "      <td>0.839254</td>\n",
              "      <td>0.746004</td>\n",
              "      <td>0.746004</td>\n",
              "      <td>0.815171</td>\n",
              "      <td>0.572503</td>\n",
              "      <td>0.896388</td>\n",
              "      <td>0.683854</td>\n",
              "      <td>0.502956</td>\n",
              "      <td>0.373002</td>\n",
              "      <td>0.489565</td>\n",
              "      <td>0.679439</td>\n",
              "      <td>0.839254</td>\n",
              "      <td>0.654289</td>\n",
              "      <td>0.622439</td>\n",
              "      <td>0.466252</td>\n",
              "      <td>0.839254</td>\n",
              "      <td>0.552907</td>\n",
              "      <td>0.746004</td>\n",
              "      <td>...</td>\n",
              "      <td>0.445634</td>\n",
              "      <td>0.475248</td>\n",
              "      <td>0.469157</td>\n",
              "      <td>0.425922</td>\n",
              "      <td>0.500000</td>\n",
              "      <td>0.343700</td>\n",
              "      <td>0.514193</td>\n",
              "      <td>0.873885</td>\n",
              "      <td>0.466252</td>\n",
              "      <td>0.829918</td>\n",
              "      <td>0.503362</td>\n",
              "      <td>0.413043</td>\n",
              "      <td>0.373002</td>\n",
              "      <td>0.746004</td>\n",
              "      <td>0.890348</td>\n",
              "      <td>0.608696</td>\n",
              "      <td>0.643399</td>\n",
              "      <td>0.362659</td>\n",
              "      <td>0.829918</td>\n",
              "      <td>0.669129</td>\n",
              "      <td>0.737851</td>\n",
              "      <td>0.559503</td>\n",
              "      <td>0.880172</td>\n",
              "      <td>0.746004</td>\n",
              "      <td>0.663489</td>\n",
              "      <td>0.500517</td>\n",
              "      <td>0.755043</td>\n",
              "      <td>0.765384</td>\n",
              "      <td>0.856989</td>\n",
              "      <td>0.793763</td>\n",
              "      <td>0.722999</td>\n",
              "      <td>0.503362</td>\n",
              "      <td>0.559503</td>\n",
              "      <td>0.884652</td>\n",
              "      <td>0.699559</td>\n",
              "      <td>0.368605</td>\n",
              "      <td>0.638714</td>\n",
              "      <td>0.503362</td>\n",
              "      <td>0.570298</td>\n",
              "      <td>0.480436</td>\n",
              "    </tr>\n",
              "  </tbody>\n",
              "</table>\n",
              "<p>2 rows × 5141 columns</p>\n",
              "</div>\n",
              "      <button class=\"colab-df-convert\" onclick=\"convertToInteractive('df-525994cd-93e9-4ae5-9ac4-9f4fbfa33065')\"\n",
              "              title=\"Convert this dataframe to an interactive table.\"\n",
              "              style=\"display:none;\">\n",
              "        \n",
              "  <svg xmlns=\"http://www.w3.org/2000/svg\" height=\"24px\"viewBox=\"0 0 24 24\"\n",
              "       width=\"24px\">\n",
              "    <path d=\"M0 0h24v24H0V0z\" fill=\"none\"/>\n",
              "    <path d=\"M18.56 5.44l.94 2.06.94-2.06 2.06-.94-2.06-.94-.94-2.06-.94 2.06-2.06.94zm-11 1L8.5 8.5l.94-2.06 2.06-.94-2.06-.94L8.5 2.5l-.94 2.06-2.06.94zm10 10l.94 2.06.94-2.06 2.06-.94-2.06-.94-.94-2.06-.94 2.06-2.06.94z\"/><path d=\"M17.41 7.96l-1.37-1.37c-.4-.4-.92-.59-1.43-.59-.52 0-1.04.2-1.43.59L10.3 9.45l-7.72 7.72c-.78.78-.78 2.05 0 2.83L4 21.41c.39.39.9.59 1.41.59.51 0 1.02-.2 1.41-.59l7.78-7.78 2.81-2.81c.8-.78.8-2.07 0-2.86zM5.41 20L4 18.59l7.72-7.72 1.47 1.35L5.41 20z\"/>\n",
              "  </svg>\n",
              "      </button>\n",
              "      \n",
              "  <style>\n",
              "    .colab-df-container {\n",
              "      display:flex;\n",
              "      flex-wrap:wrap;\n",
              "      gap: 12px;\n",
              "    }\n",
              "\n",
              "    .colab-df-convert {\n",
              "      background-color: #E8F0FE;\n",
              "      border: none;\n",
              "      border-radius: 50%;\n",
              "      cursor: pointer;\n",
              "      display: none;\n",
              "      fill: #1967D2;\n",
              "      height: 32px;\n",
              "      padding: 0 0 0 0;\n",
              "      width: 32px;\n",
              "    }\n",
              "\n",
              "    .colab-df-convert:hover {\n",
              "      background-color: #E2EBFA;\n",
              "      box-shadow: 0px 1px 2px rgba(60, 64, 67, 0.3), 0px 1px 3px 1px rgba(60, 64, 67, 0.15);\n",
              "      fill: #174EA6;\n",
              "    }\n",
              "\n",
              "    [theme=dark] .colab-df-convert {\n",
              "      background-color: #3B4455;\n",
              "      fill: #D2E3FC;\n",
              "    }\n",
              "\n",
              "    [theme=dark] .colab-df-convert:hover {\n",
              "      background-color: #434B5C;\n",
              "      box-shadow: 0px 1px 3px 1px rgba(0, 0, 0, 0.15);\n",
              "      filter: drop-shadow(0px 1px 2px rgba(0, 0, 0, 0.3));\n",
              "      fill: #FFFFFF;\n",
              "    }\n",
              "  </style>\n",
              "\n",
              "      <script>\n",
              "        const buttonEl =\n",
              "          document.querySelector('#df-525994cd-93e9-4ae5-9ac4-9f4fbfa33065 button.colab-df-convert');\n",
              "        buttonEl.style.display =\n",
              "          google.colab.kernel.accessAllowed ? 'block' : 'none';\n",
              "\n",
              "        async function convertToInteractive(key) {\n",
              "          const element = document.querySelector('#df-525994cd-93e9-4ae5-9ac4-9f4fbfa33065');\n",
              "          const dataTable =\n",
              "            await google.colab.kernel.invokeFunction('convertToInteractive',\n",
              "                                                     [key], {});\n",
              "          if (!dataTable) return;\n",
              "\n",
              "          const docLinkHtml = 'Like what you see? Visit the ' +\n",
              "            '<a target=\"_blank\" href=https://colab.research.google.com/notebooks/data_table.ipynb>data table notebook</a>'\n",
              "            + ' to learn more about interactive tables.';\n",
              "          element.innerHTML = '';\n",
              "          dataTable['output_type'] = 'display_data';\n",
              "          await google.colab.output.renderOutput(dataTable, element);\n",
              "          const docLink = document.createElement('div');\n",
              "          docLink.innerHTML = docLinkHtml;\n",
              "          element.appendChild(docLink);\n",
              "        }\n",
              "      </script>\n",
              "    </div>\n",
              "  </div>\n",
              "  "
            ],
            "text/plain": [
              "LLAVE       CC10064338  CC10068791  CC10075762  ...  CE156996  CE207704  CE284150\n",
              "LLAVE                                           ...                              \n",
              "CC10064338    1.000000    0.886186    0.265165  ...  0.626722  0.683763  0.272853\n",
              "CC10068791    0.886186    1.000000    0.294884  ...  0.503362  0.570298  0.480436\n",
              "\n",
              "[2 rows x 5141 columns]"
            ]
          },
          "metadata": {},
          "execution_count": 76
        }
      ]
    },
    {
      "cell_type": "code",
      "source": [
        "def modelo_media_ponderada_K3(llave, categoria_id):\n",
        "\n",
        "  #Validamos si la categoría existe en la matriz\n",
        "  if categoria_id in matriz_cal_K3:\n",
        "\n",
        "    #Obtenemos los scores de similitud del cliente analizado y todos los demás\n",
        "    scores = similarity_K3[llave]\n",
        "\n",
        "    #Obtenemos las tasas de los clientes de la categoría buscada\n",
        "    ratings = matriz_cal_K3[categoria_id]\n",
        "\n",
        "    #Identificamos todos los missing values de la serie ratings\n",
        "    indices = ratings[ratings.isnull()].index\n",
        "\n",
        "    #Eliminamos todos los missing values de la serie ratings\n",
        "    ratings = ratings.dropna()\n",
        "\n",
        "    #Eliminamos los scores de similitud correspondientes a los clientes con missing values\n",
        "    scores = scores.drop(indices)\n",
        "\n",
        "    #Calculamos la media ponderada\n",
        "    tasa_promedio_ponderada = np.dot(scores, ratings) / scores.sum() \n",
        "\n",
        "  else:\n",
        "    tasa_promedio_ponderada = 3\n",
        "\n",
        "  return tasa_promedio_ponderada"
      ],
      "metadata": {
        "id": "7kCUKITFxW1X"
      },
      "execution_count": null,
      "outputs": []
    },
    {
      "cell_type": "code",
      "source": [
        "score(modelo_media_ponderada_K3)"
      ],
      "metadata": {
        "colab": {
          "base_uri": "https://localhost:8080/"
        },
        "outputId": "c81d9805-b853-4046-bc1c-5e8355156747",
        "id": "rRI7Zly3xW1Y"
      },
      "execution_count": null,
      "outputs": [
        {
          "output_type": "execute_result",
          "data": {
            "text/plain": [
              "1.7722943949446586"
            ]
          },
          "metadata": {},
          "execution_count": 78
        }
      ]
    },
    {
      "cell_type": "markdown",
      "source": [
        "#**Construcción y evaluación Modelos Libreria Surprise**"
      ],
      "metadata": {
        "id": "XwAlnkOq0Vhp"
      }
    },
    {
      "cell_type": "markdown",
      "source": [
        "Finalmente vamos a instalar y utilizar el paquete surprise que por definición es la libreria especializada en recommended systems"
      ],
      "metadata": {
        "id": "zJ4Yey0H2eri"
      }
    },
    {
      "cell_type": "code",
      "source": [
        "!pip install surprise"
      ],
      "metadata": {
        "colab": {
          "base_uri": "https://localhost:8080/"
        },
        "id": "YeX5j5Np0Us9",
        "outputId": "2c1a2930-2b84-4a40-c22e-da3112476f39"
      },
      "execution_count": null,
      "outputs": [
        {
          "output_type": "stream",
          "name": "stdout",
          "text": [
            "Collecting surprise\n",
            "  Downloading surprise-0.1-py2.py3-none-any.whl (1.8 kB)\n",
            "Collecting scikit-surprise\n",
            "  Downloading scikit-surprise-1.1.1.tar.gz (11.8 MB)\n",
            "\u001b[K     |████████████████████████████████| 11.8 MB 7.1 MB/s \n",
            "\u001b[?25hRequirement already satisfied: joblib>=0.11 in /usr/local/lib/python3.7/dist-packages (from scikit-surprise->surprise) (1.1.0)\n",
            "Requirement already satisfied: numpy>=1.11.2 in /usr/local/lib/python3.7/dist-packages (from scikit-surprise->surprise) (1.19.5)\n",
            "Requirement already satisfied: scipy>=1.0.0 in /usr/local/lib/python3.7/dist-packages (from scikit-surprise->surprise) (1.4.1)\n",
            "Requirement already satisfied: six>=1.10.0 in /usr/local/lib/python3.7/dist-packages (from scikit-surprise->surprise) (1.15.0)\n",
            "Building wheels for collected packages: scikit-surprise\n",
            "  Building wheel for scikit-surprise (setup.py) ... \u001b[?25l\u001b[?25hdone\n",
            "  Created wheel for scikit-surprise: filename=scikit_surprise-1.1.1-cp37-cp37m-linux_x86_64.whl size=1623295 sha256=713ca5a546ab56f2d36aac036f8ef39d7d5c8a08c2bf39ceccefe5be04f34e60\n",
            "  Stored in directory: /root/.cache/pip/wheels/76/44/74/b498c42be47b2406bd27994e16c5188e337c657025ab400c1c\n",
            "Successfully built scikit-surprise\n",
            "Installing collected packages: scikit-surprise, surprise\n",
            "Successfully installed scikit-surprise-1.1.1 surprise-0.1\n"
          ]
        }
      ]
    },
    {
      "cell_type": "code",
      "source": [
        "from surprise import Reader, Dataset, KNNBasic, SVD\n",
        "from surprise.model_selection import cross_validate"
      ],
      "metadata": {
        "id": "5tZH_O192WH2"
      },
      "execution_count": null,
      "outputs": []
    },
    {
      "cell_type": "markdown",
      "source": [
        ""
      ],
      "metadata": {
        "id": "TyZgZYmh7QdO"
      }
    },
    {
      "cell_type": "code",
      "source": [
        "conteo_Knn = matriz_reducida.groupby('LLAVE').count()\n",
        "conteo_Knn = conteo_Knn.sort_values(by = 'CATEGORIA_ID', axis = 0, ascending = False)\n",
        "conteo_Knn"
      ],
      "metadata": {
        "id": "VP30Pksk9TBS"
      },
      "execution_count": null,
      "outputs": []
    },
    {
      "cell_type": "code",
      "source": [
        "lista_hiper_top = conteo_Knn[0:13000]\n",
        "lista_hiper_top = lista_hiper_top.reset_index()\n",
        "lista_hiper_top = lista_hiper_top[['LLAVE']]\n",
        "len(lista_hiper_top)"
      ],
      "metadata": {
        "colab": {
          "base_uri": "https://localhost:8080/"
        },
        "outputId": "c661f768-bafa-479e-e6dc-68a632d447e9",
        "id": "3OuwE-hi-DSz"
      },
      "execution_count": null,
      "outputs": [
        {
          "output_type": "execute_result",
          "data": {
            "text/plain": [
              "13000"
            ]
          },
          "metadata": {},
          "execution_count": 16
        }
      ]
    },
    {
      "cell_type": "code",
      "source": [
        "#Para esta evaluación tomaremos como referencia a los 13 mil clientes con mayor \n",
        "#número de interacciones\n",
        "matriz_hiper_reducida = pd.merge(matriz_reducida, lista_hiper_top, on = 'LLAVE', how = 'inner')"
      ],
      "metadata": {
        "id": "sfGOPD2x-DS0"
      },
      "execution_count": null,
      "outputs": []
    },
    {
      "cell_type": "code",
      "source": [
        "matriz_hiper_reducida.shape"
      ],
      "metadata": {
        "colab": {
          "base_uri": "https://localhost:8080/"
        },
        "id": "OwwUdFxSnlkP",
        "outputId": "6ab5f2a0-55fb-4d6e-e20a-16dba107832e"
      },
      "execution_count": null,
      "outputs": [
        {
          "output_type": "execute_result",
          "data": {
            "text/plain": [
              "(85821, 3)"
            ]
          },
          "metadata": {},
          "execution_count": 18
        }
      ]
    },
    {
      "cell_type": "code",
      "source": [
        "#En esta librería todo es muy sencillo, simplemente se instancian los objetos\n",
        "#y se corre el sistema recomendador\n",
        "reader = Reader()\n",
        "\n",
        "data = Dataset.load_from_df(matriz_hiper_reducida, reader)\n",
        "\n",
        "Knn = KNNBasic()\n",
        "\n",
        "cross_validate(Knn, data, measures=['rmse'], cv = 2)"
      ],
      "metadata": {
        "colab": {
          "base_uri": "https://localhost:8080/"
        },
        "id": "W6HjDC3t3WtT",
        "outputId": "171282c4-3f7b-41d1-b72e-6f1243704b56"
      },
      "execution_count": null,
      "outputs": [
        {
          "output_type": "stream",
          "name": "stdout",
          "text": [
            "Computing the msd similarity matrix...\n",
            "Done computing similarity matrix.\n",
            "Computing the msd similarity matrix...\n",
            "Done computing similarity matrix.\n"
          ]
        },
        {
          "output_type": "execute_result",
          "data": {
            "text/plain": [
              "{'fit_time': (25.88408899307251, 23.37710928916931),\n",
              " 'test_rmse': array([1.5712897 , 1.55965309]),\n",
              " 'test_time': (210.28350639343262, 199.13392066955566)}"
            ]
          },
          "metadata": {},
          "execution_count": 13
        }
      ]
    },
    {
      "cell_type": "code",
      "source": [
        "#En esta librería todo es muy sencillo, simplemente se instancian los objetos\n",
        "#y se corre el sistema recomendador\n",
        "reader = Reader()\n",
        "\n",
        "data = Dataset.load_from_df(matriz_reducida, reader)\n",
        "\n",
        "svd = SVD()\n",
        "\n",
        "cross_validate(svd, data, measures=['rmse'], cv = 5)"
      ],
      "metadata": {
        "colab": {
          "base_uri": "https://localhost:8080/"
        },
        "id": "27W7idwn7R9I",
        "outputId": "7e122f18-504b-4c3f-8e8a-be33016cf966"
      },
      "execution_count": null,
      "outputs": [
        {
          "output_type": "execute_result",
          "data": {
            "text/plain": [
              "{'fit_time': (8.8258056640625,\n",
              "  8.241648435592651,\n",
              "  8.255877494812012,\n",
              "  8.188127756118774,\n",
              "  8.190804958343506),\n",
              " 'test_rmse': array([1.54592881, 1.54545143, 1.5486996 , 1.55326448, 1.54812732]),\n",
              " 'test_time': (0.4346761703491211,\n",
              "  0.29572439193725586,\n",
              "  0.4271693229675293,\n",
              "  0.47066831588745117,\n",
              "  0.4754157066345215)}"
            ]
          },
          "metadata": {},
          "execution_count": 6
        }
      ]
    }
  ]
}