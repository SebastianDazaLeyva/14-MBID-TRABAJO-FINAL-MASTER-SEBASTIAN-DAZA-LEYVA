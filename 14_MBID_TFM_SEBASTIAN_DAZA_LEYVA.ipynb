{
  "nbformat": 4,
  "nbformat_minor": 0,
  "metadata": {
    "colab": {
      "name": "14 MBID - TFM SEBASTIAN DAZA LEYVA.ipynb",
      "provenance": [],
      "collapsed_sections": [],
      "authorship_tag": "ABX9TyPa4Rj88Mq07FKpjRuuIIEG",
      "include_colab_link": true
    },
    "kernelspec": {
      "name": "python3",
      "display_name": "Python 3"
    },
    "language_info": {
      "name": "python"
    }
  },
  "cells": [
    {
      "cell_type": "markdown",
      "metadata": {
        "id": "view-in-github",
        "colab_type": "text"
      },
      "source": [
        "<a href=\"https://colab.research.google.com/github/SebastianDazaLeyva/14-MBID-TRABAJO-FINAL-MASTER-SEBASTIAN-DAZA-LEYVA/blob/main/14_MBID_TFM_SEBASTIAN_DAZA_LEYVA.ipynb\" target=\"_parent\"><img src=\"https://colab.research.google.com/assets/colab-badge.svg\" alt=\"Open In Colab\"/></a>"
      ]
    },
    {
      "cell_type": "markdown",
      "source": [
        "Este código se desarrollo en gran medida a partir de la gran explicación desarrollada por Rounak Banik en su libro Hands-On Recommendation Systems with Python : Start Building Powerful and Personalized, Recommendation Engines with Python"
      ],
      "metadata": {
        "id": "lHZcS_po_b1M"
      }
    },
    {
      "cell_type": "markdown",
      "source": [
        "#**Carga de librerias**"
      ],
      "metadata": {
        "id": "S38FTIisM_n5"
      }
    },
    {
      "cell_type": "markdown",
      "source": [
        "Cargamos las librerias que vamos a usar a lo largo del proyecto"
      ],
      "metadata": {
        "id": "UNLaQEtnZ_pi"
      }
    },
    {
      "cell_type": "code",
      "execution_count": null,
      "metadata": {
        "id": "dd0fsuRLZzjB"
      },
      "outputs": [],
      "source": [
        "#Carga conjunto de datos\n",
        "import io\n",
        "from google.colab import files\n",
        "\n",
        "#Administración DataFrames\n",
        "import pandas as pd\n",
        "import numpy as np\n",
        "import matplotlib.pyplot as plt\n",
        "\n",
        "#Implementación y evaluación Recommendation Systems\n",
        "from sklearn.model_selection import train_test_split\n",
        "from sklearn.metrics import mean_squared_error\n",
        "from sklearn.metrics.pairwise import cosine_similarity\n",
        "from sklearn.cluster import KMeans"
      ]
    },
    {
      "cell_type": "markdown",
      "source": [
        "#**Carga conjunto de datos**"
      ],
      "metadata": {
        "id": "D_3s8puINHrp"
      }
    },
    {
      "cell_type": "markdown",
      "source": [
        "**Cargamos los ficheros:**\n",
        "\n",
        "1. Entrega: Fichero con la información correspondiente a las entregas recibidas por cada cliente por cada categoría \n",
        "2. Apertura: Fichero con la infromación correspondiente a las aperturas realizadas por cada cliente por cada categoría\n",
        "\n"
      ],
      "metadata": {
        "id": "Zrlx23oEaFzh"
      }
    },
    {
      "cell_type": "markdown",
      "source": [
        "##**Carga, limpieza y consolidación fichero entrega**"
      ],
      "metadata": {
        "id": "2-3PyFa-XqfT"
      }
    },
    {
      "cell_type": "code",
      "source": [
        "uploaded = files.upload()"
      ],
      "metadata": {
        "id": "wlhcVNI0bTck"
      },
      "execution_count": null,
      "outputs": []
    },
    {
      "cell_type": "code",
      "source": [
        "entrega_mayo = pd.read_csv(io.BytesIO(uploaded['ENTREGA 31-05-2021 (Cargue 28-09-2021).csv']), sep = ';', encoding = 'latin-1')"
      ],
      "metadata": {
        "id": "TJFnRl-XbhWD"
      },
      "execution_count": null,
      "outputs": []
    },
    {
      "cell_type": "code",
      "source": [
        "entrega_junio = pd.read_csv(io.BytesIO(uploaded['ENTREGA 30-06-2021 (Cargue 28-09-2021).csv']), sep = ';', encoding = 'latin-1')"
      ],
      "metadata": {
        "id": "E6IpkXHrPZKO"
      },
      "execution_count": null,
      "outputs": []
    },
    {
      "cell_type": "code",
      "source": [
        "entrega_julio = pd.read_csv(io.BytesIO(uploaded['ENTREGA 31-07-2021 (Cargue 31-08-2021).csv']), sep = ';', encoding = 'latin-1')"
      ],
      "metadata": {
        "id": "0gDi3-s5PmGk"
      },
      "execution_count": null,
      "outputs": []
    },
    {
      "cell_type": "code",
      "source": [
        "entrega_agosto = pd.read_csv(io.BytesIO(uploaded['ENTREGA 31-08-2021 (Cargue 22-09-2021).csv']), sep = ';', encoding = 'latin-1')"
      ],
      "metadata": {
        "id": "9V9h-kzDPl9F"
      },
      "execution_count": null,
      "outputs": []
    },
    {
      "cell_type": "code",
      "source": [
        "entrega_septiembre = pd.read_csv(io.BytesIO(uploaded['ENTREGA 30-09-2021 (Cargue 22-10-2021).csv']), sep = ';', encoding = 'latin-1')"
      ],
      "metadata": {
        "id": "RDerqa8lRhYC"
      },
      "execution_count": null,
      "outputs": []
    },
    {
      "cell_type": "code",
      "source": [
        "entrega_octubre = pd.read_csv(io.BytesIO(uploaded['ENTREGA 31-10-2021 (Cargue 29-11-2021).csv']), sep = ';', encoding = 'latin-1')"
      ],
      "metadata": {
        "id": "JDVKBd2sRhJ8"
      },
      "execution_count": null,
      "outputs": []
    },
    {
      "cell_type": "code",
      "source": [
        "entrega_noviembre = pd.read_csv(io.BytesIO(uploaded['ENTREGA 30-11-2021 (Cargue 22-12-2021).csv']), sep = ';', encoding = 'latin-1')"
      ],
      "metadata": {
        "id": "M4LvN4yCRhBS"
      },
      "execution_count": null,
      "outputs": []
    },
    {
      "cell_type": "markdown",
      "source": [
        "Consolidamos los diferentes archivos de entrega en un solo dataframe para su futura manipulación"
      ],
      "metadata": {
        "id": "8il5Y5M5WE29"
      }
    },
    {
      "cell_type": "code",
      "source": [
        "ficheros_entrega = [entrega_mayo, entrega_junio, entrega_julio, entrega_agosto,\n",
        "            entrega_septiembre, entrega_octubre, entrega_noviembre]"
      ],
      "metadata": {
        "id": "jk4F-M6VRg46"
      },
      "execution_count": null,
      "outputs": []
    },
    {
      "cell_type": "code",
      "source": [
        "entrega_global = pd.concat(ficheros_entrega)"
      ],
      "metadata": {
        "id": "RJ0cMyO-WNSJ"
      },
      "execution_count": null,
      "outputs": []
    },
    {
      "cell_type": "code",
      "source": [
        "entrega_global.head(5)"
      ],
      "metadata": {
        "id": "m4rk6Be9WNPf"
      },
      "execution_count": null,
      "outputs": []
    },
    {
      "cell_type": "code",
      "source": [
        "entrega_global.shape"
      ],
      "metadata": {
        "colab": {
          "base_uri": "https://localhost:8080/"
        },
        "id": "Q2DnumphXfOD",
        "outputId": "5dd32b93-ce07-48c6-9cd6-ddc03c9b48a2"
      },
      "execution_count": null,
      "outputs": [
        {
          "output_type": "execute_result",
          "data": {
            "text/plain": [
              "(4428103, 28)"
            ]
          },
          "metadata": {},
          "execution_count": 20
        }
      ]
    },
    {
      "cell_type": "code",
      "source": [
        "entrega_global.to_csv('ENTREGA_CONSOLIDADO.csv')"
      ],
      "metadata": {
        "id": "8zm9hlOvY4l8"
      },
      "execution_count": null,
      "outputs": []
    },
    {
      "cell_type": "code",
      "source": [
        "files.download('ENTREGA_CONSOLIDADO.csv')"
      ],
      "metadata": {
        "id": "LYc5zifBZumF"
      },
      "execution_count": null,
      "outputs": []
    },
    {
      "cell_type": "markdown",
      "source": [
        "Seleccionamos las variables de interés para el proyecto"
      ],
      "metadata": {
        "id": "wd7E7hfMXHpE"
      }
    },
    {
      "cell_type": "code",
      "source": [
        "entrega = entrega_global[['LLAVE', 'EVENTO', 'CALENDARIO', 'PRODUCTO', 'CANALES', 'INFORMATIVA','COMERCIAL_POLIZA', 'COMERCIAL_SERVICIOS']]"
      ],
      "metadata": {
        "id": "atOamnwliI3S"
      },
      "execution_count": null,
      "outputs": []
    },
    {
      "cell_type": "code",
      "source": [
        "entrega.head(5)"
      ],
      "metadata": {
        "id": "p4rgm296avlz"
      },
      "execution_count": null,
      "outputs": []
    },
    {
      "cell_type": "code",
      "source": [
        "entrega.shape"
      ],
      "metadata": {
        "id": "CIlPj62GkkpP"
      },
      "execution_count": null,
      "outputs": []
    },
    {
      "cell_type": "markdown",
      "source": [
        "Agrupamos por cliente y sumamos el número de comunicaciones que ha recibido por cada actegoría"
      ],
      "metadata": {
        "id": "vYSZ6izaa7eX"
      }
    },
    {
      "cell_type": "code",
      "source": [
        "entrega_final = entrega.groupby(['LLAVE']).sum()"
      ],
      "metadata": {
        "id": "wiA_EwX6bGIC"
      },
      "execution_count": null,
      "outputs": []
    },
    {
      "cell_type": "code",
      "source": [
        "entrega_final.shape"
      ],
      "metadata": {
        "id": "RyXIJSH3bQdr"
      },
      "execution_count": null,
      "outputs": []
    },
    {
      "cell_type": "code",
      "source": [
        "entrega_final.head(5)"
      ],
      "metadata": {
        "id": "p0pMvybkbQSb"
      },
      "execution_count": null,
      "outputs": []
    },
    {
      "cell_type": "code",
      "source": [
        "entrega_final.to_csv('ENTREGA_AGRUPADO.csv')"
      ],
      "metadata": {
        "id": "wSLZhnbdgEqj"
      },
      "execution_count": null,
      "outputs": []
    },
    {
      "cell_type": "code",
      "source": [
        "files.download('ENTREGA_AGRUPADO.csv')"
      ],
      "metadata": {
        "id": "wBOJd_jfgNep"
      },
      "execution_count": null,
      "outputs": []
    },
    {
      "cell_type": "markdown",
      "source": [
        "##**Carga, limpieza y consolidación fichero apertura**"
      ],
      "metadata": {
        "id": "eFYbQCj2gvRa"
      }
    },
    {
      "cell_type": "code",
      "source": [
        "uploaded = files.upload()"
      ],
      "metadata": {
        "id": "cUT4I678g2t-"
      },
      "execution_count": null,
      "outputs": []
    },
    {
      "cell_type": "code",
      "source": [
        "apertura_mayo = pd.read_csv(io.BytesIO(uploaded['APERTURA 31-05-2021 (Cargue 28-09-2021).csv']), sep = ';', encoding = 'latin-1')"
      ],
      "metadata": {
        "id": "NndPINkhZeX-"
      },
      "execution_count": null,
      "outputs": []
    },
    {
      "cell_type": "code",
      "source": [
        "apertura_junio = pd.read_csv(io.BytesIO(uploaded['APERTURA 30-06-2021 (Cargue 28-09-2021).csv']), sep = ';', encoding = 'latin-1')"
      ],
      "metadata": {
        "id": "EqNLbblrZ1zG"
      },
      "execution_count": null,
      "outputs": []
    },
    {
      "cell_type": "code",
      "source": [
        "apertura_julio = pd.read_csv(io.BytesIO(uploaded['APERTURA 31-07-2021 (Cargue 31-08-2021).csv']), sep = ';', encoding = 'latin-1')"
      ],
      "metadata": {
        "id": "Q4-1eUVWZ1om"
      },
      "execution_count": null,
      "outputs": []
    },
    {
      "cell_type": "code",
      "source": [
        "apertura_agosto = pd.read_csv(io.BytesIO(uploaded['APERTURA 31-08-2021 (Cargue 22-09-2021).csv']), sep = ';', encoding = 'latin-1')"
      ],
      "metadata": {
        "id": "BX6qPB9NZ1dv"
      },
      "execution_count": null,
      "outputs": []
    },
    {
      "cell_type": "code",
      "source": [
        "apertura_septiembre = pd.read_csv(io.BytesIO(uploaded['APERTURA 30-09-2021 (Cargue 22-10-2021).csv']), sep = ';', encoding = 'latin-1')"
      ],
      "metadata": {
        "id": "17K87CYKZ1Ue"
      },
      "execution_count": null,
      "outputs": []
    },
    {
      "cell_type": "code",
      "source": [
        "apertura_octubre = pd.read_csv(io.BytesIO(uploaded['APERTURA 31-10-2021 (Cargue 29-11-2021).csv']), sep = ';', encoding = 'latin-1')"
      ],
      "metadata": {
        "id": "rPSXsrLXZ0aO"
      },
      "execution_count": null,
      "outputs": []
    },
    {
      "cell_type": "code",
      "source": [
        "apertura_noviembre = pd.read_csv(io.BytesIO(uploaded['APERTURA 30-11-2021 (Cargue 22-12-2021).csv']), sep = ';', encoding = 'latin-1')"
      ],
      "metadata": {
        "id": "v2CrYwdGZ0L2"
      },
      "execution_count": null,
      "outputs": []
    },
    {
      "cell_type": "markdown",
      "source": [
        "Al igual que con los ficheros de entregas, vamos a consolidar y agrupar la información correspondiente a las aperturas de las comunicaciones recibidas por cada cliente "
      ],
      "metadata": {
        "id": "gjPW1BPdekIu"
      }
    },
    {
      "cell_type": "code",
      "source": [
        "ficheros_apertura = [apertura_mayo, apertura_junio, apertura_julio, apertura_agosto,\n",
        "                     apertura_septiembre, apertura_octubre, apertura_noviembre]"
      ],
      "metadata": {
        "id": "FSUeGLqkexak"
      },
      "execution_count": null,
      "outputs": []
    },
    {
      "cell_type": "code",
      "source": [
        "apertura_global = pd.concat(ficheros_apertura)"
      ],
      "metadata": {
        "id": "IkbJbSHBfG-H"
      },
      "execution_count": null,
      "outputs": []
    },
    {
      "cell_type": "code",
      "source": [
        "apertura_global.head(5)"
      ],
      "metadata": {
        "id": "2IcxjnLdfPg-"
      },
      "execution_count": null,
      "outputs": []
    },
    {
      "cell_type": "code",
      "source": [
        "apertura_global.shape"
      ],
      "metadata": {
        "colab": {
          "base_uri": "https://localhost:8080/"
        },
        "id": "g-2ZPmG5fVOV",
        "outputId": "658b2d23-6153-4525-931a-e07fae03bd5e"
      },
      "execution_count": null,
      "outputs": [
        {
          "output_type": "execute_result",
          "data": {
            "text/plain": [
              "(1409233, 27)"
            ]
          },
          "metadata": {},
          "execution_count": 20
        }
      ]
    },
    {
      "cell_type": "code",
      "source": [
        "apertura_global.to_csv('APERTURA_CONSOLIDADO.csv')"
      ],
      "metadata": {
        "id": "F0JRSgKnfeiT"
      },
      "execution_count": null,
      "outputs": []
    },
    {
      "cell_type": "code",
      "source": [
        "files.download('APERTURA_CONSOLIDADO.csv')"
      ],
      "metadata": {
        "id": "9Cj-mqidfeiT"
      },
      "execution_count": null,
      "outputs": []
    },
    {
      "cell_type": "code",
      "source": [
        "apertura = apertura_global[['LLAVE', 'EVENTO', 'CALENDARIO', 'PRODUCTO', 'CANALES', 'INFORMATIVA','COMERCIAL_POLIZA', 'COMERCIAL_SERVICIOS']]"
      ],
      "metadata": {
        "id": "jv0EKUEfgb7W"
      },
      "execution_count": null,
      "outputs": []
    },
    {
      "cell_type": "code",
      "source": [
        "apertura.head(5)"
      ],
      "metadata": {
        "id": "pRK-Bs4hgk80"
      },
      "execution_count": null,
      "outputs": []
    },
    {
      "cell_type": "code",
      "source": [
        "apertura.shape"
      ],
      "metadata": {
        "colab": {
          "base_uri": "https://localhost:8080/"
        },
        "id": "gt-ccBfJgm-F",
        "outputId": "ae810f7f-a94b-48d5-b990-ab648050cb9f"
      },
      "execution_count": null,
      "outputs": [
        {
          "output_type": "execute_result",
          "data": {
            "text/plain": [
              "(1409233, 8)"
            ]
          },
          "metadata": {},
          "execution_count": 25
        }
      ]
    },
    {
      "cell_type": "code",
      "source": [
        "apertura_final = apertura.groupby(['LLAVE']).sum()"
      ],
      "metadata": {
        "id": "xreuvbBeg0CX"
      },
      "execution_count": null,
      "outputs": []
    },
    {
      "cell_type": "code",
      "source": [
        "apertura_final.shape"
      ],
      "metadata": {
        "id": "bbTP9ctXg0CX"
      },
      "execution_count": null,
      "outputs": []
    },
    {
      "cell_type": "code",
      "source": [
        "apertura_final.head(5)"
      ],
      "metadata": {
        "id": "JUMp1sY8g0CX"
      },
      "execution_count": null,
      "outputs": []
    },
    {
      "cell_type": "code",
      "source": [
        "apertura_final.to_csv('APERTURA_AGRUPADO.csv')"
      ],
      "metadata": {
        "id": "Q-elcobjiAs5"
      },
      "execution_count": null,
      "outputs": []
    },
    {
      "cell_type": "code",
      "source": [
        "files.download('APERTURA_AGRUPADO.csv')"
      ],
      "metadata": {
        "id": "_lsXHntSiAs5"
      },
      "execution_count": null,
      "outputs": []
    },
    {
      "cell_type": "markdown",
      "source": [
        "#**Creación de la matriz de calificaciones**"
      ],
      "metadata": {
        "id": "kPpTf-zTkylI"
      }
    },
    {
      "cell_type": "markdown",
      "source": [
        "En este caso particular tomaremos el \"rating\" que cada cliente otorga a cada categoría, como la tasa de apertura que dicho cliente ha presentado ante ésta. En otras palabras, cuantas comunicaciones ha abierto, de las que ha recibido"
      ],
      "metadata": {
        "id": "5YKe-zRClKyn"
      }
    },
    {
      "cell_type": "code",
      "source": [
        "uploaded = files.upload()"
      ],
      "metadata": {
        "id": "m4v--qegld4m"
      },
      "execution_count": null,
      "outputs": []
    },
    {
      "cell_type": "code",
      "source": [
        "matriz_entrega = pd.read_csv(io.BytesIO(uploaded['ENTREGA_AGRUPADO.csv']), sep = ',', encoding = 'latin-1')"
      ],
      "metadata": {
        "id": "92IJduGql72X"
      },
      "execution_count": null,
      "outputs": []
    },
    {
      "cell_type": "code",
      "source": [
        "matriz_entrega.head(5)"
      ],
      "metadata": {
        "id": "PLbpdYzemsBA"
      },
      "execution_count": null,
      "outputs": []
    },
    {
      "cell_type": "code",
      "source": [
        "matriz_apertura = pd.read_csv(io.BytesIO(uploaded['APERTURA_AGRUPADO.csv']), sep = ',', encoding = 'latin-1')"
      ],
      "metadata": {
        "id": "D_xstb9dm4-f"
      },
      "execution_count": null,
      "outputs": []
    },
    {
      "cell_type": "code",
      "source": [
        "matriz_apertura.head(5)"
      ],
      "metadata": {
        "id": "za_Y4OsFnAQg"
      },
      "execution_count": null,
      "outputs": []
    },
    {
      "cell_type": "markdown",
      "source": [
        "Ahora vamos a realizar un merge entre la matriz_entrega y la matriz_apertura, para posteriormente calcular la respectiva tasa de apertura de cada cliente frente a cada categoría"
      ],
      "metadata": {
        "id": "5-WZ_Dg6oCJ-"
      }
    },
    {
      "cell_type": "code",
      "source": [
        "matriz = pd.merge(matriz_entrega, matriz_apertura, on = 'LLAVE', how = 'left')"
      ],
      "metadata": {
        "id": "3XCE8ibMoTac"
      },
      "execution_count": null,
      "outputs": []
    },
    {
      "cell_type": "code",
      "source": [
        "matriz.head(5)"
      ],
      "metadata": {
        "id": "NOLPKh1noiRF"
      },
      "execution_count": null,
      "outputs": []
    },
    {
      "cell_type": "code",
      "source": [
        "matriz.fillna(0)"
      ],
      "metadata": {
        "id": "eaVAW-LfowXP"
      },
      "execution_count": null,
      "outputs": []
    },
    {
      "cell_type": "markdown",
      "source": [
        "Definimos una función sencilla para calcular la tasa de apertura, incluyendo una excepción en caso de tener que dividir por cero, en el cual devolvemos un cero"
      ],
      "metadata": {
        "id": "TR41N5sVpySD"
      }
    },
    {
      "cell_type": "code",
      "source": [
        "def tasa_apertura(x,y):\n",
        "  try:\n",
        "    return y/x\n",
        "  except ZeroDivisionError:\n",
        "    return 0"
      ],
      "metadata": {
        "id": "iiacPkf4o1iv"
      },
      "execution_count": null,
      "outputs": []
    },
    {
      "cell_type": "markdown",
      "source": [
        "Aplicamos la función a cada categoría y agregamos la nueva serie a la matriz original"
      ],
      "metadata": {
        "id": "hYYRrUvTqPcB"
      }
    },
    {
      "cell_type": "code",
      "source": [
        "#Categoria 'EVENTO'\n",
        "x = matriz['EVENTO_x']\n",
        "y = matriz['EVENTO_y']\n",
        "matriz['EVENTO'] = tasa_apertura(x,y)"
      ],
      "metadata": {
        "id": "tUpNOnuGqO0j"
      },
      "execution_count": null,
      "outputs": []
    },
    {
      "cell_type": "code",
      "source": [
        "#Categoria 'CALENDARIO'\n",
        "x = matriz['CALENDARIO_x']\n",
        "y = matriz['CALENDARIO_y']\n",
        "matriz['CALENDARIO'] = tasa_apertura(x,y)"
      ],
      "metadata": {
        "id": "QDDU0N4Pqo89"
      },
      "execution_count": null,
      "outputs": []
    },
    {
      "cell_type": "code",
      "source": [
        "#Categoria 'PRODUCTO'\n",
        "x = matriz['PRODUCTO_x']\n",
        "y = matriz['PRODUCTO_y']\n",
        "matriz['PRODUCTO'] = tasa_apertura(x,y)"
      ],
      "metadata": {
        "id": "3bx5WqYrq9bV"
      },
      "execution_count": null,
      "outputs": []
    },
    {
      "cell_type": "code",
      "source": [
        "#Categoria 'CANALES'\n",
        "x = matriz['CANALES_x']\n",
        "y = matriz['CANALES_y']\n",
        "matriz['CANALES'] = tasa_apertura(x,y)"
      ],
      "metadata": {
        "id": "7iQ4A9QzrNG-"
      },
      "execution_count": null,
      "outputs": []
    },
    {
      "cell_type": "code",
      "source": [
        "#Categoria 'INFORMATIVA'\n",
        "x = matriz['INFORMATIVA_x']\n",
        "y = matriz['INFORMATIVA_y']\n",
        "matriz['INFORMATIVA'] = tasa_apertura(x,y)"
      ],
      "metadata": {
        "id": "_9AhhKQErgaw"
      },
      "execution_count": null,
      "outputs": []
    },
    {
      "cell_type": "code",
      "source": [
        "#Categoria 'COMERCIAL_POLIZA'\n",
        "x = matriz['COMERCIAL_POLIZA_x']\n",
        "y = matriz['COMERCIAL_POLIZA_y']\n",
        "matriz['COMERCIAL_POLIZA'] = tasa_apertura(x,y)"
      ],
      "metadata": {
        "id": "cez1ooGKrzXH"
      },
      "execution_count": null,
      "outputs": []
    },
    {
      "cell_type": "code",
      "source": [
        "#Categoria 'COMERCIAL_SERVICIOS'\n",
        "x = matriz['COMERCIAL_SERVICIOS_x']\n",
        "y = matriz['COMERCIAL_SERVICIOS_y']\n",
        "matriz['COMERCIAL_SERVICIOS'] = tasa_apertura(x,y)"
      ],
      "metadata": {
        "id": "MeNDWG6Yr939"
      },
      "execution_count": null,
      "outputs": []
    },
    {
      "cell_type": "code",
      "source": [
        "matriz.tail(5)"
      ],
      "metadata": {
        "id": "q1t_JA9bqigd"
      },
      "execution_count": null,
      "outputs": []
    },
    {
      "cell_type": "code",
      "source": [
        "matriz.to_csv('MATRIZ_CONSOLIDADA.csv')"
      ],
      "metadata": {
        "id": "ou1dT9Gls6vu"
      },
      "execution_count": null,
      "outputs": []
    },
    {
      "cell_type": "code",
      "source": [
        "files.download('MATRIZ_CONSOLIDADA.csv')"
      ],
      "metadata": {
        "id": "PfeMID5ss6vu"
      },
      "execution_count": null,
      "outputs": []
    },
    {
      "cell_type": "markdown",
      "source": [
        "Finalmente nos quedamos con los campos calculados y eliminamos los demás"
      ],
      "metadata": {
        "id": "PVTSPV0WuJhd"
      }
    },
    {
      "cell_type": "code",
      "source": [
        "matriz_inicial = matriz[['LLAVE', 'EVENTO', 'CALENDARIO', 'PRODUCTO', 'CANALES', 'INFORMATIVA', 'COMERCIAL_POLIZA', 'COMERCIAL_SERVICIOS']]"
      ],
      "metadata": {
        "id": "8N5e4U-auPyu"
      },
      "execution_count": null,
      "outputs": []
    },
    {
      "cell_type": "code",
      "source": [
        "matriz_inicial.head(5)"
      ],
      "metadata": {
        "id": "DeNar9llunE8"
      },
      "execution_count": null,
      "outputs": []
    },
    {
      "cell_type": "markdown",
      "source": [
        "Validamos que los vaolres mínimos y máximos calculados esten entre el rango 0-1"
      ],
      "metadata": {
        "id": "I6VAZVQUvn2F"
      }
    },
    {
      "cell_type": "code",
      "source": [
        "matriz_inicial.max()"
      ],
      "metadata": {
        "id": "aV7aFlB4u0rl"
      },
      "execution_count": null,
      "outputs": []
    },
    {
      "cell_type": "code",
      "source": [
        "matriz_inicial.min()"
      ],
      "metadata": {
        "id": "VMWIu6qVvJQw"
      },
      "execution_count": null,
      "outputs": []
    },
    {
      "cell_type": "code",
      "source": [
        "matriz_inicial.to_csv('MATRIZ_INICIAL.csv')"
      ],
      "metadata": {
        "id": "01EMXKj4oGmw"
      },
      "execution_count": null,
      "outputs": []
    },
    {
      "cell_type": "code",
      "source": [
        "files.download('MATRIZ_INICIAL.csv')"
      ],
      "metadata": {
        "id": "Sah8nVhgoMxm"
      },
      "execution_count": null,
      "outputs": []
    },
    {
      "cell_type": "markdown",
      "source": [
        "#**Definición conjuntos Train y Test**"
      ],
      "metadata": {
        "id": "_FBqqzA0oXsv"
      }
    },
    {
      "cell_type": "markdown",
      "source": [
        "##**Estructuración matriz ratings**"
      ],
      "metadata": {
        "id": "cDGSGXClvGPL"
      }
    },
    {
      "cell_type": "markdown",
      "source": [
        "Primeros creamos un nuevo DataFrame que nos permita dividir el total de \"calificaciones\" dadas, excluyendo los missing values, en los conjunto de train y test"
      ],
      "metadata": {
        "id": "nKxPoQsPsHyJ"
      }
    },
    {
      "cell_type": "code",
      "source": [
        "sub_matriz_evento = matriz_inicial[['LLAVE', 'EVENTO']]\n",
        "sub_matriz_evento = sub_matriz_evento.assign(CATEGORIA_ID = 1)\n",
        "sub_matriz_evento.columns = ['LLAVE', 'RATING', 'CATEGORIA_ID']\n",
        "sub_matriz_evento.head(5)"
      ],
      "metadata": {
        "id": "kyAAXjmzocdY"
      },
      "execution_count": null,
      "outputs": []
    },
    {
      "cell_type": "code",
      "source": [
        "sub_matriz_calendario = matriz_inicial[['LLAVE', 'CALENDARIO']]\n",
        "sub_matriz_calendario = sub_matriz_calendario.assign(CATEGORIA_ID = 2)\n",
        "sub_matriz_calendario.columns = ['LLAVE', 'RATING', 'CATEGORIA_ID']\n",
        "sub_matriz_calendario.head(5)"
      ],
      "metadata": {
        "id": "2DqeupOmqlOF"
      },
      "execution_count": null,
      "outputs": []
    },
    {
      "cell_type": "code",
      "source": [
        "sub_matriz_producto = matriz_inicial[['LLAVE', 'PRODUCTO']]\n",
        "sub_matriz_producto = sub_matriz_producto.assign(CATEGORIA_ID = 3)\n",
        "sub_matriz_producto.columns = ['LLAVE', 'RATING', 'CATEGORIA_ID']\n",
        "sub_matriz_producto.head(5)"
      ],
      "metadata": {
        "id": "_VGDI27arJlj"
      },
      "execution_count": null,
      "outputs": []
    },
    {
      "cell_type": "code",
      "source": [
        "sub_matriz_canales = matriz_inicial[['LLAVE', 'CANALES']]\n",
        "sub_matriz_canales = sub_matriz_canales.assign(CATEGORIA_ID = 4)\n",
        "sub_matriz_canales.columns = ['LLAVE', 'RATING', 'CATEGORIA_ID']\n",
        "sub_matriz_canales.head(5)"
      ],
      "metadata": {
        "id": "WlAyShGTrW49"
      },
      "execution_count": null,
      "outputs": []
    },
    {
      "cell_type": "code",
      "source": [
        "sub_matriz_informativa = matriz_inicial[['LLAVE', 'INFORMATIVA']]\n",
        "sub_matriz_informativa = sub_matriz_informativa.assign(CATEGORIA_ID = 5)\n",
        "sub_matriz_informativa.columns = ['LLAVE', 'RATING', 'CATEGORIA_ID']\n",
        "sub_matriz_informativa.head(5)"
      ],
      "metadata": {
        "id": "Etcqlqyprl1r"
      },
      "execution_count": null,
      "outputs": []
    },
    {
      "cell_type": "code",
      "source": [
        "sub_matriz_poliza = matriz_inicial[['LLAVE', 'COMERCIAL_POLIZA']]\n",
        "sub_matriz_poliza = sub_matriz_poliza.assign(CATEGORIA_ID = 6)\n",
        "sub_matriz_poliza.columns = ['LLAVE', 'RATING', 'CATEGORIA_ID']\n",
        "sub_matriz_poliza.head(5)"
      ],
      "metadata": {
        "id": "TF__ZGPJrw5A"
      },
      "execution_count": null,
      "outputs": []
    },
    {
      "cell_type": "code",
      "source": [
        "sub_matriz_servicios = matriz_inicial[['LLAVE', 'COMERCIAL_SERVICIOS']]\n",
        "sub_matriz_servicios = sub_matriz_servicios.assign(CATEGORIA_ID = 7)\n",
        "sub_matriz_servicios.columns = ['LLAVE', 'RATING', 'CATEGORIA_ID']\n",
        "sub_matriz_servicios.head(5)"
      ],
      "metadata": {
        "id": "bIqqkGKwr-be"
      },
      "execution_count": null,
      "outputs": []
    },
    {
      "cell_type": "code",
      "source": [
        "sub_ficheros = [sub_matriz_evento, sub_matriz_calendario, sub_matriz_producto, sub_matriz_canales,\n",
        "                sub_matriz_informativa, sub_matriz_poliza, sub_matriz_servicios]"
      ],
      "metadata": {
        "id": "WL4CoBpusd3D"
      },
      "execution_count": null,
      "outputs": []
    },
    {
      "cell_type": "code",
      "source": [
        "matriz_ratings = pd.concat(sub_ficheros)"
      ],
      "metadata": {
        "id": "Dl_uLa0zs8Pk"
      },
      "execution_count": null,
      "outputs": []
    },
    {
      "cell_type": "code",
      "source": [
        "matriz_ratings = matriz_ratings.dropna(subset = ['RATING'])"
      ],
      "metadata": {
        "id": "zyXGPkfwtIOZ"
      },
      "execution_count": null,
      "outputs": []
    },
    {
      "cell_type": "code",
      "source": [
        "matriz_ratings.head(5)"
      ],
      "metadata": {
        "id": "IKGv1ms-tEJI"
      },
      "execution_count": null,
      "outputs": []
    },
    {
      "cell_type": "code",
      "source": [
        "matriz_ratings.shape"
      ],
      "metadata": {
        "id": "QCYh68kRuwT7"
      },
      "execution_count": null,
      "outputs": []
    },
    {
      "cell_type": "code",
      "source": [
        "matriz_ratings.to_csv('MATRIZ_RATINGS.csv')"
      ],
      "metadata": {
        "id": "Jq48voBguDHb"
      },
      "execution_count": null,
      "outputs": []
    },
    {
      "cell_type": "code",
      "source": [
        "files.download('MATRIZ_RATINGS.csv')"
      ],
      "metadata": {
        "id": "qOT8jxRDuDHc"
      },
      "execution_count": null,
      "outputs": []
    },
    {
      "cell_type": "code",
      "source": [
        "matriz_ratings.isnull().values.any()"
      ],
      "metadata": {
        "id": "tGYLQ8HJrCSw"
      },
      "execution_count": null,
      "outputs": []
    },
    {
      "cell_type": "markdown",
      "source": [
        "##**Estructuración matriz calificaciones**"
      ],
      "metadata": {
        "id": "MPVp2rhhvQfq"
      }
    },
    {
      "cell_type": "markdown",
      "source": [
        "Finalmente vamos a asignar una calificación a la tasa de apertura de cada categoría, ésto con el objetivo de facilitar los cálculos que se deben hacer en los modelos"
      ],
      "metadata": {
        "id": "AXbsaGdAmmNf"
      }
    },
    {
      "cell_type": "code",
      "source": [
        "def calificacion(x):\n",
        "  y= 10\n",
        "  if x >= 0 and x <= 0.1:\n",
        "    y = 1\n",
        "  elif x > 0.1 and x <= 0.2:\n",
        "    y = 2\n",
        "  elif x > 0.2 and x <= 0.3:\n",
        "    y = 3\n",
        "  elif x > 0.3 and x <= 0.4:\n",
        "    y = 4\n",
        "  elif x > 0.4 and x <= 1:\n",
        "    y = 5\n",
        "  return y"
      ],
      "metadata": {
        "id": "h_MDXwl0nAuB"
      },
      "execution_count": null,
      "outputs": []
    },
    {
      "cell_type": "code",
      "source": [
        "matriz_cal = matriz_ratings.copy()\n",
        "matriz_cal = matriz_cal[['LLAVE', 'RATING', 'CATEGORIA_ID']]"
      ],
      "metadata": {
        "id": "dX27g8zlqGV-"
      },
      "execution_count": null,
      "outputs": []
    },
    {
      "cell_type": "code",
      "source": [
        "matriz_cal.head(5)"
      ],
      "metadata": {
        "id": "MryqEh0tqgJg"
      },
      "execution_count": null,
      "outputs": []
    },
    {
      "cell_type": "code",
      "source": [
        "matriz_cal['CALIFICACION'] = matriz_cal['RATING'].apply(calificacion)"
      ],
      "metadata": {
        "id": "TQX6FPl2r7Sx"
      },
      "execution_count": null,
      "outputs": []
    },
    {
      "cell_type": "code",
      "source": [
        "matriz_cal.head(5)"
      ],
      "metadata": {
        "id": "8IEaDGN5sxA2"
      },
      "execution_count": null,
      "outputs": []
    },
    {
      "cell_type": "code",
      "source": [
        "matriz_cal = matriz_cal.drop('RATING', axis = 1)"
      ],
      "metadata": {
        "id": "h53OH3BIatL-"
      },
      "execution_count": null,
      "outputs": []
    },
    {
      "cell_type": "code",
      "source": [
        "conteo_calificaciones = matriz_cal.groupby(['CALIFICACION']).count()\n",
        "conteo_calificaciones"
      ],
      "metadata": {
        "id": "r0GbSEvrtH7t"
      },
      "execution_count": null,
      "outputs": []
    },
    {
      "cell_type": "code",
      "source": [
        "matriz_cal.isnull().values.any()"
      ],
      "metadata": {
        "colab": {
          "base_uri": "https://localhost:8080/"
        },
        "id": "Nxzk3FReteAa",
        "outputId": "14b97e0a-25a7-4f44-a00d-7daf44b21779"
      },
      "execution_count": null,
      "outputs": [
        {
          "output_type": "execute_result",
          "data": {
            "text/plain": [
              "False"
            ]
          },
          "metadata": {},
          "execution_count": 30
        }
      ]
    },
    {
      "cell_type": "code",
      "source": [
        "matriz_cal.head(5)"
      ],
      "metadata": {
        "id": "DKnE0UWPugIo"
      },
      "execution_count": null,
      "outputs": []
    },
    {
      "cell_type": "code",
      "source": [
        "matriz_cal.shape"
      ],
      "metadata": {
        "id": "DVaPVY-jum-D"
      },
      "execution_count": null,
      "outputs": []
    },
    {
      "cell_type": "code",
      "source": [
        "matriz_cal.to_csv('MATRIZ_CAL.csv')"
      ],
      "metadata": {
        "id": "s7FJzELwv6pp"
      },
      "execution_count": null,
      "outputs": []
    },
    {
      "cell_type": "code",
      "source": [
        "files.download('MATRIZ_CAL.csv')"
      ],
      "metadata": {
        "id": "ApBIVAmAwFC_"
      },
      "execution_count": null,
      "outputs": []
    },
    {
      "cell_type": "markdown",
      "source": [
        "##**Definición matriz modelo y conjuntos train y test**"
      ],
      "metadata": {
        "id": "yVIhXXHkvYj9"
      }
    },
    {
      "cell_type": "markdown",
      "source": [
        "Dado que tenemos más de 1.7 millones de registros y cerca de 550 mil clientes, es necesario reducir la base de tal manera que 12 GB de RAM puedan procesar los ficheros que trabajaremos de ahora en adelante"
      ],
      "metadata": {
        "id": "JhwwL5WQxCks"
      }
    },
    {
      "cell_type": "code",
      "source": [
        "conteo_clientes = matriz_cal.groupby('LLAVE').count()\n",
        "conteo_clientes = conteo_clientes.sort_values(by = 'CATEGORIA_ID', axis = 0, ascending = False)\n",
        "conteo_clientes\n"
      ],
      "metadata": {
        "id": "Tm6AuYojG8Mz"
      },
      "execution_count": null,
      "outputs": []
    },
    {
      "cell_type": "code",
      "source": [
        "lista_top = conteo_clientes[0:27000]\n",
        "lista_top"
      ],
      "metadata": {
        "id": "F9Lm-pojIPEC"
      },
      "execution_count": null,
      "outputs": []
    },
    {
      "cell_type": "code",
      "source": [
        "lista_top = lista_top.reset_index()\n",
        "lista_top = lista_top[['LLAVE']]\n",
        "lista_top\n",
        "len(lista_top)"
      ],
      "metadata": {
        "id": "_qDSzeRSK5Jb"
      },
      "execution_count": null,
      "outputs": []
    },
    {
      "cell_type": "code",
      "source": [
        "#Para esta evaluación tomaremos como referencia a los 27 mil clientes con mayor \n",
        "#número de interacciones\n",
        "matriz_reducida = pd.merge(matriz_cal, lista_top, on = 'LLAVE', how = 'inner')"
      ],
      "metadata": {
        "id": "yazNCAaGPScg"
      },
      "execution_count": null,
      "outputs": []
    },
    {
      "cell_type": "code",
      "source": [
        "conteo_unicos = matriz_reducida['LLAVE'].value_counts()\n",
        "conteo_unicos"
      ],
      "metadata": {
        "id": "szvjzkyfVMOQ"
      },
      "execution_count": null,
      "outputs": []
    },
    {
      "cell_type": "code",
      "source": [
        "matriz_reducida = matriz_reducida[['LLAVE', 'CATEGORIA_ID', 'CALIFICACION']]\n",
        "matriz_reducida.head(10)"
      ],
      "metadata": {
        "id": "wiX6odbAQADo"
      },
      "execution_count": null,
      "outputs": []
    },
    {
      "cell_type": "code",
      "source": [
        "matriz_reducida.shape"
      ],
      "metadata": {
        "id": "2gbPF8jASBiF"
      },
      "execution_count": null,
      "outputs": []
    },
    {
      "cell_type": "code",
      "source": [
        "matriz_reducida.to_csv('MATRIZ_REDUCIDA.csv')"
      ],
      "metadata": {
        "id": "PuNwXopA0B1r"
      },
      "execution_count": null,
      "outputs": []
    },
    {
      "cell_type": "code",
      "source": [
        "files.download('MATRIZ_REDUCIDA.csv')"
      ],
      "metadata": {
        "id": "o-WQb8FY0L8i"
      },
      "execution_count": null,
      "outputs": []
    },
    {
      "cell_type": "markdown",
      "source": [
        "Divimos la matriz_reducida en los respectivos conjuntos, asegurando una proporción del 20% para el conjunto de test"
      ],
      "metadata": {
        "id": "EoAA4TBVZbWp"
      }
    },
    {
      "cell_type": "code",
      "source": [
        "X = matriz_reducida.copy()\n",
        "y = matriz_reducida['LLAVE']"
      ],
      "metadata": {
        "id": "MdCvIgvYZovc"
      },
      "execution_count": null,
      "outputs": []
    },
    {
      "cell_type": "code",
      "source": [
        "X_train, X_test, y_train, y_test = train_test_split(X, y, stratify = y, test_size = 0.2, random_state = 0)"
      ],
      "metadata": {
        "id": "pUmcYGN6ZxOA"
      },
      "execution_count": null,
      "outputs": []
    },
    {
      "cell_type": "markdown",
      "source": [
        "#**Construcción y evaluación Modelo Base**"
      ],
      "metadata": {
        "id": "srh6Z1QcbfS2"
      }
    },
    {
      "cell_type": "markdown",
      "source": [
        "Para evaluar nuestros modelos, y teniendo en cuenta que la calificación es un valor que puede estar entre 1 y 5, se tomará como medida de error el \"Root Mean Squared Error\" ya que el problema que vamos a abordar es un regresión"
      ],
      "metadata": {
        "id": "5yEcoIfrbnku"
      }
    },
    {
      "cell_type": "code",
      "source": [
        "def rmse(y_true, y_pred):\n",
        "  return np.sqrt(mean_squared_error(y_true, y_pred))"
      ],
      "metadata": {
        "id": "Mwa81qpCbmE5"
      },
      "execution_count": null,
      "outputs": []
    },
    {
      "cell_type": "markdown",
      "source": [
        "A nivel general, lo que vamos a buscar es que dado un cliente y una categoría, el modelo nos arroje una posible \"calificación\". Por lo tanto, partiendo del conocimiento experto y los datos recopilados durante cerca de 3 años de gestión, vamos a definir nuestra tasa base como 0.25, tasa de apertura promedio de la compañía, siendo la calificación por defecto 3"
      ],
      "metadata": {
        "id": "FxNlobqUdAjP"
      }
    },
    {
      "cell_type": "code",
      "source": [
        "def modelo_base(llave, categoria_id):\n",
        "  return 3"
      ],
      "metadata": {
        "id": "ZmteRHMZc20H"
      },
      "execution_count": null,
      "outputs": []
    },
    {
      "cell_type": "markdown",
      "source": [
        "Definimos la función para calcular el rmse del conjunto de test de un modelo"
      ],
      "metadata": {
        "id": "f5C0vtwNfV4E"
      }
    },
    {
      "cell_type": "code",
      "source": [
        "def score(modelo_cf):\n",
        "\n",
        "  #Construimos una lista de tuplas del conjunto de test\n",
        "  parejas = zip(X_test['LLAVE'], X_test['CATEGORIA_ID'])\n",
        "\n",
        "  #Por cada pareja de la lista contruida anteriormente predecimos la tasa por cada pareja \n",
        "  y_pred = np.array([modelo_cf(llave, categoria_id) for (llave, categoria_id) in parejas])\n",
        "\n",
        "  #Extraemos las tasas verdaderas del conjunto de test\n",
        "  y_true = np.array(X_test['CALIFICACION'])\n",
        "\n",
        "  #Calculamos el error\n",
        "  return rmse(y_true, y_pred)\n",
        "  #return y_true, y_pred"
      ],
      "metadata": {
        "id": "gbXo-b9YfIbK"
      },
      "execution_count": null,
      "outputs": []
    },
    {
      "cell_type": "code",
      "source": [
        "score(modelo_base)"
      ],
      "metadata": {
        "colab": {
          "base_uri": "https://localhost:8080/"
        },
        "id": "sXaHl8LYgnN6",
        "outputId": "46255666-5c5f-4be6-baa2-1e34fe7c9d6d"
      },
      "execution_count": null,
      "outputs": [
        {
          "output_type": "execute_result",
          "data": {
            "text/plain": [
              "1.818934710222716"
            ]
          },
          "metadata": {},
          "execution_count": 13
        }
      ]
    },
    {
      "cell_type": "markdown",
      "source": [
        "#**Construcción y evaluación Modelos Collaborative Filter - User Based**"
      ],
      "metadata": {
        "id": "FIGAA3JrlzY5"
      }
    },
    {
      "cell_type": "markdown",
      "source": [
        "Construimos la matriz de calificaciones por cliente y categoría"
      ],
      "metadata": {
        "id": "MipiBCfemOB0"
      }
    },
    {
      "cell_type": "code",
      "source": [
        "nueva_matriz_cal = X_train.pivot_table(values = 'CALIFICACION', index = 'LLAVE', columns = 'CATEGORIA_ID')"
      ],
      "metadata": {
        "id": "53SYc4lomBsj"
      },
      "execution_count": null,
      "outputs": []
    },
    {
      "cell_type": "code",
      "source": [
        "nueva_matriz_cal.head(5)"
      ],
      "metadata": {
        "id": "BmOX9dRCm7-e"
      },
      "execution_count": null,
      "outputs": []
    },
    {
      "cell_type": "markdown",
      "source": [
        "##**1° Filtro: Promedio Simple**"
      ],
      "metadata": {
        "id": "WR0_7mNfsCp0"
      }
    },
    {
      "cell_type": "markdown",
      "source": [
        "A partir de un cliente y una categoría, retornamos la tasa promedio de todos aquellos que ya hayan interactuado con dicha categoría"
      ],
      "metadata": {
        "id": "4gwxhNAAsRv9"
      }
    },
    {
      "cell_type": "code",
      "source": [
        "def modelo_media_simple(llave, categoria_id):\n",
        "\n",
        "  #Validamos si la categoría existe en la matriz\n",
        "  if categoria_id in nueva_matriz_cal:\n",
        "\n",
        "    #Calculamos la tasa de apertura promedio de la misma\n",
        "    tasa_promedio = nueva_matriz_cal[categoria_id].mean()\n",
        "\n",
        "  else:\n",
        "\n",
        "    #Devolvemos la calificación del modelo base\n",
        "    tasa_promedio = 3\n",
        "\n",
        "  return tasa_promedio\n"
      ],
      "metadata": {
        "id": "kKkcK_fRsISb"
      },
      "execution_count": null,
      "outputs": []
    },
    {
      "cell_type": "code",
      "source": [
        "score(modelo_media_simple)"
      ],
      "metadata": {
        "colab": {
          "base_uri": "https://localhost:8080/"
        },
        "id": "0ecVnymmt_n9",
        "outputId": "5006a071-1bb3-4aa8-d4a4-147df3d93c75"
      },
      "execution_count": null,
      "outputs": [
        {
          "output_type": "execute_result",
          "data": {
            "text/plain": [
              "1.7859410634541322"
            ]
          },
          "metadata": {},
          "execution_count": 17
        }
      ]
    },
    {
      "cell_type": "markdown",
      "source": [
        "##**2° Filtro: Promedio Ponderado**"
      ],
      "metadata": {
        "id": "0ZIeDjMxHck1"
      }
    },
    {
      "cell_type": "markdown",
      "source": [
        "En esta caso vamos a ponderar la tasa promedio de salida, a partir de las calificaciones de los clientes que tengan un comportamiento similar al del cliente evaluado"
      ],
      "metadata": {
        "id": "PO3pyIfbH5Ns"
      }
    },
    {
      "cell_type": "code",
      "source": [
        "#Creamos una copia de la nueva_matriz_cal ya que la medida de similaridad que \n",
        "#vamos a utilizar es el cosine score y este no opera con missing values\n",
        "nueva_matriz_cal_copia = nueva_matriz_cal.copy().fillna(0)"
      ],
      "metadata": {
        "id": "EnytF8nUI99u"
      },
      "execution_count": null,
      "outputs": []
    },
    {
      "cell_type": "code",
      "source": [
        "nueva_matriz_cal_copia.head(5)"
      ],
      "metadata": {
        "id": "p9zbnIhMr4-z"
      },
      "execution_count": null,
      "outputs": []
    },
    {
      "cell_type": "code",
      "source": [
        "similarity = cosine_similarity(nueva_matriz_cal_copia, nueva_matriz_cal_copia)"
      ],
      "metadata": {
        "id": "nyQjEaGEJPi0"
      },
      "execution_count": null,
      "outputs": []
    },
    {
      "cell_type": "code",
      "source": [
        "similarity = pd.DataFrame(similarity, index = nueva_matriz_cal.index, columns = nueva_matriz_cal.index)"
      ],
      "metadata": {
        "id": "n_N_0CO7UJkq"
      },
      "execution_count": null,
      "outputs": []
    },
    {
      "cell_type": "code",
      "source": [
        "similarity.head(5)"
      ],
      "metadata": {
        "id": "6_l3BwJ7VCf4"
      },
      "execution_count": null,
      "outputs": []
    },
    {
      "cell_type": "code",
      "source": [
        "def modelo_media_ponderada(llave, categoria_id):\n",
        "\n",
        "  #Validamos si la categoría existe en la matriz\n",
        "  if categoria_id in nueva_matriz_cal:\n",
        "\n",
        "    #Obtenemos los scores de similitud del cliente analizado y todos los demás\n",
        "    scores = similarity[llave]\n",
        "\n",
        "    #Obtenemos las tasas de los clientes de la categoría buscada\n",
        "    ratings = nueva_matriz_cal[categoria_id]\n",
        "\n",
        "    #Identificamos todos los missing values de la serie ratings\n",
        "    indices = ratings[ratings.isnull()].index\n",
        "\n",
        "    #Eliminamos todos los missing values de la serie ratings\n",
        "    ratings = ratings.dropna()\n",
        "\n",
        "    #Eliminamos los scores de similitud correspondientes a los clientes con missing values\n",
        "    scores = scores.drop(indices)\n",
        "\n",
        "    #Calculamos la media ponderada\n",
        "    tasa_promedio_ponderada = np.dot(scores, ratings) / scores.sum() \n",
        "\n",
        "  else:\n",
        "    tasa_promedio_ponderada = 3\n",
        "\n",
        "  return tasa_promedio_ponderada"
      ],
      "metadata": {
        "id": "hM579XefVaPh"
      },
      "execution_count": null,
      "outputs": []
    },
    {
      "cell_type": "code",
      "source": [
        "score(modelo_media_ponderada)"
      ],
      "metadata": {
        "colab": {
          "base_uri": "https://localhost:8080/"
        },
        "id": "WoLb5SkhYad9",
        "outputId": "57f84c8f-aa4a-48cb-ef8a-a7de6745039a"
      },
      "execution_count": null,
      "outputs": [
        {
          "output_type": "execute_result",
          "data": {
            "text/plain": [
              "1.7844072061298066"
            ]
          },
          "metadata": {},
          "execution_count": 73
        }
      ]
    },
    {
      "cell_type": "markdown",
      "source": [
        "##**3° Filtro: Segmentación Demográfica - Portafolio:**"
      ],
      "metadata": {
        "id": "ryjc2mXAODj2"
      }
    },
    {
      "cell_type": "markdown",
      "source": [
        "Lo que normalmente haríamos en este caso sería encontrar el promedio de las calificaciones a partir de las variables demográficas y de portafolio que consideremos relevantes. Sin embargo, en esta ocasión vamos a intentar crear una segmentación a partir de un algoritmo no supervisados de clustering y a partir de su resultado ejecutaremos el modelo"
      ],
      "metadata": {
        "id": "fJZeasPbOVeI"
      }
    },
    {
      "cell_type": "code",
      "source": [
        "info_cliente = pd.read_csv('/content/REPOSITORIO.dsv', sep = '|', encoding = 'latin-1', decimal = ',')"
      ],
      "metadata": {
        "id": "I_TYkk1IYCoa"
      },
      "execution_count": null,
      "outputs": []
    },
    {
      "cell_type": "code",
      "source": [
        "info_cliente.head(5)"
      ],
      "metadata": {
        "id": "kAZ_9gNGODS9"
      },
      "execution_count": null,
      "outputs": []
    },
    {
      "cell_type": "code",
      "source": [
        "info_cliente.shape"
      ],
      "metadata": {
        "id": "wJ8Ii13wn24k"
      },
      "execution_count": null,
      "outputs": []
    },
    {
      "cell_type": "code",
      "source": [
        "info_cliente = info_cliente[['TIPO_DOCUMENTO', 'NUMERO_DOCUMENTO', 'SEXO', 'EDAD', 'CIUDAD_RESIDENCIA', 'AÑOS_ANTIGUEDAD', 'ESTADO_CIVIL', \n",
        "                            'ROL', 'SEGMENTO_PERFIL_CLV', 'NUMERO_PRODUCTOS']]"
      ],
      "metadata": {
        "id": "ZUcXf9GFpiND"
      },
      "execution_count": null,
      "outputs": []
    },
    {
      "cell_type": "code",
      "source": [
        "info_cliente.head(5)"
      ],
      "metadata": {
        "id": "Gz9KQQ0j157Q"
      },
      "execution_count": null,
      "outputs": []
    },
    {
      "cell_type": "code",
      "source": [
        "info_cliente.to_csv('INFO_CLIENTE.csv')"
      ],
      "metadata": {
        "id": "XQRdbOtXmihE"
      },
      "execution_count": null,
      "outputs": []
    },
    {
      "cell_type": "code",
      "source": [
        "files.download('INFO_CLIENTE.csv')"
      ],
      "metadata": {
        "id": "VXna-Kq1myLa"
      },
      "execution_count": null,
      "outputs": []
    },
    {
      "cell_type": "code",
      "source": [
        "info_cliente.isnull().sum()"
      ],
      "metadata": {
        "id": "jLwRarqPpQeE"
      },
      "execution_count": null,
      "outputs": []
    },
    {
      "cell_type": "markdown",
      "source": [
        "###**Limpieza sexo**"
      ],
      "metadata": {
        "id": "HFd8AabL3Ll8"
      }
    },
    {
      "cell_type": "code",
      "source": [
        "#Limpieza campo sexo: Dado que no podemos asumir el sexo de una persona, \n",
        "#vamos a eliminar los missing values de dicha columna\n",
        "info_cliente_sexo_ok = info_cliente[info_cliente['SEXO'].notna()]"
      ],
      "metadata": {
        "id": "3DsAw2-ErfMu"
      },
      "execution_count": null,
      "outputs": []
    },
    {
      "cell_type": "code",
      "source": [
        "def mayuscula(x):\n",
        "  x = x.upper()\n",
        "  return x"
      ],
      "metadata": {
        "id": "vXA2YYrMt3pj"
      },
      "execution_count": null,
      "outputs": []
    },
    {
      "cell_type": "code",
      "source": [
        "info_cliente_sexo_ok['SEXO'] = info_cliente_sexo_ok['SEXO'].apply(mayuscula)"
      ],
      "metadata": {
        "id": "QnoUk9w-uEPS"
      },
      "execution_count": null,
      "outputs": []
    },
    {
      "cell_type": "code",
      "source": [
        "info_cliente_sexo_ok.groupby('SEXO').count()"
      ],
      "metadata": {
        "id": "ejoK3-3gtGYb"
      },
      "execution_count": null,
      "outputs": []
    },
    {
      "cell_type": "code",
      "source": [
        "info_cliente_sexo_ok.shape"
      ],
      "metadata": {
        "id": "xTk2iQIMr9tN"
      },
      "execution_count": null,
      "outputs": []
    },
    {
      "cell_type": "markdown",
      "source": [
        "###**Limpieza edad**"
      ],
      "metadata": {
        "id": "MSgWM0uD3R-7"
      }
    },
    {
      "cell_type": "code",
      "source": [
        "#Limpieza campo edad: En este caso vamos a asegurarnos que el campo sea \n",
        "#de tipo float y luego vamos a modificar tanto los outliers, como \n",
        "#los missing values por la media de la columna\n",
        "info_cliente_edad_ok = info_cliente_sexo_ok.copy()"
      ],
      "metadata": {
        "id": "ZMg1pGI_rWST"
      },
      "execution_count": null,
      "outputs": []
    },
    {
      "cell_type": "code",
      "source": [
        "info_cliente_edad_ok.head(5)"
      ],
      "metadata": {
        "id": "3PmloEZNxJTb"
      },
      "execution_count": null,
      "outputs": []
    },
    {
      "cell_type": "code",
      "source": [
        "def to_float(x):\n",
        "  try:\n",
        "    x = round(float(x),0)\n",
        "  except:\n",
        "    x = np.nan\n",
        "  return x"
      ],
      "metadata": {
        "id": "R6Sl19IGweny"
      },
      "execution_count": null,
      "outputs": []
    },
    {
      "cell_type": "code",
      "source": [
        "info_cliente_edad_ok['EDAD'] = info_cliente_edad_ok['EDAD'].apply(to_float)\n"
      ],
      "metadata": {
        "id": "_l7f2xs8w9os"
      },
      "execution_count": null,
      "outputs": []
    },
    {
      "cell_type": "code",
      "source": [
        "def no_outliers(x):\n",
        "  if x < 18 or x > 99:\n",
        "    x = np.nan\n",
        "  else:\n",
        "    x = x\n",
        "  return x"
      ],
      "metadata": {
        "id": "1Sn1vZ-Jofw9"
      },
      "execution_count": null,
      "outputs": []
    },
    {
      "cell_type": "code",
      "source": [
        "info_cliente_edad_ok['EDAD'] = info_cliente_edad_ok['EDAD'].apply(no_outliers)"
      ],
      "metadata": {
        "id": "5blaMqS3r8an"
      },
      "execution_count": null,
      "outputs": []
    },
    {
      "cell_type": "code",
      "source": [
        "info_cliente_edad_ok['EDAD'].isnull().sum()"
      ],
      "metadata": {
        "id": "BGGVgbVYsJhQ"
      },
      "execution_count": null,
      "outputs": []
    },
    {
      "cell_type": "code",
      "source": [
        "edad_promedio = round(info_cliente_edad_ok['EDAD'].mean(), 0)\n",
        "print(edad_promedio)\n",
        "edad_media = round(info_cliente_edad_ok['EDAD'].median(), 0)\n",
        "print(edad_media)"
      ],
      "metadata": {
        "id": "TkE8StAQsNw6"
      },
      "execution_count": null,
      "outputs": []
    },
    {
      "cell_type": "code",
      "source": [
        "info_cliente_edad_ok['EDAD'] = info_cliente_edad_ok['EDAD'].fillna(edad_media)\n",
        "info_cliente_edad_ok['EDAD'].isnull().sum()"
      ],
      "metadata": {
        "id": "X8wOMDGgs0XL"
      },
      "execution_count": null,
      "outputs": []
    },
    {
      "cell_type": "markdown",
      "source": [
        "###**Limpieza antiguedad**"
      ],
      "metadata": {
        "id": "tqu7Oe8L3Wsu"
      }
    },
    {
      "cell_type": "code",
      "source": [
        "#Limpieza campo antiguedad: En este caso vamos a asegurarnos que el campo sea \n",
        "#de tipo float y luego vamos a modificar los missing values por la media de la columna\n",
        "info_cliente_antiguedad_ok = info_cliente_edad_ok.copy()"
      ],
      "metadata": {
        "id": "7o-6ix9t3cHx"
      },
      "execution_count": null,
      "outputs": []
    },
    {
      "cell_type": "code",
      "source": [
        "info_cliente_antiguedad_ok.head(5)"
      ],
      "metadata": {
        "id": "ZrMvRz4n3o1u"
      },
      "execution_count": null,
      "outputs": []
    },
    {
      "cell_type": "code",
      "source": [
        "info_cliente_antiguedad_ok['AÑOS_ANTIGUEDAD'] = info_cliente_antiguedad_ok['AÑOS_ANTIGUEDAD'].apply(to_float)"
      ],
      "metadata": {
        "id": "LTAX30lU3vDM"
      },
      "execution_count": null,
      "outputs": []
    },
    {
      "cell_type": "code",
      "source": [
        "antiguedad_promedio = round(info_cliente_antiguedad_ok['AÑOS_ANTIGUEDAD'].mean(), 0)\n",
        "print(antiguedad_promedio)\n",
        "antiguedad_media = round(info_cliente_antiguedad_ok['AÑOS_ANTIGUEDAD'].median(), 0)\n",
        "print(antiguedad_media)"
      ],
      "metadata": {
        "id": "vATskK_U37Bv"
      },
      "execution_count": null,
      "outputs": []
    },
    {
      "cell_type": "code",
      "source": [
        "info_cliente_antiguedad_ok['AÑOS_ANTIGUEDAD'] = info_cliente_antiguedad_ok['AÑOS_ANTIGUEDAD'].fillna(antiguedad_media)\n",
        "info_cliente_antiguedad_ok['AÑOS_ANTIGUEDAD'].isnull().sum()"
      ],
      "metadata": {
        "id": "8_-CWN9d4ek_"
      },
      "execution_count": null,
      "outputs": []
    },
    {
      "cell_type": "markdown",
      "source": [
        "###**Limpieza ciudad**"
      ],
      "metadata": {
        "id": "UR3-FwzJ5cKo"
      }
    },
    {
      "cell_type": "code",
      "source": [
        "#Limpieza campo ciudad: Para la ciudad vamos a tomar 5 campos, \n",
        "#cuatro para las ciudades principales y un quinto para las demás\n",
        "info_cliente_ciudad_ok = info_cliente_antiguedad_ok.copy()"
      ],
      "metadata": {
        "id": "CdoZ2Y8m5I8V"
      },
      "execution_count": null,
      "outputs": []
    },
    {
      "cell_type": "code",
      "source": [
        "info_cliente_ciudad_ok.loc[:,'CIUDAD_RESIDENCIA'] = info_cliente_ciudad_ok.loc[:,'CIUDAD_RESIDENCIA'].astype(str)"
      ],
      "metadata": {
        "id": "Zrw5n91_6Mgi"
      },
      "execution_count": null,
      "outputs": []
    },
    {
      "cell_type": "code",
      "source": [
        "info_cliente_ciudad_ok['CIUDAD_RESIDENCIA'] = info_cliente_ciudad_ok['CIUDAD_RESIDENCIA'].apply(mayuscula)"
      ],
      "metadata": {
        "id": "S_Cw5r366V0_"
      },
      "execution_count": null,
      "outputs": []
    },
    {
      "cell_type": "code",
      "source": [
        "CIUDAD = []\n",
        "for campo in info_cliente_ciudad_ok.loc[:,'CIUDAD_RESIDENCIA']:\n",
        "  if campo in 'BOGOTA':\n",
        "    CIUDAD.append('BOGOTA')\n",
        "  elif campo in 'MEDELLIN':\n",
        "    CIUDAD.append('MEDELLIN')\n",
        "  elif campo in 'CALI':\n",
        "    CIUDAD.append('CAALI')\n",
        "  elif campo in 'BUCARAMANGA':\n",
        "    CIUDAD.append('BUCARAMANGA')\n",
        "  elif campo in 'BARRANQUILLA':\n",
        "    CIUDAD.append('BARRANQUILLA')\n",
        "  else:\n",
        "    CIUDAD.append('OTROS')"
      ],
      "metadata": {
        "id": "CKs_ykMo57Dd"
      },
      "execution_count": null,
      "outputs": []
    },
    {
      "cell_type": "code",
      "source": [
        "info_cliente_ciudad_ok['CIUDAD'] = CIUDAD"
      ],
      "metadata": {
        "id": "Rg6NFfPK7f6E"
      },
      "execution_count": null,
      "outputs": []
    },
    {
      "cell_type": "code",
      "source": [
        "info_cliente_ciudad_ok = info_cliente_ciudad_ok.drop('CIUDAD_RESIDENCIA', axis = 1)"
      ],
      "metadata": {
        "id": "T1KkBHfy8LQc"
      },
      "execution_count": null,
      "outputs": []
    },
    {
      "cell_type": "code",
      "source": [
        "info_cliente_ciudad_ok.head(5)"
      ],
      "metadata": {
        "id": "4-ODMVQH8bEg"
      },
      "execution_count": null,
      "outputs": []
    },
    {
      "cell_type": "code",
      "source": [
        "info_cliente_ciudad_ok.shape"
      ],
      "metadata": {
        "id": "QBDiLa9R_6EG"
      },
      "execution_count": null,
      "outputs": []
    },
    {
      "cell_type": "markdown",
      "source": [
        "###**Limpieza estado civil**"
      ],
      "metadata": {
        "id": "L22yDhlP9h3g"
      }
    },
    {
      "cell_type": "code",
      "source": [
        "#Limpieza campo estado civil: Al igual q con el sexo, no existe\n",
        "#una forma objetiva de definir el estado civil de un cliente a\n",
        "#visa, por lo tanto los NaN serán eliminados \n",
        "info_cliente_estado_ok = info_cliente_ciudad_ok.copy()"
      ],
      "metadata": {
        "id": "v_NsLjx49mL2"
      },
      "execution_count": null,
      "outputs": []
    },
    {
      "cell_type": "code",
      "source": [
        "info_cliente_estado_ok = info_cliente_estado_ok[info_cliente_estado_ok['ESTADO_CIVIL'].notna()]"
      ],
      "metadata": {
        "id": "FNtVXHma-1QX"
      },
      "execution_count": null,
      "outputs": []
    },
    {
      "cell_type": "code",
      "source": [
        "info_cliente_estado_ok.loc[:,'ESTADO_CIVIL'] = info_cliente_estado_ok.loc[:,'ESTADO_CIVIL'].astype(str)"
      ],
      "metadata": {
        "id": "5ZkejY6j-6S3"
      },
      "execution_count": null,
      "outputs": []
    },
    {
      "cell_type": "code",
      "source": [
        "info_cliente_estado_ok['ESTADO_CIVIL'] = info_cliente_estado_ok['ESTADO_CIVIL'].apply(mayuscula)"
      ],
      "metadata": {
        "id": "aHmU7Kff-6S4"
      },
      "execution_count": null,
      "outputs": []
    },
    {
      "cell_type": "code",
      "source": [
        "info_cliente_estado_ok['ESTADO_CIVIL'].isnull().sum()"
      ],
      "metadata": {
        "id": "0Ch2Yc2uA8qN"
      },
      "execution_count": null,
      "outputs": []
    },
    {
      "cell_type": "code",
      "source": [
        "conteo_estado = info_cliente_estado_ok.groupby('ESTADO_CIVIL').count()\n",
        "conteo_estado"
      ],
      "metadata": {
        "id": "lzFYjSFX9tqX"
      },
      "execution_count": null,
      "outputs": []
    },
    {
      "cell_type": "code",
      "source": [
        "info_cliente_estado_ok.shape"
      ],
      "metadata": {
        "id": "eqrRMCDUAle4"
      },
      "execution_count": null,
      "outputs": []
    },
    {
      "cell_type": "markdown",
      "source": [
        "###**Limpieza rol**"
      ],
      "metadata": {
        "id": "XsefUNJYCqFK"
      }
    },
    {
      "cell_type": "code",
      "source": [
        "#Limpieza rol: Esta limpieza se realiza priorizando a partir del rol más  \n",
        "#significativo que tenga el cliente en el siguiente orden: tomador\n",
        "#asegurado, beneficiario, dejando que los missing values tomen el valor \n",
        "#de asegurado\n",
        "info_cliente_rol_ok = info_cliente_estado_ok.copy()"
      ],
      "metadata": {
        "id": "Jq0mzzRYCgXI"
      },
      "execution_count": null,
      "outputs": []
    },
    {
      "cell_type": "code",
      "source": [
        "info_cliente_rol_ok.loc[:,'ROL'] = info_cliente_rol_ok.loc[:,'ROL'].astype(str)"
      ],
      "metadata": {
        "id": "gizOMIg3ES6k"
      },
      "execution_count": null,
      "outputs": []
    },
    {
      "cell_type": "code",
      "source": [
        "info_cliente_rol_ok['ROL'] = info_cliente_rol_ok['ROL'].apply(mayuscula)"
      ],
      "metadata": {
        "id": "vV4hkQv2ES6k"
      },
      "execution_count": null,
      "outputs": []
    },
    {
      "cell_type": "code",
      "source": [
        "info_cliente_rol_ok.groupby('ROL').count()"
      ],
      "metadata": {
        "id": "oXEvO3JVDLzM"
      },
      "execution_count": null,
      "outputs": []
    },
    {
      "cell_type": "code",
      "source": [
        "FIGURA = []\n",
        "for campo in info_cliente_rol_ok.loc[:,'ROL']:\n",
        "  if campo in ('TOMADOR+', 'TOMADOR+ASEGURADO+', 'TOMADOR+ASEGURADO+BENEFICIARIO+', 'TOMADOR+BENEFICIARIO+'):\n",
        "    FIGURA.append('TOMADOR')\n",
        "  elif campo in ('BENEFICIARIO+'):\n",
        "    FIGURA.append('BENEFICIARIO')\n",
        "  else:\n",
        "    FIGURA.append('ASEGURADO')"
      ],
      "metadata": {
        "id": "ScULDlacD7zq"
      },
      "execution_count": null,
      "outputs": []
    },
    {
      "cell_type": "code",
      "source": [
        "info_cliente_rol_ok['FIGURA'] = FIGURA"
      ],
      "metadata": {
        "id": "N9TozQQ4FoH_"
      },
      "execution_count": null,
      "outputs": []
    },
    {
      "cell_type": "code",
      "source": [
        "info_cliente_rol_ok = info_cliente_rol_ok.drop('ROL', axis = 1)"
      ],
      "metadata": {
        "id": "fJGCvlznFvdz"
      },
      "execution_count": null,
      "outputs": []
    },
    {
      "cell_type": "code",
      "source": [
        "info_cliente_rol_ok.head(5)"
      ],
      "metadata": {
        "id": "bRYNQOtcGCz5"
      },
      "execution_count": null,
      "outputs": []
    },
    {
      "cell_type": "code",
      "source": [
        "info_cliente_rol_ok.shape"
      ],
      "metadata": {
        "id": "ojnyNsxCGGIi"
      },
      "execution_count": null,
      "outputs": []
    },
    {
      "cell_type": "code",
      "source": [
        "info_cliente_rol_ok['FIGURA'].isnull().sum()"
      ],
      "metadata": {
        "id": "NIMZV0JWGHTa"
      },
      "execution_count": null,
      "outputs": []
    },
    {
      "cell_type": "markdown",
      "source": [
        "###**Limpieza segmento y número productos**"
      ],
      "metadata": {
        "id": "bDy-UOp_GgOF"
      }
    },
    {
      "cell_type": "code",
      "source": [
        "#Limpieza segmento y número productos: Esta limpieza es sencilla,\n",
        "#acá asumimos los missing values como neutrales y monoproductos \n",
        "#respectivamente\n",
        "info_final = info_cliente_rol_ok.copy()"
      ],
      "metadata": {
        "id": "Y3O0pTATGm2_"
      },
      "execution_count": null,
      "outputs": []
    },
    {
      "cell_type": "code",
      "source": [
        "info_final.groupby('SEGMENTO_PERFIL_CLV').count()"
      ],
      "metadata": {
        "id": "XwVG2pjWGtYq"
      },
      "execution_count": null,
      "outputs": []
    },
    {
      "cell_type": "code",
      "source": [
        "info_final.groupby('NUMERO_PRODUCTOS').count()"
      ],
      "metadata": {
        "id": "GI1GFTLFG4iT"
      },
      "execution_count": null,
      "outputs": []
    },
    {
      "cell_type": "code",
      "source": [
        "info_final['SEGMENTO_PERFIL_CLV'] = info_final['SEGMENTO_PERFIL_CLV'].fillna('NEUTRAL')\n",
        "info_final['SEGMENTO_PERFIL_CLV'].isnull().sum()"
      ],
      "metadata": {
        "id": "TGDKTNBAHah3"
      },
      "execution_count": null,
      "outputs": []
    },
    {
      "cell_type": "code",
      "source": [
        "info_final['NUMERO_PRODUCTOS'] = info_final['NUMERO_PRODUCTOS'].fillna('MonoProducto')\n",
        "info_final['NUMERO_PRODUCTOS'].isnull().sum()"
      ],
      "metadata": {
        "id": "L1Kz29RlH3VE"
      },
      "execution_count": null,
      "outputs": []
    },
    {
      "cell_type": "code",
      "source": [
        "info_final.loc[:,'SEGMENTO_PERFIL_CLV'] = info_final.loc[:,'SEGMENTO_PERFIL_CLV'].astype(str)\n",
        "info_final['SEGMENTO_PERFIL_CLV'] = info_final['SEGMENTO_PERFIL_CLV'].apply(mayuscula)"
      ],
      "metadata": {
        "id": "czwZdjhjIAF5"
      },
      "execution_count": null,
      "outputs": []
    },
    {
      "cell_type": "code",
      "source": [
        "info_final.loc[:,'NUMERO_PRODUCTOS'] = info_final.loc[:,'NUMERO_PRODUCTOS'].astype(str)\n",
        "info_final['NUMERO_PRODUCTOS'] = info_final['NUMERO_PRODUCTOS'].apply(mayuscula)"
      ],
      "metadata": {
        "id": "5miXzDsAIWwU"
      },
      "execution_count": null,
      "outputs": []
    },
    {
      "cell_type": "markdown",
      "source": [
        "###**Fichero limpio**"
      ],
      "metadata": {
        "id": "Fc5rgmR5IeyO"
      }
    },
    {
      "cell_type": "code",
      "source": [
        "info_final.head(5)"
      ],
      "metadata": {
        "id": "N0asyTimIiD6"
      },
      "execution_count": null,
      "outputs": []
    },
    {
      "cell_type": "code",
      "source": [
        "info_final.shape"
      ],
      "metadata": {
        "id": "dhLPjCuhIkgP"
      },
      "execution_count": null,
      "outputs": []
    },
    {
      "cell_type": "code",
      "source": [
        "info_final.isnull().sum()"
      ],
      "metadata": {
        "id": "h8tlZo0iIllL"
      },
      "execution_count": null,
      "outputs": []
    },
    {
      "cell_type": "code",
      "source": [
        "info_final.to_csv('INFO_CLIENTE_LIMPIA.csv')"
      ],
      "metadata": {
        "id": "EZjJGZmrI2V0"
      },
      "execution_count": null,
      "outputs": []
    },
    {
      "cell_type": "code",
      "source": [
        "files.download('INFO_CLIENTE_LIMPIA.csv')"
      ],
      "metadata": {
        "id": "aeZJOEaeI9e8"
      },
      "execution_count": null,
      "outputs": []
    },
    {
      "cell_type": "markdown",
      "source": [
        "###**K-means**"
      ],
      "metadata": {
        "id": "sjvuWq8OvWim"
      }
    },
    {
      "cell_type": "code",
      "source": [
        "uploaded = files.upload()"
      ],
      "metadata": {
        "id": "_u2S8U65vzKH"
      },
      "execution_count": null,
      "outputs": []
    },
    {
      "cell_type": "code",
      "source": [
        "info_final = pd.read_csv(io.BytesIO(uploaded['INFO_CLIENTE_LIMPIA.csv']), sep = ',', encoding = 'latin-1')"
      ],
      "metadata": {
        "id": "cUwcnfg0vzKH"
      },
      "execution_count": null,
      "outputs": []
    },
    {
      "cell_type": "code",
      "source": [
        "#Empezamos por crear lo que sera nuestra llave con el archivo de los modelos\n",
        "info_final.loc[:,'NUMERO_DOCUMENTO'] = info_final.loc[:,'NUMERO_DOCUMENTO'].astype(str)\n",
        "info_final['LLAVE'] = info_final['TIPO_DOCUMENTO']+info_final['NUMERO_DOCUMENTO']\n",
        "info_final.head(5)"
      ],
      "metadata": {
        "id": "Op8Ubx8uwqhr"
      },
      "execution_count": null,
      "outputs": []
    },
    {
      "cell_type": "code",
      "source": [
        "info_final = info_final.drop(['Unnamed: 0', 'TIPO_DOCUMENTO', 'NUMERO_DOCUMENTO'], axis = 1)"
      ],
      "metadata": {
        "id": "uk5Rc5_lxBkU"
      },
      "execution_count": null,
      "outputs": []
    },
    {
      "cell_type": "code",
      "source": [
        "fichero_kmeans = info_final.copy()"
      ],
      "metadata": {
        "id": "qHLsBJTqyFMr"
      },
      "execution_count": null,
      "outputs": []
    },
    {
      "cell_type": "code",
      "source": [
        "fichero_kmeans = fichero_kmeans.rename(columns = {'AÃOS_ANTIGUEDAD': 'ANIOS_ANTIGUEDAD'})\n",
        "fichero_kmeans.head(5)"
      ],
      "metadata": {
        "id": "he-0fOiG0hsE"
      },
      "execution_count": null,
      "outputs": []
    },
    {
      "cell_type": "code",
      "source": [
        "#Ahora vamos a obligar que todas las varibles categorícas sean binarias \n",
        "#creando una variables dummie por cada una\n",
        "dummie_sexo = pd.get_dummies(fichero_kmeans['SEXO'], drop_first = False)\n",
        "fichero_kmeans = pd.concat([fichero_kmeans, dummie_sexo], axis = 1)\n",
        "fichero_kmeans.head(5)"
      ],
      "metadata": {
        "id": "GWW5z09jxNjk"
      },
      "execution_count": null,
      "outputs": []
    },
    {
      "cell_type": "code",
      "source": [
        "dummie_estado = pd.get_dummies(fichero_kmeans['ESTADO_CIVIL'], drop_first = False)\n",
        "fichero_kmeans = pd.concat([fichero_kmeans, dummie_estado], axis = 1)\n",
        "fichero_kmeans.head(5)"
      ],
      "metadata": {
        "id": "ral77m8Xx8qj"
      },
      "execution_count": null,
      "outputs": []
    },
    {
      "cell_type": "code",
      "source": [
        "dummie_segmento = pd.get_dummies(fichero_kmeans['SEGMENTO_PERFIL_CLV'], drop_first = False)\n",
        "fichero_kmeans = pd.concat([fichero_kmeans, dummie_segmento], axis = 1)\n",
        "fichero_kmeans.head(5)"
      ],
      "metadata": {
        "id": "5g1bV1XeyeWs"
      },
      "execution_count": null,
      "outputs": []
    },
    {
      "cell_type": "code",
      "source": [
        "dummie_productos = pd.get_dummies(fichero_kmeans['NUMERO_PRODUCTOS'], drop_first = False)\n",
        "fichero_kmeans = pd.concat([fichero_kmeans, dummie_productos], axis = 1)\n",
        "fichero_kmeans.head(5)"
      ],
      "metadata": {
        "id": "_7LtEeCeysVE"
      },
      "execution_count": null,
      "outputs": []
    },
    {
      "cell_type": "code",
      "source": [
        "dummie_ciudad = pd.get_dummies(fichero_kmeans['CIUDAD'], drop_first = False)\n",
        "fichero_kmeans = pd.concat([fichero_kmeans, dummie_ciudad], axis = 1)\n",
        "fichero_kmeans.head(5)"
      ],
      "metadata": {
        "id": "jjmGbnsfy1ga"
      },
      "execution_count": null,
      "outputs": []
    },
    {
      "cell_type": "code",
      "source": [
        "dummie_figura = pd.get_dummies(fichero_kmeans['FIGURA'], drop_first = False)\n",
        "fichero_kmeans = pd.concat([fichero_kmeans, dummie_figura], axis = 1)\n",
        "fichero_kmeans.head(5)"
      ],
      "metadata": {
        "id": "GABCCbKry-ij"
      },
      "execution_count": null,
      "outputs": []
    },
    {
      "cell_type": "code",
      "source": [
        "fichero_kmeans = fichero_kmeans.drop(['SEXO', 'ESTADO_CIVIL', 'SEGMENTO_PERFIL_CLV', 'NUMERO_PRODUCTOS', 'CIUDAD', 'FIGURA'], axis = 1)\n",
        "fichero_kmeans.head(5)"
      ],
      "metadata": {
        "id": "436rggiizTTT"
      },
      "execution_count": null,
      "outputs": []
    },
    {
      "cell_type": "code",
      "source": [
        "fichero_kmeans.dtypes"
      ],
      "metadata": {
        "id": "JkietEuF2F8m"
      },
      "execution_count": null,
      "outputs": []
    },
    {
      "cell_type": "code",
      "source": [
        "fichero_kmeans.shape"
      ],
      "metadata": {
        "id": "HU9R56jFHmFk"
      },
      "execution_count": null,
      "outputs": []
    },
    {
      "cell_type": "code",
      "source": [
        "fichero_kmeans.to_csv('FICHERO_KMEANS.csv')"
      ],
      "metadata": {
        "id": "TOVAKBY53T8T"
      },
      "execution_count": null,
      "outputs": []
    },
    {
      "cell_type": "code",
      "source": [
        "files.download('FICHERO_KMEANS.csv')"
      ],
      "metadata": {
        "id": "_vFjLZgT3eup"
      },
      "execution_count": null,
      "outputs": []
    },
    {
      "cell_type": "markdown",
      "source": [
        "Ahora que ya tenemos nuestro fichero limpio, procederemos a implementar el algoritmo K-means, inicialmente nos gustaría trabajar con 4 clusters, número, que nos parece óptimo luego de implementar el método del codo para revisar que la suma de los cuadrados de las distancias de cada elemento de datos con su centroide"
      ],
      "metadata": {
        "id": "SbHvBo9a4l_B"
      }
    },
    {
      "cell_type": "code",
      "source": [
        "wcss = []\n",
        "for i in range(1, 20):\n",
        "  kmeans = KMeans(n_clusters = i, init = 'k-means++', random_state = 0)\n",
        "  kmeans.fit(fichero_kmeans.drop('LLAVE', axis = 1))\n",
        "  wcss.append(kmeans.inertia_)"
      ],
      "metadata": {
        "id": "uf3ZWlw25Kgx"
      },
      "execution_count": null,
      "outputs": []
    },
    {
      "cell_type": "code",
      "source": [
        "plt.plot(range(1, 20), wcss)\n",
        "plt.title('Método del Codo')\n",
        "plt.xlabel('NO. Clusters')\n",
        "plt.ylabel('WCSS')\n",
        "plt.show()"
      ],
      "metadata": {
        "colab": {
          "base_uri": "https://localhost:8080/",
          "height": 295
        },
        "id": "dz6afSE1FR0p",
        "outputId": "42cf7488-81c5-4d76-af42-aaefee33b977"
      },
      "execution_count": null,
      "outputs": [
        {
          "output_type": "display_data",
          "data": {
            "image/png": "[encoded data removed]",
            "text/plain": [
              "<Figure size 432x288 with 1 Axes>"
            ]
          },
          "metadata": {
            "needs_background": "light"
          }
        }
      ]
    },
    {
      "cell_type": "code",
      "source": [
        "kmeans_cliente = KMeans(n_clusters = 4, init = 'k-means++', random_state = 0)\n",
        "y_pred = kmeans_cliente.fit_predict(fichero_kmeans.drop('LLAVE', axis = 1))"
      ],
      "metadata": {
        "id": "wyASE4q0FpJi"
      },
      "execution_count": null,
      "outputs": []
    },
    {
      "cell_type": "code",
      "source": [
        "ETIQUETAS = kmeans_cliente.labels_\n",
        "len(ETIQUETAS)"
      ],
      "metadata": {
        "id": "6z_oVDXpHX1Y"
      },
      "execution_count": null,
      "outputs": []
    },
    {
      "cell_type": "code",
      "source": [
        "fichero_kmeans['CLUSTER'] = ETIQUETAS\n",
        "fichero_kmeans.head(5)"
      ],
      "metadata": {
        "id": "lPzKOh-WHpW8"
      },
      "execution_count": null,
      "outputs": []
    },
    {
      "cell_type": "code",
      "source": [
        "fichero_kmeans_final = fichero_kmeans[['LLAVE', 'CLUSTER']]\n",
        "fichero_kmeans_final.head(5)"
      ],
      "metadata": {
        "id": "0tbs-KXiIAh2"
      },
      "execution_count": null,
      "outputs": []
    },
    {
      "cell_type": "code",
      "source": [
        "fichero_kmeans_final.shape"
      ],
      "metadata": {
        "id": "35PUHMB2Ieqt"
      },
      "execution_count": null,
      "outputs": []
    },
    {
      "cell_type": "code",
      "source": [
        "fichero_kmeans_final.groupby('CLUSTER').count()"
      ],
      "metadata": {
        "id": "cPrSzQCHRO9r"
      },
      "execution_count": null,
      "outputs": []
    },
    {
      "cell_type": "code",
      "source": [
        "fichero_kmeans_final.to_csv('FICHERO_KMEANS_FINAL.csv')"
      ],
      "metadata": {
        "id": "yEu-uB0uIhA_"
      },
      "execution_count": null,
      "outputs": []
    },
    {
      "cell_type": "code",
      "source": [
        "files.download('FICHERO_KMEANS_FINAL.csv')"
      ],
      "metadata": {
        "colab": {
          "base_uri": "https://localhost:8080/",
          "height": 17
        },
        "id": "eOFQ4tpWIoWf",
        "outputId": "b7490301-3be9-4cf0-841d-05e0ca5ade6f"
      },
      "execution_count": null,
      "outputs": [
        {
          "output_type": "display_data",
          "data": {
            "application/javascript": [
              "\n",
              "    async function download(id, filename, size) {\n",
              "      if (!google.colab.kernel.accessAllowed) {\n",
              "        return;\n",
              "      }\n",
              "      const div = document.createElement('div');\n",
              "      const label = document.createElement('label');\n",
              "      label.textContent = `Downloading \"${filename}\": `;\n",
              "      div.appendChild(label);\n",
              "      const progress = document.createElement('progress');\n",
              "      progress.max = size;\n",
              "      div.appendChild(progress);\n",
              "      document.body.appendChild(div);\n",
              "\n",
              "      const buffers = [];\n",
              "      let downloaded = 0;\n",
              "\n",
              "      const channel = await google.colab.kernel.comms.open(id);\n",
              "      // Send a message to notify the kernel that we're ready.\n",
              "      channel.send({})\n",
              "\n",
              "      for await (const message of channel.messages) {\n",
              "        // Send a message to notify the kernel that we're ready.\n",
              "        channel.send({})\n",
              "        if (message.buffers) {\n",
              "          for (const buffer of message.buffers) {\n",
              "            buffers.push(buffer);\n",
              "            downloaded += buffer.byteLength;\n",
              "            progress.value = downloaded;\n",
              "          }\n",
              "        }\n",
              "      }\n",
              "      const blob = new Blob(buffers, {type: 'application/binary'});\n",
              "      const a = document.createElement('a');\n",
              "      a.href = window.URL.createObjectURL(blob);\n",
              "      a.download = filename;\n",
              "      div.appendChild(a);\n",
              "      a.click();\n",
              "      div.remove();\n",
              "    }\n",
              "  "
            ],
            "text/plain": [
              "<IPython.core.display.Javascript object>"
            ]
          },
          "metadata": {}
        },
        {
          "output_type": "display_data",
          "data": {
            "application/javascript": [
              "download(\"download_82e7557e-361c-49fe-bcf2-17e3af52ffaf\", \"FICHERO_KMEANS_FINAL.csv\", 48272096)"
            ],
            "text/plain": [
              "<IPython.core.display.Javascript object>"
            ]
          },
          "metadata": {}
        }
      ]
    },
    {
      "cell_type": "markdown",
      "source": [
        "###**Filtro K-means - Media Ponderada**"
      ],
      "metadata": {
        "id": "x6ocVJ5yqpgS"
      }
    },
    {
      "cell_type": "markdown",
      "source": [
        "####**Cluster = 0**"
      ],
      "metadata": {
        "id": "vNyB7q2TvEEU"
      }
    },
    {
      "cell_type": "code",
      "source": [
        "uploaded = files.upload()"
      ],
      "metadata": {
        "id": "NdjSWsAXrFez"
      },
      "execution_count": null,
      "outputs": []
    },
    {
      "cell_type": "code",
      "source": [
        "matriz_reducida = pd.read_csv('/content/MATRIZ_REDUCIDA.csv', sep = ',', encoding = 'latin-1')"
      ],
      "metadata": {
        "id": "J78X3ETOrFe0"
      },
      "execution_count": null,
      "outputs": []
    },
    {
      "cell_type": "code",
      "source": [
        "fichero_kmeans_final = pd.read_csv('/content/FICHERO_KMEANS_FINAL.csv', sep = ',', encoding = 'latin-1')"
      ],
      "metadata": {
        "id": "BfQjgrnJrFe0"
      },
      "execution_count": null,
      "outputs": []
    },
    {
      "cell_type": "code",
      "source": [
        "matriz_reducida = matriz_reducida.drop('Unnamed: 0', axis = 1)\n",
        "matriz_reducida.head(2)"
      ],
      "metadata": {
        "id": "yKcvpxMCrFe1"
      },
      "execution_count": null,
      "outputs": []
    },
    {
      "cell_type": "code",
      "source": [
        "fichero_kmeans_final = fichero_kmeans_final.drop('Unnamed: 0', axis = 1)\n",
        "fichero_kmeans_final.head(2)"
      ],
      "metadata": {
        "id": "Epek4792rFe1"
      },
      "execution_count": null,
      "outputs": []
    },
    {
      "cell_type": "code",
      "source": [
        "fichero_cluster = pd.merge(matriz_reducida, fichero_kmeans_final, on = 'LLAVE', how = 'inner')"
      ],
      "metadata": {
        "id": "4Kz3X3_FrFe2"
      },
      "execution_count": null,
      "outputs": []
    },
    {
      "cell_type": "code",
      "source": [
        "fichero_cluster.head(5)"
      ],
      "metadata": {
        "id": "yBrxsGRtrFe2"
      },
      "execution_count": null,
      "outputs": []
    },
    {
      "cell_type": "code",
      "source": [
        "fichero_cluster.isnull().sum()"
      ],
      "metadata": {
        "id": "ICi9C5exrFe2"
      },
      "execution_count": null,
      "outputs": []
    },
    {
      "cell_type": "code",
      "source": [
        "fichero_cluster.shape"
      ],
      "metadata": {
        "id": "n7m9JWvQdz1H"
      },
      "execution_count": null,
      "outputs": []
    },
    {
      "cell_type": "code",
      "source": [
        "fichero_K0 = fichero_cluster[fichero_cluster['CLUSTER'] == 0]"
      ],
      "metadata": {
        "id": "JFgyi7WmrHkT"
      },
      "execution_count": null,
      "outputs": []
    },
    {
      "cell_type": "code",
      "source": [
        "fichero_K0.head(2)"
      ],
      "metadata": {
        "id": "AOtfo_LitDCM"
      },
      "execution_count": null,
      "outputs": []
    },
    {
      "cell_type": "code",
      "source": [
        "fichero_K0.shape"
      ],
      "metadata": {
        "id": "Bz8SSSPltFyv"
      },
      "execution_count": null,
      "outputs": []
    },
    {
      "cell_type": "code",
      "source": [
        "X = fichero_K0.copy()\n",
        "y = fichero_K0['LLAVE']"
      ],
      "metadata": {
        "id": "NSCgY-Hmta6r"
      },
      "execution_count": null,
      "outputs": []
    },
    {
      "cell_type": "code",
      "source": [
        "X_train, X_test, y_train, y_test = train_test_split(X, y, stratify = y, test_size = 0.2, random_state = 0)"
      ],
      "metadata": {
        "id": "6CSl3yB9tkPs"
      },
      "execution_count": null,
      "outputs": []
    },
    {
      "cell_type": "code",
      "source": [
        "matriz_cal_K0 = X_train.pivot_table(values = 'CALIFICACION', index = 'LLAVE', columns = 'CATEGORIA_ID')"
      ],
      "metadata": {
        "id": "n68x18IguBGE"
      },
      "execution_count": null,
      "outputs": []
    },
    {
      "cell_type": "code",
      "source": [
        "matriz_cal_K0_copia = matriz_cal_K0.copy().fillna(0)"
      ],
      "metadata": {
        "id": "6NfspRykuRM-"
      },
      "execution_count": null,
      "outputs": []
    },
    {
      "cell_type": "code",
      "source": [
        "similarity_K0 = cosine_similarity(matriz_cal_K0_copia, matriz_cal_K0_copia)"
      ],
      "metadata": {
        "id": "JH4g1o0KufXg"
      },
      "execution_count": null,
      "outputs": []
    },
    {
      "cell_type": "code",
      "source": [
        "similarity_K0 = pd.DataFrame(similarity_K0, index = matriz_cal_K0.index, columns = matriz_cal_K0.index)"
      ],
      "metadata": {
        "id": "v-sUw7ObufXg"
      },
      "execution_count": null,
      "outputs": []
    },
    {
      "cell_type": "code",
      "source": [
        "similarity_K0.head(2)"
      ],
      "metadata": {
        "id": "xFsPRwMjufXh"
      },
      "execution_count": null,
      "outputs": []
    },
    {
      "cell_type": "code",
      "source": [
        "def modelo_media_ponderada_K0(llave, categoria_id):\n",
        "\n",
        "  #Validamos si la categoría existe en la matriz\n",
        "  if categoria_id in matriz_cal_K0:\n",
        "\n",
        "    #Obtenemos los scores de similitud del cliente analizado y todos los demás\n",
        "    scores = similarity_K0[llave]\n",
        "\n",
        "    #Obtenemos las tasas de los clientes de la categoría buscada\n",
        "    ratings = matriz_cal_K0[categoria_id]\n",
        "\n",
        "    #Identificamos todos los missing values de la serie ratings\n",
        "    indices = ratings[ratings.isnull()].index\n",
        "\n",
        "    #Eliminamos todos los missing values de la serie ratings\n",
        "    ratings = ratings.dropna()\n",
        "\n",
        "    #Eliminamos los scores de similitud correspondientes a los clientes con missing values\n",
        "    scores = scores.drop(indices)\n",
        "\n",
        "    #Calculamos la media ponderada\n",
        "    tasa_promedio_ponderada = np.dot(scores, ratings) / scores.sum() \n",
        "\n",
        "  else:\n",
        "    tasa_promedio_ponderada = 3\n",
        "\n",
        "  return tasa_promedio_ponderada"
      ],
      "metadata": {
        "id": "IbJkjxIzufXh"
      },
      "execution_count": null,
      "outputs": []
    },
    {
      "cell_type": "code",
      "source": [
        "score(modelo_media_ponderada_K0)"
      ],
      "metadata": {
        "colab": {
          "base_uri": "https://localhost:8080/"
        },
        "outputId": "376dacc6-0c7f-4853-ddfe-abd91db92e92",
        "id": "FXL9PqyLufXi"
      },
      "execution_count": null,
      "outputs": [
        {
          "output_type": "execute_result",
          "data": {
            "text/plain": [
              "1.7787516226762268"
            ]
          },
          "metadata": {},
          "execution_count": 41
        }
      ]
    },
    {
      "cell_type": "markdown",
      "source": [
        "####**Cluster = 1**"
      ],
      "metadata": {
        "id": "Qd0Qjsp4vkYQ"
      }
    },
    {
      "cell_type": "code",
      "source": [
        "fichero_K1 = fichero_cluster[fichero_cluster['CLUSTER'] == 1]"
      ],
      "metadata": {
        "id": "oc3ckaE7vkYU"
      },
      "execution_count": null,
      "outputs": []
    },
    {
      "cell_type": "code",
      "source": [
        "fichero_K1.head(2)"
      ],
      "metadata": {
        "id": "50LoT3mFvkYU"
      },
      "execution_count": null,
      "outputs": []
    },
    {
      "cell_type": "code",
      "source": [
        "fichero_K1.shape"
      ],
      "metadata": {
        "id": "XHnenUQpvkYV"
      },
      "execution_count": null,
      "outputs": []
    },
    {
      "cell_type": "code",
      "source": [
        "X = fichero_K1.copy()\n",
        "y = fichero_K1['LLAVE']"
      ],
      "metadata": {
        "id": "ySJBrQQPvkYV"
      },
      "execution_count": null,
      "outputs": []
    },
    {
      "cell_type": "code",
      "source": [
        "X_train, X_test, y_train, y_test = train_test_split(X, y, stratify = y, test_size = 0.2, random_state = 0)"
      ],
      "metadata": {
        "id": "1HYCnHwnvkYV"
      },
      "execution_count": null,
      "outputs": []
    },
    {
      "cell_type": "code",
      "source": [
        "matriz_cal_K1 = X_train.pivot_table(values = 'CALIFICACION', index = 'LLAVE', columns = 'CATEGORIA_ID')"
      ],
      "metadata": {
        "id": "fsu23tbxvkYW"
      },
      "execution_count": null,
      "outputs": []
    },
    {
      "cell_type": "code",
      "source": [
        "matriz_cal_K1_copia = matriz_cal_K1.copy().fillna(0)"
      ],
      "metadata": {
        "id": "6SeeliS9vkYW"
      },
      "execution_count": null,
      "outputs": []
    },
    {
      "cell_type": "code",
      "source": [
        "similarity_K1 = cosine_similarity(matriz_cal_K1_copia, matriz_cal_K1_copia)"
      ],
      "metadata": {
        "id": "G2lrgrvLvkYW"
      },
      "execution_count": null,
      "outputs": []
    },
    {
      "cell_type": "code",
      "source": [
        "similarity_K1 = pd.DataFrame(similarity_K1, index = matriz_cal_K1.index, columns = matriz_cal_K1.index)"
      ],
      "metadata": {
        "id": "UNoDvpqkvkYW"
      },
      "execution_count": null,
      "outputs": []
    },
    {
      "cell_type": "code",
      "source": [
        "similarity_K1.head(2)"
      ],
      "metadata": {
        "id": "FGnfeLeXvkYX"
      },
      "execution_count": null,
      "outputs": []
    },
    {
      "cell_type": "code",
      "source": [
        "def modelo_media_ponderada_K1(llave, categoria_id):\n",
        "\n",
        "  #Validamos si la categoría existe en la matriz\n",
        "  if categoria_id in matriz_cal_K1:\n",
        "\n",
        "    #Obtenemos los scores de similitud del cliente analizado y todos los demás\n",
        "    scores = similarity_K1[llave]\n",
        "\n",
        "    #Obtenemos las tasas de los clientes de la categoría buscada\n",
        "    ratings = matriz_cal_K1[categoria_id]\n",
        "\n",
        "    #Identificamos todos los missing values de la serie ratings\n",
        "    indices = ratings[ratings.isnull()].index\n",
        "\n",
        "    #Eliminamos todos los missing values de la serie ratings\n",
        "    ratings = ratings.dropna()\n",
        "\n",
        "    #Eliminamos los scores de similitud correspondientes a los clientes con missing values\n",
        "    scores = scores.drop(indices)\n",
        "\n",
        "    #Calculamos la media ponderada\n",
        "    tasa_promedio_ponderada = np.dot(scores, ratings) / scores.sum() \n",
        "\n",
        "  else:\n",
        "    tasa_promedio_ponderada = 3\n",
        "\n",
        "  return tasa_promedio_ponderada"
      ],
      "metadata": {
        "id": "gDk9AkOpvkYX"
      },
      "execution_count": null,
      "outputs": []
    },
    {
      "cell_type": "code",
      "source": [
        "score(modelo_media_ponderada_K1)"
      ],
      "metadata": {
        "colab": {
          "base_uri": "https://localhost:8080/"
        },
        "outputId": "7f5daacb-0b56-4689-c4aa-5866007521df",
        "id": "l3CA0rUAvkYX"
      },
      "execution_count": null,
      "outputs": [
        {
          "output_type": "execute_result",
          "data": {
            "text/plain": [
              "1.7877665723214364"
            ]
          },
          "metadata": {},
          "execution_count": 54
        }
      ]
    },
    {
      "cell_type": "markdown",
      "source": [
        "####**Cluster = 2**"
      ],
      "metadata": {
        "id": "HeMGMR4dwgn3"
      }
    },
    {
      "cell_type": "code",
      "source": [
        "fichero_K2 = fichero_cluster[fichero_cluster['CLUSTER'] == 2]"
      ],
      "metadata": {
        "id": "ub29GZwGwgn4"
      },
      "execution_count": null,
      "outputs": []
    },
    {
      "cell_type": "code",
      "source": [
        "fichero_K2.head(2)"
      ],
      "metadata": {
        "id": "muMaoh8Owgn4"
      },
      "execution_count": null,
      "outputs": []
    },
    {
      "cell_type": "code",
      "source": [
        "fichero_K2.shape"
      ],
      "metadata": {
        "id": "SGlcA8DEwgn5"
      },
      "execution_count": null,
      "outputs": []
    },
    {
      "cell_type": "code",
      "source": [
        "X = fichero_K2.copy()\n",
        "y = fichero_K2['LLAVE']"
      ],
      "metadata": {
        "id": "Hw4NriTDwgn5"
      },
      "execution_count": null,
      "outputs": []
    },
    {
      "cell_type": "code",
      "source": [
        "X_train, X_test, y_train, y_test = train_test_split(X, y, stratify = y, test_size = 0.2, random_state = 0)"
      ],
      "metadata": {
        "id": "kWJuovX4wgn5"
      },
      "execution_count": null,
      "outputs": []
    },
    {
      "cell_type": "code",
      "source": [
        "matriz_cal_K2 = X_train.pivot_table(values = 'CALIFICACION', index = 'LLAVE', columns = 'CATEGORIA_ID')"
      ],
      "metadata": {
        "id": "D9AcINn5wgn6"
      },
      "execution_count": null,
      "outputs": []
    },
    {
      "cell_type": "code",
      "source": [
        "matriz_cal_K2_copia = matriz_cal_K2.copy().fillna(0)"
      ],
      "metadata": {
        "id": "FMnKvECZwgn6"
      },
      "execution_count": null,
      "outputs": []
    },
    {
      "cell_type": "code",
      "source": [
        "similarity_K2 = cosine_similarity(matriz_cal_K2_copia, matriz_cal_K2_copia)"
      ],
      "metadata": {
        "id": "PyQeStsgwgn6"
      },
      "execution_count": null,
      "outputs": []
    },
    {
      "cell_type": "code",
      "source": [
        "similarity_K2 = pd.DataFrame(similarity_K2, index = matriz_cal_K2.index, columns = matriz_cal_K2.index)"
      ],
      "metadata": {
        "id": "7xH94WOywgn6"
      },
      "execution_count": null,
      "outputs": []
    },
    {
      "cell_type": "code",
      "source": [
        "similarity_K2.head(2)"
      ],
      "metadata": {
        "id": "vtl0Tcopwgn7"
      },
      "execution_count": null,
      "outputs": []
    },
    {
      "cell_type": "code",
      "source": [
        "def modelo_media_ponderada_K2(llave, categoria_id):\n",
        "\n",
        "  #Validamos si la categoría existe en la matriz\n",
        "  if categoria_id in matriz_cal_K2:\n",
        "\n",
        "    #Obtenemos los scores de similitud del cliente analizado y todos los demás\n",
        "    scores = similarity_K2[llave]\n",
        "\n",
        "    #Obtenemos las tasas de los clientes de la categoría buscada\n",
        "    ratings = matriz_cal_K2[categoria_id]\n",
        "\n",
        "    #Identificamos todos los missing values de la serie ratings\n",
        "    indices = ratings[ratings.isnull()].index\n",
        "\n",
        "    #Eliminamos todos los missing values de la serie ratings\n",
        "    ratings = ratings.dropna()\n",
        "\n",
        "    #Eliminamos los scores de similitud correspondientes a los clientes con missing values\n",
        "    scores = scores.drop(indices)\n",
        "\n",
        "    #Calculamos la media ponderada\n",
        "    tasa_promedio_ponderada = np.dot(scores, ratings) / scores.sum() \n",
        "\n",
        "  else:\n",
        "    tasa_promedio_ponderada = 3\n",
        "\n",
        "  return tasa_promedio_ponderada"
      ],
      "metadata": {
        "id": "QQ8r0sPAwgn7"
      },
      "execution_count": null,
      "outputs": []
    },
    {
      "cell_type": "code",
      "source": [
        "score(modelo_media_ponderada_K2)"
      ],
      "metadata": {
        "colab": {
          "base_uri": "https://localhost:8080/"
        },
        "outputId": "d0dcd1f5-2e6a-493e-d7e7-ea997f700558",
        "id": "sedTe96Cwgn8"
      },
      "execution_count": null,
      "outputs": [
        {
          "output_type": "execute_result",
          "data": {
            "text/plain": [
              "1.7886736796566534"
            ]
          },
          "metadata": {},
          "execution_count": 66
        }
      ]
    },
    {
      "cell_type": "markdown",
      "source": [
        "####**Cluster = 3**"
      ],
      "metadata": {
        "id": "xNKhHJguxW1T"
      }
    },
    {
      "cell_type": "code",
      "source": [
        "fichero_K3 = fichero_cluster[fichero_cluster['CLUSTER'] == 3]"
      ],
      "metadata": {
        "id": "sOTEMnavxW1U"
      },
      "execution_count": null,
      "outputs": []
    },
    {
      "cell_type": "code",
      "source": [
        "fichero_K3.head(2)"
      ],
      "metadata": {
        "id": "RXJtEhPyxW1U"
      },
      "execution_count": null,
      "outputs": []
    },
    {
      "cell_type": "code",
      "source": [
        "fichero_K3.shape"
      ],
      "metadata": {
        "id": "_-vyzchdxW1V"
      },
      "execution_count": null,
      "outputs": []
    },
    {
      "cell_type": "code",
      "source": [
        "X = fichero_K3.copy()\n",
        "y = fichero_K3['LLAVE']"
      ],
      "metadata": {
        "id": "6wJIEkdfxW1V"
      },
      "execution_count": null,
      "outputs": []
    },
    {
      "cell_type": "code",
      "source": [
        "X_train, X_test, y_train, y_test = train_test_split(X, y, stratify = y, test_size = 0.2, random_state = 0)"
      ],
      "metadata": {
        "id": "pZgOM79CxW1W"
      },
      "execution_count": null,
      "outputs": []
    },
    {
      "cell_type": "code",
      "source": [
        "matriz_cal_K3 = X_train.pivot_table(values = 'CALIFICACION', index = 'LLAVE', columns = 'CATEGORIA_ID')"
      ],
      "metadata": {
        "id": "OxRAFqOGxW1W"
      },
      "execution_count": null,
      "outputs": []
    },
    {
      "cell_type": "code",
      "source": [
        "matriz_cal_K3_copia = matriz_cal_K3.copy().fillna(0)"
      ],
      "metadata": {
        "id": "8z0_wj99xW1W"
      },
      "execution_count": null,
      "outputs": []
    },
    {
      "cell_type": "code",
      "source": [
        "similarity_K3 = cosine_similarity(matriz_cal_K3_copia, matriz_cal_K3_copia)"
      ],
      "metadata": {
        "id": "uYRGp1n1xW1W"
      },
      "execution_count": null,
      "outputs": []
    },
    {
      "cell_type": "code",
      "source": [
        "similarity_K3 = pd.DataFrame(similarity_K3, index = matriz_cal_K3.index, columns = matriz_cal_K3.index)"
      ],
      "metadata": {
        "id": "GYsGGhCUxW1X"
      },
      "execution_count": null,
      "outputs": []
    },
    {
      "cell_type": "code",
      "source": [
        "similarity_K3.head(2)"
      ],
      "metadata": {
        "id": "usFVCkmIxW1X"
      },
      "execution_count": null,
      "outputs": []
    },
    {
      "cell_type": "code",
      "source": [
        "def modelo_media_ponderada_K3(llave, categoria_id):\n",
        "\n",
        "  #Validamos si la categoría existe en la matriz\n",
        "  if categoria_id in matriz_cal_K3:\n",
        "\n",
        "    #Obtenemos los scores de similitud del cliente analizado y todos los demás\n",
        "    scores = similarity_K3[llave]\n",
        "\n",
        "    #Obtenemos las tasas de los clientes de la categoría buscada\n",
        "    ratings = matriz_cal_K3[categoria_id]\n",
        "\n",
        "    #Identificamos todos los missing values de la serie ratings\n",
        "    indices = ratings[ratings.isnull()].index\n",
        "\n",
        "    #Eliminamos todos los missing values de la serie ratings\n",
        "    ratings = ratings.dropna()\n",
        "\n",
        "    #Eliminamos los scores de similitud correspondientes a los clientes con missing values\n",
        "    scores = scores.drop(indices)\n",
        "\n",
        "    #Calculamos la media ponderada\n",
        "    tasa_promedio_ponderada = np.dot(scores, ratings) / scores.sum() \n",
        "\n",
        "  else:\n",
        "    tasa_promedio_ponderada = 3\n",
        "\n",
        "  return tasa_promedio_ponderada"
      ],
      "metadata": {
        "id": "7kCUKITFxW1X"
      },
      "execution_count": null,
      "outputs": []
    },
    {
      "cell_type": "code",
      "source": [
        "score(modelo_media_ponderada_K3)"
      ],
      "metadata": {
        "colab": {
          "base_uri": "https://localhost:8080/"
        },
        "outputId": "c81d9805-b853-4046-bc1c-5e8355156747",
        "id": "rRI7Zly3xW1Y"
      },
      "execution_count": null,
      "outputs": [
        {
          "output_type": "execute_result",
          "data": {
            "text/plain": [
              "1.7722943949446586"
            ]
          },
          "metadata": {},
          "execution_count": 78
        }
      ]
    },
    {
      "cell_type": "markdown",
      "source": [
        "#**Construcción y evaluación Modelos Libreria Surprise**"
      ],
      "metadata": {
        "id": "XwAlnkOq0Vhp"
      }
    },
    {
      "cell_type": "markdown",
      "source": [
        "Finalmente vamos a instalar y utilizar el paquete surprise que por definición es la libreria especializada en recommended systems"
      ],
      "metadata": {
        "id": "zJ4Yey0H2eri"
      }
    },
    {
      "cell_type": "code",
      "source": [
        "!pip install surprise"
      ],
      "metadata": {
        "colab": {
          "base_uri": "https://localhost:8080/"
        },
        "id": "YeX5j5Np0Us9",
        "outputId": "2c1a2930-2b84-4a40-c22e-da3112476f39"
      },
      "execution_count": null,
      "outputs": [
        {
          "output_type": "stream",
          "name": "stdout",
          "text": [
            "Collecting surprise\n",
            "  Downloading surprise-0.1-py2.py3-none-any.whl (1.8 kB)\n",
            "Collecting scikit-surprise\n",
            "  Downloading scikit-surprise-1.1.1.tar.gz (11.8 MB)\n",
            "\u001b[K     |████████████████████████████████| 11.8 MB 7.1 MB/s \n",
            "\u001b[?25hRequirement already satisfied: joblib>=0.11 in /usr/local/lib/python3.7/dist-packages (from scikit-surprise->surprise) (1.1.0)\n",
            "Requirement already satisfied: numpy>=1.11.2 in /usr/local/lib/python3.7/dist-packages (from scikit-surprise->surprise) (1.19.5)\n",
            "Requirement already satisfied: scipy>=1.0.0 in /usr/local/lib/python3.7/dist-packages (from scikit-surprise->surprise) (1.4.1)\n",
            "Requirement already satisfied: six>=1.10.0 in /usr/local/lib/python3.7/dist-packages (from scikit-surprise->surprise) (1.15.0)\n",
            "Building wheels for collected packages: scikit-surprise\n",
            "  Building wheel for scikit-surprise (setup.py) ... \u001b[?25l\u001b[?25hdone\n",
            "  Created wheel for scikit-surprise: filename=scikit_surprise-1.1.1-cp37-cp37m-linux_x86_64.whl size=1623295 sha256=713ca5a546ab56f2d36aac036f8ef39d7d5c8a08c2bf39ceccefe5be04f34e60\n",
            "  Stored in directory: /root/.cache/pip/wheels/76/44/74/b498c42be47b2406bd27994e16c5188e337c657025ab400c1c\n",
            "Successfully built scikit-surprise\n",
            "Installing collected packages: scikit-surprise, surprise\n",
            "Successfully installed scikit-surprise-1.1.1 surprise-0.1\n"
          ]
        }
      ]
    },
    {
      "cell_type": "code",
      "source": [
        "from surprise import Reader, Dataset, KNNBasic, SVD\n",
        "from surprise.model_selection import cross_validate"
      ],
      "metadata": {
        "id": "5tZH_O192WH2"
      },
      "execution_count": null,
      "outputs": []
    },
    {
      "cell_type": "markdown",
      "source": [
        ""
      ],
      "metadata": {
        "id": "TyZgZYmh7QdO"
      }
    },
    {
      "cell_type": "code",
      "source": [
        "conteo_Knn = matriz_reducida.groupby('LLAVE').count()\n",
        "conteo_Knn = conteo_Knn.sort_values(by = 'CATEGORIA_ID', axis = 0, ascending = False)\n",
        "conteo_Knn"
      ],
      "metadata": {
        "id": "VP30Pksk9TBS"
      },
      "execution_count": null,
      "outputs": []
    },
    {
      "cell_type": "code",
      "source": [
        "lista_hiper_top = conteo_Knn[0:13000]\n",
        "lista_hiper_top = lista_hiper_top.reset_index()\n",
        "lista_hiper_top = lista_hiper_top[['LLAVE']]\n",
        "len(lista_hiper_top)"
      ],
      "metadata": {
        "id": "3OuwE-hi-DSz"
      },
      "execution_count": null,
      "outputs": []
    },
    {
      "cell_type": "code",
      "source": [
        "#Para esta evaluación tomaremos como referencia a los 13 mil clientes con mayor \n",
        "#número de interacciones\n",
        "matriz_hiper_reducida = pd.merge(matriz_reducida, lista_hiper_top, on = 'LLAVE', how = 'inner')"
      ],
      "metadata": {
        "id": "sfGOPD2x-DS0"
      },
      "execution_count": null,
      "outputs": []
    },
    {
      "cell_type": "code",
      "source": [
        "matriz_hiper_reducida.shape"
      ],
      "metadata": {
        "id": "OwwUdFxSnlkP"
      },
      "execution_count": null,
      "outputs": []
    },
    {
      "cell_type": "code",
      "source": [
        "#En esta librería todo es muy sencillo, simplemente se instancian los objetos\n",
        "#y se corre el sistema recomendador\n",
        "reader = Reader()\n",
        "\n",
        "data = Dataset.load_from_df(matriz_hiper_reducida, reader)\n",
        "\n",
        "Knn = KNNBasic()\n",
        "\n",
        "cross_validate(Knn, data, measures=['rmse'], cv = 2)"
      ],
      "metadata": {
        "colab": {
          "base_uri": "https://localhost:8080/"
        },
        "id": "W6HjDC3t3WtT",
        "outputId": "171282c4-3f7b-41d1-b72e-6f1243704b56"
      },
      "execution_count": null,
      "outputs": [
        {
          "output_type": "stream",
          "name": "stdout",
          "text": [
            "Computing the msd similarity matrix...\n",
            "Done computing similarity matrix.\n",
            "Computing the msd similarity matrix...\n",
            "Done computing similarity matrix.\n"
          ]
        },
        {
          "output_type": "execute_result",
          "data": {
            "text/plain": [
              "{'fit_time': (25.88408899307251, 23.37710928916931),\n",
              " 'test_rmse': array([1.5712897 , 1.55965309]),\n",
              " 'test_time': (210.28350639343262, 199.13392066955566)}"
            ]
          },
          "metadata": {},
          "execution_count": 13
        }
      ]
    },
    {
      "cell_type": "code",
      "source": [
        "#En esta librería todo es muy sencillo, simplemente se instancian los objetos\n",
        "#y se corre el sistema recomendador\n",
        "reader = Reader()\n",
        "\n",
        "data = Dataset.load_from_df(matriz_reducida, reader)\n",
        "\n",
        "svd = SVD()\n",
        "\n",
        "cross_validate(svd, data, measures=['rmse'], cv = 5)"
      ],
      "metadata": {
        "colab": {
          "base_uri": "https://localhost:8080/"
        },
        "id": "27W7idwn7R9I",
        "outputId": "7e122f18-504b-4c3f-8e8a-be33016cf966"
      },
      "execution_count": null,
      "outputs": [
        {
          "output_type": "execute_result",
          "data": {
            "text/plain": [
              "{'fit_time': (8.8258056640625,\n",
              "  8.241648435592651,\n",
              "  8.255877494812012,\n",
              "  8.188127756118774,\n",
              "  8.190804958343506),\n",
              " 'test_rmse': array([1.54592881, 1.54545143, 1.5486996 , 1.55326448, 1.54812732]),\n",
              " 'test_time': (0.4346761703491211,\n",
              "  0.29572439193725586,\n",
              "  0.4271693229675293,\n",
              "  0.47066831588745117,\n",
              "  0.4754157066345215)}"
            ]
          },
          "metadata": {},
          "execution_count": 6
        }
      ]
    }
  ]
}